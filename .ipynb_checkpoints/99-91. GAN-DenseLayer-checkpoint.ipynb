{
 "cells": [
  {
   "cell_type": "markdown",
   "metadata": {},
   "source": [
    "# GAN (Generative Adversarial Neural Network)\n",
    "\n",
    "## Using Dense Layer"
   ]
  },
  {
   "cell_type": "code",
   "execution_count": 1,
   "metadata": {},
   "outputs": [],
   "source": [
    "import numpy as np\n",
    "import pandas as pd\n",
    "import matplotlib.pyplot as plt\n",
    "\n",
    "from tensorflow.keras.layers import Input, Dense, Dropout, LeakyReLU\n",
    "from tensorflow.keras.models import Model, Sequential\n",
    "from tensorflow.keras.datasets import mnist\n",
    "from tensorflow.keras.optimizers import Adam\n",
    "from tensorflow.keras import initializers \n",
    "\n",
    "np.random.seed(10)\n",
    "\n",
    "random_dim = 100"
   ]
  },
  {
   "cell_type": "code",
   "execution_count": 2,
   "metadata": {},
   "outputs": [
    {
     "data": {
      "text/plain": [
       "(60000, 784)"
      ]
     },
     "execution_count": 2,
     "metadata": {},
     "output_type": "execute_result"
    }
   ],
   "source": [
    "(X_train, y_train), (X_test, y_test) = mnist.load_data()\n",
    "\n",
    "X_train = (X_train.astype(np.float32) - 127.5) / 127.5         # -1 ~ 1 로 normalize\n",
    "\n",
    "X_train = X_train.reshape(-1, np.prod(X_train.shape[1:]))\n",
    "\n",
    "X_train.shape"
   ]
  },
  {
   "cell_type": "code",
   "execution_count": 3,
   "metadata": {},
   "outputs": [],
   "source": [
    "adam = Adam(lr=0.0002, beta_1=0.5)  # Learnig Rate 조정"
   ]
  },
  {
   "cell_type": "code",
   "execution_count": 4,
   "metadata": {},
   "outputs": [
    {
     "name": "stdout",
     "output_type": "stream",
     "text": [
      "Model: \"sequential\"\n",
      "_________________________________________________________________\n",
      "Layer (type)                 Output Shape              Param #   \n",
      "=================================================================\n",
      "dense (Dense)                (None, 256)               25856     \n",
      "_________________________________________________________________\n",
      "leaky_re_lu (LeakyReLU)      (None, 256)               0         \n",
      "_________________________________________________________________\n",
      "dense_1 (Dense)              (None, 512)               131584    \n",
      "_________________________________________________________________\n",
      "leaky_re_lu_1 (LeakyReLU)    (None, 512)               0         \n",
      "_________________________________________________________________\n",
      "dense_2 (Dense)              (None, 1024)              525312    \n",
      "_________________________________________________________________\n",
      "leaky_re_lu_2 (LeakyReLU)    (None, 1024)              0         \n",
      "_________________________________________________________________\n",
      "dense_3 (Dense)              (None, 784)               803600    \n",
      "=================================================================\n",
      "Total params: 1,486,352\n",
      "Trainable params: 1,486,352\n",
      "Non-trainable params: 0\n",
      "_________________________________________________________________\n"
     ]
    }
   ],
   "source": [
    "# Generator\n",
    "generator = Sequential()\n",
    "generator.add(Dense(256, input_dim=random_dim))\n",
    "generator.add(LeakyReLU(0.2))\n",
    "\n",
    "generator.add(Dense(512))\n",
    "generator.add(LeakyReLU(0.2))\n",
    "\n",
    "generator.add(Dense(1024))\n",
    "generator.add(LeakyReLU(0.2))\n",
    "\n",
    "generator.add(Dense(784, activation='tanh'))        # -1~1 \n",
    "\n",
    "generator.compile(loss='binary_crossentropy', optimizer=adam)\n",
    "\n",
    "generator.summary()"
   ]
  },
  {
   "cell_type": "code",
   "execution_count": 5,
   "metadata": {},
   "outputs": [
    {
     "name": "stdout",
     "output_type": "stream",
     "text": [
      "Model: \"sequential_1\"\n",
      "_________________________________________________________________\n",
      "Layer (type)                 Output Shape              Param #   \n",
      "=================================================================\n",
      "dense_4 (Dense)              (None, 1024)              803840    \n",
      "_________________________________________________________________\n",
      "leaky_re_lu_3 (LeakyReLU)    (None, 1024)              0         \n",
      "_________________________________________________________________\n",
      "dropout (Dropout)            (None, 1024)              0         \n",
      "_________________________________________________________________\n",
      "dense_5 (Dense)              (None, 512)               524800    \n",
      "_________________________________________________________________\n",
      "leaky_re_lu_4 (LeakyReLU)    (None, 512)               0         \n",
      "_________________________________________________________________\n",
      "dropout_1 (Dropout)          (None, 512)               0         \n",
      "_________________________________________________________________\n",
      "dense_6 (Dense)              (None, 256)               131328    \n",
      "_________________________________________________________________\n",
      "leaky_re_lu_5 (LeakyReLU)    (None, 256)               0         \n",
      "_________________________________________________________________\n",
      "dropout_2 (Dropout)          (None, 256)               0         \n",
      "_________________________________________________________________\n",
      "dense_7 (Dense)              (None, 1)                 257       \n",
      "=================================================================\n",
      "Total params: 1,460,225\n",
      "Trainable params: 1,460,225\n",
      "Non-trainable params: 0\n",
      "_________________________________________________________________\n"
     ]
    }
   ],
   "source": [
    "# discriminator\n",
    "discriminator = Sequential()\n",
    "discriminator.add(Dense(1024, input_dim=784))\n",
    "discriminator.add(LeakyReLU(0.2))\n",
    "discriminator.add(Dropout(0.3))\n",
    "\n",
    "discriminator.add(Dense(512))\n",
    "discriminator.add(LeakyReLU(0.2))\n",
    "discriminator.add(Dropout(0.3))\n",
    "\n",
    "discriminator.add(Dense(256))\n",
    "discriminator.add(LeakyReLU(0.2))\n",
    "discriminator.add(Dropout(0.3))\n",
    "\n",
    "discriminator.add(Dense(1, activation='sigmoid'))\n",
    "\n",
    "discriminator.compile(loss='binary_crossentropy', optimizer=adam)\n",
    "\n",
    "discriminator.summary()"
   ]
  },
  {
   "cell_type": "markdown",
   "metadata": {},
   "source": [
    "### Generator 와 Discriminator 를 한 model 로 합한다."
   ]
  },
  {
   "cell_type": "code",
   "execution_count": 6,
   "metadata": {},
   "outputs": [
    {
     "name": "stdout",
     "output_type": "stream",
     "text": [
      "Model: \"model\"\n",
      "_________________________________________________________________\n",
      "Layer (type)                 Output Shape              Param #   \n",
      "=================================================================\n",
      "input_1 (InputLayer)         [(None, 100)]             0         \n",
      "_________________________________________________________________\n",
      "sequential (Sequential)      (None, 784)               1486352   \n",
      "_________________________________________________________________\n",
      "sequential_1 (Sequential)    (None, 1)                 1460225   \n",
      "=================================================================\n",
      "Total params: 2,946,577\n",
      "Trainable params: 1,486,352\n",
      "Non-trainable params: 1,460,225\n",
      "_________________________________________________________________\n"
     ]
    }
   ],
   "source": [
    "discriminator.trainable = False         # very important\n",
    "\n",
    "gan_input = Input(shape=(random_dim,))\n",
    "\n",
    "x = generator(gan_input)\n",
    "\n",
    "gan_output = discriminator(x)\n",
    "\n",
    "gan = Model(gan_input, gan_output)\n",
    "\n",
    "gan.compile(loss='binary_crossentropy', optimizer=adam)\n",
    "\n",
    "gan.summary()"
   ]
  },
  {
   "cell_type": "markdown",
   "metadata": {},
   "source": [
    "### Training \n",
    "\n",
    "- Discriminator 를 먼저 train 한다. \n",
    "    - discriminator.trainable = True\n",
    "    - batch_size 개의 real image + 동수의 fake image 를 input 으로하여 binary_corssentropy 를 minimize\n",
    "   \n",
    "- Generator train\n",
    "    - discriminator.trainable = False\n",
    "    - batch_size 개의 noise 를 gan model 에 input 으로 하고, label 을 1 로 제공\n",
    "    - gan 은 input --> generator --> discriminator --> output 순서로 process 되므로, label 1 을 binary_crossentropy 로 minimize 하려면\n",
    "      generator 가 가능한 discriminator 의 input 으로 real image 에 가까운 fake image 를 생산해야 한다."
   ]
  },
  {
   "cell_type": "code",
   "execution_count": 7,
   "metadata": {},
   "outputs": [],
   "source": [
    "batch_size = 128\n",
    "batch_count = X_train.shape[0] // batch_size\n",
    "epochs = 40"
   ]
  },
  {
   "cell_type": "code",
   "execution_count": 9,
   "metadata": {
    "scrolled": true
   },
   "outputs": [
    {
     "name": "stdout",
     "output_type": "stream",
     "text": [
      "--------------- Epoch 1 ---------------\n",
      "--------------- Epoch 2 ---------------\n",
      "--------------- Epoch 3 ---------------\n",
      "--------------- Epoch 4 ---------------\n",
      "--------------- Epoch 5 ---------------\n",
      "--------------- Epoch 6 ---------------\n",
      "--------------- Epoch 7 ---------------\n",
      "--------------- Epoch 8 ---------------\n",
      "--------------- Epoch 9 ---------------\n",
      "--------------- Epoch 10 ---------------\n",
      "--------------- Epoch 11 ---------------\n",
      "--------------- Epoch 12 ---------------\n",
      "--------------- Epoch 13 ---------------\n",
      "--------------- Epoch 14 ---------------\n",
      "--------------- Epoch 15 ---------------\n"
     ]
    },
    {
     "ename": "KeyboardInterrupt",
     "evalue": "",
     "output_type": "error",
     "traceback": [
      "\u001b[1;31m---------------------------------------------------------------------------\u001b[0m",
      "\u001b[1;31mKeyboardInterrupt\u001b[0m                         Traceback (most recent call last)",
      "\u001b[1;32m<ipython-input-9-f24d6573f6ec>\u001b[0m in \u001b[0;36m<module>\u001b[1;34m\u001b[0m\n\u001b[0;32m      2\u001b[0m     \u001b[0mprint\u001b[0m\u001b[1;33m(\u001b[0m\u001b[1;34m'-'\u001b[0m \u001b[1;33m*\u001b[0m \u001b[1;36m15\u001b[0m\u001b[1;33m,\u001b[0m \u001b[1;34m'Epoch {}'\u001b[0m\u001b[1;33m.\u001b[0m\u001b[0mformat\u001b[0m\u001b[1;33m(\u001b[0m\u001b[0me\u001b[0m\u001b[1;33m)\u001b[0m\u001b[1;33m,\u001b[0m \u001b[1;34m'-'\u001b[0m \u001b[1;33m*\u001b[0m \u001b[1;36m15\u001b[0m\u001b[1;33m)\u001b[0m\u001b[1;33m\u001b[0m\u001b[1;33m\u001b[0m\u001b[0m\n\u001b[0;32m      3\u001b[0m     \u001b[1;32mfor\u001b[0m \u001b[0m_\u001b[0m \u001b[1;32min\u001b[0m \u001b[0mrange\u001b[0m\u001b[1;33m(\u001b[0m\u001b[0mbatch_count\u001b[0m\u001b[1;33m)\u001b[0m\u001b[1;33m:\u001b[0m\u001b[1;33m\u001b[0m\u001b[1;33m\u001b[0m\u001b[0m\n\u001b[1;32m----> 4\u001b[1;33m         \u001b[0mnoise\u001b[0m \u001b[1;33m=\u001b[0m \u001b[0mnp\u001b[0m\u001b[1;33m.\u001b[0m\u001b[0mrandom\u001b[0m\u001b[1;33m.\u001b[0m\u001b[0mnormal\u001b[0m\u001b[1;33m(\u001b[0m\u001b[1;36m0\u001b[0m\u001b[1;33m,\u001b[0m \u001b[1;36m1\u001b[0m\u001b[1;33m,\u001b[0m \u001b[0msize\u001b[0m\u001b[1;33m=\u001b[0m\u001b[1;33m(\u001b[0m\u001b[0mbatch_size\u001b[0m\u001b[1;33m,\u001b[0m \u001b[0mrandom_dim\u001b[0m\u001b[1;33m)\u001b[0m\u001b[1;33m)\u001b[0m\u001b[1;33m\u001b[0m\u001b[1;33m\u001b[0m\u001b[0m\n\u001b[0m\u001b[0;32m      5\u001b[0m \u001b[1;33m\u001b[0m\u001b[0m\n\u001b[0;32m      6\u001b[0m         \u001b[1;31m# discriminator 에게 제공할 real image select\u001b[0m\u001b[1;33m\u001b[0m\u001b[1;33m\u001b[0m\u001b[1;33m\u001b[0m\u001b[0m\n",
      "\u001b[1;31mKeyboardInterrupt\u001b[0m: "
     ]
    },
    {
     "data": {
      "image/png": "[encoded data removed]",
      "text/plain": [
       "<Figure size 288x288 with 16 Axes>"
      ]
     },
     "metadata": {
      "needs_background": "light"
     },
     "output_type": "display_data"
    },
    {
     "data": {
      "image/png": "[encoded data removed]",
      "text/plain": [
       "<Figure size 288x288 with 16 Axes>"
      ]
     },
     "metadata": {
      "needs_background": "light"
     },
     "output_type": "display_data"
    }
   ],
   "source": [
    "for e in range(1, epochs+1):\n",
    "    print('-' * 15, 'Epoch {}'.format(e), '-' * 15)\n",
    "    for _ in range(batch_count):\n",
    "        noise = np.random.normal(0, 1, size=(batch_size, random_dim))\n",
    "        \n",
    "        # discriminator 에게 제공할 real image sampling\n",
    "        image_batch = X_train[np.random.randint(0, X_train.shape[0], size=batch_size)]\n",
    "        \n",
    "        # noise 로부터 image 생성\n",
    "        generated_images = generator.predict(noise)\n",
    "        \n",
    "        # MNIST dataset 의 real image 와 Generator 가 생성한 fake image 를 batch 로 concatenate 하여 discriminator 에 feed\n",
    "        X = np.concatenate([image_batch, generated_images])\n",
    "        \n",
    "        # real 및 fake image 를 알려주는 target vaiable 생성\n",
    "        y_dis = np.zeros(2 * batch_size)\n",
    "        y_dis[:batch_size] = 0.9\n",
    "        \n",
    "        # GAN 시작 전에 Discriminator 를 pre-train\n",
    "        discriminator.trainable = True\n",
    "        discriminator.train_on_batch(X, y_dis)\n",
    "        \n",
    "        # 새로운 noise 를 GAN 의 input 으로 제공하여 generator 가 그 noise 로 부터 fake image 를 생성하고, \n",
    "        # discriminator 가 가짜라고 분류하여 y_gen label 1 이 되도록 train \n",
    "        noise = np.random.normal(0, 1, size=(batch_size, random_dim))\n",
    "        y_gen = np.ones(batch_size)\n",
    "        discriminator.trainable = False            # generator training 시 discriminator 고정\n",
    "        gan.train_on_batch(noise, y_gen)\n",
    "        \n",
    "    if e == 1 or e%10 == 0:\n",
    "        generated_images = generated_images.reshape(-1, 28, 28)\n",
    "        plt.figure(figsize=(4, 4))\n",
    "        \n",
    "        for i in range(16):\n",
    "            plt.subplot(4, 4, i+1)\n",
    "            plt.imshow(generated_images[i], interpolation='nearest', cmap='gray_r')\n",
    "            plt.axis('off')\n",
    "        plt.tight_layout()\n",
    "        plt.show()\n",
    "        #plt.savefig('./checkpoints/gen_img_epoch_{}.png'.format(e))"
   ]
  },
  {
   "cell_type": "code",
   "execution_count": null,
   "metadata": {},
   "outputs": [],
   "source": []
  }
 ],
 "metadata": {
  "kernelspec": {
   "display_name": "Python 3",
   "language": "python",
   "name": "python3"
  },
  "language_info": {
   "codemirror_mode": {
    "name": "ipython",
    "version": 3
   },
   "file_extension": ".py",
   "mimetype": "text/x-python",
   "name": "python",
   "nbconvert_exporter": "python",
   "pygments_lexer": "ipython3",
   "version": "3.7.3"
  }
 },
 "nbformat": 4,
 "nbformat_minor": 2
}
