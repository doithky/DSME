{
 "cells": [
  {
   "cell_type": "markdown",
   "metadata": {
    "colab_type": "text",
    "id": "i3SMFJYftfEs"
   },
   "source": [
    "# 190. Keras API 와 LSTM 을 이용한 이상한 나라의 Alice 문장 생성기\n",
    "\n",
    "- next word 예측"
   ]
  },
  {
   "cell_type": "code",
   "execution_count": 5,
   "metadata": {
    "colab": {},
    "colab_type": "code",
    "id": "asn1fHFytfEu"
   },
   "outputs": [],
   "source": [
    "import tensorflow as tf\n",
    "import numpy as np\n",
    "from tensorflow.keras.preprocessing.sequence import pad_sequences\n",
    "from tensorflow.keras.layers import Embedding, LSTM, Dense, Dropout, Bidirectional\n",
    "from tensorflow.keras.preprocessing.text import Tokenizer\n",
    "from tensorflow.keras.models import Sequential\n",
    "import tensorflow.keras.regularizers as regularizers\n",
    "import numpy as np "
   ]
  },
  {
   "cell_type": "code",
   "execution_count": 6,
   "metadata": {
    "colab": {
     "base_uri": "https://localhost:8080/",
     "height": 53
    },
    "colab_type": "code",
    "id": "uP-mC7LTtfEx",
    "outputId": "8c97f50d-0833-4fad-fd18-ac4e80d04533"
   },
   "outputs": [],
   "source": [
    "path_to_file = tf.keras.utils.get_file('alice.txt', \"http://www.gutenberg.org/files/11/11.txt\")"
   ]
  },
  {
   "cell_type": "code",
   "execution_count": 7,
   "metadata": {
    "colab": {
     "base_uri": "https://localhost:8080/",
     "height": 55
    },
    "colab_type": "code",
    "id": "SvrmXp25tfEz",
    "outputId": "2154b496-a8f0-493f-fc7e-18e7fb2f241b"
   },
   "outputs": [
    {
     "data": {
      "text/plain": [
       "\"project gutenberg's alice's adventures in wonderland, by lewis carroll this ebook is for the use of anyone anywhere at no cost and with almost no restrictions whatsoever.  you may copy it, give it away or re-use it under the terms of the project gutenberg license included with this ebook or online at www.gutenberg.org title: alice's adventures in wonderland author: lewis carroll posting date: june 25, 2008 [ebook #11] release date: march, 1994 [last updated: december 20, 2011] language: english character set encoding: ascii *** start of this project gutenberg ebook alice's adventures in wonderland *** alice's adventures in wonderland lewis carroll the millennium fulcrum edition 3.0 chapter i. down the rabbit-hole alice was beginning to get very tired of sitting by her sister on the bank, and of having nothing to do: once or twice she had peeped into the book her sister was reading, but it had no pictures or conversations in it, 'and what is the use of a book,' thought alice 'without pi\""
      ]
     },
     "execution_count": 7,
     "metadata": {},
     "output_type": "execute_result"
    }
   ],
   "source": [
    "r = open(path_to_file, 'r')\n",
    "texts = r.readlines()\n",
    "lines = []\n",
    "\n",
    "for line in texts:\n",
    "    line = line.strip().lower()\n",
    "    if len(line) == 0:\n",
    "        continue\n",
    "    lines.append(line)\n",
    "\n",
    "text = \" \".join(lines)\n",
    "text[:1000]"
   ]
  },
  {
   "cell_type": "code",
   "execution_count": 0,
   "metadata": {
    "colab": {},
    "colab_type": "code",
    "id": "1RuGgWAmtfE2"
   },
   "outputs": [],
   "source": [
    "import re\n",
    "\n",
    "corpus = re.split('[,.]', text)"
   ]
  },
  {
   "cell_type": "code",
   "execution_count": 6,
   "metadata": {
    "colab": {
     "base_uri": "https://localhost:8080/",
     "height": 216
    },
    "colab_type": "code",
    "id": "RyUJ7MxNtfE4",
    "outputId": "012881c1-2250-4c58-d945-37486d9faa4f"
   },
   "outputs": [
    {
     "data": {
      "text/plain": [
       "[\"project gutenberg's alice's adventures in wonderland\",\n",
       " ' by lewis carroll this ebook is for the use of anyone anywhere at no cost and with almost no restrictions whatsoever',\n",
       " '  you may copy it',\n",
       " ' give it away or re-use it under the terms of the project gutenberg license included with this ebook or online at www',\n",
       " 'gutenberg',\n",
       " \"org title: alice's adventures in wonderland author: lewis carroll posting date: june 25\",\n",
       " ' 2008 [ebook #11] release date: march',\n",
       " ' 1994 [last updated: december 20',\n",
       " \" 2011] language: english character set encoding: ascii *** start of this project gutenberg ebook alice's adventures in wonderland *** alice's adventures in wonderland lewis carroll the millennium fulcrum edition 3\",\n",
       " '0 chapter i']"
      ]
     },
     "execution_count": 6,
     "metadata": {
      "tags": []
     },
     "output_type": "execute_result"
    }
   ],
   "source": [
    "corpus[:10]"
   ]
  },
  {
   "cell_type": "code",
   "execution_count": 7,
   "metadata": {
    "colab": {
     "base_uri": "https://localhost:8080/",
     "height": 35
    },
    "colab_type": "code",
    "id": "mRzxcEeatfE6",
    "outputId": "cd72f793-270b-4525-fecf-ce2ca5ad2813"
   },
   "outputs": [
    {
     "name": "stdout",
     "output_type": "stream",
     "text": [
      "3338\n"
     ]
    }
   ],
   "source": [
    "tokenizer = Tokenizer()\n",
    "\n",
    "tokenizer.fit_on_texts(corpus)\n",
    "total_words = len(tokenizer.word_index) + 1\n",
    "print(total_words)"
   ]
  },
  {
   "cell_type": "code",
   "execution_count": 8,
   "metadata": {
    "colab": {
     "base_uri": "https://localhost:8080/",
     "height": 35
    },
    "colab_type": "code",
    "id": "rD29b-YrM8hJ",
    "outputId": "613d551a-10b0-4373-f1c1-541a24727b5d"
   },
   "outputs": [
    {
     "data": {
      "text/plain": [
       "[(11, 'you'), (12, 'alice'), (13, 'was'), (14, 'i'), (15, 'that')]"
      ]
     },
     "execution_count": 8,
     "metadata": {
      "tags": []
     },
     "output_type": "execute_result"
    }
   ],
   "source": [
    "list(tokenizer.index_word.items())[10:15]"
   ]
  },
  {
   "cell_type": "code",
   "execution_count": 9,
   "metadata": {
    "colab": {
     "base_uri": "https://localhost:8080/",
     "height": 35
    },
    "colab_type": "code",
    "id": "t4UF7YzUM8hO",
    "outputId": "5a29937c-7f52-40f3-f54d-5ba17826145d"
   },
   "outputs": [
    {
     "data": {
      "text/plain": [
       "[('you', 11), ('alice', 12), ('was', 13), ('i', 14), ('that', 15)]"
      ]
     },
     "execution_count": 9,
     "metadata": {
      "tags": []
     },
     "output_type": "execute_result"
    }
   ],
   "source": [
    "list(tokenizer.word_index.items())[10:15]"
   ]
  },
  {
   "cell_type": "code",
   "execution_count": 0,
   "metadata": {
    "colab": {},
    "colab_type": "code",
    "id": "AQlBVvwitfE8"
   },
   "outputs": [],
   "source": [
    "# create input sequences using list of tokens\n",
    "input_sequences = []\n",
    "\n",
    "for line in corpus:\n",
    "    token_list = tokenizer.texts_to_sequences([line])[0]\n",
    "    for i in range(1, len(token_list)):\n",
    "        n_gram_sequence = token_list[:i+1]\n",
    "        input_sequences.append(n_gram_sequence)"
   ]
  },
  {
   "cell_type": "code",
   "execution_count": 11,
   "metadata": {
    "colab": {
     "base_uri": "https://localhost:8080/",
     "height": 214
    },
    "colab_type": "code",
    "id": "nI97Ln4atfE_",
    "outputId": "b1ce68fe-98eb-48d3-f9f9-9855a1ea7aed"
   },
   "outputs": [
    {
     "name": "stdout",
     "output_type": "stream",
     "text": [
      "27218\n"
     ]
    },
    {
     "data": {
      "text/plain": [
       "[[48, 1303],\n",
       " [48, 1303, 248],\n",
       " [48, 1303, 248, 342],\n",
       " [48, 1303, 248, 342, 10],\n",
       " [48, 1303, 248, 342, 10, 481],\n",
       " [59, 815],\n",
       " [59, 815, 816],\n",
       " [59, 815, 816, 22],\n",
       " [59, 815, 816, 22, 443],\n",
       " [59, 815, 816, 22, 443, 31]]"
      ]
     },
     "execution_count": 11,
     "metadata": {
      "tags": []
     },
     "output_type": "execute_result"
    }
   ],
   "source": [
    "print(len(input_sequences))\n",
    "input_sequences[:10]"
   ]
  },
  {
   "cell_type": "code",
   "execution_count": 12,
   "metadata": {
    "colab": {
     "base_uri": "https://localhost:8080/",
     "height": 143
    },
    "colab_type": "code",
    "id": "neKxP5KXtfFB",
    "outputId": "2e5e7277-56c4-4cb2-a9ee-25267969b71d"
   },
   "outputs": [
    {
     "data": {
      "text/plain": [
       "array([[   0,    0,    0, ...,    0,   48, 1303],\n",
       "       [   0,    0,    0, ...,   48, 1303,  248],\n",
       "       [   0,    0,    0, ..., 1303,  248,  342],\n",
       "       ...,\n",
       "       [   0,    0,    0, ...,    4,  275,   40],\n",
       "       [   0,    0,    0, ...,  275,   40,  494],\n",
       "       [   0,    0,    0, ...,   40,  494,  621]], dtype=int32)"
      ]
     },
     "execution_count": 12,
     "metadata": {
      "tags": []
     },
     "output_type": "execute_result"
    }
   ],
   "source": [
    "# pad sequences \n",
    "max_sequence_len = max([len(x) for x in input_sequences])\n",
    "\n",
    "input_sequences = np.array(pad_sequences(input_sequences, maxlen=max_sequence_len, padding='pre'))\n",
    "input_sequences"
   ]
  },
  {
   "cell_type": "code",
   "execution_count": 0,
   "metadata": {
    "colab": {},
    "colab_type": "code",
    "id": "ejnqC8LZtfFE"
   },
   "outputs": [],
   "source": [
    "text_dataset = tf.data.Dataset.from_tensor_slices(input_sequences)"
   ]
  },
  {
   "cell_type": "code",
   "execution_count": 0,
   "metadata": {
    "colab": {},
    "colab_type": "code",
    "id": "02XRjp6htfFH"
   },
   "outputs": [],
   "source": [
    "def split_input_target(chunk):\n",
    "    input_text = chunk[:-1]\n",
    "    target_text = chunk[-1]\n",
    "    return input_text, target_text"
   ]
  },
  {
   "cell_type": "code",
   "execution_count": 15,
   "metadata": {
    "colab": {
     "base_uri": "https://localhost:8080/",
     "height": 537
    },
    "colab_type": "code",
    "id": "CqJpy2c-tfFJ",
    "outputId": "76c1bf52-63db-4fb3-aaf4-8c6430e147bd"
   },
   "outputs": [
    {
     "name": "stdout",
     "output_type": "stream",
     "text": [
      "tf.Tensor(\n",
      "[[   0    0    0 ...    0    0   48]\n",
      " [   0    0    0 ...    0   48 1303]\n",
      " [   0    0    0 ...   48 1303  248]\n",
      " ...\n",
      " [   0    0    0 ...    8 1317    4]\n",
      " [   0    0    0 ... 1317    4   17]\n",
      " [   0    0    0 ...    4   17   15]], shape=(256, 62), dtype=int32)\n",
      "\n",
      "tf.Tensor(\n",
      "[1303  248  342   10  481  815  816   22  443   31   24    1  151    6\n",
      "  704 1006   19   49  817    3   18  482   49 1304 1305  175  343    8\n",
      "    8  169   27 1306  151    8  203    1  204    6    1   48   44  258\n",
      " 1007   18   22  443   27  818   19  625 1826  248  342   10  481 1827\n",
      "  815  816 1828  819 1829 1830  443  820 1832  819  136  140 1307 1834\n",
      " 1308 1836  550 1309  196 1837 1008 1009    6   22   48   44  443  248\n",
      "  342   10  481  248  342   10  481  815  816    1 1838 1839 1310  373\n",
      "  344   14    1  110  705   12   13  274    4  115   29  551    6  405\n",
      "   59   17  483   20    1 1010    6  406  154    4   45  148   27  706\n",
      "    7   23 1011   68    1  374   17  483   13  821    8   23   49  822\n",
      "   27 1311   10    8   38   31    1  151    6    5  374   62   12 1841\n",
      "  822   27 1311    2   28    7   13 1012   10   17  407  375   16  121\n",
      "   16    7   57    1  552  162  155   17  484   29  707    3 1013    1\n",
      " 1312    6  485    5 1842 1843   58   25  823    1  626    6  205   39\n",
      "    3 1313    1 1844  315    5  156  110   18 1845  163  259  316   59\n",
      "   17   13  154   28   29 1314   10   15 1315   74   12   91    8   28\n",
      "   29   93   35    6    1   76    4  275    1  110   95    4  295  170\n",
      "  206  170   14  188   25  627    2   60    7   62    8  122 1316 1317\n",
      "    4   17   15    7], shape=(256,), dtype=int32)\n"
     ]
    }
   ],
   "source": [
    "dataset = text_dataset.map(split_input_target).batch(256, drop_remainder=True)\n",
    "\n",
    "for input, target in dataset.take(1):\n",
    "    print(input)\n",
    "    print()\n",
    "    print(target)"
   ]
  },
  {
   "cell_type": "code",
   "execution_count": 16,
   "metadata": {
    "colab": {
     "base_uri": "https://localhost:8080/",
     "height": 393
    },
    "colab_type": "code",
    "id": "w9vH8Y59ajYL",
    "outputId": "218ee753-e241-40cd-d82d-54d8ee74ea64"
   },
   "outputs": [
    {
     "name": "stdout",
     "output_type": "stream",
     "text": [
      "Model: \"sequential\"\n",
      "_________________________________________________________________\n",
      "Layer (type)                 Output Shape              Param #   \n",
      "=================================================================\n",
      "embedding (Embedding)        (None, None, 100)         333800    \n",
      "_________________________________________________________________\n",
      "bidirectional (Bidirectional (None, None, 64)          34048     \n",
      "_________________________________________________________________\n",
      "dropout (Dropout)            (None, None, 64)          0         \n",
      "_________________________________________________________________\n",
      "lstm_1 (LSTM)                (None, 16)                5184      \n",
      "_________________________________________________________________\n",
      "dense (Dense)                (None, 1669)              28373     \n",
      "_________________________________________________________________\n",
      "dense_1 (Dense)              (None, 3338)              5574460   \n",
      "=================================================================\n",
      "Total params: 5,975,865\n",
      "Trainable params: 5,975,865\n",
      "Non-trainable params: 0\n",
      "_________________________________________________________________\n",
      "None\n"
     ]
    }
   ],
   "source": [
    "model = Sequential()\n",
    "model.add(Embedding(total_words, 100))\n",
    "model.add(Bidirectional(LSTM(32, return_sequences = True)))\n",
    "model.add(Dropout(0.2))\n",
    "model.add(LSTM(16))\n",
    "model.add(Dense(total_words/2, activation='relu', kernel_regularizer=regularizers.l2(0.01)))\n",
    "model.add(Dense(total_words, activation='softmax'))\n",
    "\n",
    "model.compile(loss='sparse_categorical_crossentropy', optimizer='adam', metrics=['accuracy'])\n",
    "print(model.summary())"
   ]
  },
  {
   "cell_type": "code",
   "execution_count": 17,
   "metadata": {
    "colab": {
     "base_uri": "https://localhost:8080/",
     "height": 1000
    },
    "colab_type": "code",
    "id": "AIg2f1HBxqof",
    "outputId": "46b87bbd-4e2b-431b-fa3e-fa004d1b15e7",
    "scrolled": true
   },
   "outputs": [
    {
     "name": "stdout",
     "output_type": "stream",
     "text": [
      "Epoch 1/150\n",
      "106/106 [==============================] - 2s 22ms/step - loss: 6.8931 - accuracy: 0.0587\n",
      "Epoch 2/150\n",
      "106/106 [==============================] - 2s 22ms/step - loss: 6.2945 - accuracy: 0.0622\n",
      "Epoch 3/150\n",
      "106/106 [==============================] - 2s 22ms/step - loss: 6.1791 - accuracy: 0.0622\n",
      "Epoch 4/150\n",
      "106/106 [==============================] - 2s 22ms/step - loss: 6.1325 - accuracy: 0.0623\n",
      "Epoch 5/150\n",
      "106/106 [==============================] - 2s 22ms/step - loss: 6.0596 - accuracy: 0.0659\n",
      "Epoch 6/150\n",
      "106/106 [==============================] - 2s 22ms/step - loss: 5.9686 - accuracy: 0.0671\n",
      "Epoch 7/150\n",
      "106/106 [==============================] - 2s 22ms/step - loss: 5.9036 - accuracy: 0.0717\n",
      "Epoch 8/150\n",
      "106/106 [==============================] - 2s 22ms/step - loss: 5.8539 - accuracy: 0.0746\n",
      "Epoch 9/150\n",
      "106/106 [==============================] - 2s 22ms/step - loss: 5.7970 - accuracy: 0.0775\n",
      "Epoch 10/150\n",
      "106/106 [==============================] - 2s 22ms/step - loss: 5.7302 - accuracy: 0.0863\n",
      "Epoch 11/150\n",
      "106/106 [==============================] - 2s 22ms/step - loss: 5.6561 - accuracy: 0.0931\n",
      "Epoch 12/150\n",
      "106/106 [==============================] - 2s 22ms/step - loss: 5.5893 - accuracy: 0.0967\n",
      "Epoch 13/150\n",
      "106/106 [==============================] - 2s 22ms/step - loss: 5.5315 - accuracy: 0.0984\n",
      "Epoch 14/150\n",
      "106/106 [==============================] - 2s 22ms/step - loss: 5.4813 - accuracy: 0.1040\n",
      "Epoch 15/150\n",
      "106/106 [==============================] - 2s 22ms/step - loss: 5.4374 - accuracy: 0.1085\n",
      "Epoch 16/150\n",
      "106/106 [==============================] - 2s 22ms/step - loss: 5.3986 - accuracy: 0.1109\n",
      "Epoch 17/150\n",
      "106/106 [==============================] - 2s 22ms/step - loss: 5.3611 - accuracy: 0.1135\n",
      "Epoch 18/150\n",
      "106/106 [==============================] - 2s 22ms/step - loss: 5.3252 - accuracy: 0.1174\n",
      "Epoch 19/150\n",
      "106/106 [==============================] - 2s 22ms/step - loss: 5.2943 - accuracy: 0.1193\n",
      "Epoch 20/150\n",
      "106/106 [==============================] - 2s 23ms/step - loss: 5.2559 - accuracy: 0.1218\n",
      "Epoch 21/150\n",
      "106/106 [==============================] - 2s 23ms/step - loss: 5.2247 - accuracy: 0.1238\n",
      "Epoch 22/150\n",
      "106/106 [==============================] - 2s 22ms/step - loss: 5.1893 - accuracy: 0.1265\n",
      "Epoch 23/150\n",
      "106/106 [==============================] - 2s 22ms/step - loss: 5.1520 - accuracy: 0.1287\n",
      "Epoch 24/150\n",
      "106/106 [==============================] - 2s 22ms/step - loss: 5.1141 - accuracy: 0.1320\n",
      "Epoch 25/150\n",
      "106/106 [==============================] - 2s 22ms/step - loss: 5.0829 - accuracy: 0.1345\n",
      "Epoch 26/150\n",
      "106/106 [==============================] - 2s 22ms/step - loss: 5.0489 - accuracy: 0.1355\n",
      "Epoch 27/150\n",
      "106/106 [==============================] - 2s 22ms/step - loss: 5.0134 - accuracy: 0.1397\n",
      "Epoch 28/150\n",
      "106/106 [==============================] - 2s 22ms/step - loss: 4.9837 - accuracy: 0.1404\n",
      "Epoch 29/150\n",
      "106/106 [==============================] - 2s 22ms/step - loss: 4.9501 - accuracy: 0.1433\n",
      "Epoch 30/150\n",
      "106/106 [==============================] - 2s 22ms/step - loss: 4.9184 - accuracy: 0.1491\n",
      "Epoch 31/150\n",
      "106/106 [==============================] - 2s 22ms/step - loss: 4.8868 - accuracy: 0.1514\n",
      "Epoch 32/150\n",
      "106/106 [==============================] - 2s 22ms/step - loss: 4.8576 - accuracy: 0.1524\n",
      "Epoch 33/150\n",
      "106/106 [==============================] - 2s 22ms/step - loss: 4.8283 - accuracy: 0.1556\n",
      "Epoch 34/150\n",
      "106/106 [==============================] - 2s 22ms/step - loss: 4.8081 - accuracy: 0.1584\n",
      "Epoch 35/150\n",
      "106/106 [==============================] - 2s 22ms/step - loss: 4.7745 - accuracy: 0.1588\n",
      "Epoch 36/150\n",
      "106/106 [==============================] - 2s 22ms/step - loss: 4.7503 - accuracy: 0.1621\n",
      "Epoch 37/150\n",
      "106/106 [==============================] - 2s 22ms/step - loss: 4.7184 - accuracy: 0.1659\n",
      "Epoch 38/150\n",
      "106/106 [==============================] - 2s 22ms/step - loss: 4.6912 - accuracy: 0.1688\n",
      "Epoch 39/150\n",
      "106/106 [==============================] - 2s 22ms/step - loss: 4.6596 - accuracy: 0.1697\n",
      "Epoch 40/150\n",
      "106/106 [==============================] - 2s 22ms/step - loss: 4.6330 - accuracy: 0.1731\n",
      "Epoch 41/150\n",
      "106/106 [==============================] - 2s 22ms/step - loss: 4.6093 - accuracy: 0.1764\n",
      "Epoch 42/150\n",
      "106/106 [==============================] - 2s 22ms/step - loss: 4.5979 - accuracy: 0.1768\n",
      "Epoch 43/150\n",
      "106/106 [==============================] - 2s 22ms/step - loss: 4.5715 - accuracy: 0.1785\n",
      "Epoch 44/150\n",
      "106/106 [==============================] - 2s 22ms/step - loss: 4.5461 - accuracy: 0.1799\n",
      "Epoch 45/150\n",
      "106/106 [==============================] - 2s 22ms/step - loss: 4.5189 - accuracy: 0.1824\n",
      "Epoch 46/150\n",
      "106/106 [==============================] - 2s 22ms/step - loss: 4.4980 - accuracy: 0.1835\n",
      "Epoch 47/150\n",
      "106/106 [==============================] - 2s 22ms/step - loss: 4.4694 - accuracy: 0.1864\n",
      "Epoch 48/150\n",
      "106/106 [==============================] - 2s 22ms/step - loss: 4.4491 - accuracy: 0.1889\n",
      "Epoch 49/150\n",
      "106/106 [==============================] - 2s 22ms/step - loss: 4.4297 - accuracy: 0.1919\n",
      "Epoch 50/150\n",
      "106/106 [==============================] - 2s 22ms/step - loss: 4.4047 - accuracy: 0.1923\n",
      "Epoch 51/150\n",
      "106/106 [==============================] - 2s 22ms/step - loss: 4.3833 - accuracy: 0.1953\n",
      "Epoch 52/150\n",
      "106/106 [==============================] - 2s 22ms/step - loss: 4.3695 - accuracy: 0.1961\n",
      "Epoch 53/150\n",
      "106/106 [==============================] - 2s 22ms/step - loss: 4.3533 - accuracy: 0.1977\n",
      "Epoch 54/150\n",
      "106/106 [==============================] - 2s 22ms/step - loss: 4.3324 - accuracy: 0.2001\n",
      "Epoch 55/150\n",
      "106/106 [==============================] - 2s 22ms/step - loss: 4.3069 - accuracy: 0.2005\n",
      "Epoch 56/150\n",
      "106/106 [==============================] - 2s 22ms/step - loss: 4.2796 - accuracy: 0.2045\n",
      "Epoch 57/150\n",
      "106/106 [==============================] - 2s 22ms/step - loss: 4.2604 - accuracy: 0.2063\n",
      "Epoch 58/150\n",
      "106/106 [==============================] - 2s 22ms/step - loss: 4.2486 - accuracy: 0.2059\n",
      "Epoch 59/150\n",
      "106/106 [==============================] - 2s 22ms/step - loss: 4.2407 - accuracy: 0.2064\n",
      "Epoch 60/150\n",
      "106/106 [==============================] - 2s 22ms/step - loss: 4.2175 - accuracy: 0.2095\n",
      "Epoch 61/150\n",
      "106/106 [==============================] - 2s 22ms/step - loss: 4.1973 - accuracy: 0.2098\n",
      "Epoch 62/150\n",
      "106/106 [==============================] - 2s 22ms/step - loss: 4.1747 - accuracy: 0.2133\n",
      "Epoch 63/150\n",
      "106/106 [==============================] - 2s 22ms/step - loss: 4.1719 - accuracy: 0.2147\n",
      "Epoch 64/150\n",
      "106/106 [==============================] - 2s 22ms/step - loss: 4.1501 - accuracy: 0.2163\n",
      "Epoch 65/150\n",
      "106/106 [==============================] - 2s 22ms/step - loss: 4.1290 - accuracy: 0.2185\n",
      "Epoch 66/150\n",
      "106/106 [==============================] - 2s 22ms/step - loss: 4.1027 - accuracy: 0.2212\n",
      "Epoch 67/150\n",
      "106/106 [==============================] - 2s 22ms/step - loss: 4.0851 - accuracy: 0.2226\n",
      "Epoch 68/150\n",
      "106/106 [==============================] - 2s 22ms/step - loss: 4.0606 - accuracy: 0.2259\n",
      "Epoch 69/150\n",
      "106/106 [==============================] - 2s 22ms/step - loss: 4.0474 - accuracy: 0.2284\n",
      "Epoch 70/150\n",
      "106/106 [==============================] - 2s 22ms/step - loss: 4.0281 - accuracy: 0.2304\n",
      "Epoch 71/150\n",
      "106/106 [==============================] - 2s 22ms/step - loss: 4.0052 - accuracy: 0.2318\n",
      "Epoch 72/150\n",
      "106/106 [==============================] - 2s 22ms/step - loss: 3.9898 - accuracy: 0.2341\n",
      "Epoch 73/150\n",
      "106/106 [==============================] - 2s 22ms/step - loss: 3.9720 - accuracy: 0.2372\n",
      "Epoch 74/150\n",
      "106/106 [==============================] - 2s 21ms/step - loss: 3.9546 - accuracy: 0.2382\n",
      "Epoch 75/150\n",
      "106/106 [==============================] - 2s 22ms/step - loss: 3.9534 - accuracy: 0.2392\n",
      "Epoch 76/150\n",
      "106/106 [==============================] - 2s 21ms/step - loss: 3.9463 - accuracy: 0.2389\n",
      "Epoch 77/150\n",
      "106/106 [==============================] - 2s 21ms/step - loss: 3.9280 - accuracy: 0.2394\n",
      "Epoch 78/150\n",
      "106/106 [==============================] - 2s 22ms/step - loss: 3.9173 - accuracy: 0.2416\n",
      "Epoch 79/150\n",
      "106/106 [==============================] - 2s 22ms/step - loss: 3.8953 - accuracy: 0.2450\n",
      "Epoch 80/150\n",
      "106/106 [==============================] - 2s 21ms/step - loss: 3.8718 - accuracy: 0.2468\n",
      "Epoch 81/150\n",
      "106/106 [==============================] - 2s 21ms/step - loss: 3.8769 - accuracy: 0.2445\n",
      "Epoch 82/150\n",
      "106/106 [==============================] - 2s 22ms/step - loss: 3.8468 - accuracy: 0.2497\n",
      "Epoch 83/150\n",
      "106/106 [==============================] - 2s 21ms/step - loss: 3.8324 - accuracy: 0.2521\n",
      "Epoch 84/150\n",
      "106/106 [==============================] - 2s 22ms/step - loss: 3.8183 - accuracy: 0.2520\n",
      "Epoch 85/150\n",
      "106/106 [==============================] - 2s 21ms/step - loss: 3.8039 - accuracy: 0.2539\n",
      "Epoch 86/150\n",
      "106/106 [==============================] - 2s 21ms/step - loss: 3.7896 - accuracy: 0.2556\n",
      "Epoch 87/150\n",
      "106/106 [==============================] - 2s 22ms/step - loss: 3.7772 - accuracy: 0.2568\n",
      "Epoch 88/150\n",
      "106/106 [==============================] - 2s 22ms/step - loss: 3.7651 - accuracy: 0.2594\n",
      "Epoch 89/150\n",
      "106/106 [==============================] - 2s 21ms/step - loss: 3.7535 - accuracy: 0.2597\n",
      "Epoch 90/150\n",
      "106/106 [==============================] - 2s 22ms/step - loss: 3.7384 - accuracy: 0.2624\n",
      "Epoch 91/150\n",
      "106/106 [==============================] - 2s 22ms/step - loss: 3.7260 - accuracy: 0.2616\n",
      "Epoch 92/150\n",
      "106/106 [==============================] - 2s 22ms/step - loss: 3.7097 - accuracy: 0.2664\n",
      "Epoch 93/150\n",
      "106/106 [==============================] - 2s 21ms/step - loss: 3.6926 - accuracy: 0.2681\n",
      "Epoch 94/150\n",
      "106/106 [==============================] - 2s 21ms/step - loss: 3.6784 - accuracy: 0.2689\n",
      "Epoch 95/150\n",
      "106/106 [==============================] - 2s 21ms/step - loss: 3.6652 - accuracy: 0.2678\n",
      "Epoch 96/150\n",
      "106/106 [==============================] - 2s 21ms/step - loss: 3.6504 - accuracy: 0.2704\n",
      "Epoch 97/150\n",
      "106/106 [==============================] - 2s 21ms/step - loss: 3.6429 - accuracy: 0.2716\n",
      "Epoch 98/150\n",
      "106/106 [==============================] - 2s 21ms/step - loss: 3.6293 - accuracy: 0.2751\n",
      "Epoch 99/150\n",
      "106/106 [==============================] - 2s 21ms/step - loss: 3.6113 - accuracy: 0.2759\n",
      "Epoch 100/150\n",
      "106/106 [==============================] - 2s 22ms/step - loss: 3.6045 - accuracy: 0.2742\n",
      "Epoch 101/150\n",
      "106/106 [==============================] - 2s 21ms/step - loss: 3.5900 - accuracy: 0.2787\n",
      "Epoch 102/150\n",
      "106/106 [==============================] - 2s 21ms/step - loss: 3.5972 - accuracy: 0.2775\n",
      "Epoch 103/150\n",
      "106/106 [==============================] - 2s 22ms/step - loss: 3.5745 - accuracy: 0.2824\n",
      "Epoch 104/150\n",
      "106/106 [==============================] - 2s 21ms/step - loss: 3.5576 - accuracy: 0.2815\n",
      "Epoch 105/150\n",
      "106/106 [==============================] - 2s 22ms/step - loss: 3.5390 - accuracy: 0.2848\n",
      "Epoch 106/150\n",
      "106/106 [==============================] - 2s 22ms/step - loss: 3.5289 - accuracy: 0.2857\n",
      "Epoch 107/150\n",
      "106/106 [==============================] - 2s 22ms/step - loss: 3.5153 - accuracy: 0.2889\n",
      "Epoch 108/150\n",
      "106/106 [==============================] - 2s 22ms/step - loss: 3.4982 - accuracy: 0.2908\n",
      "Epoch 109/150\n",
      "106/106 [==============================] - 2s 22ms/step - loss: 3.4949 - accuracy: 0.2908\n",
      "Epoch 110/150\n",
      "106/106 [==============================] - 2s 21ms/step - loss: 3.4858 - accuracy: 0.2922\n",
      "Epoch 111/150\n",
      "106/106 [==============================] - 2s 22ms/step - loss: 3.4683 - accuracy: 0.2962\n",
      "Epoch 112/150\n",
      "106/106 [==============================] - 2s 21ms/step - loss: 3.4605 - accuracy: 0.2970\n",
      "Epoch 113/150\n",
      "106/106 [==============================] - 2s 22ms/step - loss: 3.4424 - accuracy: 0.3007\n",
      "Epoch 114/150\n",
      "106/106 [==============================] - 2s 21ms/step - loss: 3.4370 - accuracy: 0.3022\n",
      "Epoch 115/150\n",
      "106/106 [==============================] - 2s 21ms/step - loss: 3.4377 - accuracy: 0.2987\n",
      "Epoch 116/150\n",
      "106/106 [==============================] - 2s 21ms/step - loss: 3.4399 - accuracy: 0.2990\n",
      "Epoch 117/150\n",
      "106/106 [==============================] - 2s 21ms/step - loss: 3.4092 - accuracy: 0.3041\n",
      "Epoch 118/150\n",
      "106/106 [==============================] - 2s 21ms/step - loss: 3.3895 - accuracy: 0.3042\n",
      "Epoch 119/150\n",
      "106/106 [==============================] - 2s 22ms/step - loss: 3.3984 - accuracy: 0.3042\n",
      "Epoch 120/150\n",
      "106/106 [==============================] - 2s 21ms/step - loss: 3.3872 - accuracy: 0.3061\n",
      "Epoch 121/150\n",
      "106/106 [==============================] - 2s 22ms/step - loss: 3.3756 - accuracy: 0.3059\n",
      "Epoch 122/150\n",
      "106/106 [==============================] - 2s 22ms/step - loss: 3.3915 - accuracy: 0.3055\n",
      "Epoch 123/150\n",
      "106/106 [==============================] - 2s 22ms/step - loss: 3.3589 - accuracy: 0.3097\n",
      "Epoch 124/150\n",
      "106/106 [==============================] - 2s 22ms/step - loss: 3.3380 - accuracy: 0.3142\n",
      "Epoch 125/150\n",
      "106/106 [==============================] - 2s 21ms/step - loss: 3.3234 - accuracy: 0.3160\n",
      "Epoch 126/150\n",
      "106/106 [==============================] - 2s 21ms/step - loss: 3.3281 - accuracy: 0.3145\n",
      "Epoch 127/150\n",
      "106/106 [==============================] - 2s 22ms/step - loss: 3.3046 - accuracy: 0.3202\n",
      "Epoch 128/150\n",
      "106/106 [==============================] - 2s 21ms/step - loss: 3.2947 - accuracy: 0.3199\n",
      "Epoch 129/150\n",
      "106/106 [==============================] - 2s 21ms/step - loss: 3.3072 - accuracy: 0.3178\n",
      "Epoch 130/150\n",
      "106/106 [==============================] - 2s 22ms/step - loss: 3.2722 - accuracy: 0.3251\n",
      "Epoch 131/150\n",
      "106/106 [==============================] - 2s 22ms/step - loss: 3.2596 - accuracy: 0.3242\n",
      "Epoch 132/150\n",
      "106/106 [==============================] - 2s 21ms/step - loss: 3.2547 - accuracy: 0.3263\n",
      "Epoch 133/150\n",
      "106/106 [==============================] - 2s 22ms/step - loss: 3.2387 - accuracy: 0.3288\n",
      "Epoch 134/150\n",
      "106/106 [==============================] - 2s 21ms/step - loss: 3.2312 - accuracy: 0.3321\n",
      "Epoch 135/150\n",
      "106/106 [==============================] - 2s 21ms/step - loss: 3.2143 - accuracy: 0.3320\n",
      "Epoch 136/150\n",
      "106/106 [==============================] - 2s 21ms/step - loss: 3.2163 - accuracy: 0.3296\n",
      "Epoch 137/150\n",
      "106/106 [==============================] - 2s 21ms/step - loss: 3.2007 - accuracy: 0.3338\n",
      "Epoch 138/150\n",
      "106/106 [==============================] - 2s 21ms/step - loss: 3.1824 - accuracy: 0.3372\n",
      "Epoch 139/150\n",
      "106/106 [==============================] - 2s 21ms/step - loss: 3.1710 - accuracy: 0.3408\n",
      "Epoch 140/150\n",
      "106/106 [==============================] - 2s 21ms/step - loss: 3.1707 - accuracy: 0.3422\n",
      "Epoch 141/150\n",
      "106/106 [==============================] - 2s 21ms/step - loss: 3.1570 - accuracy: 0.3410\n",
      "Epoch 142/150\n",
      "106/106 [==============================] - 2s 21ms/step - loss: 3.1608 - accuracy: 0.3432\n",
      "Epoch 143/150\n",
      "106/106 [==============================] - 2s 21ms/step - loss: 3.1434 - accuracy: 0.3460\n",
      "Epoch 144/150\n",
      "106/106 [==============================] - 2s 22ms/step - loss: 3.1232 - accuracy: 0.3488\n",
      "Epoch 145/150\n",
      "106/106 [==============================] - 2s 21ms/step - loss: 3.1230 - accuracy: 0.3464\n",
      "Epoch 146/150\n",
      "106/106 [==============================] - 2s 21ms/step - loss: 3.1206 - accuracy: 0.3474\n",
      "Epoch 147/150\n",
      "106/106 [==============================] - 2s 21ms/step - loss: 3.1216 - accuracy: 0.3494\n",
      "Epoch 148/150\n",
      "106/106 [==============================] - 2s 21ms/step - loss: 3.1076 - accuracy: 0.3521\n",
      "Epoch 149/150\n",
      "106/106 [==============================] - 2s 21ms/step - loss: 3.0920 - accuracy: 0.3571\n",
      "Epoch 150/150\n",
      "106/106 [==============================] - 2s 22ms/step - loss: 3.0820 - accuracy: 0.3565\n",
      "CPU times: user 6min 15s, sys: 46.7 s, total: 7min 2s\n",
      "Wall time: 6min 1s\n"
     ]
    }
   ],
   "source": [
    "%%time\n",
    "history = model.fit(dataset, epochs=150, verbose=1)"
   ]
  },
  {
   "cell_type": "code",
   "execution_count": 18,
   "metadata": {
    "colab": {
     "base_uri": "https://localhost:8080/",
     "height": 281
    },
    "colab_type": "code",
    "id": "1fXTEO3GJ282",
    "outputId": "509d14a4-c2e5-4683-bedd-28bb7d8379d0"
   },
   "outputs": [
    {
     "data": {
      "image/png": "[encoded data removed]",
      "text/plain": [
       "<Figure size 864x288 with 2 Axes>"
      ]
     },
     "metadata": {
      "needs_background": "light",
      "tags": []
     },
     "output_type": "display_data"
    }
   ],
   "source": [
    "import matplotlib.pyplot as plt\n",
    "%matplotlib inline\n",
    "\n",
    "acc = history.history['accuracy']\n",
    "loss = history.history['loss']\n",
    "\n",
    "epochs = range(len(acc))\n",
    "\n",
    "plt.figure(figsize=(12,4))\n",
    "\n",
    "plt.subplot(1, 2, 1)\n",
    "plt.plot(epochs, acc, 'b', label='Training accuracy')\n",
    "plt.title('Training accuracy')\n",
    "\n",
    "plt.subplot(1, 2, 2)\n",
    "plt.plot(epochs, loss, 'b', label='Training Loss')\n",
    "plt.title('Training loss')\n",
    "plt.legend()\n",
    "\n",
    "plt.show()"
   ]
  },
  {
   "cell_type": "code",
   "execution_count": 19,
   "metadata": {
    "colab": {
     "base_uri": "https://localhost:8080/",
     "height": 109
    },
    "colab_type": "code",
    "id": "MPTokoLYxCvI",
    "outputId": "decd8798-34f6-466a-98c8-963fd97ab9e7"
   },
   "outputs": [
    {
     "name": "stdout",
     "output_type": "stream",
     "text": [
      "WARNING:tensorflow:From <ipython-input-19-40c65ba3a64f>:7: Sequential.predict_classes (from tensorflow.python.keras.engine.sequential) is deprecated and will be removed after 2021-01-01.\n",
      "Instructions for updating:\n",
      "Please use instead:* `np.argmax(model.predict(x), axis=-1)`,   if your model does multi-class classification   (e.g. if it uses a `softmax` last-layer activation).* `(model.predict(x) > 0.5).astype(\"int32\")`,   if your model does binary classification   (e.g. if it uses a `sigmoid` last-layer activation).\n",
      "Help me Obi Wan Kenobi, you're my only hope it ' the jury a sea before had ' and the mouse looked at the mouse all as your verdict but some turtle have happened to the united states without paying as a bit ' said the king the king and your tongue ' said the king she said the gryphon as it was a low voice and she had got up to the united states without paying as a low voice and she had been examining the united states in the united states without paying distributed high a great deal as she had not done a hurry to find\n"
     ]
    }
   ],
   "source": [
    "seed_text = \"Help me Obi Wan Kenobi, you're my only hope\"\n",
    "next_words = 100\n",
    "\n",
    "for _ in range(next_words):\n",
    "    token_list = tokenizer.texts_to_sequences([seed_text])[0]\n",
    "    token_list = pad_sequences([token_list], maxlen=max_sequence_len-1, padding='pre')\n",
    "    predicted = model.predict_classes(token_list, verbose=0)\n",
    "    output_word = tokenizer.index_word[predicted[0]]\n",
    "    seed_text += \" \" + output_word\n",
    "print(seed_text)"
   ]
  },
  {
   "cell_type": "code",
   "execution_count": 0,
   "metadata": {
    "colab": {},
    "colab_type": "code",
    "id": "AJzIYX4Fw574"
   },
   "outputs": [],
   "source": []
  }
 ],
 "metadata": {
  "accelerator": "GPU",
  "colab": {
   "collapsed_sections": [],
   "name": "190_Generating_LSTM_Sentences_AliceWonderland_next_word.ipynb",
   "provenance": []
  },
  "kernelspec": {
   "display_name": "Python 3",
   "language": "python",
   "name": "python3"
  },
  "language_info": {
   "codemirror_mode": {
    "name": "ipython",
    "version": 3
   },
   "file_extension": ".py",
   "mimetype": "text/x-python",
   "name": "python",
   "nbconvert_exporter": "python",
   "pygments_lexer": "ipython3",
   "version": "3.7.6"
  }
 },
 "nbformat": 4,
 "nbformat_minor": 1
}
