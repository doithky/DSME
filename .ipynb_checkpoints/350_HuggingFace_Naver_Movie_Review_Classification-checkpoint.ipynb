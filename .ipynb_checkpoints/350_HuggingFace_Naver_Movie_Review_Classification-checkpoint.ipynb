{
 "cells": [
  {
   "cell_type": "markdown",
   "metadata": {
    "colab_type": "text",
    "id": "izA3-6kffbdT"
   },
   "source": [
    "# BERT Fine Tuning Naver 영화감상평 분류"
   ]
  },
  {
   "cell_type": "code",
   "execution_count": 1,
   "metadata": {
    "colab": {
     "base_uri": "https://localhost:8080/",
     "height": 35
    },
    "colab_type": "code",
    "executionInfo": {
     "elapsed": 4463,
     "status": "ok",
     "timestamp": 1591450874952,
     "user": {
      "displayName": "YoungJea Oh",
      "photoUrl": "https://lh3.googleusercontent.com/a-/AOh14Gg89SJBU4oG-ZavtmAh-BelKTx38QHDRQHy5JmI=s64",
      "userId": "02942933364894947486"
     },
     "user_tz": -540
    },
    "id": "oC3MFzEHiY0I",
    "outputId": "d65d9001-4447-49aa-8b2d-b76491b7d47c"
   },
   "outputs": [
    {
     "name": "stdout",
     "output_type": "stream",
     "text": [
      "GPU 사용 : Tesla P100-PCIE-16GB\n"
     ]
    }
   ],
   "source": [
    "import torch\n",
    "\n",
    "if torch.cuda.is_available():\n",
    "    device = torch.device(\"cuda\")\n",
    "    print(\"GPU 사용 :\", torch.cuda.get_device_name())\n",
    "else:\n",
    "    device = torch.device(\"cpu\")\n",
    "    print(\"No GPU available, CPU 사용\")"
   ]
  },
  {
   "cell_type": "code",
   "execution_count": 2,
   "metadata": {
    "colab": {
     "base_uri": "https://localhost:8080/",
     "height": 646
    },
    "colab_type": "code",
    "executionInfo": {
     "elapsed": 13922,
     "status": "ok",
     "timestamp": 1591450884425,
     "user": {
      "displayName": "YoungJea Oh",
      "photoUrl": "https://lh3.googleusercontent.com/a-/AOh14Gg89SJBU4oG-ZavtmAh-BelKTx38QHDRQHy5JmI=s64",
      "userId": "02942933364894947486"
     },
     "user_tz": -540
    },
    "id": "To9ENLU90WGl",
    "outputId": "315fbd8a-5720-4e6c-bf78-39f536de8e7c"
   },
   "outputs": [
    {
     "name": "stdout",
     "output_type": "stream",
     "text": [
      "Collecting transformers\n",
      "\u001b[?25l  Downloading https://files.pythonhosted.org/packages/48/35/ad2c5b1b8f99feaaf9d7cdadaeef261f098c6e1a6a2935d4d07662a6b780/transformers-2.11.0-py3-none-any.whl (674kB)\n",
      "\r",
      "\u001b[K     |▌                               | 10kB 17.4MB/s eta 0:00:01\r",
      "\u001b[K     |█                               | 20kB 3.1MB/s eta 0:00:01\r",
      "\u001b[K     |█▌                              | 30kB 3.7MB/s eta 0:00:01\r",
      "\u001b[K     |██                              | 40kB 4.0MB/s eta 0:00:01\r",
      "\u001b[K     |██▍                             | 51kB 3.6MB/s eta 0:00:01\r",
      "\u001b[K     |███                             | 61kB 3.9MB/s eta 0:00:01\r",
      "\u001b[K     |███▍                            | 71kB 4.2MB/s eta 0:00:01\r",
      "\u001b[K     |███▉                            | 81kB 4.6MB/s eta 0:00:01\r",
      "\u001b[K     |████▍                           | 92kB 4.8MB/s eta 0:00:01\r",
      "\u001b[K     |████▉                           | 102kB 4.6MB/s eta 0:00:01\r",
      "\u001b[K     |█████▍                          | 112kB 4.6MB/s eta 0:00:01\r",
      "\u001b[K     |█████▉                          | 122kB 4.6MB/s eta 0:00:01\r",
      "\u001b[K     |██████▎                         | 133kB 4.6MB/s eta 0:00:01\r",
      "\u001b[K     |██████▉                         | 143kB 4.6MB/s eta 0:00:01\r",
      "\u001b[K     |███████▎                        | 153kB 4.6MB/s eta 0:00:01\r",
      "\u001b[K     |███████▊                        | 163kB 4.6MB/s eta 0:00:01\r",
      "\u001b[K     |████████▎                       | 174kB 4.6MB/s eta 0:00:01\r",
      "\u001b[K     |████████▊                       | 184kB 4.6MB/s eta 0:00:01\r",
      "\u001b[K     |█████████▎                      | 194kB 4.6MB/s eta 0:00:01\r",
      "\u001b[K     |█████████▊                      | 204kB 4.6MB/s eta 0:00:01\r",
      "\u001b[K     |██████████▏                     | 215kB 4.6MB/s eta 0:00:01\r",
      "\u001b[K     |██████████▊                     | 225kB 4.6MB/s eta 0:00:01\r",
      "\u001b[K     |███████████▏                    | 235kB 4.6MB/s eta 0:00:01\r",
      "\u001b[K     |███████████▋                    | 245kB 4.6MB/s eta 0:00:01\r",
      "\u001b[K     |████████████▏                   | 256kB 4.6MB/s eta 0:00:01\r",
      "\u001b[K     |████████████▋                   | 266kB 4.6MB/s eta 0:00:01\r",
      "\u001b[K     |█████████████                   | 276kB 4.6MB/s eta 0:00:01\r",
      "\u001b[K     |█████████████▋                  | 286kB 4.6MB/s eta 0:00:01\r",
      "\u001b[K     |██████████████                  | 296kB 4.6MB/s eta 0:00:01\r",
      "\u001b[K     |██████████████▋                 | 307kB 4.6MB/s eta 0:00:01\r",
      "\u001b[K     |███████████████                 | 317kB 4.6MB/s eta 0:00:01\r",
      "\u001b[K     |███████████████▌                | 327kB 4.6MB/s eta 0:00:01\r",
      "\u001b[K     |████████████████                | 337kB 4.6MB/s eta 0:00:01\r",
      "\u001b[K     |████████████████▌               | 348kB 4.6MB/s eta 0:00:01\r",
      "\u001b[K     |█████████████████               | 358kB 4.6MB/s eta 0:00:01\r",
      "\u001b[K     |█████████████████▌              | 368kB 4.6MB/s eta 0:00:01\r",
      "\u001b[K     |██████████████████              | 378kB 4.6MB/s eta 0:00:01\r",
      "\u001b[K     |██████████████████▌             | 389kB 4.6MB/s eta 0:00:01\r",
      "\u001b[K     |███████████████████             | 399kB 4.6MB/s eta 0:00:01\r",
      "\u001b[K     |███████████████████▍            | 409kB 4.6MB/s eta 0:00:01\r",
      "\u001b[K     |████████████████████            | 419kB 4.6MB/s eta 0:00:01\r",
      "\u001b[K     |████████████████████▍           | 430kB 4.6MB/s eta 0:00:01\r",
      "\u001b[K     |████████████████████▉           | 440kB 4.6MB/s eta 0:00:01\r",
      "\u001b[K     |█████████████████████▍          | 450kB 4.6MB/s eta 0:00:01\r",
      "\u001b[K     |█████████████████████▉          | 460kB 4.6MB/s eta 0:00:01\r",
      "\u001b[K     |██████████████████████▍         | 471kB 4.6MB/s eta 0:00:01\r",
      "\u001b[K     |██████████████████████▉         | 481kB 4.6MB/s eta 0:00:01\r",
      "\u001b[K     |███████████████████████▎        | 491kB 4.6MB/s eta 0:00:01\r",
      "\u001b[K     |███████████████████████▉        | 501kB 4.6MB/s eta 0:00:01\r",
      "\u001b[K     |████████████████████████▎       | 512kB 4.6MB/s eta 0:00:01\r",
      "\u001b[K     |████████████████████████▊       | 522kB 4.6MB/s eta 0:00:01\r",
      "\u001b[K     |█████████████████████████▎      | 532kB 4.6MB/s eta 0:00:01\r",
      "\u001b[K     |█████████████████████████▊      | 542kB 4.6MB/s eta 0:00:01\r",
      "\u001b[K     |██████████████████████████▏     | 552kB 4.6MB/s eta 0:00:01\r",
      "\u001b[K     |██████████████████████████▊     | 563kB 4.6MB/s eta 0:00:01\r",
      "\u001b[K     |███████████████████████████▏    | 573kB 4.6MB/s eta 0:00:01\r",
      "\u001b[K     |███████████████████████████▊    | 583kB 4.6MB/s eta 0:00:01\r",
      "\u001b[K     |████████████████████████████▏   | 593kB 4.6MB/s eta 0:00:01\r",
      "\u001b[K     |████████████████████████████▋   | 604kB 4.6MB/s eta 0:00:01\r",
      "\u001b[K     |█████████████████████████████▏  | 614kB 4.6MB/s eta 0:00:01\r",
      "\u001b[K     |█████████████████████████████▋  | 624kB 4.6MB/s eta 0:00:01\r",
      "\u001b[K     |██████████████████████████████  | 634kB 4.6MB/s eta 0:00:01\r",
      "\u001b[K     |██████████████████████████████▋ | 645kB 4.6MB/s eta 0:00:01\r",
      "\u001b[K     |███████████████████████████████ | 655kB 4.6MB/s eta 0:00:01\r",
      "\u001b[K     |███████████████████████████████▋| 665kB 4.6MB/s eta 0:00:01\r",
      "\u001b[K     |████████████████████████████████| 675kB 4.6MB/s \n",
      "\u001b[?25hRequirement already satisfied: tqdm>=4.27 in /usr/local/lib/python3.6/dist-packages (from transformers) (4.41.1)\n",
      "Requirement already satisfied: numpy in /usr/local/lib/python3.6/dist-packages (from transformers) (1.18.4)\n",
      "Requirement already satisfied: filelock in /usr/local/lib/python3.6/dist-packages (from transformers) (3.0.12)\n",
      "Collecting sacremoses\n",
      "\u001b[?25l  Downloading https://files.pythonhosted.org/packages/7d/34/09d19aff26edcc8eb2a01bed8e98f13a1537005d31e95233fd48216eed10/sacremoses-0.0.43.tar.gz (883kB)\n",
      "\u001b[K     |████████████████████████████████| 890kB 13.2MB/s \n",
      "\u001b[?25hRequirement already satisfied: regex!=2019.12.17 in /usr/local/lib/python3.6/dist-packages (from transformers) (2019.12.20)\n",
      "Requirement already satisfied: dataclasses; python_version < \"3.7\" in /usr/local/lib/python3.6/dist-packages (from transformers) (0.7)\n",
      "Requirement already satisfied: packaging in /usr/local/lib/python3.6/dist-packages (from transformers) (20.4)\n",
      "Requirement already satisfied: requests in /usr/local/lib/python3.6/dist-packages (from transformers) (2.23.0)\n",
      "Collecting sentencepiece\n",
      "\u001b[?25l  Downloading https://files.pythonhosted.org/packages/d4/a4/d0a884c4300004a78cca907a6ff9a5e9fe4f090f5d95ab341c53d28cbc58/sentencepiece-0.1.91-cp36-cp36m-manylinux1_x86_64.whl (1.1MB)\n",
      "\u001b[K     |████████████████████████████████| 1.1MB 13.5MB/s \n",
      "\u001b[?25hCollecting tokenizers==0.7.0\n",
      "\u001b[?25l  Downloading https://files.pythonhosted.org/packages/14/e5/a26eb4716523808bb0a799fcfdceb6ebf77a18169d9591b2f46a9adb87d9/tokenizers-0.7.0-cp36-cp36m-manylinux1_x86_64.whl (3.8MB)\n",
      "\u001b[K     |████████████████████████████████| 3.8MB 39.8MB/s \n",
      "\u001b[?25hRequirement already satisfied: six in /usr/local/lib/python3.6/dist-packages (from sacremoses->transformers) (1.12.0)\n",
      "Requirement already satisfied: click in /usr/local/lib/python3.6/dist-packages (from sacremoses->transformers) (7.1.2)\n",
      "Requirement already satisfied: joblib in /usr/local/lib/python3.6/dist-packages (from sacremoses->transformers) (0.15.1)\n",
      "Requirement already satisfied: pyparsing>=2.0.2 in /usr/local/lib/python3.6/dist-packages (from packaging->transformers) (2.4.7)\n",
      "Requirement already satisfied: idna<3,>=2.5 in /usr/local/lib/python3.6/dist-packages (from requests->transformers) (2.9)\n",
      "Requirement already satisfied: chardet<4,>=3.0.2 in /usr/local/lib/python3.6/dist-packages (from requests->transformers) (3.0.4)\n",
      "Requirement already satisfied: urllib3!=1.25.0,!=1.25.1,<1.26,>=1.21.1 in /usr/local/lib/python3.6/dist-packages (from requests->transformers) (1.24.3)\n",
      "Requirement already satisfied: certifi>=2017.4.17 in /usr/local/lib/python3.6/dist-packages (from requests->transformers) (2020.4.5.1)\n",
      "Building wheels for collected packages: sacremoses\n",
      "  Building wheel for sacremoses (setup.py) ... \u001b[?25l\u001b[?25hdone\n",
      "  Created wheel for sacremoses: filename=sacremoses-0.0.43-cp36-none-any.whl size=893260 sha256=d40e8a1237472baebb387d5e3792fd315e8c426a6f9f161c41e28bba06777f69\n",
      "  Stored in directory: /root/.cache/pip/wheels/29/3c/fd/7ce5c3f0666dab31a50123635e6fb5e19ceb42ce38d4e58f45\n",
      "Successfully built sacremoses\n",
      "Installing collected packages: sacremoses, sentencepiece, tokenizers, transformers\n",
      "Successfully installed sacremoses-0.0.43 sentencepiece-0.1.91 tokenizers-0.7.0 transformers-2.11.0\n"
     ]
    }
   ],
   "source": [
    "!pip install transformers"
   ]
  },
  {
   "cell_type": "code",
   "execution_count": 0,
   "metadata": {
    "colab": {},
    "colab_type": "code",
    "id": "VySQT1PbX4zI"
   },
   "outputs": [],
   "source": [
    "import numpy as np\n",
    "import pandas as pd\n",
    "import tensorflow as tf\n",
    "from tensorflow.keras.preprocessing.sequence import pad_sequences\n",
    "\n",
    "from transformers import *"
   ]
  },
  {
   "cell_type": "markdown",
   "metadata": {
    "colab_type": "text",
    "id": "zQ-42fh0hjsF"
   },
   "source": [
    "## Importing the dataset"
   ]
  },
  {
   "cell_type": "code",
   "execution_count": 4,
   "metadata": {
    "colab": {
     "base_uri": "https://localhost:8080/",
     "height": 89
    },
    "colab_type": "code",
    "executionInfo": {
     "elapsed": 3066,
     "status": "ok",
     "timestamp": 1591450902117,
     "user": {
      "displayName": "YoungJea Oh",
      "photoUrl": "https://lh3.googleusercontent.com/a-/AOh14Gg89SJBU4oG-ZavtmAh-BelKTx38QHDRQHy5JmI=s64",
      "userId": "02942933364894947486"
     },
     "user_tz": -540
    },
    "id": "cyoj29J24hPX",
    "outputId": "c453b68b-7aca-41ac-d250-fac8ba2e92e8"
   },
   "outputs": [
    {
     "name": "stdout",
     "output_type": "stream",
     "text": [
      "Downloading data from https://github.com/ironmanciti/NLP_lecture/raw/master/data/naver_movie/ratings_train.txt\n",
      "14786560/14778808 [==============================] - 0s 0us/step\n",
      "Downloading data from https://github.com/ironmanciti/NLP_lecture/raw/master/data/naver_movie/ratings_test.txt\n",
      "4947968/4943336 [==============================] - 0s 0us/step\n"
     ]
    }
   ],
   "source": [
    "DATA_TRAIN_PATH = tf.keras.utils.get_file(\"ratings_train.txt\", \n",
    "                                \"https://github.com/ironmanciti/NLP_lecture/raw/master/data/naver_movie/ratings_train.txt\")\n",
    "DATA_TEST_PATH = tf.keras.utils.get_file(\"ratings_test.txt\", \n",
    "                                \"https://github.com/ironmanciti/NLP_lecture/raw/master/data/naver_movie/ratings_test.txt\")"
   ]
  },
  {
   "cell_type": "code",
   "execution_count": 5,
   "metadata": {
    "colab": {
     "base_uri": "https://localhost:8080/",
     "height": 216
    },
    "colab_type": "code",
    "executionInfo": {
     "elapsed": 708,
     "status": "ok",
     "timestamp": 1591450905406,
     "user": {
      "displayName": "YoungJea Oh",
      "photoUrl": "https://lh3.googleusercontent.com/a-/AOh14Gg89SJBU4oG-ZavtmAh-BelKTx38QHDRQHy5JmI=s64",
      "userId": "02942933364894947486"
     },
     "user_tz": -540
    },
    "id": "aj322-y3iznR",
    "outputId": "6cf8bbf4-c89d-41ef-e1c1-a8b006f23749"
   },
   "outputs": [
    {
     "name": "stdout",
     "output_type": "stream",
     "text": [
      "(150000, 3)\n"
     ]
    },
    {
     "data": {
      "text/html": [
       "<div>\n",
       "<style scoped>\n",
       "    .dataframe tbody tr th:only-of-type {\n",
       "        vertical-align: middle;\n",
       "    }\n",
       "\n",
       "    .dataframe tbody tr th {\n",
       "        vertical-align: top;\n",
       "    }\n",
       "\n",
       "    .dataframe thead th {\n",
       "        text-align: right;\n",
       "    }\n",
       "</style>\n",
       "<table border=\"1\" class=\"dataframe\">\n",
       "  <thead>\n",
       "    <tr style=\"text-align: right;\">\n",
       "      <th></th>\n",
       "      <th>id</th>\n",
       "      <th>document</th>\n",
       "      <th>label</th>\n",
       "    </tr>\n",
       "  </thead>\n",
       "  <tbody>\n",
       "    <tr>\n",
       "      <th>0</th>\n",
       "      <td>9976970</td>\n",
       "      <td>아 더빙.. 진짜 짜증나네요 목소리</td>\n",
       "      <td>0</td>\n",
       "    </tr>\n",
       "    <tr>\n",
       "      <th>1</th>\n",
       "      <td>3819312</td>\n",
       "      <td>흠...포스터보고 초딩영화줄....오버연기조차 가볍지 않구나</td>\n",
       "      <td>1</td>\n",
       "    </tr>\n",
       "    <tr>\n",
       "      <th>2</th>\n",
       "      <td>10265843</td>\n",
       "      <td>너무재밓었다그래서보는것을추천한다</td>\n",
       "      <td>0</td>\n",
       "    </tr>\n",
       "    <tr>\n",
       "      <th>3</th>\n",
       "      <td>9045019</td>\n",
       "      <td>교도소 이야기구먼 ..솔직히 재미는 없다..평점 조정</td>\n",
       "      <td>0</td>\n",
       "    </tr>\n",
       "    <tr>\n",
       "      <th>4</th>\n",
       "      <td>6483659</td>\n",
       "      <td>사이몬페그의 익살스런 연기가 돋보였던 영화!스파이더맨에서 늙어보이기만 했던 커스틴 ...</td>\n",
       "      <td>1</td>\n",
       "    </tr>\n",
       "  </tbody>\n",
       "</table>\n",
       "</div>"
      ],
      "text/plain": [
       "         id                                           document  label\n",
       "0   9976970                                아 더빙.. 진짜 짜증나네요 목소리      0\n",
       "1   3819312                  흠...포스터보고 초딩영화줄....오버연기조차 가볍지 않구나      1\n",
       "2  10265843                                  너무재밓었다그래서보는것을추천한다      0\n",
       "3   9045019                      교도소 이야기구먼 ..솔직히 재미는 없다..평점 조정      0\n",
       "4   6483659  사이몬페그의 익살스런 연기가 돋보였던 영화!스파이더맨에서 늙어보이기만 했던 커스틴 ...      1"
      ]
     },
     "execution_count": 5,
     "metadata": {
      "tags": []
     },
     "output_type": "execute_result"
    }
   ],
   "source": [
    "train_data = pd.read_csv(DATA_TRAIN_PATH, delimiter='\\t')\n",
    "print(train_data.shape)\n",
    "train_data.head()"
   ]
  },
  {
   "cell_type": "code",
   "execution_count": 6,
   "metadata": {
    "colab": {
     "base_uri": "https://localhost:8080/",
     "height": 196
    },
    "colab_type": "code",
    "executionInfo": {
     "elapsed": 747,
     "status": "ok",
     "timestamp": 1591450910628,
     "user": {
      "displayName": "YoungJea Oh",
      "photoUrl": "https://lh3.googleusercontent.com/a-/AOh14Gg89SJBU4oG-ZavtmAh-BelKTx38QHDRQHy5JmI=s64",
      "userId": "02942933364894947486"
     },
     "user_tz": -540
    },
    "id": "LXEN60Y8ykM0",
    "outputId": "9d1d6fa3-d4b5-4e9a-f57c-1b8661087e1f"
   },
   "outputs": [
    {
     "name": "stdout",
     "output_type": "stream",
     "text": [
      "<class 'pandas.core.frame.DataFrame'>\n",
      "Int64Index: 149995 entries, 0 to 149999\n",
      "Data columns (total 3 columns):\n",
      " #   Column    Non-Null Count   Dtype \n",
      "---  ------    --------------   ----- \n",
      " 0   id        149995 non-null  int64 \n",
      " 1   document  149995 non-null  object\n",
      " 2   label     149995 non-null  int64 \n",
      "dtypes: int64(2), object(1)\n",
      "memory usage: 4.6+ MB\n"
     ]
    }
   ],
   "source": [
    "train_data.dropna(inplace=True)\n",
    "train_data.info()"
   ]
  },
  {
   "cell_type": "code",
   "execution_count": 7,
   "metadata": {
    "colab": {
     "base_uri": "https://localhost:8080/",
     "height": 216
    },
    "colab_type": "code",
    "executionInfo": {
     "elapsed": 792,
     "status": "ok",
     "timestamp": 1591450939524,
     "user": {
      "displayName": "YoungJea Oh",
      "photoUrl": "https://lh3.googleusercontent.com/a-/AOh14Gg89SJBU4oG-ZavtmAh-BelKTx38QHDRQHy5JmI=s64",
      "userId": "02942933364894947486"
     },
     "user_tz": -540
    },
    "id": "ywyQV5GGjBzZ",
    "outputId": "57763eda-cb5f-447b-85aa-790f0cb6281e"
   },
   "outputs": [
    {
     "name": "stdout",
     "output_type": "stream",
     "text": [
      "(50000, 3)\n"
     ]
    },
    {
     "data": {
      "text/html": [
       "<div>\n",
       "<style scoped>\n",
       "    .dataframe tbody tr th:only-of-type {\n",
       "        vertical-align: middle;\n",
       "    }\n",
       "\n",
       "    .dataframe tbody tr th {\n",
       "        vertical-align: top;\n",
       "    }\n",
       "\n",
       "    .dataframe thead th {\n",
       "        text-align: right;\n",
       "    }\n",
       "</style>\n",
       "<table border=\"1\" class=\"dataframe\">\n",
       "  <thead>\n",
       "    <tr style=\"text-align: right;\">\n",
       "      <th></th>\n",
       "      <th>id</th>\n",
       "      <th>document</th>\n",
       "      <th>label</th>\n",
       "    </tr>\n",
       "  </thead>\n",
       "  <tbody>\n",
       "    <tr>\n",
       "      <th>0</th>\n",
       "      <td>6270596</td>\n",
       "      <td>굳 ㅋ</td>\n",
       "      <td>1</td>\n",
       "    </tr>\n",
       "    <tr>\n",
       "      <th>1</th>\n",
       "      <td>9274899</td>\n",
       "      <td>GDNTOPCLASSINTHECLUB</td>\n",
       "      <td>0</td>\n",
       "    </tr>\n",
       "    <tr>\n",
       "      <th>2</th>\n",
       "      <td>8544678</td>\n",
       "      <td>뭐야 이 평점들은.... 나쁘진 않지만 10점 짜리는 더더욱 아니잖아</td>\n",
       "      <td>0</td>\n",
       "    </tr>\n",
       "    <tr>\n",
       "      <th>3</th>\n",
       "      <td>6825595</td>\n",
       "      <td>지루하지는 않은데 완전 막장임... 돈주고 보기에는....</td>\n",
       "      <td>0</td>\n",
       "    </tr>\n",
       "    <tr>\n",
       "      <th>4</th>\n",
       "      <td>6723715</td>\n",
       "      <td>3D만 아니었어도 별 다섯 개 줬을텐데.. 왜 3D로 나와서 제 심기를 불편하게 하죠??</td>\n",
       "      <td>0</td>\n",
       "    </tr>\n",
       "  </tbody>\n",
       "</table>\n",
       "</div>"
      ],
      "text/plain": [
       "        id                                           document  label\n",
       "0  6270596                                                굳 ㅋ      1\n",
       "1  9274899                               GDNTOPCLASSINTHECLUB      0\n",
       "2  8544678             뭐야 이 평점들은.... 나쁘진 않지만 10점 짜리는 더더욱 아니잖아      0\n",
       "3  6825595                   지루하지는 않은데 완전 막장임... 돈주고 보기에는....      0\n",
       "4  6723715  3D만 아니었어도 별 다섯 개 줬을텐데.. 왜 3D로 나와서 제 심기를 불편하게 하죠??      0"
      ]
     },
     "execution_count": 7,
     "metadata": {
      "tags": []
     },
     "output_type": "execute_result"
    }
   ],
   "source": [
    "test_data = pd.read_csv(DATA_TEST_PATH, delimiter='\\t')\n",
    "print(test_data.shape)\n",
    "test_data.head()"
   ]
  },
  {
   "cell_type": "code",
   "execution_count": 8,
   "metadata": {
    "colab": {
     "base_uri": "https://localhost:8080/",
     "height": 196
    },
    "colab_type": "code",
    "executionInfo": {
     "elapsed": 717,
     "status": "ok",
     "timestamp": 1591450945078,
     "user": {
      "displayName": "YoungJea Oh",
      "photoUrl": "https://lh3.googleusercontent.com/a-/AOh14Gg89SJBU4oG-ZavtmAh-BelKTx38QHDRQHy5JmI=s64",
      "userId": "02942933364894947486"
     },
     "user_tz": -540
    },
    "id": "zHwOiRLiyxth",
    "outputId": "60bf32c4-2e9e-4ebd-dac1-b921932f99c9"
   },
   "outputs": [
    {
     "name": "stdout",
     "output_type": "stream",
     "text": [
      "<class 'pandas.core.frame.DataFrame'>\n",
      "Int64Index: 49997 entries, 0 to 49999\n",
      "Data columns (total 3 columns):\n",
      " #   Column    Non-Null Count  Dtype \n",
      "---  ------    --------------  ----- \n",
      " 0   id        49997 non-null  int64 \n",
      " 1   document  49997 non-null  object\n",
      " 2   label     49997 non-null  int64 \n",
      "dtypes: int64(2), object(1)\n",
      "memory usage: 1.5+ MB\n"
     ]
    }
   ],
   "source": [
    "test_data.dropna(inplace=True)\n",
    "test_data.info()"
   ]
  },
  {
   "cell_type": "markdown",
   "metadata": {
    "colab_type": "text",
    "id": "PRc2L89hh1Tf"
   },
   "source": [
    "몇개의 sentence 가 \"positive\" (value 1) 이고 몇개가  \"negative\" (having the value 0) 인지 count"
   ]
  },
  {
   "cell_type": "code",
   "execution_count": 9,
   "metadata": {
    "colab": {
     "base_uri": "https://localhost:8080/",
     "height": 53
    },
    "colab_type": "code",
    "executionInfo": {
     "elapsed": 728,
     "status": "ok",
     "timestamp": 1591450948634,
     "user": {
      "displayName": "YoungJea Oh",
      "photoUrl": "https://lh3.googleusercontent.com/a-/AOh14Gg89SJBU4oG-ZavtmAh-BelKTx38QHDRQHy5JmI=s64",
      "userId": "02942933364894947486"
     },
     "user_tz": -540
    },
    "id": "TixERP1giznY",
    "outputId": "75f7d419-0846-40dd-9831-162582f0df15"
   },
   "outputs": [
    {
     "name": "stdout",
     "output_type": "stream",
     "text": [
      "(50000, 3)\n",
      "(5000, 3)\n"
     ]
    }
   ],
   "source": [
    "df_train = train_data.sample(n=50000, random_state=1)\n",
    "df_test = test_data.sample(n=5000, random_state=1)\n",
    "print(df_train.shape)\n",
    "print(df_test.shape)"
   ]
  },
  {
   "cell_type": "code",
   "execution_count": 10,
   "metadata": {
    "colab": {
     "base_uri": "https://localhost:8080/",
     "height": 71
    },
    "colab_type": "code",
    "executionInfo": {
     "elapsed": 718,
     "status": "ok",
     "timestamp": 1591450951974,
     "user": {
      "displayName": "YoungJea Oh",
      "photoUrl": "https://lh3.googleusercontent.com/a-/AOh14Gg89SJBU4oG-ZavtmAh-BelKTx38QHDRQHy5JmI=s64",
      "userId": "02942933364894947486"
     },
     "user_tz": -540
    },
    "id": "jGvcfcCP5xpZ",
    "outputId": "7bfe7007-b6ab-43f3-9f53-48e236d2d27e"
   },
   "outputs": [
    {
     "data": {
      "text/plain": [
       "0    25069\n",
       "1    24931\n",
       "Name: label, dtype: int64"
      ]
     },
     "execution_count": 10,
     "metadata": {
      "tags": []
     },
     "output_type": "execute_result"
    }
   ],
   "source": [
    "df_train['label'].value_counts()"
   ]
  },
  {
   "cell_type": "markdown",
   "metadata": {
    "colab_type": "text",
    "id": "7_MO08_KiAOb"
   },
   "source": [
    "## Loading the Pre-trained BERT model"
   ]
  },
  {
   "cell_type": "code",
   "execution_count": 11,
   "metadata": {
    "colab": {
     "base_uri": "https://localhost:8080/",
     "height": 167,
     "referenced_widgets": [
      "a4618451530b40c197f174954c460265",
      "84264dff079e4e8695d7b859e28d7f8b",
      "d78bad41daac4e228f2ed5172c2deb4b",
      "f4a1eb96b7984365a176e5d4932d70c0",
      "f7ae53932f89422181f38885e6f24a6b",
      "36efa8d834ff49f198884deb0dd51c66",
      "aed3272a048c49219ef3d1dca9aab8de",
      "16e72ea4c5084d5194f9e9479324896d",
      "8f1d18d2c26a421c8137f3f6dccb2713",
      "b80ccc40cc134e86993ee30ffd07d27c",
      "fafef8196bd44db7b2b6d48750ecf3b4",
      "216240c0b9dc4dc4bd0a494373bcf175",
      "141e83e76040481680967ff94476936c",
      "da62846d6f0348b48ef33d6efae76016",
      "d4e72bfb0a164308936346cbca40ddcf",
      "ea4cc0108e59477b92e8868936bd6dab",
      "1ff7a5bc3ef547f68ecb1ef7d9c722eb",
      "664e0872b9be48df93265a3c8cf3b8ae",
      "e782bfa5a82e4b1b880cba14c1800e75",
      "b502b36a694844e4a15bc439bb20c984",
      "0a8d1dd9fd504371912c73de38aa3a91",
      "fa51c0d68895450e9307dc549a59c50c",
      "0ee7a111b4d54352af2076343391dd93",
      "50e00a6786614f128dc32c7a7255fc28"
     ]
    },
    "colab_type": "code",
    "executionInfo": {
     "elapsed": 36555,
     "status": "ok",
     "timestamp": 1591450996393,
     "user": {
      "displayName": "YoungJea Oh",
      "photoUrl": "https://lh3.googleusercontent.com/a-/AOh14Gg89SJBU4oG-ZavtmAh-BelKTx38QHDRQHy5JmI=s64",
      "userId": "02942933364894947486"
     },
     "user_tz": -540
    },
    "id": "uLuTdzsOZEsG",
    "outputId": "a75cfc94-d137-4455-e0cc-63f3f7439450"
   },
   "outputs": [
    {
     "data": {
      "application/vnd.jupyter.widget-view+json": {
       "model_id": "a4618451530b40c197f174954c460265",
       "version_major": 2,
       "version_minor": 0
      },
      "text/plain": [
       "HBox(children=(FloatProgress(value=0.0, description='Downloading', max=995526.0, style=ProgressStyle(descripti…"
      ]
     },
     "metadata": {
      "tags": []
     },
     "output_type": "display_data"
    },
    {
     "name": "stdout",
     "output_type": "stream",
     "text": [
      "\n"
     ]
    },
    {
     "data": {
      "application/vnd.jupyter.widget-view+json": {
       "model_id": "8f1d18d2c26a421c8137f3f6dccb2713",
       "version_major": 2,
       "version_minor": 0
      },
      "text/plain": [
       "HBox(children=(FloatProgress(value=0.0, description='Downloading', max=625.0, style=ProgressStyle(description_…"
      ]
     },
     "metadata": {
      "tags": []
     },
     "output_type": "display_data"
    },
    {
     "name": "stdout",
     "output_type": "stream",
     "text": [
      "\n"
     ]
    },
    {
     "data": {
      "application/vnd.jupyter.widget-view+json": {
       "model_id": "1ff7a5bc3ef547f68ecb1ef7d9c722eb",
       "version_major": 2,
       "version_minor": 0
      },
      "text/plain": [
       "HBox(children=(FloatProgress(value=0.0, description='Downloading', max=714314041.0, style=ProgressStyle(descri…"
      ]
     },
     "metadata": {
      "tags": []
     },
     "output_type": "display_data"
    },
    {
     "name": "stdout",
     "output_type": "stream",
     "text": [
      "\n"
     ]
    }
   ],
   "source": [
    "tokenizer = BertTokenizer.from_pretrained('bert-base-multilingual-cased')\n",
    "\n",
    "model = BertModel.from_pretrained('bert-base-multilingual-cased')"
   ]
  },
  {
   "cell_type": "markdown",
   "metadata": {
    "colab_type": "text",
    "id": "lZDBMn3wiSX6"
   },
   "source": [
    "## Model #1: Preparing the Dataset\n",
    "문장을 BERT에 전달하려면 먼저 필요한 형식으로 문장을 처리하기 위해 최소한의 처리가 필요합니다.\n",
    "\n",
    "### Tokenization\n",
    "첫 번째 단계는 문장을 토큰화하는 것입니다. BERT가 원하는 형식으로 word 와 subword 로 나눕니다."
   ]
  },
  {
   "cell_type": "code",
   "execution_count": 12,
   "metadata": {
    "colab": {
     "base_uri": "https://localhost:8080/",
     "height": 53
    },
    "colab_type": "code",
    "executionInfo": {
     "elapsed": 38076,
     "status": "ok",
     "timestamp": 1591451009793,
     "user": {
      "displayName": "YoungJea Oh",
      "photoUrl": "https://lh3.googleusercontent.com/a-/AOh14Gg89SJBU4oG-ZavtmAh-BelKTx38QHDRQHy5JmI=s64",
      "userId": "02942933364894947486"
     },
     "user_tz": -540
    },
    "id": "Dg82ndBA5xlN",
    "outputId": "a90718ff-9617-4ca4-d6b0-0471450285ae"
   },
   "outputs": [
    {
     "name": "stdout",
     "output_type": "stream",
     "text": [
      "CPU times: user 13.3 s, sys: 74.7 ms, total: 13.4 s\n",
      "Wall time: 13.4 s\n"
     ]
    }
   ],
   "source": [
    "%%time\n",
    "tokenized_train = df_train['document'].apply((lambda x: tokenizer.encode(x, add_special_tokens=True)))\n",
    "tokenized_test = df_test['document'].apply((lambda x: tokenizer.encode(x, add_special_tokens=True)))"
   ]
  },
  {
   "cell_type": "markdown",
   "metadata": {
    "colab_type": "text",
    "id": "mHwjUwYgi-uL"
   },
   "source": [
    "### Padding\n",
    "\n",
    "토큰 화 후, 각 문장은 토큰 list 로 표시됩니다. BERT 가 example 을 one batch 로 한 번에 처리하도록 하기 위해 padding 에 의해 같은 길이의 list 로 만들어야 하고 이것을 2-d array 로 표시합니다."
   ]
  },
  {
   "cell_type": "code",
   "execution_count": 13,
   "metadata": {
    "colab": {
     "base_uri": "https://localhost:8080/",
     "height": 163
    },
    "colab_type": "code",
    "executionInfo": {
     "elapsed": 814,
     "status": "ok",
     "timestamp": 1591451038745,
     "user": {
      "displayName": "YoungJea Oh",
      "photoUrl": "https://lh3.googleusercontent.com/a-/AOh14Gg89SJBU4oG-ZavtmAh-BelKTx38QHDRQHy5JmI=s64",
      "userId": "02942933364894947486"
     },
     "user_tz": -540
    },
    "id": "jnO_olqbbrlT",
    "outputId": "cbbb4a92-eec9-45b8-be0b-b70047873c1d"
   },
   "outputs": [
    {
     "data": {
      "text/plain": [
       "array([list([101, 113, 9926, 34907, 20626, 58931, 24974, 122, 114, 9532, 25503, 12030, 28911, 9367, 19855, 47869, 9682, 9634, 21386, 136, 8924, 11261, 119351, 12605, 20308, 12453, 117, 9792, 73352, 21876, 20173, 9294, 36553, 11287, 52560, 9391, 11664, 9640, 18784, 12030, 12508, 9304, 12508, 19709, 9684, 52560, 10892, 8932, 118651, 14523, 48549, 119, 8905, 119377, 11102, 117, 9604, 78123, 11102, 117, 9684, 89523, 42769, 15387, 9792, 73352, 21876, 20173, 47058, 8982, 28188, 11664, 9294, 36553, 11287, 52560, 9597, 10530, 19709, 9792, 73352, 21876, 100698, 11018, 9670, 14871, 15387, 9637, 12945, 22333, 43022, 113, 9069, 18227, 114, 63783, 9641, 42337, 14801, 119, 119, 102]),\n",
       "       list([101, 68409, 108578, 25258, 9569, 25486, 10739, 9246, 32158, 10530, 9117, 119138, 119081, 48345, 102]),\n",
       "       list([101, 9294, 12508, 118907, 12508, 17594, 9706, 35866, 48533, 119, 84703, 20173, 9519, 118671, 119169, 119, 8996, 24974, 12092, 9531, 118809, 119136, 11664, 9353, 11261, 71568, 82823, 8996, 24974, 12092, 9555, 11664, 9065, 118775, 48533, 119, 110148, 11513, 9682, 54141, 9471, 14153, 9356, 29935, 16323, 23990, 12508, 119, 119, 119, 119, 9638, 12092, 9663, 12092, 9519, 25503, 11664, 8996, 11287, 9460, 68055, 55635, 37909, 12424, 8982, 32537, 11287, 37909, 41605, 27654, 9041, 118713, 119, 119, 119, 9065, 118775, 32679, 119, 119, 102]),\n",
       "       ...,\n",
       "       list([101, 8933, 13890, 105197, 9848, 16323, 37341, 9091, 16985, 11903, 25503, 11018, 9657, 14867, 13890, 14867, 9519, 33077, 12092, 9420, 66540, 33305, 11903, 102]),\n",
       "       list([101, 9379, 66016, 24974, 42428, 28578, 9359, 19105, 35506, 18623, 9523, 11903, 102]),\n",
       "       list([101, 9659, 118959, 32158, 119, 119, 119, 102])], dtype=object)"
      ]
     },
     "execution_count": 13,
     "metadata": {
      "tags": []
     },
     "output_type": "execute_result"
    }
   ],
   "source": [
    "tokenized_train.values"
   ]
  },
  {
   "cell_type": "code",
   "execution_count": 14,
   "metadata": {
    "colab": {
     "base_uri": "https://localhost:8080/",
     "height": 73
    },
    "colab_type": "code",
    "executionInfo": {
     "elapsed": 775,
     "status": "ok",
     "timestamp": 1591451059102,
     "user": {
      "displayName": "YoungJea Oh",
      "photoUrl": "https://lh3.googleusercontent.com/a-/AOh14Gg89SJBU4oG-ZavtmAh-BelKTx38QHDRQHy5JmI=s64",
      "userId": "02942933364894947486"
     },
     "user_tz": -540
    },
    "id": "__4a1oW1iY0v",
    "outputId": "840e5004-d1d8-46ca-ac57-6bfb10d8b5b5"
   },
   "outputs": [
    {
     "name": "stdout",
     "output_type": "stream",
     "text": [
      "[CLS] ( 평점조절용 1 ) 애니인데 분위기가 좀 음산? 그로테스크하고, 캐릭터들이 무민가족 빼고 인간인지 뭔지 다른 종족은 기괴해요. 괴팍한, 우울한, 종말론적인 캐릭터들이 많이 나오고 무민가족 외에 다른 캐릭터간에는 정상적인 의사소통 ( 대화 ) 아닌 일방적.. [SEP]\n",
      "[CLS] 성조기를 들고 날으는 슈퍼맨... 영화는 좋았지만 어쩔수 없다 [SEP]\n"
     ]
    }
   ],
   "source": [
    "print(tokenizer.decode(tokenized_train.values[0]))\n",
    "print(tokenizer.decode(tokenized_test.values[-1]))"
   ]
  },
  {
   "cell_type": "code",
   "execution_count": 15,
   "metadata": {
    "colab": {
     "base_uri": "https://localhost:8080/",
     "height": 35
    },
    "colab_type": "code",
    "executionInfo": {
     "elapsed": 866,
     "status": "ok",
     "timestamp": 1591451069654,
     "user": {
      "displayName": "YoungJea Oh",
      "photoUrl": "https://lh3.googleusercontent.com/a-/AOh14Gg89SJBU4oG-ZavtmAh-BelKTx38QHDRQHy5JmI=s64",
      "userId": "02942933364894947486"
     },
     "user_tz": -540
    },
    "id": "wtHEe8GRb9jM",
    "outputId": "0813ff67-2133-44e2-dd58-a6255ac7891b"
   },
   "outputs": [
    {
     "data": {
      "text/plain": [
       "142"
      ]
     },
     "execution_count": 15,
     "metadata": {
      "tags": []
     },
     "output_type": "execute_result"
    }
   ],
   "source": [
    "max_len = max([len(i) for i in tokenized_train.values] + [len(i) for i in tokenized_test.values])\n",
    "max_len"
   ]
  },
  {
   "cell_type": "code",
   "execution_count": 16,
   "metadata": {
    "colab": {
     "base_uri": "https://localhost:8080/",
     "height": 269
    },
    "colab_type": "code",
    "executionInfo": {
     "elapsed": 1062,
     "status": "ok",
     "timestamp": 1591451073191,
     "user": {
      "displayName": "YoungJea Oh",
      "photoUrl": "https://lh3.googleusercontent.com/a-/AOh14Gg89SJBU4oG-ZavtmAh-BelKTx38QHDRQHy5JmI=s64",
      "userId": "02942933364894947486"
     },
     "user_tz": -540
    },
    "id": "cwd6NzeQ6lyP",
    "outputId": "cbf0c82d-c70d-44d1-898f-73f89f54290c"
   },
   "outputs": [
    {
     "data": {
      "image/png": "[encoded data removed]",
      "text/plain": [
       "<Figure size 432x288 with 1 Axes>"
      ]
     },
     "metadata": {
      "needs_background": "light",
      "tags": []
     },
     "output_type": "display_data"
    }
   ],
   "source": [
    "import matplotlib.pyplot as plt\n",
    "plt.hist([len(i) for i in tokenized_train.values] + [len(i) for i in tokenized_test.values], bins=50)\n",
    "None"
   ]
  },
  {
   "cell_type": "code",
   "execution_count": 17,
   "metadata": {
    "colab": {
     "base_uri": "https://localhost:8080/",
     "height": 286
    },
    "colab_type": "code",
    "executionInfo": {
     "elapsed": 1112,
     "status": "ok",
     "timestamp": 1591451077641,
     "user": {
      "displayName": "YoungJea Oh",
      "photoUrl": "https://lh3.googleusercontent.com/a-/AOh14Gg89SJBU4oG-ZavtmAh-BelKTx38QHDRQHy5JmI=s64",
      "userId": "02942933364894947486"
     },
     "user_tz": -540
    },
    "id": "ffBfz17dcP64",
    "outputId": "34a6a408-3dbb-4439-f19a-108124cf101b"
   },
   "outputs": [
    {
     "name": "stdout",
     "output_type": "stream",
     "text": [
      "[[   101    113   9926 ...   9640  18784  12030]\n",
      " [   101  68409 108578 ...      0      0      0]\n",
      " [   101   9294  12508 ...  11513   9682  54141]\n",
      " ...\n",
      " [   101   8933  13890 ...      0      0      0]\n",
      " [   101   9379  66016 ...      0      0      0]\n",
      " [   101   9659 118959 ...      0      0      0]]\n",
      "-------------------------------------------------------------\n",
      "[[  101  9405 62200 ...     0     0     0]\n",
      " [  101  9328 40032 ...     0     0     0]\n",
      " [  101 10709 86181 ...     0     0     0]\n",
      " ...\n",
      " [  101 62849 17655 ...     0     0     0]\n",
      " [  101  9706 16439 ... 13764 61250 10739]\n",
      " [  101  9434 20626 ...     0     0     0]]\n"
     ]
    }
   ],
   "source": [
    "max_len = 40\n",
    "\n",
    "padded_train = pad_sequences(tokenized_train.values, maxlen=max_len, padding='post', truncating='post')\n",
    "padded_test = pad_sequences(tokenized_test.values, maxlen=max_len, padding='post', truncating='post')\n",
    "print(padded_train)\n",
    "print('-------------------------------------------------------------')\n",
    "print(padded_test)"
   ]
  },
  {
   "cell_type": "code",
   "execution_count": 18,
   "metadata": {
    "colab": {
     "base_uri": "https://localhost:8080/",
     "height": 53
    },
    "colab_type": "code",
    "executionInfo": {
     "elapsed": 717,
     "status": "ok",
     "timestamp": 1591451090642,
     "user": {
      "displayName": "YoungJea Oh",
      "photoUrl": "https://lh3.googleusercontent.com/a-/AOh14Gg89SJBU4oG-ZavtmAh-BelKTx38QHDRQHy5JmI=s64",
      "userId": "02942933364894947486"
     },
     "user_tz": -540
    },
    "id": "ZKC0wbCCdDR2",
    "outputId": "9e76ecb2-266d-4016-e8d8-5d86156198ae"
   },
   "outputs": [
    {
     "name": "stdout",
     "output_type": "stream",
     "text": [
      "(50000, 40)\n",
      "(5000, 40)\n"
     ]
    }
   ],
   "source": [
    "print(padded_train.shape)\n",
    "print(padded_test.shape)"
   ]
  },
  {
   "cell_type": "markdown",
   "metadata": {
    "colab_type": "text",
    "id": "sDZBsYSDjzDV"
   },
   "source": [
    "### Masking\n",
    "입력을 처리 할 때 추가 한 패딩을 무시(마스크)하도록 다른 변수를 만들어야 하는데, 이 것을 attention_mask 라 합니다."
   ]
  },
  {
   "cell_type": "code",
   "execution_count": 19,
   "metadata": {
    "colab": {
     "base_uri": "https://localhost:8080/",
     "height": 53
    },
    "colab_type": "code",
    "executionInfo": {
     "elapsed": 733,
     "status": "ok",
     "timestamp": 1591451100034,
     "user": {
      "displayName": "YoungJea Oh",
      "photoUrl": "https://lh3.googleusercontent.com/a-/AOh14Gg89SJBU4oG-ZavtmAh-BelKTx38QHDRQHy5JmI=s64",
      "userId": "02942933364894947486"
     },
     "user_tz": -540
    },
    "id": "12fHKXErdhui",
    "outputId": "07dfc1d0-5816-40b4-d0da-e996f20bfda2"
   },
   "outputs": [
    {
     "name": "stdout",
     "output_type": "stream",
     "text": [
      "(50000, 40)\n",
      "(5000, 40)\n"
     ]
    }
   ],
   "source": [
    "attention_mask_train = np.where(padded_train !=0, 1, 0 )\n",
    "attention_mask_test = np.where(padded_test !=0, 1, 0 )\n",
    "print(attention_mask_train.shape)\n",
    "print(attention_mask_test.shape)"
   ]
  },
  {
   "cell_type": "markdown",
   "metadata": {
    "colab_type": "text",
    "id": "jK-CQB9-kN99"
   },
   "source": [
    "## Model #1: Fine Tuning 시작\n",
    "\n",
    "`model ()`함수는 BERT를 통해 문장을 실행. 처리 결과는`last_hidden_states`로 반환."
   ]
  },
  {
   "cell_type": "code",
   "execution_count": 0,
   "metadata": {
    "colab": {},
    "colab_type": "code",
    "id": "39UVjAV56PJz"
   },
   "outputs": [],
   "source": [
    "model.to(device)\n",
    "\n",
    "input_ids_train = torch.tensor(padded_train).to(torch.int64)\n",
    "attention_mask_train = torch.tensor(attention_mask_train)\n",
    "\n",
    "input_ids_test = torch.tensor(padded_test).to(torch.int64)\n",
    "attention_mask_test = torch.tensor(attention_mask_test)"
   ]
  },
  {
   "cell_type": "code",
   "execution_count": 0,
   "metadata": {
    "colab": {},
    "colab_type": "code",
    "id": "hP-OYF2KiY1D"
   },
   "outputs": [],
   "source": [
    "from torch.utils.data import TensorDataset, DataLoader\n",
    "BATCH_SIZE = 128\n",
    "\n",
    "dataset_train = TensorDataset(input_ids_train, attention_mask_train)\n",
    "dataloader_train = DataLoader(dataset_train, batch_size=BATCH_SIZE)\n",
    "\n",
    "dataset_test = TensorDataset(input_ids_test, attention_mask_test)\n",
    "dataloader_test = DataLoader(dataset_test, batch_size=BATCH_SIZE)"
   ]
  },
  {
   "cell_type": "code",
   "execution_count": 22,
   "metadata": {
    "colab": {
     "base_uri": "https://localhost:8080/",
     "height": 35
    },
    "colab_type": "code",
    "executionInfo": {
     "elapsed": 524318,
     "status": "ok",
     "timestamp": 1591451803490,
     "user": {
      "displayName": "YoungJea Oh",
      "photoUrl": "https://lh3.googleusercontent.com/a-/AOh14Gg89SJBU4oG-ZavtmAh-BelKTx38QHDRQHy5JmI=s64",
      "userId": "02942933364894947486"
     },
     "user_tz": -540
    },
    "id": "bIpEmYLbiY1H",
    "outputId": "3a19d039-8e2a-4a36-e563-aa5df2c013cc",
    "scrolled": false
   },
   "outputs": [
    {
     "name": "stdout",
     "output_type": "stream",
     "text": [
      "elapse time: 523.5084538459778\n"
     ]
    }
   ],
   "source": [
    "import time\n",
    "s = time.time()\n",
    "\n",
    "with torch.no_grad():\n",
    "    last_hidden_states_train = []\n",
    "    for batch in dataloader_train:\n",
    "        hidden = model(batch[0].to(device), batch[1].to(device))\n",
    "        if len(last_hidden_states_train) == 0:\n",
    "            last_hidden_states_train = hidden[0].to(\"cpu\")\n",
    "        else:\n",
    "            last_hidden_states_train = torch.cat((last_hidden_states_train, hidden[0].to(\"cpu\")), dim=0)\n",
    "            torch.cuda.empty_cache()\n",
    "\n",
    "    last_hidden_states_test = []\n",
    "    for batch in dataloader_test:\n",
    "        hidden = model(batch[0].to(device), batch[1].to(device))\n",
    "        if len(last_hidden_states_test) == 0:\n",
    "            last_hidden_states_test = hidden[0].to(\"cpu\")\n",
    "        else:\n",
    "            last_hidden_states_test = torch.cat((last_hidden_states_test, hidden[0].to(\"cpu\")), dim=0)\n",
    "            torch.cuda.empty_cache()\n",
    "\n",
    "print(f\"elapse time: {time.time() - s}\")"
   ]
  },
  {
   "cell_type": "code",
   "execution_count": 23,
   "metadata": {
    "colab": {
     "base_uri": "https://localhost:8080/",
     "height": 53
    },
    "colab_type": "code",
    "executionInfo": {
     "elapsed": 791,
     "status": "ok",
     "timestamp": 1591451804300,
     "user": {
      "displayName": "YoungJea Oh",
      "photoUrl": "https://lh3.googleusercontent.com/a-/AOh14Gg89SJBU4oG-ZavtmAh-BelKTx38QHDRQHy5JmI=s64",
      "userId": "02942933364894947486"
     },
     "user_tz": -540
    },
    "id": "GSzxCntXiY1J",
    "outputId": "fd76a5e3-7772-46e9-ccc6-4f8f5ff402c5"
   },
   "outputs": [
    {
     "name": "stdout",
     "output_type": "stream",
     "text": [
      "torch.Size([50000, 40, 768])\n",
      "torch.Size([5000, 40, 768])\n"
     ]
    }
   ],
   "source": [
    "print(last_hidden_states_train.shape)\n",
    "print(last_hidden_states_test.shape)"
   ]
  },
  {
   "cell_type": "markdown",
   "metadata": {
    "colab_type": "text",
    "id": "FoCep_WVuB3v"
   },
   "source": [
    "- 필요한 출력 부분 만 슬라이스. 그것은 각 문장의 첫 번째 토큰에 해당하는 출력. \n",
    "- BERT가 문장 분류를하는 방식은 모든 문장의 시작 부분에`[CLS]`(분류 용)라는 토큰을 추가하는 것임. 해당 토큰에 해당하는 출력은 전체 문장에 대한 임베딩으로 간주 될 수 있음.\n",
    "\n",
    "- 로지스틱 회귀 모델의 feature 로 사용되므로`features` 변수에 저장합니다."
   ]
  },
  {
   "cell_type": "code",
   "execution_count": 24,
   "metadata": {
    "colab": {
     "base_uri": "https://localhost:8080/",
     "height": 53
    },
    "colab_type": "code",
    "executionInfo": {
     "elapsed": 779,
     "status": "ok",
     "timestamp": 1591451804301,
     "user": {
      "displayName": "YoungJea Oh",
      "photoUrl": "https://lh3.googleusercontent.com/a-/AOh14Gg89SJBU4oG-ZavtmAh-BelKTx38QHDRQHy5JmI=s64",
      "userId": "02942933364894947486"
     },
     "user_tz": -540
    },
    "id": "C9t60At16PVs",
    "outputId": "f1ac7e55-34e2-40d9-8f21-443fb88afcad"
   },
   "outputs": [
    {
     "name": "stdout",
     "output_type": "stream",
     "text": [
      "torch.Size([50000, 768])\n",
      "torch.Size([5000, 768])\n"
     ]
    }
   ],
   "source": [
    "features_train = last_hidden_states_train[:,0,:]\n",
    "features_test = last_hidden_states_test[:,0,:]\n",
    "print(features_train.shape)\n",
    "print(features_test.shape)"
   ]
  },
  {
   "cell_type": "markdown",
   "metadata": {
    "colab_type": "text",
    "id": "_VZVU66Gurr-"
   },
   "source": [
    "어떤 문장이 긍정인지 부정인지를 나타내는 레이블을 `labels` 변수에 할당."
   ]
  },
  {
   "cell_type": "code",
   "execution_count": 25,
   "metadata": {
    "colab": {
     "base_uri": "https://localhost:8080/",
     "height": 53
    },
    "colab_type": "code",
    "executionInfo": {
     "elapsed": 769,
     "status": "ok",
     "timestamp": 1591451804302,
     "user": {
      "displayName": "YoungJea Oh",
      "photoUrl": "https://lh3.googleusercontent.com/a-/AOh14Gg89SJBU4oG-ZavtmAh-BelKTx38QHDRQHy5JmI=s64",
      "userId": "02942933364894947486"
     },
     "user_tz": -540
    },
    "id": "JD3fX2yh6PTx",
    "outputId": "b79f2657-ed4f-4ce5-c010-df73d9cb2873"
   },
   "outputs": [
    {
     "name": "stdout",
     "output_type": "stream",
     "text": [
      "torch.Size([50000])\n",
      "torch.Size([5000])\n"
     ]
    }
   ],
   "source": [
    "labels_train = torch.tensor(df_train['label'].values.astype(\"float32\"))\n",
    "labels_test = torch.tensor(df_test['label'].values.astype(\"float32\"))\n",
    "\n",
    "print(labels_train.shape)\n",
    "print(labels_test.shape)"
   ]
  },
  {
   "cell_type": "markdown",
   "metadata": {
    "colab_type": "text",
    "id": "KCT9u8vAwnID"
   },
   "source": [
    "## LogisticRegression model 훈련"
   ]
  },
  {
   "cell_type": "code",
   "execution_count": 0,
   "metadata": {
    "colab": {},
    "colab_type": "code",
    "id": "Ho4LVY5lOMos"
   },
   "outputs": [],
   "source": [
    "import torch.nn as nn\n",
    "\n",
    "class LogisticRegression(nn.Module):\n",
    "    def __init__(self, n_inputs):\n",
    "        super().__init__()\n",
    "        self.linear1 = nn.Linear(n_inputs, 128)\n",
    "        self.linear2 = nn.Linear(128, 64)\n",
    "        self.linear3 = nn.Linear(64, 1)\n",
    "\n",
    "    def forward(self, x):\n",
    "        x = self.linear1(x)\n",
    "        x = self.linear2(torch.relu(x))\n",
    "        yhat = torch.sigmoid(self.linear3(torch.relu(x)))\n",
    "        return yhat"
   ]
  },
  {
   "cell_type": "code",
   "execution_count": 27,
   "metadata": {
    "colab": {
     "base_uri": "https://localhost:8080/",
     "height": 107
    },
    "colab_type": "code",
    "executionInfo": {
     "elapsed": 755,
     "status": "ok",
     "timestamp": 1591451804304,
     "user": {
      "displayName": "YoungJea Oh",
      "photoUrl": "https://lh3.googleusercontent.com/a-/AOh14Gg89SJBU4oG-ZavtmAh-BelKTx38QHDRQHy5JmI=s64",
      "userId": "02942933364894947486"
     },
     "user_tz": -540
    },
    "id": "lKnJHqhwOuz1",
    "outputId": "82042143-abb8-4a24-f34f-712d4755dc1c"
   },
   "outputs": [
    {
     "data": {
      "text/plain": [
       "LogisticRegression(\n",
       "  (linear1): Linear(in_features=768, out_features=128, bias=True)\n",
       "  (linear2): Linear(in_features=128, out_features=64, bias=True)\n",
       "  (linear3): Linear(in_features=64, out_features=1, bias=True)\n",
       ")"
      ]
     },
     "execution_count": 27,
     "metadata": {
      "tags": []
     },
     "output_type": "execute_result"
    }
   ],
   "source": [
    "classifier = LogisticRegression(features_train.shape[1])\n",
    "classifier.to(device)"
   ]
  },
  {
   "cell_type": "code",
   "execution_count": 0,
   "metadata": {
    "colab": {},
    "colab_type": "code",
    "id": "t3xGoHIKPAcv"
   },
   "outputs": [],
   "source": [
    "criterion = nn.BCELoss()\n",
    "optimizer = torch.optim.SGD(classifier.parameters(), lr=0.1)"
   ]
  },
  {
   "cell_type": "code",
   "execution_count": 0,
   "metadata": {
    "colab": {},
    "colab_type": "code",
    "id": "tswsyIlAP59I"
   },
   "outputs": [],
   "source": [
    "BATCH_SIZE = 64\n",
    "\n",
    "dataset_train = TensorDataset(features_train, labels_train)\n",
    "loader_train = DataLoader(dataset_train, batch_size=BATCH_SIZE)\n",
    "\n",
    "dataset_test = TensorDataset(features_test, labels_test)\n",
    "loader_test = DataLoader(dataset_test, batch_size=BATCH_SIZE)"
   ]
  },
  {
   "cell_type": "code",
   "execution_count": 30,
   "metadata": {
    "colab": {
     "base_uri": "https://localhost:8080/",
     "height": 198
    },
    "colab_type": "code",
    "executionInfo": {
     "elapsed": 171149,
     "status": "ok",
     "timestamp": 1591451974714,
     "user": {
      "displayName": "YoungJea Oh",
      "photoUrl": "https://lh3.googleusercontent.com/a-/AOh14Gg89SJBU4oG-ZavtmAh-BelKTx38QHDRQHy5JmI=s64",
      "userId": "02942933364894947486"
     },
     "user_tz": -540
    },
    "id": "a4Huhe_1PAND",
    "outputId": "884e9190-d724-4be4-8af0-56484861ed90"
   },
   "outputs": [
    {
     "name": "stderr",
     "output_type": "stream",
     "text": [
      "/usr/local/lib/python3.6/dist-packages/torch/nn/modules/loss.py:516: UserWarning: Using a target size (torch.Size([64])) that is different to the input size (torch.Size([64, 1])) is deprecated. Please ensure they have the same size.\n",
      "  return F.binary_cross_entropy(input, target, weight=self.weight, reduction=self.reduction)\n",
      "/usr/local/lib/python3.6/dist-packages/torch/nn/modules/loss.py:516: UserWarning: Using a target size (torch.Size([16])) that is different to the input size (torch.Size([16, 1])) is deprecated. Please ensure they have the same size.\n",
      "  return F.binary_cross_entropy(input, target, weight=self.weight, reduction=self.reduction)\n"
     ]
    },
    {
     "name": "stdout",
     "output_type": "stream",
     "text": [
      "epoch--- 0\n",
      "epoch--- 20\n",
      "epoch--- 40\n",
      "epoch--- 60\n",
      "epoch--- 80\n"
     ]
    }
   ],
   "source": [
    "LOSS = []\n",
    "\n",
    "for epoch in range(100):\n",
    "    for i, (x, y) in enumerate(loader_train):\n",
    "        yhat = classifier(x.to(device))\n",
    "        loss = criterion(yhat.to(\"cpu\"), y)\n",
    "        optimizer.zero_grad()\n",
    "        loss.backward()\n",
    "        optimizer.step()\n",
    "        LOSS.append(loss)\n",
    "    if epoch % 20 == 0:\n",
    "        print(\"epoch---\", epoch)"
   ]
  },
  {
   "cell_type": "code",
   "execution_count": 0,
   "metadata": {
    "colab": {},
    "colab_type": "code",
    "id": "hXysuUq-WE8e"
   },
   "outputs": [],
   "source": [
    "accuracy = []\n",
    "for x, y in loader_test:\n",
    "    x, y = x.to(device), y.to(device)\n",
    "    z = classifier(x)\n",
    "    accuracy.append((sum(z > 0.5).item() / sum(y)).item())"
   ]
  },
  {
   "cell_type": "code",
   "execution_count": 0,
   "metadata": {
    "colab": {
     "base_uri": "https://localhost:8080/",
     "height": 35
    },
    "colab_type": "code",
    "id": "9YtSfGNUWEr9",
    "outputId": "8005b1ed-f771-4341-b9fa-b7a965ad10ff"
   },
   "outputs": [
    {
     "data": {
      "text/plain": [
       "0.7712454939190345"
      ]
     },
     "execution_count": 32,
     "metadata": {
      "tags": []
     },
     "output_type": "execute_result"
    }
   ],
   "source": [
    "np.mean(accuracy)"
   ]
  },
  {
   "cell_type": "code",
   "execution_count": 0,
   "metadata": {
    "colab": {},
    "colab_type": "code",
    "id": "4oXT-ss3rScY"
   },
   "outputs": [],
   "source": [
    "x = '흠...포스터보고 초딩영화줄....오버연기조차 가볍지 않구나'\n",
    "tokenized = tokenizer.encode(x, add_special_tokens=True)"
   ]
  },
  {
   "cell_type": "code",
   "execution_count": 0,
   "metadata": {
    "colab": {
     "base_uri": "https://localhost:8080/",
     "height": 573
    },
    "colab_type": "code",
    "id": "cNtHrX7miY1l",
    "outputId": "af4e5a23-57d6-4bfa-fa2e-9a1e889ed879"
   },
   "outputs": [
    {
     "data": {
      "text/plain": [
       "[101,\n",
       " 100,\n",
       " 119,\n",
       " 119,\n",
       " 119,\n",
       " 9928,\n",
       " 58823,\n",
       " 30005,\n",
       " 11664,\n",
       " 9757,\n",
       " 118823,\n",
       " 30858,\n",
       " 18227,\n",
       " 119219,\n",
       " 119,\n",
       " 119,\n",
       " 119,\n",
       " 119,\n",
       " 9580,\n",
       " 41605,\n",
       " 25486,\n",
       " 12310,\n",
       " 20626,\n",
       " 23466,\n",
       " 8843,\n",
       " 118986,\n",
       " 12508,\n",
       " 9523,\n",
       " 17196,\n",
       " 16439,\n",
       " 102]"
      ]
     },
     "execution_count": 76,
     "metadata": {
      "tags": []
     },
     "output_type": "execute_result"
    }
   ],
   "source": [
    "tokenized"
   ]
  },
  {
   "cell_type": "code",
   "execution_count": 0,
   "metadata": {
    "colab": {
     "base_uri": "https://localhost:8080/",
     "height": 35
    },
    "colab_type": "code",
    "id": "GJK0VlG5rkaR",
    "outputId": "e91c4c60-eaf1-4e7d-da78-586df49b8398"
   },
   "outputs": [
    {
     "data": {
      "text/plain": [
       "'[CLS] [UNK]... 포스터보고 초딩영화줄.... 오버연기조차 가볍지 않구나 [SEP]'"
      ]
     },
     "execution_count": 77,
     "metadata": {
      "tags": []
     },
     "output_type": "execute_result"
    }
   ],
   "source": [
    "tokenizer.decode(tokenized)"
   ]
  },
  {
   "cell_type": "code",
   "execution_count": 0,
   "metadata": {
    "colab": {
     "base_uri": "https://localhost:8080/",
     "height": 125
    },
    "colab_type": "code",
    "id": "u5BVsetyrscM",
    "outputId": "f2b43bee-f6e4-4977-da52-3894d4a314df"
   },
   "outputs": [
    {
     "data": {
      "text/plain": [
       "array([[   101,    100,    119,    119,    119,   9928,  58823,  30005,\n",
       "         11664,   9757, 118823,  30858,  18227, 119219,    119,    119,\n",
       "           119,    119,   9580,  41605,  25486,  12310,  20626,  23466,\n",
       "          8843, 118986,  12508,   9523,  17196,  16439,    102,      0,\n",
       "             0,      0,      0,      0,      0,      0,      0,      0]],\n",
       "      dtype=int32)"
      ]
     },
     "execution_count": 78,
     "metadata": {
      "tags": []
     },
     "output_type": "execute_result"
    }
   ],
   "source": [
    "padded = pad_sequences([tokenized], maxlen=max_len, padding='post')\n",
    "padded"
   ]
  },
  {
   "cell_type": "code",
   "execution_count": 0,
   "metadata": {
    "colab": {
     "base_uri": "https://localhost:8080/",
     "height": 53
    },
    "colab_type": "code",
    "id": "vfmU6Nwyr5bc",
    "outputId": "47911eb1-5b6d-4cb2-b146-5436e147335e"
   },
   "outputs": [
    {
     "data": {
      "text/plain": [
       "array([[1, 1, 1, 1, 1, 1, 1, 1, 1, 1, 1, 1, 1, 1, 1, 1, 1, 1, 1, 1, 1, 1,\n",
       "        1, 1, 1, 1, 1, 1, 1, 1, 1, 0, 0, 0, 0, 0, 0, 0, 0, 0]])"
      ]
     },
     "execution_count": 79,
     "metadata": {
      "tags": []
     },
     "output_type": "execute_result"
    }
   ],
   "source": [
    "attention_mask = np.where(padded !=0, 1, 0 )\n",
    "attention_mask"
   ]
  },
  {
   "cell_type": "code",
   "execution_count": 0,
   "metadata": {
    "colab": {},
    "colab_type": "code",
    "id": "66U_cswttLlr"
   },
   "outputs": [],
   "source": [
    "input_ids = torch.tensor(padded).to(torch.int64).to(device)\n",
    "attention_mask = torch.tensor(attention_mask).to(device)"
   ]
  },
  {
   "cell_type": "code",
   "execution_count": 0,
   "metadata": {
    "colab": {
     "base_uri": "https://localhost:8080/",
     "height": 35
    },
    "colab_type": "code",
    "id": "3lPYzBZLtjWM",
    "outputId": "b55c5de4-b7df-4818-f12a-6329bd39eea6"
   },
   "outputs": [
    {
     "data": {
      "text/plain": [
       "torch.Size([1, 40, 768])"
      ]
     },
     "execution_count": 81,
     "metadata": {
      "tags": []
     },
     "output_type": "execute_result"
    }
   ],
   "source": [
    "hidden = model(input_ids, attention_mask)\n",
    "hidden[0].shape"
   ]
  },
  {
   "cell_type": "code",
   "execution_count": 0,
   "metadata": {
    "colab": {},
    "colab_type": "code",
    "id": "9Q5Qfcotv8t8"
   },
   "outputs": [],
   "source": [
    "features = hidden[0][0 ,0, :].to(\"cpu\").detach()"
   ]
  },
  {
   "cell_type": "code",
   "execution_count": 0,
   "metadata": {
    "colab": {
     "base_uri": "https://localhost:8080/",
     "height": 35
    },
    "colab_type": "code",
    "id": "tuAsBcQvuCyc",
    "outputId": "44245dd2-7dea-4434-aff4-4e8ce0feeda5"
   },
   "outputs": [
    {
     "data": {
      "text/plain": [
       "0.05125465244054794"
      ]
     },
     "execution_count": 83,
     "metadata": {
      "tags": []
     },
     "output_type": "execute_result"
    }
   ],
   "source": [
    "classifier(features.to(device)).item()"
   ]
  },
  {
   "cell_type": "code",
   "execution_count": 0,
   "metadata": {
    "colab": {},
    "colab_type": "code",
    "id": "zckHMYyWu8rq"
   },
   "outputs": [],
   "source": []
  }
 ],
 "metadata": {
  "accelerator": "GPU",
  "colab": {
   "collapsed_sections": [],
   "machine_shape": "hm",
   "name": "350_HuggingFace_Naver_Movie_Review_Classification.ipynb",
   "provenance": []
  },
  "kernelspec": {
   "display_name": "Python 3",
   "language": "python",
   "name": "python3"
  },
  "language_info": {
   "codemirror_mode": {
    "name": "ipython",
    "version": 3
   },
   "file_extension": ".py",
   "mimetype": "text/x-python",
   "name": "python",
   "nbconvert_exporter": "python",
   "pygments_lexer": "ipython3",
   "version": "3.7.6"
  },
  "widgets": {
   "application/vnd.jupyter.widget-state+json": {
    "0a8d1dd9fd504371912c73de38aa3a91": {
     "model_module": "@jupyter-widgets/controls",
     "model_name": "ProgressStyleModel",
     "state": {
      "_model_module": "@jupyter-widgets/controls",
      "_model_module_version": "1.5.0",
      "_model_name": "ProgressStyleModel",
      "_view_count": null,
      "_view_module": "@jupyter-widgets/base",
      "_view_module_version": "1.2.0",
      "_view_name": "StyleView",
      "bar_color": null,
      "description_width": "initial"
     }
    },
    "0ee7a111b4d54352af2076343391dd93": {
     "model_module": "@jupyter-widgets/controls",
     "model_name": "DescriptionStyleModel",
     "state": {
      "_model_module": "@jupyter-widgets/controls",
      "_model_module_version": "1.5.0",
      "_model_name": "DescriptionStyleModel",
      "_view_count": null,
      "_view_module": "@jupyter-widgets/base",
      "_view_module_version": "1.2.0",
      "_view_name": "StyleView",
      "description_width": ""
     }
    },
    "141e83e76040481680967ff94476936c": {
     "model_module": "@jupyter-widgets/controls",
     "model_name": "ProgressStyleModel",
     "state": {
      "_model_module": "@jupyter-widgets/controls",
      "_model_module_version": "1.5.0",
      "_model_name": "ProgressStyleModel",
      "_view_count": null,
      "_view_module": "@jupyter-widgets/base",
      "_view_module_version": "1.2.0",
      "_view_name": "StyleView",
      "bar_color": null,
      "description_width": "initial"
     }
    },
    "16e72ea4c5084d5194f9e9479324896d": {
     "model_module": "@jupyter-widgets/base",
     "model_name": "LayoutModel",
     "state": {
      "_model_module": "@jupyter-widgets/base",
      "_model_module_version": "1.2.0",
      "_model_name": "LayoutModel",
      "_view_count": null,
      "_view_module": "@jupyter-widgets/base",
      "_view_module_version": "1.2.0",
      "_view_name": "LayoutView",
      "align_content": null,
      "align_items": null,
      "align_self": null,
      "border": null,
      "bottom": null,
      "display": null,
      "flex": null,
      "flex_flow": null,
      "grid_area": null,
      "grid_auto_columns": null,
      "grid_auto_flow": null,
      "grid_auto_rows": null,
      "grid_column": null,
      "grid_gap": null,
      "grid_row": null,
      "grid_template_areas": null,
      "grid_template_columns": null,
      "grid_template_rows": null,
      "height": null,
      "justify_content": null,
      "justify_items": null,
      "left": null,
      "margin": null,
      "max_height": null,
      "max_width": null,
      "min_height": null,
      "min_width": null,
      "object_fit": null,
      "object_position": null,
      "order": null,
      "overflow": null,
      "overflow_x": null,
      "overflow_y": null,
      "padding": null,
      "right": null,
      "top": null,
      "visibility": null,
      "width": null
     }
    },
    "1ff7a5bc3ef547f68ecb1ef7d9c722eb": {
     "model_module": "@jupyter-widgets/controls",
     "model_name": "HBoxModel",
     "state": {
      "_dom_classes": [],
      "_model_module": "@jupyter-widgets/controls",
      "_model_module_version": "1.5.0",
      "_model_name": "HBoxModel",
      "_view_count": null,
      "_view_module": "@jupyter-widgets/controls",
      "_view_module_version": "1.5.0",
      "_view_name": "HBoxView",
      "box_style": "",
      "children": [
       "IPY_MODEL_e782bfa5a82e4b1b880cba14c1800e75",
       "IPY_MODEL_b502b36a694844e4a15bc439bb20c984"
      ],
      "layout": "IPY_MODEL_664e0872b9be48df93265a3c8cf3b8ae"
     }
    },
    "216240c0b9dc4dc4bd0a494373bcf175": {
     "model_module": "@jupyter-widgets/controls",
     "model_name": "HTMLModel",
     "state": {
      "_dom_classes": [],
      "_model_module": "@jupyter-widgets/controls",
      "_model_module_version": "1.5.0",
      "_model_name": "HTMLModel",
      "_view_count": null,
      "_view_module": "@jupyter-widgets/controls",
      "_view_module_version": "1.5.0",
      "_view_name": "HTMLView",
      "description": "",
      "description_tooltip": null,
      "layout": "IPY_MODEL_ea4cc0108e59477b92e8868936bd6dab",
      "placeholder": "​",
      "style": "IPY_MODEL_d4e72bfb0a164308936346cbca40ddcf",
      "value": " 625/625 [00:30&lt;00:00, 20.6B/s]"
     }
    },
    "36efa8d834ff49f198884deb0dd51c66": {
     "model_module": "@jupyter-widgets/base",
     "model_name": "LayoutModel",
     "state": {
      "_model_module": "@jupyter-widgets/base",
      "_model_module_version": "1.2.0",
      "_model_name": "LayoutModel",
      "_view_count": null,
      "_view_module": "@jupyter-widgets/base",
      "_view_module_version": "1.2.0",
      "_view_name": "LayoutView",
      "align_content": null,
      "align_items": null,
      "align_self": null,
      "border": null,
      "bottom": null,
      "display": null,
      "flex": null,
      "flex_flow": null,
      "grid_area": null,
      "grid_auto_columns": null,
      "grid_auto_flow": null,
      "grid_auto_rows": null,
      "grid_column": null,
      "grid_gap": null,
      "grid_row": null,
      "grid_template_areas": null,
      "grid_template_columns": null,
      "grid_template_rows": null,
      "height": null,
      "justify_content": null,
      "justify_items": null,
      "left": null,
      "margin": null,
      "max_height": null,
      "max_width": null,
      "min_height": null,
      "min_width": null,
      "object_fit": null,
      "object_position": null,
      "order": null,
      "overflow": null,
      "overflow_x": null,
      "overflow_y": null,
      "padding": null,
      "right": null,
      "top": null,
      "visibility": null,
      "width": null
     }
    },
    "50e00a6786614f128dc32c7a7255fc28": {
     "model_module": "@jupyter-widgets/base",
     "model_name": "LayoutModel",
     "state": {
      "_model_module": "@jupyter-widgets/base",
      "_model_module_version": "1.2.0",
      "_model_name": "LayoutModel",
      "_view_count": null,
      "_view_module": "@jupyter-widgets/base",
      "_view_module_version": "1.2.0",
      "_view_name": "LayoutView",
      "align_content": null,
      "align_items": null,
      "align_self": null,
      "border": null,
      "bottom": null,
      "display": null,
      "flex": null,
      "flex_flow": null,
      "grid_area": null,
      "grid_auto_columns": null,
      "grid_auto_flow": null,
      "grid_auto_rows": null,
      "grid_column": null,
      "grid_gap": null,
      "grid_row": null,
      "grid_template_areas": null,
      "grid_template_columns": null,
      "grid_template_rows": null,
      "height": null,
      "justify_content": null,
      "justify_items": null,
      "left": null,
      "margin": null,
      "max_height": null,
      "max_width": null,
      "min_height": null,
      "min_width": null,
      "object_fit": null,
      "object_position": null,
      "order": null,
      "overflow": null,
      "overflow_x": null,
      "overflow_y": null,
      "padding": null,
      "right": null,
      "top": null,
      "visibility": null,
      "width": null
     }
    },
    "664e0872b9be48df93265a3c8cf3b8ae": {
     "model_module": "@jupyter-widgets/base",
     "model_name": "LayoutModel",
     "state": {
      "_model_module": "@jupyter-widgets/base",
      "_model_module_version": "1.2.0",
      "_model_name": "LayoutModel",
      "_view_count": null,
      "_view_module": "@jupyter-widgets/base",
      "_view_module_version": "1.2.0",
      "_view_name": "LayoutView",
      "align_content": null,
      "align_items": null,
      "align_self": null,
      "border": null,
      "bottom": null,
      "display": null,
      "flex": null,
      "flex_flow": null,
      "grid_area": null,
      "grid_auto_columns": null,
      "grid_auto_flow": null,
      "grid_auto_rows": null,
      "grid_column": null,
      "grid_gap": null,
      "grid_row": null,
      "grid_template_areas": null,
      "grid_template_columns": null,
      "grid_template_rows": null,
      "height": null,
      "justify_content": null,
      "justify_items": null,
      "left": null,
      "margin": null,
      "max_height": null,
      "max_width": null,
      "min_height": null,
      "min_width": null,
      "object_fit": null,
      "object_position": null,
      "order": null,
      "overflow": null,
      "overflow_x": null,
      "overflow_y": null,
      "padding": null,
      "right": null,
      "top": null,
      "visibility": null,
      "width": null
     }
    },
    "84264dff079e4e8695d7b859e28d7f8b": {
     "model_module": "@jupyter-widgets/base",
     "model_name": "LayoutModel",
     "state": {
      "_model_module": "@jupyter-widgets/base",
      "_model_module_version": "1.2.0",
      "_model_name": "LayoutModel",
      "_view_count": null,
      "_view_module": "@jupyter-widgets/base",
      "_view_module_version": "1.2.0",
      "_view_name": "LayoutView",
      "align_content": null,
      "align_items": null,
      "align_self": null,
      "border": null,
      "bottom": null,
      "display": null,
      "flex": null,
      "flex_flow": null,
      "grid_area": null,
      "grid_auto_columns": null,
      "grid_auto_flow": null,
      "grid_auto_rows": null,
      "grid_column": null,
      "grid_gap": null,
      "grid_row": null,
      "grid_template_areas": null,
      "grid_template_columns": null,
      "grid_template_rows": null,
      "height": null,
      "justify_content": null,
      "justify_items": null,
      "left": null,
      "margin": null,
      "max_height": null,
      "max_width": null,
      "min_height": null,
      "min_width": null,
      "object_fit": null,
      "object_position": null,
      "order": null,
      "overflow": null,
      "overflow_x": null,
      "overflow_y": null,
      "padding": null,
      "right": null,
      "top": null,
      "visibility": null,
      "width": null
     }
    },
    "8f1d18d2c26a421c8137f3f6dccb2713": {
     "model_module": "@jupyter-widgets/controls",
     "model_name": "HBoxModel",
     "state": {
      "_dom_classes": [],
      "_model_module": "@jupyter-widgets/controls",
      "_model_module_version": "1.5.0",
      "_model_name": "HBoxModel",
      "_view_count": null,
      "_view_module": "@jupyter-widgets/controls",
      "_view_module_version": "1.5.0",
      "_view_name": "HBoxView",
      "box_style": "",
      "children": [
       "IPY_MODEL_fafef8196bd44db7b2b6d48750ecf3b4",
       "IPY_MODEL_216240c0b9dc4dc4bd0a494373bcf175"
      ],
      "layout": "IPY_MODEL_b80ccc40cc134e86993ee30ffd07d27c"
     }
    },
    "a4618451530b40c197f174954c460265": {
     "model_module": "@jupyter-widgets/controls",
     "model_name": "HBoxModel",
     "state": {
      "_dom_classes": [],
      "_model_module": "@jupyter-widgets/controls",
      "_model_module_version": "1.5.0",
      "_model_name": "HBoxModel",
      "_view_count": null,
      "_view_module": "@jupyter-widgets/controls",
      "_view_module_version": "1.5.0",
      "_view_name": "HBoxView",
      "box_style": "",
      "children": [
       "IPY_MODEL_d78bad41daac4e228f2ed5172c2deb4b",
       "IPY_MODEL_f4a1eb96b7984365a176e5d4932d70c0"
      ],
      "layout": "IPY_MODEL_84264dff079e4e8695d7b859e28d7f8b"
     }
    },
    "aed3272a048c49219ef3d1dca9aab8de": {
     "model_module": "@jupyter-widgets/controls",
     "model_name": "DescriptionStyleModel",
     "state": {
      "_model_module": "@jupyter-widgets/controls",
      "_model_module_version": "1.5.0",
      "_model_name": "DescriptionStyleModel",
      "_view_count": null,
      "_view_module": "@jupyter-widgets/base",
      "_view_module_version": "1.2.0",
      "_view_name": "StyleView",
      "description_width": ""
     }
    },
    "b502b36a694844e4a15bc439bb20c984": {
     "model_module": "@jupyter-widgets/controls",
     "model_name": "HTMLModel",
     "state": {
      "_dom_classes": [],
      "_model_module": "@jupyter-widgets/controls",
      "_model_module_version": "1.5.0",
      "_model_name": "HTMLModel",
      "_view_count": null,
      "_view_module": "@jupyter-widgets/controls",
      "_view_module_version": "1.5.0",
      "_view_name": "HTMLView",
      "description": "",
      "description_tooltip": null,
      "layout": "IPY_MODEL_50e00a6786614f128dc32c7a7255fc28",
      "placeholder": "​",
      "style": "IPY_MODEL_0ee7a111b4d54352af2076343391dd93",
      "value": " 714M/714M [00:30&lt;00:00, 23.8MB/s]"
     }
    },
    "b80ccc40cc134e86993ee30ffd07d27c": {
     "model_module": "@jupyter-widgets/base",
     "model_name": "LayoutModel",
     "state": {
      "_model_module": "@jupyter-widgets/base",
      "_model_module_version": "1.2.0",
      "_model_name": "LayoutModel",
      "_view_count": null,
      "_view_module": "@jupyter-widgets/base",
      "_view_module_version": "1.2.0",
      "_view_name": "LayoutView",
      "align_content": null,
      "align_items": null,
      "align_self": null,
      "border": null,
      "bottom": null,
      "display": null,
      "flex": null,
      "flex_flow": null,
      "grid_area": null,
      "grid_auto_columns": null,
      "grid_auto_flow": null,
      "grid_auto_rows": null,
      "grid_column": null,
      "grid_gap": null,
      "grid_row": null,
      "grid_template_areas": null,
      "grid_template_columns": null,
      "grid_template_rows": null,
      "height": null,
      "justify_content": null,
      "justify_items": null,
      "left": null,
      "margin": null,
      "max_height": null,
      "max_width": null,
      "min_height": null,
      "min_width": null,
      "object_fit": null,
      "object_position": null,
      "order": null,
      "overflow": null,
      "overflow_x": null,
      "overflow_y": null,
      "padding": null,
      "right": null,
      "top": null,
      "visibility": null,
      "width": null
     }
    },
    "d4e72bfb0a164308936346cbca40ddcf": {
     "model_module": "@jupyter-widgets/controls",
     "model_name": "DescriptionStyleModel",
     "state": {
      "_model_module": "@jupyter-widgets/controls",
      "_model_module_version": "1.5.0",
      "_model_name": "DescriptionStyleModel",
      "_view_count": null,
      "_view_module": "@jupyter-widgets/base",
      "_view_module_version": "1.2.0",
      "_view_name": "StyleView",
      "description_width": ""
     }
    },
    "d78bad41daac4e228f2ed5172c2deb4b": {
     "model_module": "@jupyter-widgets/controls",
     "model_name": "FloatProgressModel",
     "state": {
      "_dom_classes": [],
      "_model_module": "@jupyter-widgets/controls",
      "_model_module_version": "1.5.0",
      "_model_name": "FloatProgressModel",
      "_view_count": null,
      "_view_module": "@jupyter-widgets/controls",
      "_view_module_version": "1.5.0",
      "_view_name": "ProgressView",
      "bar_style": "success",
      "description": "Downloading: 100%",
      "description_tooltip": null,
      "layout": "IPY_MODEL_36efa8d834ff49f198884deb0dd51c66",
      "max": 995526,
      "min": 0,
      "orientation": "horizontal",
      "style": "IPY_MODEL_f7ae53932f89422181f38885e6f24a6b",
      "value": 995526
     }
    },
    "da62846d6f0348b48ef33d6efae76016": {
     "model_module": "@jupyter-widgets/base",
     "model_name": "LayoutModel",
     "state": {
      "_model_module": "@jupyter-widgets/base",
      "_model_module_version": "1.2.0",
      "_model_name": "LayoutModel",
      "_view_count": null,
      "_view_module": "@jupyter-widgets/base",
      "_view_module_version": "1.2.0",
      "_view_name": "LayoutView",
      "align_content": null,
      "align_items": null,
      "align_self": null,
      "border": null,
      "bottom": null,
      "display": null,
      "flex": null,
      "flex_flow": null,
      "grid_area": null,
      "grid_auto_columns": null,
      "grid_auto_flow": null,
      "grid_auto_rows": null,
      "grid_column": null,
      "grid_gap": null,
      "grid_row": null,
      "grid_template_areas": null,
      "grid_template_columns": null,
      "grid_template_rows": null,
      "height": null,
      "justify_content": null,
      "justify_items": null,
      "left": null,
      "margin": null,
      "max_height": null,
      "max_width": null,
      "min_height": null,
      "min_width": null,
      "object_fit": null,
      "object_position": null,
      "order": null,
      "overflow": null,
      "overflow_x": null,
      "overflow_y": null,
      "padding": null,
      "right": null,
      "top": null,
      "visibility": null,
      "width": null
     }
    },
    "e782bfa5a82e4b1b880cba14c1800e75": {
     "model_module": "@jupyter-widgets/controls",
     "model_name": "FloatProgressModel",
     "state": {
      "_dom_classes": [],
      "_model_module": "@jupyter-widgets/controls",
      "_model_module_version": "1.5.0",
      "_model_name": "FloatProgressModel",
      "_view_count": null,
      "_view_module": "@jupyter-widgets/controls",
      "_view_module_version": "1.5.0",
      "_view_name": "ProgressView",
      "bar_style": "success",
      "description": "Downloading: 100%",
      "description_tooltip": null,
      "layout": "IPY_MODEL_fa51c0d68895450e9307dc549a59c50c",
      "max": 714314041,
      "min": 0,
      "orientation": "horizontal",
      "style": "IPY_MODEL_0a8d1dd9fd504371912c73de38aa3a91",
      "value": 714314041
     }
    },
    "ea4cc0108e59477b92e8868936bd6dab": {
     "model_module": "@jupyter-widgets/base",
     "model_name": "LayoutModel",
     "state": {
      "_model_module": "@jupyter-widgets/base",
      "_model_module_version": "1.2.0",
      "_model_name": "LayoutModel",
      "_view_count": null,
      "_view_module": "@jupyter-widgets/base",
      "_view_module_version": "1.2.0",
      "_view_name": "LayoutView",
      "align_content": null,
      "align_items": null,
      "align_self": null,
      "border": null,
      "bottom": null,
      "display": null,
      "flex": null,
      "flex_flow": null,
      "grid_area": null,
      "grid_auto_columns": null,
      "grid_auto_flow": null,
      "grid_auto_rows": null,
      "grid_column": null,
      "grid_gap": null,
      "grid_row": null,
      "grid_template_areas": null,
      "grid_template_columns": null,
      "grid_template_rows": null,
      "height": null,
      "justify_content": null,
      "justify_items": null,
      "left": null,
      "margin": null,
      "max_height": null,
      "max_width": null,
      "min_height": null,
      "min_width": null,
      "object_fit": null,
      "object_position": null,
      "order": null,
      "overflow": null,
      "overflow_x": null,
      "overflow_y": null,
      "padding": null,
      "right": null,
      "top": null,
      "visibility": null,
      "width": null
     }
    },
    "f4a1eb96b7984365a176e5d4932d70c0": {
     "model_module": "@jupyter-widgets/controls",
     "model_name": "HTMLModel",
     "state": {
      "_dom_classes": [],
      "_model_module": "@jupyter-widgets/controls",
      "_model_module_version": "1.5.0",
      "_model_name": "HTMLModel",
      "_view_count": null,
      "_view_module": "@jupyter-widgets/controls",
      "_view_module_version": "1.5.0",
      "_view_name": "HTMLView",
      "description": "",
      "description_tooltip": null,
      "layout": "IPY_MODEL_16e72ea4c5084d5194f9e9479324896d",
      "placeholder": "​",
      "style": "IPY_MODEL_aed3272a048c49219ef3d1dca9aab8de",
      "value": " 996k/996k [00:00&lt;00:00, 2.18MB/s]"
     }
    },
    "f7ae53932f89422181f38885e6f24a6b": {
     "model_module": "@jupyter-widgets/controls",
     "model_name": "ProgressStyleModel",
     "state": {
      "_model_module": "@jupyter-widgets/controls",
      "_model_module_version": "1.5.0",
      "_model_name": "ProgressStyleModel",
      "_view_count": null,
      "_view_module": "@jupyter-widgets/base",
      "_view_module_version": "1.2.0",
      "_view_name": "StyleView",
      "bar_color": null,
      "description_width": "initial"
     }
    },
    "fa51c0d68895450e9307dc549a59c50c": {
     "model_module": "@jupyter-widgets/base",
     "model_name": "LayoutModel",
     "state": {
      "_model_module": "@jupyter-widgets/base",
      "_model_module_version": "1.2.0",
      "_model_name": "LayoutModel",
      "_view_count": null,
      "_view_module": "@jupyter-widgets/base",
      "_view_module_version": "1.2.0",
      "_view_name": "LayoutView",
      "align_content": null,
      "align_items": null,
      "align_self": null,
      "border": null,
      "bottom": null,
      "display": null,
      "flex": null,
      "flex_flow": null,
      "grid_area": null,
      "grid_auto_columns": null,
      "grid_auto_flow": null,
      "grid_auto_rows": null,
      "grid_column": null,
      "grid_gap": null,
      "grid_row": null,
      "grid_template_areas": null,
      "grid_template_columns": null,
      "grid_template_rows": null,
      "height": null,
      "justify_content": null,
      "justify_items": null,
      "left": null,
      "margin": null,
      "max_height": null,
      "max_width": null,
      "min_height": null,
      "min_width": null,
      "object_fit": null,
      "object_position": null,
      "order": null,
      "overflow": null,
      "overflow_x": null,
      "overflow_y": null,
      "padding": null,
      "right": null,
      "top": null,
      "visibility": null,
      "width": null
     }
    },
    "fafef8196bd44db7b2b6d48750ecf3b4": {
     "model_module": "@jupyter-widgets/controls",
     "model_name": "FloatProgressModel",
     "state": {
      "_dom_classes": [],
      "_model_module": "@jupyter-widgets/controls",
      "_model_module_version": "1.5.0",
      "_model_name": "FloatProgressModel",
      "_view_count": null,
      "_view_module": "@jupyter-widgets/controls",
      "_view_module_version": "1.5.0",
      "_view_name": "ProgressView",
      "bar_style": "success",
      "description": "Downloading: 100%",
      "description_tooltip": null,
      "layout": "IPY_MODEL_da62846d6f0348b48ef33d6efae76016",
      "max": 625,
      "min": 0,
      "orientation": "horizontal",
      "style": "IPY_MODEL_141e83e76040481680967ff94476936c",
      "value": 625
     }
    }
   }
  }
 },
 "nbformat": 4,
 "nbformat_minor": 1
}
