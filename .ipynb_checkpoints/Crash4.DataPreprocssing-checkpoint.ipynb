{
 "cells": [
  {
   "cell_type": "markdown",
   "metadata": {},
   "source": [
    "# Data 전처리 (pre-procsssing)\n",
    "\n",
    "많은 machine learning estimator 는 각 feature 가 Gaussian 분포 (zero mean and unit variance, 표준정규분포) 를 이룰 것 이라고 전제한다.  \n",
    "\n",
    "실제로 데이터가 그러한 분포를 갖기 힘들기 때문에 우리는 distribution 은 무시하고, 각 feature 의 mean value 를 center 로 옮기고 standard deviation (표준편차) 로 scaling 하게 된다. 그 이유는 특정 feature 의 value 가 다른 feature 들 보다 10 ^ n 배 크다면, 그 값이 목적함수를 지배하게 되므로 estimator 가 feature 로 부터 정확히 학습을 하지 못하게 되기 때문이다.\n",
    "\n",
    "sklearn 의 preprocessing module 은 scale, minmax_scale 함수와 이에 대응하는 StandardScaler, MinMaxScaler class 및 fit(), transform() method 를 제공하여 쉽게 scaling 을 할 수 있도록 지원 한다.\n",
    "\n",
    "## 1) Simple Feature Scaling\n",
    "\n",
    "$$ X_{new} = \\frac{X_{old}}{X_{max}}$$\n",
    "\n",
    "## 2) Min-Max Scaling\n",
    "\n",
    "- 최대/최소값이 1, 0 이 되도록 scaling  \n",
    "- x=min 이면 y=0, x=max 이면 y=1.\n",
    "\n",
    "\n",
    "$$ X_{new} = \\frac{X_{old} - X_{min}}{X_{max} - X_{min}}$$\n",
    "\n",
    "\n",
    "## 3) Standard Scaling (Z-score)\n",
    "\n",
    "- 평균과 표준편차를 이용하여 scaling  \n",
    "- $\\mu : 평균, \\sigma : 표준편차 $\n",
    "\n",
    "$$ X_{new} = \\frac{X_{old} - \\mu}{\\sigma}$$\n"
   ]
  },
  {
   "cell_type": "code",
   "execution_count": 7,
   "metadata": {
    "slideshow": {
     "slide_type": "fragment"
    }
   },
   "outputs": [],
   "source": [
    "import numpy as np\n",
    "import pandas as pd\n",
    "from sklearn.preprocessing import scale, minmax_scale"
   ]
  },
  {
   "cell_type": "code",
   "execution_count": 8,
   "metadata": {},
   "outputs": [],
   "source": [
    "X = np.arange(-3, 6).astype('float32').reshape(-1, 1)\n",
    "X = np.vstack([X, [20]])                    # outlier 추가\n",
    "df = pd.DataFrame(np.hstack([X, X/X.max(), scale(X), minmax_scale(X)]), \n",
    "                              columns=['X', 'simple scaling', 'standard scaling', 'minmax scaling'])"
   ]
  },
  {
   "cell_type": "code",
   "execution_count": 9,
   "metadata": {},
   "outputs": [
    {
     "data": {
      "text/html": [
       "<div>\n",
       "<style scoped>\n",
       "    .dataframe tbody tr th:only-of-type {\n",
       "        vertical-align: middle;\n",
       "    }\n",
       "\n",
       "    .dataframe tbody tr th {\n",
       "        vertical-align: top;\n",
       "    }\n",
       "\n",
       "    .dataframe thead th {\n",
       "        text-align: right;\n",
       "    }\n",
       "</style>\n",
       "<table border=\"1\" class=\"dataframe\">\n",
       "  <thead>\n",
       "    <tr style=\"text-align: right;\">\n",
       "      <th></th>\n",
       "      <th>X</th>\n",
       "      <th>simple scaling</th>\n",
       "      <th>standard scaling</th>\n",
       "      <th>minmax scaling</th>\n",
       "    </tr>\n",
       "  </thead>\n",
       "  <tbody>\n",
       "    <tr>\n",
       "      <th>0</th>\n",
       "      <td>-3.0</td>\n",
       "      <td>-0.15</td>\n",
       "      <td>-0.950995</td>\n",
       "      <td>0.000000</td>\n",
       "    </tr>\n",
       "    <tr>\n",
       "      <th>1</th>\n",
       "      <td>-2.0</td>\n",
       "      <td>-0.10</td>\n",
       "      <td>-0.789809</td>\n",
       "      <td>0.043478</td>\n",
       "    </tr>\n",
       "    <tr>\n",
       "      <th>2</th>\n",
       "      <td>-1.0</td>\n",
       "      <td>-0.05</td>\n",
       "      <td>-0.628624</td>\n",
       "      <td>0.086957</td>\n",
       "    </tr>\n",
       "    <tr>\n",
       "      <th>3</th>\n",
       "      <td>0.0</td>\n",
       "      <td>0.00</td>\n",
       "      <td>-0.467438</td>\n",
       "      <td>0.130435</td>\n",
       "    </tr>\n",
       "    <tr>\n",
       "      <th>4</th>\n",
       "      <td>1.0</td>\n",
       "      <td>0.05</td>\n",
       "      <td>-0.306253</td>\n",
       "      <td>0.173913</td>\n",
       "    </tr>\n",
       "    <tr>\n",
       "      <th>5</th>\n",
       "      <td>2.0</td>\n",
       "      <td>0.10</td>\n",
       "      <td>-0.145067</td>\n",
       "      <td>0.217391</td>\n",
       "    </tr>\n",
       "    <tr>\n",
       "      <th>6</th>\n",
       "      <td>3.0</td>\n",
       "      <td>0.15</td>\n",
       "      <td>0.016119</td>\n",
       "      <td>0.260870</td>\n",
       "    </tr>\n",
       "    <tr>\n",
       "      <th>7</th>\n",
       "      <td>4.0</td>\n",
       "      <td>0.20</td>\n",
       "      <td>0.177304</td>\n",
       "      <td>0.304348</td>\n",
       "    </tr>\n",
       "    <tr>\n",
       "      <th>8</th>\n",
       "      <td>5.0</td>\n",
       "      <td>0.25</td>\n",
       "      <td>0.338490</td>\n",
       "      <td>0.347826</td>\n",
       "    </tr>\n",
       "    <tr>\n",
       "      <th>9</th>\n",
       "      <td>20.0</td>\n",
       "      <td>1.00</td>\n",
       "      <td>2.756273</td>\n",
       "      <td>1.000000</td>\n",
       "    </tr>\n",
       "  </tbody>\n",
       "</table>\n",
       "</div>"
      ],
      "text/plain": [
       "      X  simple scaling  standard scaling  minmax scaling\n",
       "0  -3.0           -0.15         -0.950995        0.000000\n",
       "1  -2.0           -0.10         -0.789809        0.043478\n",
       "2  -1.0           -0.05         -0.628624        0.086957\n",
       "3   0.0            0.00         -0.467438        0.130435\n",
       "4   1.0            0.05         -0.306253        0.173913\n",
       "5   2.0            0.10         -0.145067        0.217391\n",
       "6   3.0            0.15          0.016119        0.260870\n",
       "7   4.0            0.20          0.177304        0.304348\n",
       "8   5.0            0.25          0.338490        0.347826\n",
       "9  20.0            1.00          2.756273        1.000000"
      ]
     },
     "execution_count": 9,
     "metadata": {},
     "output_type": "execute_result"
    }
   ],
   "source": [
    "df"
   ]
  },
  {
   "cell_type": "markdown",
   "metadata": {
    "slideshow": {
     "slide_type": "slide"
    }
   },
   "source": [
    "### sklearn 의 MinMaxScaler class 사용"
   ]
  },
  {
   "cell_type": "code",
   "execution_count": 10,
   "metadata": {
    "slideshow": {
     "slide_type": "subslide"
    }
   },
   "outputs": [
    {
     "data": {
      "text/plain": [
       "array([[0.        ],\n",
       "       [0.04347826],\n",
       "       [0.08695652],\n",
       "       [0.13043478],\n",
       "       [0.17391304],\n",
       "       [0.2173913 ],\n",
       "       [0.26086957],\n",
       "       [0.30434783],\n",
       "       [0.34782609],\n",
       "       [1.        ]])"
      ]
     },
     "execution_count": 10,
     "metadata": {},
     "output_type": "execute_result"
    }
   ],
   "source": [
    "from sklearn.preprocessing import MinMaxScaler\n",
    "\n",
    "scaler = MinMaxScaler()\n",
    "after_norm = scaler.fit(X)\n",
    "scaler.transform(X)\n",
    "\n",
    "after_norm = scaler.fit_transform(X)\n",
    "after_norm"
   ]
  },
  {
   "cell_type": "markdown",
   "metadata": {
    "slideshow": {
     "slide_type": "slide"
    }
   },
   "source": [
    "### sklearn 의 StandardScaler 사용"
   ]
  },
  {
   "cell_type": "code",
   "execution_count": 11,
   "metadata": {
    "slideshow": {
     "slide_type": "subslide"
    }
   },
   "outputs": [
    {
     "data": {
      "text/plain": [
       "array([[-0.95099461],\n",
       "       [-0.78980908],\n",
       "       [-0.62862356],\n",
       "       [-0.46743803],\n",
       "       [-0.3062525 ],\n",
       "       [-0.14506697],\n",
       "       [ 0.01611855],\n",
       "       [ 0.17730408],\n",
       "       [ 0.33848961],\n",
       "       [ 2.75627252]])"
      ]
     },
     "execution_count": 11,
     "metadata": {},
     "output_type": "execute_result"
    }
   ],
   "source": [
    "from sklearn.preprocessing import StandardScaler\n",
    "\n",
    "scaler = StandardScaler()\n",
    "scaler.fit(X)\n",
    "scaler.transform(X)"
   ]
  },
  {
   "cell_type": "code",
   "execution_count": 12,
   "metadata": {
    "slideshow": {
     "slide_type": "subslide"
    }
   },
   "outputs": [
    {
     "data": {
      "image/png": "[encoded data removed]",
      "text/plain": [
       "<Figure size 1008x288 with 4 Axes>"
      ]
     },
     "metadata": {
      "needs_background": "light"
     },
     "output_type": "display_data"
    }
   ],
   "source": [
    "import matplotlib.pyplot as plt\n",
    "%matplotlib inline\n",
    "\n",
    "plt.figure(figsize=(14,4))\n",
    "plt.subplot(1,4,1)\n",
    "plt.hist(X, bins=50);\n",
    "plt.title('original data')\n",
    "\n",
    "plt.subplot(1,4,2)\n",
    "plt.hist(X/X.max(), bins=50);\n",
    "plt.title('simple scaling')\n",
    "\n",
    "plt.subplot(1,4,3)\n",
    "plt.hist(scale(X), bins=50);\n",
    "plt.title('standard scaling')\n",
    "\n",
    "plt.subplot(1,4,4)\n",
    "plt.hist(minmax_scale(X), bins=50);\n",
    "plt.title('min-max scaling');"
   ]
  },
  {
   "cell_type": "code",
   "execution_count": null,
   "metadata": {},
   "outputs": [],
   "source": []
  }
 ],
 "metadata": {
  "kernelspec": {
   "display_name": "Python 3",
   "language": "python",
   "name": "python3"
  },
  "language_info": {
   "codemirror_mode": {
    "name": "ipython",
    "version": 3
   },
   "file_extension": ".py",
   "mimetype": "text/x-python",
   "name": "python",
   "nbconvert_exporter": "python",
   "pygments_lexer": "ipython3",
   "version": "3.7.3"
  }
 },
 "nbformat": 4,
 "nbformat_minor": 2
}
