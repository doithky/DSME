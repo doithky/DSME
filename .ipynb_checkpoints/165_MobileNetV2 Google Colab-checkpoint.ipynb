{
 "cells": [
  {
   "cell_type": "markdown",
   "metadata": {
    "colab_type": "text",
    "id": "ZVArmx1lquEI"
   },
   "source": [
    "# 165. Mobilenet model fine-tuning on Google Colab"
   ]
  },
  {
   "cell_type": "code",
   "execution_count": 1,
   "metadata": {
    "colab": {},
    "colab_type": "code",
    "id": "MUluk_gMlym1"
   },
   "outputs": [],
   "source": [
    "import shutil\n",
    "import os\n",
    "import numpy as np\n",
    "import tensorflow.keras as keras\n",
    "from tensorflow.keras.models import Sequential\n",
    "from tensorflow.keras.layers import Dense, Flatten, Activation\n",
    "from tensorflow.keras.optimizers import Adam\n",
    "from tensorflow.keras.preprocessing.image import ImageDataGenerator\n",
    "from tensorflow.keras.applications.mobilenet import preprocess_input\n",
    "from tensorflow.keras.models import Model\n",
    "from tensorflow.keras.optimizers import Adam\n",
    "import matplotlib.pyplot as plt"
   ]
  },
  {
   "cell_type": "markdown",
   "metadata": {
    "colab_type": "text",
    "id": "H2pUUPR7qKod"
   },
   "source": [
    "## data copy"
   ]
  },
  {
   "cell_type": "code",
   "execution_count": 2,
   "metadata": {
    "colab": {
     "base_uri": "https://localhost:8080/",
     "height": 214
    },
    "colab_type": "code",
    "id": "AK3HqggCn9pZ",
    "outputId": "f505307c-a85e-4dd4-c027-a12cd053a1b4"
   },
   "outputs": [
    {
     "name": "stderr",
     "output_type": "stream",
     "text": [
      "'wget'은(는) 내부 또는 외부 명령, 실행할 수 있는 프로그램, 또는\n",
      "배치 파일이 아닙니다.\n"
     ]
    }
   ],
   "source": [
    "!wget --no-check-certificate http://storage.googleapis.com/mledu-datasets/cats_and_dogs_filtered.zip \\\n",
    "  -O ./cats_and_dogs_filtered.zip"
   ]
  },
  {
   "cell_type": "code",
   "execution_count": 0,
   "metadata": {
    "colab": {},
    "colab_type": "code",
    "id": "RvfZHl6TpjwN"
   },
   "outputs": [],
   "source": [
    "shutil.unpack_archive('cats_and_dogs_filtered.zip')"
   ]
  },
  {
   "cell_type": "code",
   "execution_count": 0,
   "metadata": {
    "colab": {},
    "colab_type": "code",
    "id": "t2ptoDwSqcfh"
   },
   "outputs": [],
   "source": [
    "dataset_path = './cats_and_dogs_filtered/'\n",
    "train_path = os.path.join(dataset_path, 'train')\n",
    "valid_path = os.path.join(dataset_path, 'validation')"
   ]
  },
  {
   "cell_type": "code",
   "execution_count": 94,
   "metadata": {
    "colab": {
     "base_uri": "https://localhost:8080/",
     "height": 35
    },
    "colab_type": "code",
    "id": "D_kxHpOFsshk",
    "outputId": "e043202a-79eb-408b-97d0-de35466a8c65"
   },
   "outputs": [
    {
     "name": "stdout",
     "output_type": "stream",
     "text": [
      "./cats_and_dogs_filtered/train\n"
     ]
    }
   ],
   "source": [
    "print(train_path)"
   ]
  },
  {
   "cell_type": "code",
   "execution_count": 110,
   "metadata": {
    "colab": {
     "base_uri": "https://localhost:8080/",
     "height": 53
    },
    "colab_type": "code",
    "id": "6JirP7PCrFVy",
    "outputId": "2521c419-13d6-455f-edec-fbd435ed4f4b"
   },
   "outputs": [
    {
     "name": "stdout",
     "output_type": "stream",
     "text": [
      "Found 2000 images belonging to 2 classes.\n",
      "Found 1000 images belonging to 2 classes.\n"
     ]
    }
   ],
   "source": [
    "train_batches = ImageDataGenerator(rescale=1/255.).flow_from_directory(train_path, target_size=(128, 128), \\\n",
    "                  batch_size=128, class_mode='categorical')\n",
    "valid_batches = ImageDataGenerator(rescale=1/255.).flow_from_directory(valid_path, target_size=(128, 128), \\\n",
    "                  batch_size=128, class_mode='categorical')"
   ]
  },
  {
   "cell_type": "code",
   "execution_count": 0,
   "metadata": {
    "colab": {},
    "colab_type": "code",
    "id": "OqlxMzH5wfVy"
   },
   "outputs": [],
   "source": [
    "train_imgs, train_labels = next(train_batches)"
   ]
  },
  {
   "cell_type": "code",
   "execution_count": 112,
   "metadata": {
    "colab": {
     "base_uri": "https://localhost:8080/",
     "height": 35
    },
    "colab_type": "code",
    "id": "5HgwlKh0wmgr",
    "outputId": "37a86c25-2856-4a37-8e3e-51bf5a720f50"
   },
   "outputs": [
    {
     "data": {
      "text/plain": [
       "(128, 128, 128, 3)"
      ]
     },
     "execution_count": 112,
     "metadata": {
      "tags": []
     },
     "output_type": "execute_result"
    }
   ],
   "source": [
    "train_imgs.shape"
   ]
  },
  {
   "cell_type": "code",
   "execution_count": 113,
   "metadata": {
    "colab": {
     "base_uri": "https://localhost:8080/",
     "height": 35
    },
    "colab_type": "code",
    "id": "tPFQ76JAwtge",
    "outputId": "52909084-55ff-4083-e1d1-c5d6510e7bf8"
   },
   "outputs": [
    {
     "data": {
      "text/plain": [
       "(128, 2)"
      ]
     },
     "execution_count": 113,
     "metadata": {
      "tags": []
     },
     "output_type": "execute_result"
    }
   ],
   "source": [
    "train_labels.shape"
   ]
  },
  {
   "cell_type": "code",
   "execution_count": 114,
   "metadata": {
    "colab": {
     "base_uri": "https://localhost:8080/",
     "height": 35
    },
    "colab_type": "code",
    "id": "RGST0yr-wzT9",
    "outputId": "00475cb3-b643-4008-f4c3-6c600d3475cf"
   },
   "outputs": [
    {
     "data": {
      "text/plain": [
       "(128, 128, 3)"
      ]
     },
     "execution_count": 114,
     "metadata": {
      "tags": []
     },
     "output_type": "execute_result"
    }
   ],
   "source": [
    "IMG_SHAPE = train_imgs.shape[1:]\n",
    "IMG_SHAPE"
   ]
  },
  {
   "cell_type": "markdown",
   "metadata": {
    "colab_type": "text",
    "id": "KxWmbNs2upr7"
   },
   "source": [
    "## pre-trained model (MobileNetV2) 을 이용하여 model build\n",
    "\n",
    "- MobileNetV2 의 top layer 제거\n",
    "- GlobalAaveragePooling2D + Dense(1) 추가"
   ]
  },
  {
   "cell_type": "code",
   "execution_count": 0,
   "metadata": {
    "colab": {},
    "colab_type": "code",
    "id": "Hxpiw9u3r_Gu"
   },
   "outputs": [],
   "source": [
    "base_model = keras.applications.MobileNetV2(input_shape=IMG_SHAPE, include_top=False, weights=\"imagenet\")"
   ]
  },
  {
   "cell_type": "code",
   "execution_count": 0,
   "metadata": {
    "colab": {},
    "colab_type": "code",
    "id": "fpHpQ0hTwB1W"
   },
   "outputs": [],
   "source": [
    "#base_model.summary()"
   ]
  },
  {
   "cell_type": "markdown",
   "metadata": {
    "colab_type": "text",
    "id": "EznvffgeMvNb"
   },
   "source": [
    "### base model 의 weight 고정"
   ]
  },
  {
   "cell_type": "code",
   "execution_count": 0,
   "metadata": {
    "colab": {},
    "colab_type": "code",
    "id": "cYxzqOlhMrEm"
   },
   "outputs": [],
   "source": [
    "base_model.trainable = False"
   ]
  },
  {
   "cell_type": "code",
   "execution_count": 0,
   "metadata": {
    "colab": {},
    "colab_type": "code",
    "id": "P9BGUMLRxcgt"
   },
   "outputs": [],
   "source": [
    "x = base_model.output\n",
    "global_average_layer = keras.layers.GlobalAveragePooling2D()(x)"
   ]
  },
  {
   "cell_type": "code",
   "execution_count": 0,
   "metadata": {
    "colab": {},
    "colab_type": "code",
    "id": "jLXiNBnezmsR"
   },
   "outputs": [],
   "source": [
    "prediction_layer = keras.layers.Dense(units=2, activation='softmax')(global_average_layer)"
   ]
  },
  {
   "cell_type": "code",
   "execution_count": 0,
   "metadata": {
    "colab": {},
    "colab_type": "code",
    "id": "RgOZzKyUzwqg"
   },
   "outputs": [],
   "source": [
    "model = Model(inputs=base_model.input, outputs=prediction_layer)"
   ]
  },
  {
   "cell_type": "code",
   "execution_count": 121,
   "metadata": {
    "colab": {
     "base_uri": "https://localhost:8080/",
     "height": 35
    },
    "colab_type": "code",
    "id": "3mwnDVo8z9qa",
    "outputId": "84ac73d2-7e03-4c38-ac3f-c0d6caf59fab"
   },
   "outputs": [
    {
     "data": {
      "text/plain": [
       "tensorflow.python.keras.engine.training.Model"
      ]
     },
     "execution_count": 121,
     "metadata": {
      "tags": []
     },
     "output_type": "execute_result"
    }
   ],
   "source": [
    "type(model)"
   ]
  },
  {
   "cell_type": "code",
   "execution_count": 0,
   "metadata": {
    "colab": {},
    "colab_type": "code",
    "id": "__jF2P4L0StV"
   },
   "outputs": [],
   "source": [
    "#model.summary()"
   ]
  },
  {
   "cell_type": "markdown",
   "metadata": {
    "colab_type": "text",
    "id": "d0DIO7OeM_1V"
   },
   "source": [
    "## Fine tuning 이전에 새로이 add 한 layer 1 차 training"
   ]
  },
  {
   "cell_type": "code",
   "execution_count": 0,
   "metadata": {
    "colab": {},
    "colab_type": "code",
    "id": "jW3puLd5NKCO"
   },
   "outputs": [],
   "source": [
    "model.compile(optimizer=Adam(lr=1e-4), loss='categorical_crossentropy', metrics=['accuracy'])"
   ]
  },
  {
   "cell_type": "code",
   "execution_count": 124,
   "metadata": {
    "colab": {
     "base_uri": "https://localhost:8080/",
     "height": 234
    },
    "colab_type": "code",
    "id": "JHF1Lbz0NJpz",
    "outputId": "cb5558b0-7459-4348-e183-5f796dd3bff5"
   },
   "outputs": [
    {
     "name": "stdout",
     "output_type": "stream",
     "text": [
      "Epoch 1/5\n",
      "16/16 [==============================] - 14s 869ms/step - loss: 0.6770 - acc: 0.6505 - val_loss: 0.4693 - val_acc: 0.7800\n",
      "Epoch 2/5\n",
      "16/16 [==============================] - 6s 404ms/step - loss: 0.5863 - acc: 0.7035 - val_loss: 0.4014 - val_acc: 0.8320\n",
      "Epoch 3/5\n",
      "16/16 [==============================] - 7s 425ms/step - loss: 0.5109 - acc: 0.7535 - val_loss: 0.3560 - val_acc: 0.8510\n",
      "Epoch 4/5\n",
      "16/16 [==============================] - 7s 418ms/step - loss: 0.4604 - acc: 0.7780 - val_loss: 0.3206 - val_acc: 0.8650\n",
      "Epoch 5/5\n",
      "16/16 [==============================] - 7s 425ms/step - loss: 0.4107 - acc: 0.8090 - val_loss: 0.2904 - val_acc: 0.8790\n"
     ]
    },
    {
     "data": {
      "text/plain": [
       "<tensorflow.python.keras.callbacks.History at 0x7fc11ca19c18>"
      ]
     },
     "execution_count": 124,
     "metadata": {
      "tags": []
     },
     "output_type": "execute_result"
    }
   ],
   "source": [
    "model.fit_generator(train_batches, epochs=5, validation_data=valid_batches, verbose=1)"
   ]
  },
  {
   "cell_type": "code",
   "execution_count": 0,
   "metadata": {
    "colab": {},
    "colab_type": "code",
    "id": "CzKUyMTANw62"
   },
   "outputs": [],
   "source": [
    "valid_loss, valid_accuracy = model.evaluate_generator(valid_batches)"
   ]
  },
  {
   "cell_type": "code",
   "execution_count": 126,
   "metadata": {
    "colab": {
     "base_uri": "https://localhost:8080/",
     "height": 35
    },
    "colab_type": "code",
    "id": "Uz7m-pCAN3-M",
    "outputId": "08370a85-92fb-4c10-8c95-37b30ccee081"
   },
   "outputs": [
    {
     "name": "stdout",
     "output_type": "stream",
     "text": [
      "Validation Accuracy after pre-training = 0.8790000081062317\n"
     ]
    }
   ],
   "source": [
    "print(\"Validation Accuracy after pre-training = {}\".format(valid_accuracy))"
   ]
  },
  {
   "cell_type": "code",
   "execution_count": 127,
   "metadata": {
    "colab": {
     "base_uri": "https://localhost:8080/",
     "height": 35
    },
    "colab_type": "code",
    "id": "68FvT64a2-Ld",
    "outputId": "cf6b6b0f-c6f0-458a-afaf-ba6cf93b40ba"
   },
   "outputs": [
    {
     "data": {
      "text/plain": [
       "157"
      ]
     },
     "execution_count": 127,
     "metadata": {
      "tags": []
     },
     "output_type": "execute_result"
    }
   ],
   "source": [
    "len(model.layers)"
   ]
  },
  {
   "cell_type": "markdown",
   "metadata": {
    "colab_type": "text",
    "id": "etvHnqSE3LDp"
   },
   "source": [
    "### 157 개 layer 중 마지막 50 개 layer 만 fine tuning"
   ]
  },
  {
   "cell_type": "code",
   "execution_count": 0,
   "metadata": {
    "colab": {},
    "colab_type": "code",
    "id": "Z-643n0o3Jll"
   },
   "outputs": [],
   "source": [
    "model.trainable = True\n",
    "\n",
    "for layer in model.layers[:-50]:\n",
    "  layer.trainable = False"
   ]
  },
  {
   "cell_type": "code",
   "execution_count": 0,
   "metadata": {
    "colab": {},
    "colab_type": "code",
    "id": "f0LuL_Mv0U66"
   },
   "outputs": [],
   "source": [
    "model.compile(optimizer=Adam(lr=1e-4), loss='categorical_crossentropy', metrics=['accuracy'])"
   ]
  },
  {
   "cell_type": "code",
   "execution_count": 130,
   "metadata": {
    "colab": {
     "base_uri": "https://localhost:8080/",
     "height": 214
    },
    "colab_type": "code",
    "id": "9SDc4wk206Xi",
    "outputId": "dcbbc1f5-c330-462b-d04c-67ca658c3424"
   },
   "outputs": [
    {
     "name": "stdout",
     "output_type": "stream",
     "text": [
      "Epoch 1/5\n",
      "16/16 - 17s - loss: 0.1970 - acc: 0.9210 - val_loss: 0.1110 - val_acc: 0.9620\n",
      "Epoch 2/5\n",
      "16/16 - 6s - loss: 0.0304 - acc: 0.9925 - val_loss: 0.1288 - val_acc: 0.9590\n",
      "Epoch 3/5\n",
      "16/16 - 7s - loss: 0.0074 - acc: 1.0000 - val_loss: 0.1404 - val_acc: 0.9590\n",
      "Epoch 4/5\n",
      "16/16 - 7s - loss: 0.0059 - acc: 0.9995 - val_loss: 0.1403 - val_acc: 0.9600\n",
      "Epoch 5/5\n",
      "16/16 - 7s - loss: 0.0030 - acc: 1.0000 - val_loss: 0.1404 - val_acc: 0.9600\n"
     ]
    },
    {
     "data": {
      "text/plain": [
       "<tensorflow.python.keras.callbacks.History at 0x7fc121785cf8>"
      ]
     },
     "execution_count": 130,
     "metadata": {
      "tags": []
     },
     "output_type": "execute_result"
    }
   ],
   "source": [
    "model.fit_generator(train_batches, epochs=5, validation_data=valid_batches, verbose=2)"
   ]
  },
  {
   "cell_type": "code",
   "execution_count": 0,
   "metadata": {
    "colab": {},
    "colab_type": "code",
    "id": "zNAyVTWa1FGU"
   },
   "outputs": [],
   "source": [
    "valid_loss, valid_accuracy = model.evaluate_generator(valid_batches)"
   ]
  },
  {
   "cell_type": "code",
   "execution_count": 132,
   "metadata": {
    "colab": {
     "base_uri": "https://localhost:8080/",
     "height": 35
    },
    "colab_type": "code",
    "id": "rA0A5lgn2ZPy",
    "outputId": "30c2078e-808d-4f38-fe95-dcf231729430"
   },
   "outputs": [
    {
     "name": "stdout",
     "output_type": "stream",
     "text": [
      "Validation Accuracy after fine tuning = 0.9599999785423279\n"
     ]
    }
   ],
   "source": [
    "print(\"Validation Accuracy after fine tuning = {}\".format(valid_accuracy))"
   ]
  },
  {
   "cell_type": "code",
   "execution_count": 0,
   "metadata": {
    "colab": {},
    "colab_type": "code",
    "id": "ZiP_zwl42oG-"
   },
   "outputs": [],
   "source": []
  }
 ],
 "metadata": {
  "accelerator": "GPU",
  "colab": {
   "name": "MobileNetV2.ipynb",
   "provenance": [],
   "toc_visible": true,
   "version": "0.3.2"
  },
  "kernelspec": {
   "display_name": "Python 3",
   "language": "python",
   "name": "python3"
  },
  "language_info": {
   "codemirror_mode": {
    "name": "ipython",
    "version": 3
   },
   "file_extension": ".py",
   "mimetype": "text/x-python",
   "name": "python",
   "nbconvert_exporter": "python",
   "pygments_lexer": "ipython3",
   "version": "3.7.6"
  }
 },
 "nbformat": 4,
 "nbformat_minor": 1
}
