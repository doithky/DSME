{
 "cells": [
  {
   "cell_type": "markdown",
   "metadata": {
    "colab_type": "text",
    "id": "ZyxyanlZ5aJp"
   },
   "source": [
    "# 195. Keras API 와 LSTM 을 이용한 한글 어린왕자 문장 생성기\n",
    "\n",
    "- next word 예측"
   ]
  },
  {
   "cell_type": "code",
   "execution_count": 1,
   "metadata": {
    "colab": {
     "base_uri": "https://localhost:8080/",
     "height": 34
    },
    "colab_type": "code",
    "id": "5u9jNWtU52yT",
    "outputId": "81640113-63c5-4ddc-f394-217387b42d7a"
   },
   "outputs": [
    {
     "name": "stdout",
     "output_type": "stream",
     "text": [
      "TensorFlow 2.x selected.\n"
     ]
    }
   ],
   "source": [
    "%tensorflow_version 2.x"
   ]
  },
  {
   "cell_type": "code",
   "execution_count": 0,
   "metadata": {
    "colab": {},
    "colab_type": "code",
    "id": "BOwsuGQQY9OL"
   },
   "outputs": [],
   "source": [
    "import tensorflow as tf\n",
    "import numpy as np\n",
    "from tensorflow.keras.preprocessing.sequence import pad_sequences\n",
    "from tensorflow.keras.layers import Embedding, LSTM, Dense, Dropout, Bidirectional\n",
    "from tensorflow.keras.preprocessing.text import Tokenizer\n",
    "from tensorflow.keras.models import Sequential\n",
    "import tensorflow.keras.regularizers as regularizers\n",
    "import numpy as np "
   ]
  },
  {
   "cell_type": "code",
   "execution_count": 5,
   "metadata": {
    "colab": {
     "base_uri": "https://localhost:8080/",
     "height": 54
    },
    "colab_type": "code",
    "id": "n19R9Jpy5aJu",
    "outputId": "129d4144-abb5-45c4-ab35-e0d738102e3c"
   },
   "outputs": [
    {
     "data": {
      "text/plain": [
       "'여섯 살 적에 나는 \"체험한 이야기\"라는 제목의, 원시림에 관한 책에서 기막힌 그림 하나를 본 적이 있다. 맹수를 집어삼키고 있는 보아 구렁이 그림이었다. 위의 그림은 그것을 옮겨 그린 것이다. 그 책에는 이렇게 씌어 있었다. \"보아 구렁이는 먹이를 씹지도 않고 통째로 집어삼킨다.그리고는 꼼짝도 하지 못하고 여섯 달 동안 잠을 자면서 그것을 소화시킨다.\" 나는 그래서 밀림 속에서의 모험에 대해 한참 생각해 보고 난 끝에 색연필을 가지고 내 나름대로 내 생애 첫번째 그림을 그려보았다. 나의 그림 제 1호였다. 그것은 이런 그림이었다. 나는 그 걸작품을 어른들에게 보여 주면서내 그림이 무섭지 않느냐고 물었다. 그들은 \"모자가 뭐가 무섭다는 거니?\" 하고 대답했다. 내 그림은 모자를 그린 게 아니었다. 그것은 코끼리를 소화시키고 있는 보아 구렁이었다. 그래서 나는 어른들이 알아볼 수 있도록 보아 구렁이의 속을 그렸다. 어른들은 언제나 설명을 해주어야만 한다. 나의 그림 제 2호는 이러했다. 어른들은 속이 보이거나 보이지 않거나 하는 보아 구렁이의 그림들은 집어치우고 차라리 지리, 역사, 계산, 그리고 문법 쪽에 관심을 가져보는 게 좋을 것이라고 충고해 주었다. 그래서 나는 여섯 살 적에 화가라는 멋진 직업을 포기해 버렸다.내 그림제 1호와 제 2호가 성공을 거두지 못한 데 낙심해 버렸던 것이다. 어른들은언제나 스스로는 아무것도 이해하지 못한다.자꾸자꾸 설명을 해주어야 하니 맥빠지는 노릇이 아닐 수 없다. 그래서 다른 직업을 선택하지 않을 수 없게 된 나는 비행기 조종하는 법을배웠다.세계의 여기저기 거의 안 가본 데 없이 나는 날아다녔다.그러니지리는 정말로 많은 도움을 준 셈이었다.한번 슬쩍 보고도 중국과 애리조나를 나는 구별할 수 있었던 것이다.그것은 밤에 길을 잃었을 때 아주 유용한 일이다. 나는 그리하여 일생 동안 수없이 많은 점잖은 사람들과수많은 접촉을 가져왔다.어른들 틈에서 많이 살아온 것이다.나는 가까이서 그들을 볼 수있었다. 그렇다고 해서 그들에 대한 내'"
      ]
     },
     "execution_count": 5,
     "metadata": {
      "tags": []
     },
     "output_type": "execute_result"
    }
   ],
   "source": [
    "r = open(\"datasets/어린왕자-dmsah10.txt\", 'r', encoding=\"cp949\")\n",
    "\n",
    "texts = r.readlines()\n",
    "lines = []\n",
    "\n",
    "for line in texts:\n",
    "    line = line.strip().lower()\n",
    "    if len(line) == 0:\n",
    "        continue\n",
    "    lines.append(line)\n",
    "\n",
    "text = \" \".join(lines)\n",
    "text[:1000]"
   ]
  },
  {
   "cell_type": "code",
   "execution_count": 0,
   "metadata": {
    "colab": {},
    "colab_type": "code",
    "id": "7SZhigNh5aJx"
   },
   "outputs": [],
   "source": [
    "import re\n",
    "\n",
    "corpus = re.split('[,.]', text)"
   ]
  },
  {
   "cell_type": "code",
   "execution_count": 7,
   "metadata": {
    "colab": {
     "base_uri": "https://localhost:8080/",
     "height": 191
    },
    "colab_type": "code",
    "id": "zk-Kn9785aJ0",
    "outputId": "a4cd337d-0470-4f51-a983-a842deaaaac1"
   },
   "outputs": [
    {
     "data": {
      "text/plain": [
       "['여섯 살 적에 나는 \"체험한 이야기\"라는 제목의',\n",
       " ' 원시림에 관한 책에서 기막힌 그림 하나를 본 적이 있다',\n",
       " ' 맹수를 집어삼키고 있는 보아 구렁이 그림이었다',\n",
       " ' 위의 그림은 그것을 옮겨 그린 것이다',\n",
       " ' 그 책에는 이렇게 씌어 있었다',\n",
       " ' \"보아 구렁이는 먹이를 씹지도 않고 통째로 집어삼킨다',\n",
       " '그리고는 꼼짝도 하지 못하고 여섯 달 동안 잠을 자면서 그것을 소화시킨다',\n",
       " '\" 나는 그래서 밀림 속에서의 모험에 대해 한참 생각해 보고 난 끝에 색연필을 가지고 내 나름대로 내 생애 첫번째 그림을 그려보았다',\n",
       " ' 나의 그림 제 1호였다',\n",
       " ' 그것은 이런 그림이었다']"
      ]
     },
     "execution_count": 7,
     "metadata": {
      "tags": []
     },
     "output_type": "execute_result"
    }
   ],
   "source": [
    "corpus[:10]"
   ]
  },
  {
   "cell_type": "code",
   "execution_count": 8,
   "metadata": {
    "colab": {
     "base_uri": "https://localhost:8080/",
     "height": 34
    },
    "colab_type": "code",
    "id": "B0aXEN_15aJ2",
    "outputId": "053b4f18-349c-4441-ac37-6b6dad4538f3"
   },
   "outputs": [
    {
     "name": "stdout",
     "output_type": "stream",
     "text": [
      "4594\n"
     ]
    }
   ],
   "source": [
    "tokenizer = Tokenizer()\n",
    "\n",
    "tokenizer.fit_on_texts(corpus)\n",
    "total_words = len(tokenizer.word_index) + 1\n",
    "print(total_words)"
   ]
  },
  {
   "cell_type": "code",
   "execution_count": 0,
   "metadata": {
    "colab": {},
    "colab_type": "code",
    "id": "rn-AIOff5aJ4"
   },
   "outputs": [],
   "source": [
    "# create input sequences using list of tokens\n",
    "input_sequences = []\n",
    "\n",
    "for line in corpus:\n",
    "    token_list = tokenizer.texts_to_sequences([line])[0]\n",
    "    for i in range(1, len(token_list)):\n",
    "        n_gram_sequence = token_list[:i+1]\n",
    "        input_sequences.append(n_gram_sequence)"
   ]
  },
  {
   "cell_type": "code",
   "execution_count": 10,
   "metadata": {
    "colab": {
     "base_uri": "https://localhost:8080/",
     "height": 209
    },
    "colab_type": "code",
    "id": "tsplC63C5aJ6",
    "outputId": "e00c4261-c39f-40dc-f2e5-dbab79b7247b"
   },
   "outputs": [
    {
     "name": "stdout",
     "output_type": "stream",
     "text": [
      "9365\n"
     ]
    },
    {
     "data": {
      "text/plain": [
       "[[142, 245],\n",
       " [142, 245, 371],\n",
       " [142, 245, 371, 3],\n",
       " [142, 245, 371, 3, 1322],\n",
       " [142, 245, 371, 3, 1322, 739],\n",
       " [142, 245, 371, 3, 1322, 739, 372],\n",
       " [142, 245, 371, 3, 1322, 739, 372, 1323],\n",
       " [1324, 1325],\n",
       " [1324, 1325, 1326],\n",
       " [1324, 1325, 1326, 1327]]"
      ]
     },
     "execution_count": 10,
     "metadata": {
      "tags": []
     },
     "output_type": "execute_result"
    }
   ],
   "source": [
    "print(len(input_sequences))\n",
    "input_sequences[:10]"
   ]
  },
  {
   "cell_type": "code",
   "execution_count": 11,
   "metadata": {
    "colab": {
     "base_uri": "https://localhost:8080/",
     "height": 139
    },
    "colab_type": "code",
    "id": "-kSzQM4p5aJ8",
    "outputId": "25968f6e-432a-46a0-a551-d07588cc378c"
   },
   "outputs": [
    {
     "data": {
      "text/plain": [
       "array([[   0,    0,    0, ...,    0,  142,  245],\n",
       "       [   0,    0,    0, ...,  142,  245,  371],\n",
       "       [   0,    0,    0, ...,  245,  371,    3],\n",
       "       ...,\n",
       "       [   0,    0,    0, ..., 4591, 1139, 4592],\n",
       "       [   0,    0,    0, ..., 1139, 4592, 4593],\n",
       "       [   0,    0,    0, ..., 4592, 4593,  525]], dtype=int32)"
      ]
     },
     "execution_count": 11,
     "metadata": {
      "tags": []
     },
     "output_type": "execute_result"
    }
   ],
   "source": [
    "# pad sequences \n",
    "max_sequence_len = max([len(x) for x in input_sequences])\n",
    "\n",
    "input_sequences = np.array(pad_sequences(input_sequences, maxlen=max_sequence_len, padding='pre'))\n",
    "input_sequences"
   ]
  },
  {
   "cell_type": "code",
   "execution_count": 0,
   "metadata": {
    "colab": {},
    "colab_type": "code",
    "id": "yU3N25jx5aJ-"
   },
   "outputs": [],
   "source": [
    "text_dataset = tf.data.Dataset.from_tensor_slices(input_sequences)"
   ]
  },
  {
   "cell_type": "code",
   "execution_count": 0,
   "metadata": {
    "colab": {},
    "colab_type": "code",
    "id": "YWPQPgs05aKB"
   },
   "outputs": [],
   "source": [
    "def split_input_target(chunk):\n",
    "    input_text = chunk[:-1]\n",
    "    target_text = chunk[-1]\n",
    "    return input_text, target_text"
   ]
  },
  {
   "cell_type": "code",
   "execution_count": 14,
   "metadata": {
    "colab": {
     "base_uri": "https://localhost:8080/",
     "height": 523
    },
    "colab_type": "code",
    "id": "PlE-4oP55aKF",
    "outputId": "c000659f-b7f1-427b-8d7d-e4eef3eed5b3"
   },
   "outputs": [
    {
     "name": "stdout",
     "output_type": "stream",
     "text": [
      "tf.Tensor(\n",
      "[[   0    0    0 ...    0    0  142]\n",
      " [   0    0    0 ...    0  142  245]\n",
      " [   0    0    0 ...  142  245  371]\n",
      " ...\n",
      " [   0    0    0 ...  128  189 1418]\n",
      " [   0    0    0 ...  189 1418 1419]\n",
      " [   0    0    0 ...    0    0   23]], shape=(256, 51), dtype=int32)\n",
      "\n",
      "tf.Tensor(\n",
      "[ 245  371    3 1322  739  372 1323 1325 1326 1327  207  740   87  126\n",
      "  143 1329   10  113  373  741  298  144  742  246   13  743   61 1330\n",
      "   20  744 1331 1332  186 1333 1334  745   43  493  142 1335  299  247\n",
      " 1336  144 1337   17 1338 1339 1340  114  374  300  167   14 1341 1342\n",
      "   91   11 1343   11 1344  746  145 1345  207  248 1346  168  741    2\n",
      " 1347  747  748 1348 1349  749 1350   33  750  751 1351  494   21   28\n",
      "  298  375  246   26  376  752 1352   10  113 1353    3  495  496    9\n",
      " 1354  113  497 1355  249  127  498 1356  147  207  248 1357 1358  301\n",
      "  499   81  753   27  113  497 1359 1360 1361  754 1362 1363 1364  757\n",
      "   26  758  759 1365  377    3  142  245  371 1366  500  501  502  250\n",
      " 1367 1368  248 1369 1370 1371  503  251 1372 1373   13 1375  106  504\n",
      "  760  498  761  762 1377 1378 1379    9  252   39  501 1380  169    9\n",
      "  302  115    3 1381 1382 1383 1385  763  253 1386  251  505    3 1387\n",
      "  208   88 1389  148 1390  764 1391 1392 1393    3  765    9  187   13\n",
      "  506  149 1394  116   34 1395  766  254 1396  299 1397   88 1398 1399\n",
      " 1400 1401 1402  768 1403   13 1404  209  210 1405  255 1407  303   11\n",
      "  188 1408   63 1409  304  507  769 1410  770 1411 1412  379 1413   76\n",
      "  207  248 1414   91    2  507 1415 1416   57   29 1417  256  128  189\n",
      " 1418 1419   13 1420], shape=(256,), dtype=int32)\n"
     ]
    }
   ],
   "source": [
    "dataset = text_dataset.map(split_input_target).batch(256, drop_remainder=True)\n",
    "\n",
    "for input, target in dataset.take(1):\n",
    "  print(input)\n",
    "  print()\n",
    "  print(target)"
   ]
  },
  {
   "cell_type": "code",
   "execution_count": 15,
   "metadata": {
    "colab": {
     "base_uri": "https://localhost:8080/",
     "height": 383
    },
    "colab_type": "code",
    "id": "PRnDnCW-Z7qv",
    "outputId": "68189001-e0bc-4ca3-c44d-efa25edc5f35"
   },
   "outputs": [
    {
     "name": "stdout",
     "output_type": "stream",
     "text": [
      "Model: \"sequential\"\n",
      "_________________________________________________________________\n",
      "Layer (type)                 Output Shape              Param #   \n",
      "=================================================================\n",
      "embedding (Embedding)        (None, None, 100)         459400    \n",
      "_________________________________________________________________\n",
      "bidirectional (Bidirectional (None, None, 64)          34048     \n",
      "_________________________________________________________________\n",
      "dropout (Dropout)            (None, None, 64)          0         \n",
      "_________________________________________________________________\n",
      "lstm_1 (LSTM)                (None, 16)                5184      \n",
      "_________________________________________________________________\n",
      "dense (Dense)                (None, 2297)              39049     \n",
      "_________________________________________________________________\n",
      "dense_1 (Dense)              (None, 4594)              10557012  \n",
      "=================================================================\n",
      "Total params: 11,094,693\n",
      "Trainable params: 11,094,693\n",
      "Non-trainable params: 0\n",
      "_________________________________________________________________\n",
      "None\n"
     ]
    }
   ],
   "source": [
    "model = Sequential()\n",
    "model.add(Embedding(total_words, 100))\n",
    "model.add(Bidirectional(LSTM(32, return_sequences = True)))\n",
    "model.add(Dropout(0.2))\n",
    "model.add(LSTM(16))\n",
    "model.add(Dense(total_words/2, activation='relu', kernel_regularizer=regularizers.l2(0.01)))\n",
    "model.add(Dense(total_words, activation='softmax'))\n",
    "\n",
    "model.compile(loss='sparse_categorical_crossentropy', optimizer='adam', metrics=['accuracy'])\n",
    "print(model.summary())"
   ]
  },
  {
   "cell_type": "code",
   "execution_count": null,
   "metadata": {
    "colab": {
     "base_uri": "https://localhost:8080/",
     "height": 1000
    },
    "colab_type": "code",
    "id": "AIg2f1HBxqof",
    "outputId": "5ac6871d-09e5-4cd4-e5b3-5bdb3a0a39a9",
    "scrolled": true
   },
   "outputs": [],
   "source": [
    " %%time\n",
    " history = model.fit(dataset, epochs=200, verbose=1)"
   ]
  },
  {
   "cell_type": "code",
   "execution_count": 23,
   "metadata": {
    "colab": {
     "base_uri": "https://localhost:8080/",
     "height": 545
    },
    "colab_type": "code",
    "id": "1fXTEO3GJ282",
    "outputId": "58e0bb7e-c32d-4fb4-c567-7c3b713212bc"
   },
   "outputs": [
    {
     "data": {
      "image/png": "[encoded data removed]",
      "text/plain": [
       "<Figure size 432x288 with 1 Axes>"
      ]
     },
     "metadata": {
      "tags": []
     },
     "output_type": "display_data"
    },
    {
     "data": {
      "image/png": "[encoded data removed]",
      "text/plain": [
       "<Figure size 432x288 with 1 Axes>"
      ]
     },
     "metadata": {
      "tags": []
     },
     "output_type": "display_data"
    }
   ],
   "source": [
    "import matplotlib.pyplot as plt\n",
    "%matplotlib inline\n",
    "\n",
    "acc = history.history['accuracy']\n",
    "loss = history.history['loss']\n",
    "\n",
    "epochs = range(len(acc))\n",
    "\n",
    "plt.figure(figsize=(12,4))\n",
    "\n",
    "plt.subplot(1, 2, 1)\n",
    "plt.plot(epochs, acc, 'b', label='Training accuracy')\n",
    "plt.title('Training accuracy')\n",
    "\n",
    "plt.subplot(1, 2, 2)\n",
    "plt.plot(epochs, loss, 'b', label='Training Loss')\n",
    "plt.title('Training loss')\n",
    "plt.legend()\n",
    "\n",
    "plt.show()"
   ]
  },
  {
   "cell_type": "code",
   "execution_count": 24,
   "metadata": {
    "colab": {
     "base_uri": "https://localhost:8080/",
     "height": 54
    },
    "colab_type": "code",
    "id": "6Vc6PHgxa6Hm",
    "outputId": "b77297e7-bf8f-46ff-d39b-d69338313a38"
   },
   "outputs": [
    {
     "name": "stdout",
     "output_type": "stream",
     "text": [
      "그래서 나는 어른들이 알아볼 수 있도록 보아 구렁이의 속을 그렸다 그렸다 말이다 해냈으면 데라곤 쌓아 움직이는 알 시간이 없어졌어 전부터 꼭 꺼질 수 없는 것이다 이 세상에 오직 하나뿐이 라는 걸 깨닫게 될 거야 거야 이 세상에 있잖아 내가 알게 된 이 세상에 하는 사람인지 알게 된 섭섭했다 세어 싶습니다 큰 바라보았다 옷을 말이다 나쁜 같은 분이 것이다 불이 꺼진 화산이지요 사리에 두드렸다 갖는 않은 계산보다 더 눈에 잠을 양 거지 한 나쁜 하늘을 바라보며 세 잘 보았어요 라고 이 그림을 들여다보았다 이행되는지 그는 말을 알게 되었다 된다 생각했다 발견하면 그건 네 소유가 되는 거고 없었다 일이었다 조금씩 몸이 갖는 것은 나의 명령들이 이치에 맞는 까닭이다 나쁜 초상화를 주고는 줄\n"
     ]
    }
   ],
   "source": [
    "seed_text = \"그래서 나는 어른들이 알아볼 수 있도록 보아 구렁이의 속을 그렸다\"\n",
    "next_words = 100\n",
    "\n",
    "for _ in range(next_words):\n",
    "    token_list = tokenizer.texts_to_sequences([seed_text])[0]\n",
    "    token_list = pad_sequences([token_list], maxlen=max_sequence_len-1, padding='pre')\n",
    "    predicted = model.predict_classes(token_list, verbose=0)\n",
    "    output_word = tokenizer.index_word[predicted[0]]\n",
    "    seed_text += \" \" + output_word\n",
    "print(seed_text)"
   ]
  },
  {
   "cell_type": "code",
   "execution_count": 0,
   "metadata": {
    "colab": {},
    "colab_type": "code",
    "id": "OX_yyEP95aKZ"
   },
   "outputs": [],
   "source": []
  }
 ],
 "metadata": {
  "accelerator": "GPU",
  "colab": {
   "name": "975.Generating_LSTM_Sentences_YoungPrince_Korean_next_word.ipynb",
   "provenance": []
  },
  "kernelspec": {
   "display_name": "Python 3",
   "language": "python",
   "name": "python3"
  },
  "language_info": {
   "codemirror_mode": {
    "name": "ipython",
    "version": 3
   },
   "file_extension": ".py",
   "mimetype": "text/x-python",
   "name": "python",
   "nbconvert_exporter": "python",
   "pygments_lexer": "ipython3",
   "version": "3.7.6"
  }
 },
 "nbformat": 4,
 "nbformat_minor": 1
}
