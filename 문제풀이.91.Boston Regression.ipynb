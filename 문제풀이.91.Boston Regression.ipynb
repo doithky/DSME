{
 "cells": [
  {
   "cell_type": "markdown",
   "metadata": {},
   "source": [
    "## 실습\n",
    "\n",
    "### UCI Machine Learning Repository 의 Auto MPG dataset 을 사용하여 Regression 예측 model 작성\n",
    "\n",
    "auto-mpg.data - data file  \n",
    "auto-mpg.names - data 설명 file\n",
    "\n",
    "1. mpg:           continuous  \n",
    "2. cylinders:     multi-valued discrete  \n",
    "3. displacement:  continuous (배기량)   \n",
    "4. horsepower:    continuous  \n",
    "5. weight:        continuous  \n",
    "6. acceleration:  continuous  \n",
    "7. model year:    multi-valued discrete  \n",
    "8. origin:        multi-valued discrete, 1 - USA, 2 - Europe, 3 - Japan  \n",
    "9. car name:      string (unique for each instance)  \n",
    "\n",
    "Missing Attribute Values:  horsepower has 6 missing values  ==> \"?\" 로 들어 있으므로 read_csv 시 nan 으로 변환"
   ]
  },
  {
   "cell_type": "code",
   "execution_count": 1,
   "metadata": {},
   "outputs": [],
   "source": [
    "import pandas as pd\n",
    "import numpy as np\n",
    "import tensorflow as tf\n",
    "from tensorflow import keras\n",
    "from tensorflow.keras.models import Sequential\n",
    "from tensorflow.keras.layers import Dense, Activation, Dropout\n",
    "from sklearn.model_selection import train_test_split\n",
    "from sklearn.preprocessing import StandardScaler"
   ]
  },
  {
   "cell_type": "markdown",
   "metadata": {},
   "source": [
    "### Data load 및 Preprocessing"
   ]
  },
  {
   "cell_type": "code",
   "execution_count": 16,
   "metadata": {},
   "outputs": [
    {
     "data": {
      "text/html": [
       "<div>\n",
       "<style scoped>\n",
       "    .dataframe tbody tr th:only-of-type {\n",
       "        vertical-align: middle;\n",
       "    }\n",
       "\n",
       "    .dataframe tbody tr th {\n",
       "        vertical-align: top;\n",
       "    }\n",
       "\n",
       "    .dataframe thead th {\n",
       "        text-align: right;\n",
       "    }\n",
       "</style>\n",
       "<table border=\"1\" class=\"dataframe\">\n",
       "  <thead>\n",
       "    <tr style=\"text-align: right;\">\n",
       "      <th></th>\n",
       "      <th>displacement</th>\n",
       "      <th>horsepower</th>\n",
       "      <th>weight</th>\n",
       "      <th>acceleration</th>\n",
       "      <th>model year</th>\n",
       "      <th>cylinders_3</th>\n",
       "      <th>cylinders_4</th>\n",
       "      <th>cylinders_5</th>\n",
       "      <th>cylinders_6</th>\n",
       "      <th>cylinders_8</th>\n",
       "      <th>origin_1</th>\n",
       "      <th>origin_2</th>\n",
       "      <th>origin_3</th>\n",
       "    </tr>\n",
       "  </thead>\n",
       "  <tbody>\n",
       "    <tr>\n",
       "      <th>0</th>\n",
       "      <td>307.0</td>\n",
       "      <td>130.0</td>\n",
       "      <td>3504.0</td>\n",
       "      <td>12.0</td>\n",
       "      <td>70</td>\n",
       "      <td>0</td>\n",
       "      <td>0</td>\n",
       "      <td>0</td>\n",
       "      <td>0</td>\n",
       "      <td>1</td>\n",
       "      <td>1</td>\n",
       "      <td>0</td>\n",
       "      <td>0</td>\n",
       "    </tr>\n",
       "    <tr>\n",
       "      <th>1</th>\n",
       "      <td>350.0</td>\n",
       "      <td>165.0</td>\n",
       "      <td>3693.0</td>\n",
       "      <td>11.5</td>\n",
       "      <td>70</td>\n",
       "      <td>0</td>\n",
       "      <td>0</td>\n",
       "      <td>0</td>\n",
       "      <td>0</td>\n",
       "      <td>1</td>\n",
       "      <td>1</td>\n",
       "      <td>0</td>\n",
       "      <td>0</td>\n",
       "    </tr>\n",
       "    <tr>\n",
       "      <th>2</th>\n",
       "      <td>318.0</td>\n",
       "      <td>150.0</td>\n",
       "      <td>3436.0</td>\n",
       "      <td>11.0</td>\n",
       "      <td>70</td>\n",
       "      <td>0</td>\n",
       "      <td>0</td>\n",
       "      <td>0</td>\n",
       "      <td>0</td>\n",
       "      <td>1</td>\n",
       "      <td>1</td>\n",
       "      <td>0</td>\n",
       "      <td>0</td>\n",
       "    </tr>\n",
       "    <tr>\n",
       "      <th>3</th>\n",
       "      <td>304.0</td>\n",
       "      <td>150.0</td>\n",
       "      <td>3433.0</td>\n",
       "      <td>12.0</td>\n",
       "      <td>70</td>\n",
       "      <td>0</td>\n",
       "      <td>0</td>\n",
       "      <td>0</td>\n",
       "      <td>0</td>\n",
       "      <td>1</td>\n",
       "      <td>1</td>\n",
       "      <td>0</td>\n",
       "      <td>0</td>\n",
       "    </tr>\n",
       "    <tr>\n",
       "      <th>4</th>\n",
       "      <td>302.0</td>\n",
       "      <td>140.0</td>\n",
       "      <td>3449.0</td>\n",
       "      <td>10.5</td>\n",
       "      <td>70</td>\n",
       "      <td>0</td>\n",
       "      <td>0</td>\n",
       "      <td>0</td>\n",
       "      <td>0</td>\n",
       "      <td>1</td>\n",
       "      <td>1</td>\n",
       "      <td>0</td>\n",
       "      <td>0</td>\n",
       "    </tr>\n",
       "  </tbody>\n",
       "</table>\n",
       "</div>"
      ],
      "text/plain": [
       "   displacement  horsepower  weight  acceleration  model year  cylinders_3  \\\n",
       "0         307.0       130.0  3504.0          12.0          70            0   \n",
       "1         350.0       165.0  3693.0          11.5          70            0   \n",
       "2         318.0       150.0  3436.0          11.0          70            0   \n",
       "3         304.0       150.0  3433.0          12.0          70            0   \n",
       "4         302.0       140.0  3449.0          10.5          70            0   \n",
       "\n",
       "   cylinders_4  cylinders_5  cylinders_6  cylinders_8  origin_1  origin_2  \\\n",
       "0            0            0            0            1         1         0   \n",
       "1            0            0            0            1         1         0   \n",
       "2            0            0            0            1         1         0   \n",
       "3            0            0            0            1         1         0   \n",
       "4            0            0            0            1         1         0   \n",
       "\n",
       "   origin_3  \n",
       "0         0  \n",
       "1         0  \n",
       "2         0  \n",
       "3         0  \n",
       "4         0  "
      ]
     },
     "execution_count": 16,
     "metadata": {},
     "output_type": "execute_result"
    }
   ],
   "source": [
    "data_path = keras.utils.get_file(\"auto-mpg.data\", \n",
    "                                 \"https://archive.ics.uci.edu/ml/machine-learning-databases/auto-mpg/auto-mpg.data\")\n",
    "\n",
    "column_names = ['mpg', 'cylinders', 'displacement', 'horsepower', 'weight', 'acceleration', 'model year', 'origin']\n",
    "\n",
    "rawdata = pd.read_csv(data_path, names=column_names, na_values=\"?\", comment=\"\\t\", sep=\" \", skipinitialspace=True)\n",
    "\n",
    "rawdata.dropna(inplace=True)\n",
    "\n",
    "data = rawdata.copy()\n",
    "\n",
    "data = pd.get_dummies(data, columns=['cylinders', 'origin'])\n",
    "\n",
    "label = data.pop('mpg')\n",
    "\n",
    "data.head()"
   ]
  },
  {
   "cell_type": "code",
   "execution_count": 17,
   "metadata": {},
   "outputs": [],
   "source": [
    "X_train, X_test, y_train, y_test = train_test_split(data.values, label.values)\n",
    "\n",
    "sc = StandardScaler()\n",
    "X_train = sc.fit_transform(X_train)\n",
    "X_test = sc.transform(X_test)"
   ]
  },
  {
   "cell_type": "code",
   "execution_count": 18,
   "metadata": {},
   "outputs": [
    {
     "data": {
      "text/plain": [
       "(294, 13)"
      ]
     },
     "execution_count": 18,
     "metadata": {},
     "output_type": "execute_result"
    }
   ],
   "source": [
    "X_train.shape"
   ]
  },
  {
   "cell_type": "markdown",
   "metadata": {},
   "source": [
    "### Regression Model Build\n",
    "\n",
    "### train\n",
    "\n",
    "### predict\n",
    "\n",
    "### $r^2$ 계산"
   ]
  },
  {
   "cell_type": "code",
   "execution_count": 4,
   "metadata": {},
   "outputs": [],
   "source": [
    "model = Sequential()\n",
    "\n",
    "model.add(Dense(32, input_shape=(13,)))\n",
    "model.add(Activation('relu'))\n",
    "model.add(Dense(64))\n",
    "model.add(Activation('relu'))\n",
    "model.add(Dense(1))"
   ]
  },
  {
   "cell_type": "code",
   "execution_count": 5,
   "metadata": {},
   "outputs": [],
   "source": [
    "model.compile(loss='mean_squared_error', optimizer='adam', metrics=['mse'])"
   ]
  },
  {
   "cell_type": "code",
   "execution_count": 6,
   "metadata": {
    "scrolled": true
   },
   "outputs": [
    {
     "name": "stdout",
     "output_type": "stream",
     "text": [
      "Train on 294 samples, validate on 98 samples\n",
      "Epoch 1/50\n",
      "294/294 [==============================] - 1s 3ms/sample - loss: 600.2728 - mse: 600.2728 - val_loss: 604.6235 - val_mse: 604.6235\n",
      "Epoch 2/50\n",
      "294/294 [==============================] - 0s 92us/sample - loss: 590.6593 - mse: 590.6594 - val_loss: 595.6092 - val_mse: 595.6092\n",
      "Epoch 3/50\n",
      "294/294 [==============================] - 0s 95us/sample - loss: 581.2336 - mse: 581.2336 - val_loss: 586.6835 - val_mse: 586.6835\n",
      "Epoch 4/50\n",
      "294/294 [==============================] - 0s 88us/sample - loss: 571.8526 - mse: 571.8526 - val_loss: 577.7049 - val_mse: 577.7049\n",
      "Epoch 5/50\n",
      "294/294 [==============================] - 0s 95us/sample - loss: 562.4711 - mse: 562.4711 - val_loss: 568.5652 - val_mse: 568.5652\n",
      "Epoch 6/50\n",
      "294/294 [==============================] - 0s 92us/sample - loss: 552.8700 - mse: 552.8700 - val_loss: 559.1178 - val_mse: 559.1178\n",
      "Epoch 7/50\n",
      "294/294 [==============================] - 0s 92us/sample - loss: 542.9772 - mse: 542.9772 - val_loss: 549.2683 - val_mse: 549.2683\n",
      "Epoch 8/50\n",
      "294/294 [==============================] - 0s 88us/sample - loss: 532.5342 - mse: 532.5342 - val_loss: 538.8975 - val_mse: 538.8975\n",
      "Epoch 9/50\n",
      "294/294 [==============================] - 0s 85us/sample - loss: 521.6415 - mse: 521.6414 - val_loss: 527.8250 - val_mse: 527.8250\n",
      "Epoch 10/50\n",
      "294/294 [==============================] - 0s 85us/sample - loss: 509.9109 - mse: 509.9109 - val_loss: 516.0486 - val_mse: 516.0486\n",
      "Epoch 11/50\n",
      "294/294 [==============================] - 0s 85us/sample - loss: 497.9184 - mse: 497.9185 - val_loss: 503.4854 - val_mse: 503.4854\n",
      "Epoch 12/50\n",
      "294/294 [==============================] - 0s 78us/sample - loss: 484.8889 - mse: 484.8889 - val_loss: 490.1448 - val_mse: 490.1448\n",
      "Epoch 13/50\n",
      "294/294 [==============================] - 0s 85us/sample - loss: 471.1654 - mse: 471.1654 - val_loss: 475.9008 - val_mse: 475.9008\n",
      "Epoch 14/50\n",
      "294/294 [==============================] - 0s 82us/sample - loss: 456.4237 - mse: 456.4237 - val_loss: 460.7600 - val_mse: 460.7600\n",
      "Epoch 15/50\n",
      "294/294 [==============================] - 0s 71us/sample - loss: 440.9855 - mse: 440.9854 - val_loss: 444.5974 - val_mse: 444.5974\n",
      "Epoch 16/50\n",
      "294/294 [==============================] - 0s 85us/sample - loss: 424.3764 - mse: 424.3764 - val_loss: 427.4836 - val_mse: 427.4836\n",
      "Epoch 17/50\n",
      "294/294 [==============================] - 0s 85us/sample - loss: 406.8501 - mse: 406.8501 - val_loss: 409.3365 - val_mse: 409.3365\n",
      "Epoch 18/50\n",
      "294/294 [==============================] - 0s 85us/sample - loss: 388.8216 - mse: 388.8216 - val_loss: 390.1446 - val_mse: 390.1446\n",
      "Epoch 19/50\n",
      "294/294 [==============================] - 0s 75us/sample - loss: 368.8845 - mse: 368.8845 - val_loss: 370.1274 - val_mse: 370.1274\n",
      "Epoch 20/50\n",
      "294/294 [==============================] - 0s 85us/sample - loss: 348.5628 - mse: 348.5628 - val_loss: 349.0660 - val_mse: 349.0660\n",
      "Epoch 21/50\n",
      "294/294 [==============================] - 0s 82us/sample - loss: 327.7172 - mse: 327.7172 - val_loss: 327.0669 - val_mse: 327.0669\n",
      "Epoch 22/50\n",
      "294/294 [==============================] - 0s 82us/sample - loss: 305.5891 - mse: 305.5891 - val_loss: 304.4756 - val_mse: 304.4756\n",
      "Epoch 23/50\n",
      "294/294 [==============================] - 0s 82us/sample - loss: 283.8240 - mse: 283.8240 - val_loss: 281.3780 - val_mse: 281.3780\n",
      "Epoch 24/50\n",
      "294/294 [==============================] - 0s 82us/sample - loss: 261.0121 - mse: 261.0121 - val_loss: 258.1276 - val_mse: 258.1276\n",
      "Epoch 25/50\n",
      "294/294 [==============================] - 0s 82us/sample - loss: 238.6119 - mse: 238.6118 - val_loss: 234.8740 - val_mse: 234.8740\n",
      "Epoch 26/50\n",
      "294/294 [==============================] - 0s 82us/sample - loss: 216.3165 - mse: 216.3165 - val_loss: 212.0603 - val_mse: 212.0603\n",
      "Epoch 27/50\n",
      "294/294 [==============================] - 0s 85us/sample - loss: 194.8957 - mse: 194.8956 - val_loss: 189.9640 - val_mse: 189.9640\n",
      "Epoch 28/50\n",
      "294/294 [==============================] - 0s 82us/sample - loss: 173.7411 - mse: 173.7411 - val_loss: 168.7105 - val_mse: 168.7105\n",
      "Epoch 29/50\n",
      "294/294 [==============================] - 0s 82us/sample - loss: 153.6141 - mse: 153.6141 - val_loss: 148.3486 - val_mse: 148.3486\n",
      "Epoch 30/50\n",
      "294/294 [==============================] - 0s 82us/sample - loss: 134.8121 - mse: 134.8121 - val_loss: 129.3555 - val_mse: 129.3555\n",
      "Epoch 31/50\n",
      "294/294 [==============================] - 0s 82us/sample - loss: 117.7510 - mse: 117.7510 - val_loss: 111.9342 - val_mse: 111.9342\n",
      "Epoch 32/50\n",
      "294/294 [==============================] - 0s 82us/sample - loss: 102.0269 - mse: 102.0269 - val_loss: 96.2849 - val_mse: 96.2849\n",
      "Epoch 33/50\n",
      "294/294 [==============================] - 0s 75us/sample - loss: 88.0388 - mse: 88.0388 - val_loss: 82.5132 - val_mse: 82.5132\n",
      "Epoch 34/50\n",
      "294/294 [==============================] - 0s 82us/sample - loss: 76.2209 - mse: 76.2209 - val_loss: 70.6158 - val_mse: 70.6158\n",
      "Epoch 35/50\n",
      "294/294 [==============================] - 0s 82us/sample - loss: 66.1156 - mse: 66.1157 - val_loss: 60.6267 - val_mse: 60.6267\n",
      "Epoch 36/50\n",
      "294/294 [==============================] - 0s 82us/sample - loss: 57.8284 - mse: 57.8284 - val_loss: 52.4722 - val_mse: 52.4722\n",
      "Epoch 37/50\n",
      "294/294 [==============================] - 0s 78us/sample - loss: 50.6864 - mse: 50.6864 - val_loss: 45.9277 - val_mse: 45.9277\n",
      "Epoch 38/50\n",
      "294/294 [==============================] - 0s 92us/sample - loss: 45.3919 - mse: 45.3919 - val_loss: 40.5893 - val_mse: 40.5893\n",
      "Epoch 39/50\n",
      "294/294 [==============================] - 0s 85us/sample - loss: 40.8516 - mse: 40.8517 - val_loss: 36.2427 - val_mse: 36.2427\n",
      "Epoch 40/50\n",
      "294/294 [==============================] - 0s 85us/sample - loss: 37.4943 - mse: 37.4943 - val_loss: 32.6009 - val_mse: 32.6009\n",
      "Epoch 41/50\n",
      "294/294 [==============================] - 0s 88us/sample - loss: 34.3938 - mse: 34.3938 - val_loss: 29.4815 - val_mse: 29.4815\n",
      "Epoch 42/50\n",
      "294/294 [==============================] - 0s 85us/sample - loss: 31.7954 - mse: 31.7954 - val_loss: 26.6395 - val_mse: 26.6395\n",
      "Epoch 43/50\n",
      "294/294 [==============================] - 0s 75us/sample - loss: 29.2282 - mse: 29.2282 - val_loss: 24.0337 - val_mse: 24.0337\n",
      "Epoch 44/50\n",
      "294/294 [==============================] - 0s 78us/sample - loss: 26.9055 - mse: 26.9055 - val_loss: 21.6696 - val_mse: 21.6696\n",
      "Epoch 45/50\n",
      "294/294 [==============================] - 0s 75us/sample - loss: 24.7771 - mse: 24.7771 - val_loss: 19.5077 - val_mse: 19.5077\n",
      "Epoch 46/50\n",
      "294/294 [==============================] - 0s 78us/sample - loss: 22.7876 - mse: 22.7876 - val_loss: 17.5932 - val_mse: 17.5932\n",
      "Epoch 47/50\n",
      "294/294 [==============================] - 0s 78us/sample - loss: 21.0672 - mse: 21.0672 - val_loss: 15.9145 - val_mse: 15.9145\n",
      "Epoch 48/50\n",
      "294/294 [==============================] - 0s 78us/sample - loss: 19.4771 - mse: 19.4771 - val_loss: 14.5091 - val_mse: 14.5091\n",
      "Epoch 49/50\n",
      "294/294 [==============================] - 0s 85us/sample - loss: 18.2156 - mse: 18.2156 - val_loss: 13.3090 - val_mse: 13.3090\n",
      "Epoch 50/50\n",
      "294/294 [==============================] - 0s 88us/sample - loss: 17.0816 - mse: 17.0816 - val_loss: 12.3268 - val_mse: 12.3268\n"
     ]
    }
   ],
   "source": [
    "history = model.fit(X_train, y_train, batch_size=128, epochs=50, validation_data=(X_test, y_test),\n",
    "                   verbose=1)"
   ]
  },
  {
   "cell_type": "code",
   "execution_count": 7,
   "metadata": {},
   "outputs": [
    {
     "data": {
      "text/plain": [
       "[12.326788766043526, 12.326789]"
      ]
     },
     "execution_count": 7,
     "metadata": {},
     "output_type": "execute_result"
    }
   ],
   "source": [
    "model.evaluate(X_test, y_test, verbose=0)"
   ]
  },
  {
   "cell_type": "code",
   "execution_count": 8,
   "metadata": {},
   "outputs": [],
   "source": [
    "y_predict = model.predict(X_test)"
   ]
  },
  {
   "cell_type": "code",
   "execution_count": 9,
   "metadata": {},
   "outputs": [
    {
     "data": {
      "text/plain": [
       "0.7965547563820534"
      ]
     },
     "execution_count": 9,
     "metadata": {},
     "output_type": "execute_result"
    }
   ],
   "source": [
    "from sklearn.metrics import r2_score\n",
    "\n",
    "r2_score(y_test, y_predict)"
   ]
  },
  {
   "cell_type": "code",
   "execution_count": 10,
   "metadata": {},
   "outputs": [
    {
     "data": {
      "text/plain": [
       "<matplotlib.legend.Legend at 0x229ff919548>"
      ]
     },
     "execution_count": 10,
     "metadata": {},
     "output_type": "execute_result"
    },
    {
     "data": {
      "image/png": "[encoded data removed]",
      "text/plain": [
       "<Figure size 432x288 with 1 Axes>"
      ]
     },
     "metadata": {
      "needs_background": "light"
     },
     "output_type": "display_data"
    }
   ],
   "source": [
    "import matplotlib.pyplot as plt\n",
    "%matplotlib inline\n",
    "\n",
    "plt.scatter(X_test[:, 0], y_test, c='b', label=\"true\")\n",
    "plt.scatter(X_test[:, 0], y_predict, c='r', label=\"prediction\")\n",
    "plt.legend()"
   ]
  }
 ],
 "metadata": {
  "kernelspec": {
   "display_name": "Python 3",
   "language": "python",
   "name": "python3"
  },
  "language_info": {
   "codemirror_mode": {
    "name": "ipython",
    "version": 3
   },
   "file_extension": ".py",
   "mimetype": "text/x-python",
   "name": "python",
   "nbconvert_exporter": "python",
   "pygments_lexer": "ipython3",
   "version": "3.7.6"
  }
 },
 "nbformat": 4,
 "nbformat_minor": 2
}
