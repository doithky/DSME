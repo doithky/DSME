{
 "cells": [
  {
   "cell_type": "markdown",
   "metadata": {
    "colab_type": "text",
    "id": "J0Qjg6vuaHNt"
   },
   "source": [
    "# 330. Transformer model for language understanding"
   ]
  },
  {
   "cell_type": "markdown",
   "metadata": {
    "colab_type": "text",
    "id": "M-f8TnGpE_ex"
   },
   "source": [
    "# Transformer model\n",
    "\n",
    "- Portugal - English translation  \n",
    "\n",
    "- text genertion 및 attention 이 선수 지식임  \n",
    "\n",
    "- Transformer model 의 핵심 idea 는 self-attention  \n",
    "\n",
    "- Transformer 는 self-attention layer 를 쌓아서 구성 (RNN, CNN 사용 않음)    \n",
    "    - Scaled dot product attention\n",
    "    - Multi-head attention\n",
    "\n",
    "- stacked attention layer 의 장점  \n",
    "    - data 간의 시간적, 공간적 관계를 배제하여 multi-processing 가능  \n",
    "    - RNN, CNN layer 를 거치지 않아도, 떨어져 있는 item 들이 서로의 output 에 영향을 끼칠 수 있다.\n",
    "    - 긴 문장내의 상호 관계를 학습할 수 있다. (모든 sequential task 의 도전 과제)  \n",
    "    \n",
    "- 단점  \n",
    "    - 시계열 자료의 경우 RNN 처럼 특정 time-step 의 output 계산을 위해서는 input 과 현재의 hidden state 만으로는 안되고 전체 history 가 있어야 함\n",
    "    - 단어의 위치 정보를 추가해 주어야 한다. (positional encoding)\n",
    "\n",
    "이 노트에서 모델을 학습 한 후 포르투갈어 문장을 입력하고 영어 번역을 반환 할 수 있음.\n",
    "\n",
    "<img src=\"https://www.tensorflow.org/images/tutorials/transformer/attention_map_portuguese.png\" width=\"800\" alt=\"Attention heatmap\">"
   ]
  },
  {
   "cell_type": "code",
   "execution_count": 1,
   "metadata": {
    "colab": {
     "base_uri": "https://localhost:8080/",
     "height": 306
    },
    "colab_type": "code",
    "id": "vX1MKvn2OYGs",
    "outputId": "c8bab79d-11e0-4005-e6e2-10233fa22632"
   },
   "outputs": [
    {
     "name": "stdout",
     "output_type": "stream",
     "text": [
      "Thu May  7 00:31:19 2020       \n",
      "+-----------------------------------------------------------------------------+\n",
      "| NVIDIA-SMI 440.82       Driver Version: 418.67       CUDA Version: 10.1     |\n",
      "|-------------------------------+----------------------+----------------------+\n",
      "| GPU  Name        Persistence-M| Bus-Id        Disp.A | Volatile Uncorr. ECC |\n",
      "| Fan  Temp  Perf  Pwr:Usage/Cap|         Memory-Usage | GPU-Util  Compute M. |\n",
      "|===============================+======================+======================|\n",
      "|   0  Tesla P4            Off  | 00000000:00:04.0 Off |                    0 |\n",
      "| N/A   38C    P8     7W /  75W |      0MiB /  7611MiB |      0%      Default |\n",
      "+-------------------------------+----------------------+----------------------+\n",
      "                                                                               \n",
      "+-----------------------------------------------------------------------------+\n",
      "| Processes:                                                       GPU Memory |\n",
      "|  GPU       PID   Type   Process name                             Usage      |\n",
      "|=============================================================================|\n",
      "|  No running processes found                                                 |\n",
      "+-----------------------------------------------------------------------------+\n"
     ]
    }
   ],
   "source": [
    "!nvidia-smi"
   ]
  },
  {
   "cell_type": "code",
   "execution_count": 2,
   "metadata": {
    "colab": {
     "base_uri": "https://localhost:8080/",
     "height": 51
    },
    "colab_type": "code",
    "id": "9SVZFnSUIUXi",
    "outputId": "f849ae19-33ae-45b7-d32f-6bb279fd959a"
   },
   "outputs": [
    {
     "name": "stdout",
     "output_type": "stream",
     "text": [
      "2.2.0-rc4\n",
      "/device:GPU:0\n"
     ]
    }
   ],
   "source": [
    "import tensorflow as tf\n",
    "print(tf.__version__)\n",
    "device_name = tf.test.gpu_device_name()\n",
    "if device_name:\n",
    "    print(device_name)\n",
    "else:\n",
    "    print('GPU not found')"
   ]
  },
  {
   "cell_type": "code",
   "execution_count": 0,
   "metadata": {
    "colab": {},
    "colab_type": "code",
    "id": "JjJJyJTZYebt"
   },
   "outputs": [],
   "source": [
    "import tensorflow_datasets as tfds\n",
    "import time\n",
    "import numpy as np\n",
    "import matplotlib.pyplot as plt"
   ]
  },
  {
   "cell_type": "markdown",
   "metadata": {
    "colab_type": "text",
    "id": "fd1NWMxjfsDd"
   },
   "source": [
    "## Setup input pipeline"
   ]
  },
  {
   "cell_type": "markdown",
   "metadata": {
    "colab_type": "text",
    "id": "t4_Qt8W1hJE_"
   },
   "source": [
    "[TFDS](https://www.tensorflow.org/datasets) 를 이용하여 [TED Talks Open Translation Project](https://www.ted.com/participate/translate) 로 부터 [Portugese-English translation dataset](https://github.com/neulab/word-embeddings-for-nmt) 을 load.\n",
    "\n",
    "dataset 은 약 50000 개의 training example 과 1100 개의 validation examples, 2000 개의 test example 로 구성\n"
   ]
  },
  {
   "cell_type": "code",
   "execution_count": 6,
   "metadata": {
    "colab": {
     "base_uri": "https://localhost:8080/",
     "height": 416,
     "referenced_widgets": [
      "82b0011ea8974b179b0974e8f16f8872",
      "65e79818a0234715bf48d53484aea433",
      "7a880aca221e4aad9f1f6f8bc462eebb",
      "bdecefcaf14b482cad13970230c24e40",
      "e5615d848deb46a1a9903ac97730557a",
      "904c17c822ec44f69e12ee050350f459",
      "6e35ab1df42d40faa48a8bc692d1a435",
      "3261d145e6ea45d3bddaf409f90d5e9e",
      "9baeb60831fd4bd698bd892be71d56db",
      "9a4c95ca7f4746829ef8082c2b08e149",
      "c7e3a8071bfe4cd1974a025531d38fe6",
      "e4e8d37ea1914858b5e4d1caf9f43dcc",
      "a4bd6c72bdfc4d96b103d3388c31a349",
      "5605d714b2f6470d8f3ecafac10881b5",
      "9b5517b2f297426ab755bd0802110ada",
      "71306b82d5e24a09af5e6f6aaefd0e62",
      "b90d55a6f56e438b9dc71487cd8fe966",
      "60476a2dff1840b7b2724fc1722b00ea",
      "cf66d94ceda14eb0a8470439834df9c6",
      "bc188bdb140647dc9bb702ebcea5827f",
      "9cf832ea9c0a404eb968f255cb6c9d16",
      "cc627588c6a043f8b878298b52934888",
      "25cdd450ad24487bbeddac079d35bd8a",
      "eff255c404224b99bcb2bed5592940c9",
      "ee7d6e29f5c549be8e9bf516af4902e4",
      "68e69f2576d446c48c8edb0595bd8914",
      "148480046b254b8e8d4c597856ba091c",
      "9f57e2ebaccd4890b13e586ba0279247",
      "e5604a90c29b43b8a035dac1b949253d",
      "9d6c3cb421824d27a5abac3353782a5d",
      "be86e0a332ac43a2845551a67bbabe99",
      "7b8649000ccf44b8b32659e87efa86bf",
      "34d6294eb0854bfbaeb3db8ead0184e8",
      "8244c30aa2ce4cfbb695c34d16d15dbd",
      "029b99a5954845febdaf740b73defb1e",
      "2bb14960c69240baa5ec6de1668e6717",
      "84161540c1b04a8f9a12130a727309ad",
      "7103d9491ba8430bb7cdfc3e91eb4d67",
      "2ddf93672fe146fa81d8d49e17317cab",
      "6fa20384c26c4d1686ec7a6d8c4a2209",
      "457f9bfcda884862b2272fa9f1d75659",
      "fb108e2fc80746c9a77662855ce75f85",
      "9c7d73b7f59c4137ba3ea068079e2459",
      "5747d5b1b5f4485ba7ebacc51f8386f0",
      "4079ab3e508341db8e0b4e86a063ad0f",
      "1a244ef6bf974794887bd2d9887b32ae",
      "fdfd816ef2314ce79de78f6d784e2a46",
      "8bc922855af649deb67e94b7752691f7",
      "e86de5d880254735b3a4c7a501d9d474",
      "36515a9073dc4e07aa091eea9249561b",
      "b6ade7b97e254a60a23debcd372703ef",
      "85c3f0c346024aefa24b824df2a1ba64",
      "349225c5560845d2916795b08016ae6a",
      "f053046a45e34682b4879c28a083d1a3",
      "e026f6748cff4d9d83e7e6e8f91945b8",
      "166298362f5a4945b0f4a3b4e8e00bbf",
      "b044a1e3facb465db7d249033c09ee64",
      "f74762456b9f4748bcd75789e2765680",
      "e73502dbc87443bbbaf217cec54371aa",
      "80fa0ec5e09140e5840da2cff79a5a51",
      "ba50aec72fb84182a8f44f4e5e2608a3",
      "b63c16d93da947108c780e369fc0eac4",
      "7090f77e04524f68a1a003399218412b",
      "6702f39b89a74fd09e2d0177d2f126c2",
      "9b406c1238f44ec49d77bd4c7ae6a67c",
      "19bbb6be0aa24588ad98f56cc4c5d6f0",
      "54b22bdfba3641d9871e363217d885ff",
      "35dc1dcc6c4646fc90ab4116ff21e79f",
      "ad65af2d432d48c1bae61b73bfb5084d",
      "d8314c3ed12743399644d44fc528a7ac",
      "3de4ff3397e343dfa5067d26b0db5633",
      "87e64234d7394936806a278ab246723b"
     ]
    },
    "colab_type": "code",
    "id": "8q9t4FmN96eN",
    "outputId": "1577ff95-ec5a-49e9-f4cc-d56802d8dc72"
   },
   "outputs": [
    {
     "name": "stdout",
     "output_type": "stream",
     "text": [
      "\u001b[1mDownloading and preparing dataset ted_hrlr_translate/pt_to_en/1.0.0 (download: 124.94 MiB, generated: Unknown size, total: 124.94 MiB) to /root/tensorflow_datasets/ted_hrlr_translate/pt_to_en/1.0.0...\u001b[0m\n"
     ]
    },
    {
     "data": {
      "application/vnd.jupyter.widget-view+json": {
       "model_id": "82b0011ea8974b179b0974e8f16f8872",
       "version_major": 2,
       "version_minor": 0
      },
      "text/plain": [
       "HBox(children=(IntProgress(value=1, bar_style='info', description='Dl Completed...', max=1, style=ProgressStyl…"
      ]
     },
     "metadata": {
      "tags": []
     },
     "output_type": "display_data"
    },
    {
     "data": {
      "application/vnd.jupyter.widget-view+json": {
       "model_id": "9baeb60831fd4bd698bd892be71d56db",
       "version_major": 2,
       "version_minor": 0
      },
      "text/plain": [
       "HBox(children=(IntProgress(value=1, bar_style='info', description='Dl Size...', max=1, style=ProgressStyle(des…"
      ]
     },
     "metadata": {
      "tags": []
     },
     "output_type": "display_data"
    },
    {
     "data": {
      "application/vnd.jupyter.widget-view+json": {
       "model_id": "b90d55a6f56e438b9dc71487cd8fe966",
       "version_major": 2,
       "version_minor": 0
      },
      "text/plain": [
       "HBox(children=(IntProgress(value=1, bar_style='info', description='Extraction completed...', max=1, style=Prog…"
      ]
     },
     "metadata": {
      "tags": []
     },
     "output_type": "display_data"
    },
    {
     "name": "stdout",
     "output_type": "stream",
     "text": [
      "\n",
      "\n",
      "\n",
      "\n",
      "\n",
      "\n"
     ]
    },
    {
     "data": {
      "application/vnd.jupyter.widget-view+json": {
       "model_id": "ee7d6e29f5c549be8e9bf516af4902e4",
       "version_major": 2,
       "version_minor": 0
      },
      "text/plain": [
       "HBox(children=(IntProgress(value=1, bar_style='info', max=1), HTML(value='')))"
      ]
     },
     "metadata": {
      "tags": []
     },
     "output_type": "display_data"
    },
    {
     "name": "stdout",
     "output_type": "stream",
     "text": [
      "\r",
      "Shuffling and writing examples to /root/tensorflow_datasets/ted_hrlr_translate/pt_to_en/1.0.0.incompleteITX2R8/ted_hrlr_translate-train.tfrecord\n"
     ]
    },
    {
     "data": {
      "application/vnd.jupyter.widget-view+json": {
       "model_id": "34d6294eb0854bfbaeb3db8ead0184e8",
       "version_major": 2,
       "version_minor": 0
      },
      "text/plain": [
       "HBox(children=(IntProgress(value=0, max=51785), HTML(value='')))"
      ]
     },
     "metadata": {
      "tags": []
     },
     "output_type": "display_data"
    },
    {
     "name": "stdout",
     "output_type": "stream",
     "text": [
      "\r"
     ]
    },
    {
     "data": {
      "application/vnd.jupyter.widget-view+json": {
       "model_id": "457f9bfcda884862b2272fa9f1d75659",
       "version_major": 2,
       "version_minor": 0
      },
      "text/plain": [
       "HBox(children=(IntProgress(value=1, bar_style='info', max=1), HTML(value='')))"
      ]
     },
     "metadata": {
      "tags": []
     },
     "output_type": "display_data"
    },
    {
     "name": "stdout",
     "output_type": "stream",
     "text": [
      "\r",
      "Shuffling and writing examples to /root/tensorflow_datasets/ted_hrlr_translate/pt_to_en/1.0.0.incompleteITX2R8/ted_hrlr_translate-validation.tfrecord\n"
     ]
    },
    {
     "data": {
      "application/vnd.jupyter.widget-view+json": {
       "model_id": "e86de5d880254735b3a4c7a501d9d474",
       "version_major": 2,
       "version_minor": 0
      },
      "text/plain": [
       "HBox(children=(IntProgress(value=0, max=1193), HTML(value='')))"
      ]
     },
     "metadata": {
      "tags": []
     },
     "output_type": "display_data"
    },
    {
     "name": "stdout",
     "output_type": "stream",
     "text": [
      "\r"
     ]
    },
    {
     "data": {
      "application/vnd.jupyter.widget-view+json": {
       "model_id": "b044a1e3facb465db7d249033c09ee64",
       "version_major": 2,
       "version_minor": 0
      },
      "text/plain": [
       "HBox(children=(IntProgress(value=1, bar_style='info', max=1), HTML(value='')))"
      ]
     },
     "metadata": {
      "tags": []
     },
     "output_type": "display_data"
    },
    {
     "name": "stdout",
     "output_type": "stream",
     "text": [
      "\r",
      "Shuffling and writing examples to /root/tensorflow_datasets/ted_hrlr_translate/pt_to_en/1.0.0.incompleteITX2R8/ted_hrlr_translate-test.tfrecord\n"
     ]
    },
    {
     "data": {
      "application/vnd.jupyter.widget-view+json": {
       "model_id": "9b406c1238f44ec49d77bd4c7ae6a67c",
       "version_major": 2,
       "version_minor": 0
      },
      "text/plain": [
       "HBox(children=(IntProgress(value=0, max=1803), HTML(value='')))"
      ]
     },
     "metadata": {
      "tags": []
     },
     "output_type": "display_data"
    },
    {
     "name": "stdout",
     "output_type": "stream",
     "text": [
      "\u001b[1mDataset ted_hrlr_translate downloaded and prepared to /root/tensorflow_datasets/ted_hrlr_translate/pt_to_en/1.0.0. Subsequent calls will reuse this data.\u001b[0m\n",
      "\r"
     ]
    }
   ],
   "source": [
    "examples, metadata = tfds.load('ted_hrlr_translate/pt_to_en', with_info=True, as_supervised=True)"
   ]
  },
  {
   "cell_type": "code",
   "execution_count": 7,
   "metadata": {
    "colab": {
     "base_uri": "https://localhost:8080/",
     "height": 530
    },
    "colab_type": "code",
    "id": "OTa1RItFIUXr",
    "outputId": "b65a955d-6477-4ae6-dda2-121ba3133ca6"
   },
   "outputs": [
    {
     "name": "stdout",
     "output_type": "stream",
     "text": [
      "{'test': <DatasetV1Adapter shapes: ((), ()), types: (tf.string, tf.string)>, 'train': <DatasetV1Adapter shapes: ((), ()), types: (tf.string, tf.string)>, 'validation': <DatasetV1Adapter shapes: ((), ()), types: (tf.string, tf.string)>}\n",
      "================================================================================\n",
      "tfds.core.DatasetInfo(\n",
      "    name='ted_hrlr_translate',\n",
      "    version=1.0.0,\n",
      "    description='Data sets derived from TED talk transcripts for comparing similar language pairs\n",
      "where one is high resource and the other is low resource.\n",
      "',\n",
      "    homepage='https://github.com/neulab/word-embeddings-for-nmt',\n",
      "    features=Translation({\n",
      "        'en': Text(shape=(), dtype=tf.string),\n",
      "        'pt': Text(shape=(), dtype=tf.string),\n",
      "    }),\n",
      "    total_num_examples=54781,\n",
      "    splits={\n",
      "        'test': 1803,\n",
      "        'train': 51785,\n",
      "        'validation': 1193,\n",
      "    },\n",
      "    supervised_keys=('pt', 'en'),\n",
      "    citation=\"\"\"@inproceedings{Ye2018WordEmbeddings,\n",
      "      author  = {Ye, Qi and Devendra, Sachan and Matthieu, Felix and Sarguna, Padmanabhan and Graham, Neubig},\n",
      "      title   = {When and Why are pre-trained word embeddings useful for Neural Machine Translation},\n",
      "      booktitle = {HLT-NAACL},\n",
      "      year    = {2018},\n",
      "      }\"\"\",\n",
      "    redistribution_info=,\n",
      ")\n",
      "\n"
     ]
    }
   ],
   "source": [
    "print(examples)\n",
    "print(\"=\" * 80)\n",
    "print(metadata)"
   ]
  },
  {
   "cell_type": "code",
   "execution_count": 8,
   "metadata": {
    "colab": {
     "base_uri": "https://localhost:8080/",
     "height": 51
    },
    "colab_type": "code",
    "id": "zq5HTZHCIUXt",
    "outputId": "0f90b6bf-d5d1-48aa-f616-b6ca0e96eeb3"
   },
   "outputs": [
    {
     "name": "stdout",
     "output_type": "stream",
     "text": [
      "<DatasetV1Adapter shapes: ((), ()), types: (tf.string, tf.string)>\n",
      "<DatasetV1Adapter shapes: ((), ()), types: (tf.string, tf.string)>\n"
     ]
    }
   ],
   "source": [
    "train_examples, val_examples = examples['train'], examples['validation']\n",
    "print(train_examples)\n",
    "print(val_examples)"
   ]
  },
  {
   "cell_type": "markdown",
   "metadata": {
    "colab_type": "text",
    "id": "RCEKotqosGfq"
   },
   "source": [
    "training dataset 으로부터 subwords tokenizer 생성"
   ]
  },
  {
   "cell_type": "code",
   "execution_count": 9,
   "metadata": {
    "colab": {
     "base_uri": "https://localhost:8080/",
     "height": 51
    },
    "colab_type": "code",
    "id": "KVBg5Q8tBk5z",
    "outputId": "09502123-6c5e-465d-d73d-2329a094180d"
   },
   "outputs": [
    {
     "name": "stdout",
     "output_type": "stream",
     "text": [
      "CPU times: user 2min 7s, sys: 6.77 s, total: 2min 14s\n",
      "Wall time: 1min 59s\n"
     ]
    }
   ],
   "source": [
    "%%time\n",
    "tokenizer_en = tfds.features.text.SubwordTextEncoder.build_from_corpus(\n",
    "    (en.numpy() for pt, en in train_examples), target_vocab_size=2**13)\n",
    "\n",
    "tokenizer_pt = tfds.features.text.SubwordTextEncoder.build_from_corpus(\n",
    "    (pt.numpy() for pt, en in train_examples), target_vocab_size=2**13)"
   ]
  },
  {
   "cell_type": "code",
   "execution_count": 10,
   "metadata": {
    "colab": {
     "base_uri": "https://localhost:8080/",
     "height": 51
    },
    "colab_type": "code",
    "id": "zMRfHRegrjpm",
    "outputId": "bda7566e-8aab-46c8-bbf8-df4c1d9b6636"
   },
   "outputs": [
    {
     "name": "stdout",
     "output_type": "stream",
     "text": [
      "8087\n",
      "8214\n"
     ]
    }
   ],
   "source": [
    "print(tokenizer_en.vocab_size)\n",
    "print(tokenizer_pt.vocab_size)"
   ]
  },
  {
   "cell_type": "code",
   "execution_count": 11,
   "metadata": {
    "colab": {
     "base_uri": "https://localhost:8080/",
     "height": 85
    },
    "colab_type": "code",
    "id": "4DYWukNFkGQN",
    "outputId": "98533afd-5da9-4ecb-80f3-4665ab89c514"
   },
   "outputs": [
    {
     "name": "stdout",
     "output_type": "stream",
     "text": [
      "Tokenized string by subword segmentation is :\n",
      " [7915, 1248, 7946, 7194, 13, 2799, 7877]\n",
      "['T', 'ran', 's', 'former ', 'is ', 'awesome', '.']\n",
      "복원된 string:  Transformer is awesome.\n"
     ]
    }
   ],
   "source": [
    "sample_string = 'Transformer is awesome.'\n",
    "\n",
    "tokenized_string = tokenizer_en.encode(sample_string)\n",
    "print ('Tokenized string by subword segmentation is :\\n', tokenized_string)\n",
    "\n",
    "print([tokenizer_en.decode([ts]) for ts in tokenized_string])\n",
    "\n",
    "original_string = tokenizer_en.decode(tokenized_string)\n",
    "print ('복원된 string: ', original_string)\n",
    "\n",
    "assert original_string == sample_string           # encoding 과 decoding working  확인"
   ]
  },
  {
   "cell_type": "markdown",
   "metadata": {
    "colab_type": "text",
    "id": "o9KJWJjrsZ4Y"
   },
   "source": [
    "Tokenizer 는 단어가 사전에없는 경우 문자열을 하위 단어로 분리하여 인코딩함."
   ]
  },
  {
   "cell_type": "markdown",
   "metadata": {
    "colab_type": "text",
    "id": "kGi4PoVakxdc"
   },
   "source": [
    "- input 과 target 에 start, end token 추가  \n",
    "\n",
    "    - start : vocab_size  \n",
    "    - end : vocab_size + 1"
   ]
  },
  {
   "cell_type": "code",
   "execution_count": 0,
   "metadata": {
    "colab": {},
    "colab_type": "code",
    "id": "UZwnPr4R055s"
   },
   "outputs": [],
   "source": [
    "def encode(lang1, lang2):\n",
    "    lang1 = [tokenizer_pt.vocab_size] + \\\n",
    "                 tokenizer_pt.encode(lang1.numpy()) + \\\n",
    "                [tokenizer_pt.vocab_size+1]\n",
    "\n",
    "    lang2 = [tokenizer_en.vocab_size] + \\\n",
    "                 tokenizer_en.encode(lang2.numpy()) + \\\n",
    "                [tokenizer_en.vocab_size+1]\n",
    "  \n",
    "    return lang1, lang2"
   ]
  },
  {
   "cell_type": "markdown",
   "metadata": {
    "colab_type": "text",
    "id": "Tx1sFbR-9fRs"
   },
   "source": [
    "Dataset.map을 사용하여 이 함수를 데이터 세트의 각 요소에 적용.   \n",
    "\n",
    "Dataset.map은 그래프 모드에서 실행되므로,\n",
    "- 그래프 텐서에는 value 가 없고,\n",
    "- 그래프 모드에서는 TensorFlow Ops 및 기능 만 사용할 수 있으므로, \n",
    "- 따라서 이 함수를 직접 .map 할 수 없으므로,  tf.py_function으로 wrappin 해야 한다. \n",
    "\n",
    "- tf.py_func() 연산자를 사용하면 TensorFlow 그래프 중간에서 임의의 Python 코드를 실행할 수 있다. 이에 해당하는 TensorFlow 연산자가 아직 존재하지 않는 사용자 정의 NumPy 연산자를 wrapping 하는 경우에 특히 편리.\n",
    "- 이 함수를 Dataset.map() 함수와 함께 사용하려면 shape과 type을 명시해주어야 한다.\n",
    "    - shape는 set_shape\n",
    "    - type은 tf.py_function의 [tf.float32]를 통해 명시"
   ]
  },
  {
   "cell_type": "code",
   "execution_count": 0,
   "metadata": {
    "colab": {},
    "colab_type": "code",
    "id": "Mah1cS-P70Iz"
   },
   "outputs": [],
   "source": [
    "def tf_encode(pt, en):\n",
    "    result_pt, result_en = tf.py_function(encode, [pt, en], [tf.int64, tf.int64])\n",
    "    result_pt.set_shape([None])\n",
    "    result_en.set_shape([None])\n",
    "\n",
    "    return result_pt, result_en"
   ]
  },
  {
   "cell_type": "markdown",
   "metadata": {
    "colab_type": "text",
    "id": "6JrGp5Gek6Ql"
   },
   "source": [
    "training 시간을 줄이기 위하여 token 갯수 40 개 이상의 example 은 drop 한다."
   ]
  },
  {
   "cell_type": "code",
   "execution_count": 0,
   "metadata": {
    "colab": {},
    "colab_type": "code",
    "id": "2QEgbjntk6Yf"
   },
   "outputs": [],
   "source": [
    "MAX_LENGTH = 40\n",
    "\n",
    "BUFFER_SIZE = 20000\n",
    "BATCH_SIZE = 64"
   ]
  },
  {
   "cell_type": "code",
   "execution_count": 0,
   "metadata": {
    "colab": {},
    "colab_type": "code",
    "id": "c081xPGv1CPI"
   },
   "outputs": [],
   "source": [
    "# x, y 언어의 max_length 가 모두 MAX_LENGTH 이하가 아니면 filtering\n",
    "\n",
    "def filter_max_length(x, y, max_length=MAX_LENGTH):\n",
    "    return tf.logical_and(tf.size(x) <= max_length, tf.size(y) <= max_length)"
   ]
  },
  {
   "cell_type": "markdown",
   "metadata": {
    "colab_type": "text",
    "id": "sklSwZzIIUX6"
   },
   "source": [
    "- tf.data.experimental.AUTOTUNE 은 작동하는 Network가 스스로 설정하고 Dataset을 잘 불러올 수 있게 결정하라는 것 "
   ]
  },
  {
   "cell_type": "code",
   "execution_count": 0,
   "metadata": {
    "colab": {},
    "colab_type": "code",
    "id": "u7SiL41mbiCZ"
   },
   "outputs": [],
   "source": [
    "train_dataset = (train_examples\n",
    "                        .map(tf_encode) \n",
    "                        .filter(filter_max_length)\n",
    "                        .cache()    #속도를 올리기 위해 dataset 을 memory 에 cache\n",
    "                        .shuffle(BUFFER_SIZE)\n",
    "                        .padded_batch(BATCH_SIZE)\n",
    "                        .prefetch(tf.data.experimental.AUTOTUNE))\n",
    "\n",
    "val_dataset    = (val_examples\n",
    "                        .map(tf_encode)\n",
    "                        .filter(filter_max_length) \n",
    "                        .padded_batch(BATCH_SIZE))"
   ]
  },
  {
   "cell_type": "markdown",
   "metadata": {
    "colab_type": "text",
    "id": "2r32dOx4XVHP"
   },
   "source": [
    "validation set  에서 batch 를 하나 가져와 dataset pipeline 이 잘 구성 되었는지 조회."
   ]
  },
  {
   "cell_type": "code",
   "execution_count": 17,
   "metadata": {
    "colab": {
     "base_uri": "https://localhost:8080/",
     "height": 289
    },
    "colab_type": "code",
    "id": "_fXvfYVfQr2n",
    "outputId": "36b92490-d6df-4f69-804a-d17ac75e8335"
   },
   "outputs": [
    {
     "data": {
      "text/plain": [
       "(<tf.Tensor: shape=(64, 38), dtype=int64, numpy=\n",
       " array([[8214,  342, 3032, ...,    0,    0,    0],\n",
       "        [8214,   95,  198, ...,    0,    0,    0],\n",
       "        [8214, 4479, 7990, ...,    0,    0,    0],\n",
       "        ...,\n",
       "        [8214,  584,   12, ...,    0,    0,    0],\n",
       "        [8214,   59, 1548, ...,    0,    0,    0],\n",
       "        [8214,  118,   34, ...,    0,    0,    0]])>,\n",
       " <tf.Tensor: shape=(64, 40), dtype=int64, numpy=\n",
       " array([[8087,   98,   25, ...,    0,    0,    0],\n",
       "        [8087,   12,   20, ...,    0,    0,    0],\n",
       "        [8087,   12, 5453, ...,    0,    0,    0],\n",
       "        ...,\n",
       "        [8087,   18, 2059, ...,    0,    0,    0],\n",
       "        [8087,   16, 1436, ...,    0,    0,    0],\n",
       "        [8087,   15,   57, ...,    0,    0,    0]])>)"
      ]
     },
     "execution_count": 17,
     "metadata": {
      "tags": []
     },
     "output_type": "execute_result"
    }
   ],
   "source": [
    "pt_batch, en_batch = next(iter(val_dataset))\n",
    "pt_batch, en_batch"
   ]
  },
  {
   "cell_type": "markdown",
   "metadata": {
    "colab_type": "text",
    "id": "nBQuibYA4n0n"
   },
   "source": [
    "## Positional encoding\n",
    "\n",
    " - 위치 인코딩이 추가되어 문장에서 단어의 상대 위치에 대한 정보를 모델에 제공\n",
    "\n",
    "- positional encoding 벡터를 임베딩 벡터에 추가하면 d 차원 공간에서 단어의 의미와 문장에서의 위치의 유사성에 따라 단어가 서로 더 가깝게 된다.\n",
    "\n",
    "- [positional encoding](https://github.com/tensorflow/examples/blob/master/community/en/position_encoding.ipynb) 에서 추가 정보 조회. 위치 인코딩을 계산하는 공식은 다음과 같다.\n",
    "\n",
    "$${PE_{(pos, 2i)} = sin(pos / 10000^{2i / d_{model}})} $$\n",
    "$${PE_{(pos, 2i+1)} = cos(pos / 10000^{2i / d_{model}})} $$\n",
    "- d_model : embedding vector 의 차원 (512). \n",
    "- pos : 입력문장의 단어 순서 위치 \n",
    "-  i : embedding vector 내의 차원의 index"
   ]
  },
  {
   "cell_type": "code",
   "execution_count": 0,
   "metadata": {
    "colab": {},
    "colab_type": "code",
    "id": "WhIOZjMNKujn"
   },
   "outputs": [],
   "source": [
    "def get_angles(pos, i, d_model):\n",
    "  angle_rates = 1 / np.power(10000, (2 * (i//2)) / np.float32(d_model))\n",
    "  return pos * angle_rates"
   ]
  },
  {
   "cell_type": "code",
   "execution_count": 0,
   "metadata": {
    "colab": {},
    "colab_type": "code",
    "id": "1Rz82wEs5biZ"
   },
   "outputs": [],
   "source": [
    "def positional_encoding(position, d_model):\n",
    "  angle_rads = get_angles(np.arange(position)[:, np.newaxis],\n",
    "                          np.arange(d_model)[np.newaxis, :],\n",
    "                          d_model)\n",
    "  # 짝수 위치 (2i) 에는 sin 적용\n",
    "  angle_rads[:, 0::2] = np.sin(angle_rads[:, 0::2])\n",
    "  # 홀수 위치 (2i) 에는 cos 적용\n",
    "  angle_rads[:, 1::2] = np.cos(angle_rads[:, 1::2])\n",
    "  pos_encoding = angle_rads[np.newaxis, ...]\n",
    "  return tf.cast(pos_encoding, dtype=tf.float32)"
   ]
  },
  {
   "cell_type": "code",
   "execution_count": 0,
   "metadata": {
    "colab": {},
    "colab_type": "code",
    "id": "lPlV-1xmaUa1"
   },
   "outputs": [],
   "source": [
    "def plot_positional_encoding(ax, position, d_model):\n",
    "    pos_encoding = positional_encoding(position, d_model)\n",
    "    print (pos_encoding.shape)\n",
    "\n",
    "    im = ax.pcolormesh(pos_encoding[0], cmap='RdBu')\n",
    "    ax.set_xlabel('Depth')\n",
    "    ax.set_xlim((0, 512))\n",
    "    ax.set_ylabel('Position')\n",
    "    ax.set_title(f'position: {position}')\n",
    "    fig.colorbar(im, ax=ax)"
   ]
  },
  {
   "cell_type": "code",
   "execution_count": 21,
   "metadata": {
    "colab": {
     "base_uri": "https://localhost:8080/",
     "height": 312
    },
    "colab_type": "code",
    "id": "omdoJZ4maUa3",
    "outputId": "7bcb86ba-6013-46a2-f2b2-af5e797af45e"
   },
   "outputs": [
    {
     "name": "stdout",
     "output_type": "stream",
     "text": [
      "(1, 50, 512)\n"
     ]
    },
    {
     "data": {
      "image/png": "[encoded data removed]",
      "text/plain": [
       "<Figure size 432x288 with 2 Axes>"
      ]
     },
     "metadata": {
      "needs_background": "light",
      "tags": []
     },
     "output_type": "display_data"
    }
   ],
   "source": [
    "fig, ax = plt.subplots(1, 1)\n",
    "plot_positional_encoding(ax, 50, 512)"
   ]
  },
  {
   "cell_type": "code",
   "execution_count": 22,
   "metadata": {
    "colab": {
     "base_uri": "https://localhost:8080/",
     "height": 645
    },
    "colab_type": "code",
    "id": "spZTonxtaUa5",
    "outputId": "e6f397da-b67d-40f2-d98b-dc99fc1f7bed"
   },
   "outputs": [
    {
     "name": "stdout",
     "output_type": "stream",
     "text": [
      "(1, 3, 512)\n",
      "(1, 8, 512)\n",
      "(1, 13, 512)\n",
      "(1, 18, 512)\n",
      "(1, 23, 512)\n",
      "(1, 28, 512)\n",
      "(1, 33, 512)\n",
      "(1, 38, 512)\n",
      "(1, 43, 512)\n",
      "(1, 48, 512)\n",
      "(1, 53, 512)\n",
      "(1, 58, 512)\n"
     ]
    },
    {
     "data": {
      "image/png": "[encoded data removed]",
      "text/plain": [
       "<Figure size 1152x432 with 24 Axes>"
      ]
     },
     "metadata": {
      "needs_background": "light",
      "tags": []
     },
     "output_type": "display_data"
    }
   ],
   "source": [
    "fig, axes = plt.subplots(3, 4, figsize=(16, 6))\n",
    "axes = axes.ravel()\n",
    "\n",
    "for i in range(len(axes)):\n",
    "    plot_positional_encoding(axes[i], i*5+3, 512)\n",
    "    \n",
    "plt.tight_layout()"
   ]
  },
  {
   "cell_type": "markdown",
   "metadata": {
    "colab_type": "text",
    "id": "a_b4ou4TYqUN"
   },
   "source": [
    "## Masking\n",
    "\n",
    "- 두가지 mask 생성 \n",
    "    - PAD mask : encoder, decoder 의 sequence batch 내의 <PAD> 위치 표시\n",
    "    - look ahead mask : decoder 에서 뒤쪽 단어 보지 않기 위해 mask"
   ]
  },
  {
   "cell_type": "markdown",
   "metadata": {
    "colab_type": "text",
    "id": "s42Uydjkv0hF"
   },
   "source": [
    "#### PAD Mask\n",
    "- sequence batch  내의 모든 패드 토큰 (0) 을 마스킹. \n",
    "- 이렇게 하면 모델이 패딩을 입력으로 처리하지 않는다. \n",
    "- 마스크는 패드 값 '0'이있는 위치를 나타낸다.\n",
    "- 해당 위치에서 '1'을 출력하고 그렇지 않으면 '0'을 출력한다."
   ]
  },
  {
   "cell_type": "code",
   "execution_count": 0,
   "metadata": {
    "colab": {},
    "colab_type": "code",
    "id": "U2i8-e1s8ti9"
   },
   "outputs": [],
   "source": [
    "def create_padding_mask(seq):\n",
    "    seq = tf.cast(tf.math.equal(seq, 0), tf.float32)    # integer 0 을 float32 로 type 변환\n",
    "    # padding 을 추가하기 위해 extra dimension 을 attention logit 에 추가\n",
    "    return seq[:, tf.newaxis, tf.newaxis, :]  # (batch_size, 1, 1, seq_len)"
   ]
  },
  {
   "cell_type": "markdown",
   "metadata": {
    "colab_type": "text",
    "id": "Iy8ltlx2K_JQ"
   },
   "source": [
    "상수 tensor 를 생성하여 위 함수를 Test"
   ]
  },
  {
   "cell_type": "code",
   "execution_count": 24,
   "metadata": {
    "colab": {
     "base_uri": "https://localhost:8080/",
     "height": 102
    },
    "colab_type": "code",
    "id": "A7BYeBCNvi7n",
    "outputId": "94f91fd3-c5f4-4b59-9624-555575d6bf4e"
   },
   "outputs": [
    {
     "data": {
      "text/plain": [
       "<tf.Tensor: shape=(2, 1, 1, 5), dtype=float32, numpy=\n",
       "array([[[[0., 0., 1., 1., 1.]]],\n",
       "\n",
       "\n",
       "       [[[0., 0., 0., 1., 1.]]]], dtype=float32)>"
      ]
     },
     "execution_count": 24,
     "metadata": {
      "tags": []
     },
     "output_type": "execute_result"
    }
   ],
   "source": [
    "x = tf.constant([[7, 6, 0, 0, 0], [1, 2, 3, 0, 0]])  \n",
    "create_padding_mask(x)"
   ]
  },
  {
   "cell_type": "markdown",
   "metadata": {
    "colab_type": "text",
    "id": "Z0hzukDBgVom"
   },
   "source": [
    "#### look-ahead 마스크\n",
    "- 미래의 토큰을 마스킹하는 데 사용. \n",
    "- 즉, 마스크는 예측에 사용하지 말아야 할 단어를 표시\n",
    "- 이는 세 번째 단어를 예측하기 위해 첫 번째와 두 번째 단어 만 사용됨을 의미\n",
    "- 네 번째 단어를 예측하려면 마찬가지로 첫 번째, 두 번째 및 세 번째 단어 만 사용"
   ]
  },
  {
   "cell_type": "code",
   "execution_count": 25,
   "metadata": {
    "colab": {
     "base_uri": "https://localhost:8080/",
     "height": 102
    },
    "colab_type": "code",
    "id": "vsbd665OOOQu",
    "outputId": "5e28d253-03e1-4fac-e253-8be7b2938775"
   },
   "outputs": [
    {
     "data": {
      "text/plain": [
       "<tf.Tensor: shape=(4, 4), dtype=float32, numpy=\n",
       "array([[1., 0., 0., 0.],\n",
       "       [1., 1., 0., 0.],\n",
       "       [1., 1., 1., 0.],\n",
       "       [1., 1., 1., 1.]], dtype=float32)>"
      ]
     },
     "execution_count": 25,
     "metadata": {
      "tags": []
     },
     "output_type": "execute_result"
    }
   ],
   "source": [
    "tf.linalg.band_part(tf.ones((4, 4)), -1, 0)  # Lower triangular part 를 남기고 1 로 변환"
   ]
  },
  {
   "cell_type": "code",
   "execution_count": 0,
   "metadata": {
    "colab": {},
    "colab_type": "code",
    "id": "dVxS8OPI9uI0"
   },
   "outputs": [],
   "source": [
    "def create_look_ahead_mask(size):\n",
    "  mask = 1 - tf.linalg.band_part(tf.ones((size, size)), -1, 0)\n",
    "  return mask    # (seq_len, seq_len)"
   ]
  },
  {
   "cell_type": "markdown",
   "metadata": {
    "colab_type": "text",
    "id": "xluDl5cXYy4y"
   },
   "source": [
    "## Scaled dot product attention"
   ]
  },
  {
   "cell_type": "markdown",
   "metadata": {
    "colab_type": "text",
    "id": "vsxEE_-Wa1gF"
   },
   "source": [
    "<img src=\"https://www.tensorflow.org/images/tutorials/transformer/scaled_attention.png\" width=\"400\" alt=\"scaled_dot_product_attention\">\n",
    "\n",
    "- 트랜스포머에서 사용되는 attention 함수의 입력은 Q (query), K (key), V (value)의 세 가지 벡터이다. \n",
    "- attention weight 를 계산하는 데 사용되는 수식은 다음과 같다.\n",
    "\n",
    "$${Attention(Q, K, V) = softmax_k(\\frac{QK^T}{\\sqrt{d_k}}) V} $$\n",
    "\n",
    "- dot-product attention 은 embedding dimension의 제곱근에 의해 scaling 된다. 이는 dot product 값이 커질 수록 소프트맥스 함수에 집어넣으면 기울기를 얻기 힘들기 때문.\n",
    "\n",
    "- mask 에 -1e9(음의 무한대에 가까움) 을 곱하여 Q와 K의 스케일 된 행렬 곱셈 (scaled-attention-logit) 에 더한다.  이렇게 하면 mask 가 1 인 경우는 softmax 에 큰 음의 입력값을 주게 되고 출력이 0 이 되기 때문이다.\n",
    "즉, mask 가 1 인 경우는 예측을 하면 안되기 때문이다.\n",
    "\n",
    "- softmax를 거친 값을 value에 곱해준다면, query와 유사한 value일수록, 즉 중요한 value일수록 더 높은 값을 가지게 된다. 중요한 정보에 더 관심을 둔다는 attention의 원리에 알맞은 것임."
   ]
  },
  {
   "cell_type": "code",
   "execution_count": 0,
   "metadata": {
    "colab": {},
    "colab_type": "code",
    "id": "LazzUq3bJ5SH"
   },
   "outputs": [],
   "source": [
    "def scaled_dot_product_attention(q, k, v, mask):\n",
    "  \"\"\"attention weights 계산\n",
    "  q, k, v 의 첫번째 dimension 은 같아야 함\n",
    "  k, v 는  두번째 dimension 이 같아야 함, i.e.: seq_len_k = seq_len_v.\n",
    "  mask 는  type(padding or look ahead) 에 다라 다른 shape 을 가진다.\n",
    "  그러나 addition 할 때에  broadcastable 하다.\n",
    "  \n",
    "  Args:\n",
    "    q: query shape == (..., seq_len_q, depth)\n",
    "    k: key shape == (..., seq_len_k, depth)\n",
    "    v: value shape == (..., seq_len_v, depth_v)\n",
    "    mask: Float tensor with shape broadcastable \n",
    "          to (..., seq_len_q, seq_len_k). Defaults to None.\n",
    "    \n",
    "  Returns:\n",
    "    output, attention_weights\n",
    "  \"\"\"\n",
    "\n",
    "  matmul_qk = tf.matmul(q, k, transpose_b=True)  # (..., seq_len_q, seq_len_k)\n",
    "  \n",
    "  # scale matmul_qk\n",
    "  dk = tf.cast(tf.shape(k)[-1], tf.float32)\n",
    "  scaled_attention_logits = matmul_qk / tf.math.sqrt(dk)\n",
    "\n",
    "  # scaled tensor 에 (mask * -1e9) 를 더함\n",
    "  if mask is not None:\n",
    "    scaled_attention_logits += (mask * -1e9)  \n",
    "\n",
    "  # ast axis (seq_len_k) 를 기준으로 softmax 가 normalized 됨. scores 의 합은 1\n",
    "  attention_weights = tf.nn.softmax(scaled_attention_logits, axis=-1)  # (..., seq_len_q, seq_len_k)\n",
    "\n",
    "  output = tf.matmul(attention_weights, v)  # (..., seq_len_q, depth_v)\n",
    "\n",
    "  return output, attention_weights"
   ]
  },
  {
   "cell_type": "code",
   "execution_count": 29,
   "metadata": {
    "colab": {
     "base_uri": "https://localhost:8080/",
     "height": 51
    },
    "colab_type": "code",
    "id": "yAzUAf2DPlNt",
    "outputId": "2ef97df3-d299-4e53-dfe7-77b1c4e86149"
   },
   "outputs": [
    {
     "name": "stdout",
     "output_type": "stream",
     "text": [
      "Attention weights are: [[0. 1. 0. 0.]]\n",
      "Output is: [[10.  0.  0.]]\n"
     ]
    }
   ],
   "source": [
    "np.set_printoptions(suppress=True)\n",
    "\n",
    "k = tf.constant([[10,0,0],\n",
    "                 [0,10,0],\n",
    "                 [0,0,10],\n",
    "                 [0,0,10]], dtype=tf.float32)  # (4, 3)\n",
    "\n",
    "v = tf.constant([[  1, 0, 0],\n",
    "                 [ 10, 0, 0],\n",
    "                 [100, 5, 0],\n",
    "                 [1000,6, 0]], dtype=tf.float32)  # (4, 3)\n",
    "\n",
    "# 두번째 `key`를 `query` 하면 두번째 `value` 가 attentin weight 1 로 반환\n",
    "q = tf.constant([[0, 10, 0]], dtype=tf.float32)  # (1, 3)\n",
    "temp_out, temp_attn = scaled_dot_product_attention(q, k, v, None)\n",
    "\n",
    "print('Attention weights are:', temp_attn.numpy())\n",
    "print('Output is:', temp_out.numpy())"
   ]
  },
  {
   "cell_type": "code",
   "execution_count": 30,
   "metadata": {
    "colab": {
     "base_uri": "https://localhost:8080/",
     "height": 51
    },
    "colab_type": "code",
    "id": "zg6k-fGhgXra",
    "outputId": "7e96b80f-adb4-4817-cdf2-1f16d3383572"
   },
   "outputs": [
    {
     "name": "stdout",
     "output_type": "stream",
     "text": [
      "Attention weights are: [[0.  0.  0.5 0.5]]\n",
      "Output is: [[550.    5.5   0. ]]\n"
     ]
    }
   ],
   "source": [
    "# 세번째 key 를 query 하면 세번째 `value` 가 attentin weight 1 로 반환되고 \n",
    "# 해당되는 두 값의 평균 반환\n",
    "q = tf.constant([[0, 0, 10]], dtype=tf.float32)  # (1, 3)\n",
    "temp_out, temp_attn = scaled_dot_product_attention(q, k, v, None)\n",
    "\n",
    "print('Attention weights are:', temp_attn.numpy())\n",
    "print('Output is:', temp_out.numpy())"
   ]
  },
  {
   "cell_type": "code",
   "execution_count": 31,
   "metadata": {
    "colab": {
     "base_uri": "https://localhost:8080/",
     "height": 51
    },
    "colab_type": "code",
    "id": "UAq3YOzUgXhb",
    "outputId": "4d2e5ec8-5b39-42f6-9e23-c8d44a68b3b2"
   },
   "outputs": [
    {
     "name": "stdout",
     "output_type": "stream",
     "text": [
      "Attention weights are: [[0.5 0.5 0.  0. ]]\n",
      "Output is: [[5.5 0.  0. ]]\n"
     ]
    }
   ],
   "source": [
    "# 첫번째와 두번째 key 를 동등하게 query 하므로, 평균값 반환\n",
    "q = tf.constant([[10, 10, 0]], dtype=tf.float32)  # (1, 3)\n",
    "temp_out, temp_attn = scaled_dot_product_attention(q, k, v, None)\n",
    "\n",
    "print('Attention weights are:', temp_attn.numpy())\n",
    "print('Output is:', temp_out.numpy())"
   ]
  },
  {
   "cell_type": "markdown",
   "metadata": {
    "colab_type": "text",
    "id": "aOz-4_XIhaTP"
   },
   "source": [
    "모든 쿼리를 함께 전달하여 행렬연산."
   ]
  },
  {
   "cell_type": "code",
   "execution_count": 32,
   "metadata": {
    "colab": {
     "base_uri": "https://localhost:8080/",
     "height": 153
    },
    "colab_type": "code",
    "id": "6dlU8Tm-hYrF",
    "outputId": "89ee3da3-a0f3-4d02-8a6f-7f0f49f76d7d"
   },
   "outputs": [
    {
     "name": "stdout",
     "output_type": "stream",
     "text": [
      "Attention weights are:\n",
      "[[0.  0.  0.5 0.5]\n",
      " [0.  1.  0.  0. ]\n",
      " [0.5 0.5 0.  0. ]]\n",
      "Output is:\n",
      "[[550.    5.5   0. ]\n",
      " [ 10.    0.    0. ]\n",
      " [  5.5   0.    0. ]]\n"
     ]
    }
   ],
   "source": [
    "q = tf.constant([[0, 0, 10], [0, 10, 0], [10, 10, 0]], dtype=tf.float32)  # (3, 3)\n",
    "temp_out, temp_attn = scaled_dot_product_attention(q, k, v, None)\n",
    "\n",
    "print('Attention weights are:')\n",
    "print(temp_attn.numpy())\n",
    "print('Output is:')\n",
    "print(temp_out.numpy())"
   ]
  },
  {
   "cell_type": "markdown",
   "metadata": {
    "colab_type": "text",
    "id": "kmzGPEy64qmA"
   },
   "source": [
    "## Multi-head attention"
   ]
  },
  {
   "cell_type": "markdown",
   "metadata": {
    "colab_type": "text",
    "id": "fz5BMC8Kaoqo"
   },
   "source": [
    "<img src=\"https://www.tensorflow.org/images/tutorials/transformer/multi_head_attention.png\" width=\"500\" alt=\"multi-head attention\">\n",
    "\n",
    "\n",
    "멀티 헤드 attention 은 다음 네 부분으로 구성됩니다.\n",
    "* linear layer 와 헤드 분할.\n",
    "* scaled dot-product attention.\n",
    "* multi-head 의 concatenate.\n",
    "* 최종 linear layer."
   ]
  },
  {
   "cell_type": "markdown",
   "metadata": {
    "colab_type": "text",
    "id": "JPmbr6F1C-v_"
   },
   "source": [
    "각 멀티 헤드 어텐션 블록에는 Q (쿼리), K (키), V (값) 의 3 개의 입력이 있다. 이들은 선형 (Dense) 레이어를 통해 여러 헤드로 분할된다.\n",
    "\n",
    "위에서 정의한`scaled_dot_product_attention` 을 각 헤드에 적용.(효율성을 위해 broadcast 됨). attention 단계에서 적절한 마스크를 사용해야 한다. 그런 다음 각 헤드에 대한 attention output 이 연결되고 ( 'tf.transpose'및 'tf.reshape'사용) 최종`Dense` 레이어를 통과.\n",
    "\n",
    "하나의 단일 attention head 를 사용 않고, Q, K 및 V는 여러 헤드로 분할되어 모델이 서로 다른 표현 공간의 다른 위치에있는 정보에 공동으로 attend 할 수 있게한다. 분할 후 각 헤드의 dimension 이 감소하므로 전체 계산 비용은 전체 dimension 으로 단일 head attention 할 때와 같다."
   ]
  },
  {
   "cell_type": "code",
   "execution_count": 0,
   "metadata": {
    "colab": {},
    "colab_type": "code",
    "id": "BSV3PPKsYecw"
   },
   "outputs": [],
   "source": [
    "class MultiHeadAttention(tf.keras.layers.Layer):\n",
    "  def __init__(self, d_model, num_heads):\n",
    "    super(MultiHeadAttention, self).__init__()\n",
    "    self.num_heads = num_heads\n",
    "    self.d_model = d_model\n",
    "    \n",
    "    assert d_model % self.num_heads == 0\n",
    "    \n",
    "    self.depth = d_model // self.num_heads \n",
    "    \n",
    "    # Linear Layer\n",
    "    self.wq = tf.keras.layers.Dense(d_model)\n",
    "    self.wk = tf.keras.layers.Dense(d_model)\n",
    "    self.wv = tf.keras.layers.Dense(d_model)\n",
    "    \n",
    "    self.dense = tf.keras.layers.Dense(d_model)\n",
    "        \n",
    "  def split_heads(self, x, batch_size):\n",
    "    \"\"\" last dimension 을 (num_heads, depth) 로 split.\n",
    "        shape 이 (batch_size, num_heads, seq_len, depth) 가 되도록 결과를 transpose\n",
    "    \"\"\"\n",
    "    x = tf.reshape(x, (batch_size, -1, self.num_heads, self.depth))\n",
    "    return tf.transpose(x, perm=[0, 2, 1, 3])\n",
    "    \n",
    "  def call(self, v, k, q, mask):\n",
    "    batch_size = tf.shape(q)[0]\n",
    "    \n",
    "    q = self.wq(q)  # (batch_size, seq_len, d_model)\n",
    "    k = self.wk(k)  # (batch_size, seq_len, d_model)\n",
    "    v = self.wv(v)  # (batch_size, seq_len, d_model)\n",
    "    \n",
    "    q = self.split_heads(q, batch_size)  # (batch_size, num_heads, seq_len_q, depth)\n",
    "    k = self.split_heads(k, batch_size)  # (batch_size, num_heads, seq_len_k, depth)\n",
    "    v = self.split_heads(v, batch_size)  # (batch_size, num_heads, seq_len_v, depth)\n",
    "    \n",
    "    # scaled_attention.shape  == (batch_size, num_heads, seq_len_q, depth)\n",
    "    # attention_weights.shape == (batch_size, num_heads, seq_len_q, seq_len_k)\n",
    "    scaled_attention, attention_weights = scaled_dot_product_attention(q, k, v, mask)\n",
    "    \n",
    "    scaled_attention = tf.transpose(scaled_attention, \n",
    "                       perm=[0, 2, 1, 3])  # (batch_size, seq_len_q, num_heads, depth)\n",
    "\n",
    "    concat_attention = tf.reshape(scaled_attention, \n",
    "                      (batch_size, -1, self.d_model))  # (batch_size, seq_len_q, d_model)\n",
    "\n",
    "    output = self.dense(concat_attention)  # (batch_size, seq_len_q, d_model)\n",
    "        \n",
    "    return output, attention_weights"
   ]
  },
  {
   "cell_type": "markdown",
   "metadata": {
    "colab_type": "text",
    "id": "0D8FJue5lDyZ"
   },
   "source": [
    "`x`  시퀀스의 각 위치에서 `MultiHeadAttention` 은 시퀀스의 다른 모든 위치에 8 개의 attention head 를 모두 실행하여 해당 위치에서 동일한 길이의 새 output 벡터를 반환."
   ]
  },
  {
   "cell_type": "code",
   "execution_count": 32,
   "metadata": {
    "colab": {
     "base_uri": "https://localhost:8080/",
     "height": 34
    },
    "colab_type": "code",
    "id": "Hu94p-_-2_BX",
    "outputId": "40cb5dd9-e739-4c16-c00f-621ebb55986e"
   },
   "outputs": [
    {
     "data": {
      "text/plain": [
       "(TensorShape([1, 50, 512]), TensorShape([1, 8, 50, 50]))"
      ]
     },
     "execution_count": 32,
     "metadata": {
      "tags": []
     },
     "output_type": "execute_result"
    }
   ],
   "source": [
    "temp_mha = MultiHeadAttention(d_model=512, num_heads=8)\n",
    "x = tf.random.uniform((1, 50, 512))  # (batch_size, encoder_sequence, d_model)\n",
    "out, attn = temp_mha(x, k=x, q=x, mask=None)\n",
    "out.shape, attn.shape"
   ]
  },
  {
   "cell_type": "markdown",
   "metadata": {
    "colab_type": "text",
    "id": "RdDqGayx67vv"
   },
   "source": [
    "## Point wise feed forward network"
   ]
  },
  {
   "cell_type": "markdown",
   "metadata": {
    "colab_type": "text",
    "id": "gBqzJXGfHK3X"
   },
   "source": [
    "Pointwise feed forward network 은 ReLU 활성화를 통해 두 개의 완전히 연결층으로 구성된다."
   ]
  },
  {
   "cell_type": "code",
   "execution_count": 0,
   "metadata": {
    "colab": {},
    "colab_type": "code",
    "id": "ET7xLt0yCT6Z"
   },
   "outputs": [],
   "source": [
    "def point_wise_feed_forward_network(d_model, dff):\n",
    "  return tf.keras.Sequential([\n",
    "      tf.keras.layers.Dense(dff, activation='relu'),   # (batch_size, seq_len, dff)\n",
    "      tf.keras.layers.Dense(d_model)                   # (batch_size, seq_len, d_model)\n",
    "  ])"
   ]
  },
  {
   "cell_type": "code",
   "execution_count": 43,
   "metadata": {
    "colab": {
     "base_uri": "https://localhost:8080/",
     "height": 34
    },
    "colab_type": "code",
    "id": "mytb1lPyOHLB",
    "outputId": "15b9ab8e-051f-47c3-e79d-9950ad83825f"
   },
   "outputs": [
    {
     "data": {
      "text/plain": [
       "TensorShape([1, 50, 512])"
      ]
     },
     "execution_count": 43,
     "metadata": {
      "tags": []
     },
     "output_type": "execute_result"
    }
   ],
   "source": [
    "sample_ffn = point_wise_feed_forward_network(512, 2048)\n",
    "sample_ffn(out).shape"
   ]
  },
  {
   "cell_type": "markdown",
   "metadata": {
    "colab_type": "text",
    "id": "7e7hKcxn6-zd"
   },
   "source": [
    "## Encoder and decoder"
   ]
  },
  {
   "cell_type": "markdown",
   "metadata": {
    "colab_type": "text",
    "id": "yScbC0MUH8dS"
   },
   "source": [
    "<img src=\"https://www.tensorflow.org/images/tutorials/transformer/transformer.png\" width=\"600\" alt=\"transformer\">"
   ]
  },
  {
   "cell_type": "markdown",
   "metadata": {
    "colab_type": "text",
    "id": "MfYJG-Kvgwy2"
   },
   "source": [
    "transformer model 은  표준 `sequence to sequence with attention model` 과 동일한 일반적 pattern 을 따른다.\n",
    "\n",
    "* 입력 문장은 시퀀스의 각 단어 / 토큰에 대한 출력을 생성하는 N 개의 인코더 레이어를 통과한다.\n",
    "* 디코더는 다음 단어 예측을 위해 인코더의 출력과 자체의 입력 (self-attention)에 attend 한다."
   ]
  },
  {
   "cell_type": "markdown",
   "metadata": {
    "colab_type": "text",
    "id": "QFv-FNYUmvpn"
   },
   "source": [
    "### Encoder layer\n",
    "\n",
    "각 encoder layer 는 sublayer 들로 구성:\n",
    "\n",
    "1.   Multi-head attention (with padding mask) \n",
    "2.   Point wise feed forward networks. \n",
    "\n",
    "이들 서브 계층들 각각은 그 주변을 돌아가는 residual connection(잔차 연결)을 갖고 있어서 layer normalization 을 한다. 잔차 연결은 딥 네트워크에서의 vanishing gradient 문제를 방지하는 데 도움이 된다.\n",
    "\n",
    "각 sublayer 의 output 은 `LayerNorm(x + Sublayer(x))` 이다. normalization 은 `d_model` (last) axis 에 대해 이루어 진다. transformer 는 N encoder layer 로 구성된다."
   ]
  },
  {
   "cell_type": "code",
   "execution_count": 0,
   "metadata": {
    "colab": {},
    "colab_type": "code",
    "id": "ncyS-Ms3i2x_"
   },
   "outputs": [],
   "source": [
    "class EncoderLayer(tf.keras.layers.Layer):\n",
    "  def __init__(self, d_model, num_heads, dff, rate=0.1):\n",
    "    super(EncoderLayer, self).__init__()\n",
    "\n",
    "    self.mha = MultiHeadAttention(d_model, num_heads)\n",
    "    self.ffn = point_wise_feed_forward_network(d_model, dff)\n",
    "\n",
    "    self.layernorm1 = tf.keras.layers.LayerNormalization(epsilon=1e-6)\n",
    "    self.layernorm2 = tf.keras.layers.LayerNormalization(epsilon=1e-6)\n",
    "    \n",
    "    self.dropout1 = tf.keras.layers.Dropout(rate)\n",
    "    self.dropout2 = tf.keras.layers.Dropout(rate)\n",
    "    \n",
    "  def call(self, x, training, mask):\n",
    "\n",
    "    attn_output, _ = self.mha(x, x, x, mask)  # (batch_size, input_seq_len, d_model)\n",
    "    attn_output = self.dropout1(attn_output, training=training)\n",
    "    out1 = self.layernorm1(x + attn_output)  # (batch_size, input_seq_len, d_model)\n",
    "    \n",
    "    ffn_output = self.ffn(out1)  # (batch_size, input_seq_len, d_model)\n",
    "    ffn_output = self.dropout2(ffn_output, training=training)\n",
    "    out2 = self.layernorm2(out1 + ffn_output)  # (batch_size, input_seq_len, d_model)\n",
    "    \n",
    "    return out2"
   ]
  },
  {
   "cell_type": "code",
   "execution_count": 0,
   "metadata": {
    "colab": {
     "base_uri": "https://localhost:8080/",
     "height": 34
    },
    "colab_type": "code",
    "id": "AzZRXdO0mI48",
    "outputId": "ecf9df28-da17-49e0-96c3-f8ee3465b071"
   },
   "outputs": [
    {
     "data": {
      "text/plain": [
       "TensorShape([64, 43, 512])"
      ]
     },
     "execution_count": 73,
     "metadata": {
      "tags": []
     },
     "output_type": "execute_result"
    }
   ],
   "source": [
    "sample_encoder_layer = EncoderLayer(512, 8, 2048)\n",
    "x = tf.random.uniform((64, 43, 512))\n",
    "\n",
    "sample_encoder_layer_output = sample_encoder_layer(x, False, None)\n",
    "\n",
    "sample_encoder_layer_output.shape  # (batch_size, input_seq_len, d_model)"
   ]
  },
  {
   "cell_type": "markdown",
   "metadata": {
    "colab_type": "text",
    "id": "6LO_48Owmx_o"
   },
   "source": [
    "### Decoder layer\n",
    "\n",
    "각 decoder layer 는 다음의 sublayer 들로 구성:\n",
    "\n",
    "1.   Masked multi-head attention (look ahead mask 와 padding mask 로 구성)\n",
    "2.   Multi-head attention (with padding mask). \n",
    "    - encoder 로부터 V (value) and K (key) 의 *encoder output* 을 inputs 으로 받는다. \n",
    "    - Q (query) 는  *masked multi-head attention sublayer 의 output* 을 input 으로 받는다.\n",
    "3.   Point wise feed forward networks\n",
    "\n",
    "이들 서브 계층들 각각은 그 주변에 residual connection(잔차 연결) 을 갖고 이어서 layer normalization dmf 갖는다. 각 sublayer 의 output 은 `LayerNorm(x + Sublayer(x))` 이다. normalization 은 d_model (last) axis 에 대해 이루어 진다.\n",
    "\n",
    "N decoder layer 로 구성된다.\n",
    "\n",
    "Q는 디코더의 첫 번째 attention 블록에서 출력을 수신하고 K가 인코더 출력을 수신함에 따라 attention weight 는 인코더의 출력을 기반으로 디코더의 입력에 주어진 중요성을 나타낸다. 다시 말해, 디코더는 엔코더의 출력을보고 자체 출력에 self attention 하여 다음 단어를 예측한다. \n"
   ]
  },
  {
   "cell_type": "code",
   "execution_count": 0,
   "metadata": {
    "colab": {},
    "colab_type": "code",
    "id": "9SoX0-vd1hue"
   },
   "outputs": [],
   "source": [
    "class DecoderLayer(tf.keras.layers.Layer):\n",
    "  def __init__(self, d_model, num_heads, dff, rate=0.1):\n",
    "    super(DecoderLayer, self).__init__()\n",
    "\n",
    "    self.mha1 = MultiHeadAttention(d_model, num_heads)\n",
    "    self.mha2 = MultiHeadAttention(d_model, num_heads)\n",
    "\n",
    "    self.ffn = point_wise_feed_forward_network(d_model, dff)\n",
    " \n",
    "    self.layernorm1 = tf.keras.layers.LayerNormalization(epsilon=1e-6)\n",
    "    self.layernorm2 = tf.keras.layers.LayerNormalization(epsilon=1e-6)\n",
    "    self.layernorm3 = tf.keras.layers.LayerNormalization(epsilon=1e-6)\n",
    "    \n",
    "    self.dropout1 = tf.keras.layers.Dropout(rate)\n",
    "    self.dropout2 = tf.keras.layers.Dropout(rate)\n",
    "    self.dropout3 = tf.keras.layers.Dropout(rate)\n",
    "    \n",
    "    \n",
    "  def call(self, x, enc_output, training, look_ahead_mask, padding_mask):\n",
    "    # enc_output.shape == (batch_size, input_seq_len, d_model)\n",
    "\n",
    "    attn1, attn_weights_block1 \\\n",
    "            = self.mha1(x, x, x, look_ahead_mask)  # (batch_size, target_seq_len, d_model)\n",
    "    attn1 = self.dropout1(attn1, training=training)\n",
    "    out1 = self.layernorm1(attn1 + x)\n",
    "    \n",
    "    attn2, attn_weights_block2 \\\n",
    "            = self.mha2(enc_output, enc_output, out1, padding_mask)  # (batch_size, target_seq_len, d_model)\n",
    "    attn2 = self.dropout2(attn2, training=training)\n",
    "    out2 = self.layernorm2(attn2 + out1)  # (batch_size, target_seq_len, d_model)\n",
    "    \n",
    "    ffn_output = self.ffn(out2)           # (batch_size, target_seq_len, d_model)\n",
    "    ffn_output = self.dropout3(ffn_output, training=training)\n",
    "    out3 = self.layernorm3(ffn_output + out2)  # (batch_size, target_seq_len, d_model)\n",
    "    \n",
    "    return out3, attn_weights_block1, attn_weights_block2"
   ]
  },
  {
   "cell_type": "code",
   "execution_count": 0,
   "metadata": {
    "colab": {
     "base_uri": "https://localhost:8080/",
     "height": 34
    },
    "colab_type": "code",
    "id": "Ne2Bqx8k71l0",
    "outputId": "2b3d4c3a-f9b4-483b-9942-94f300d4127a"
   },
   "outputs": [
    {
     "data": {
      "text/plain": [
       "TensorShape([64, 50, 512])"
      ]
     },
     "execution_count": 80,
     "metadata": {
      "tags": []
     },
     "output_type": "execute_result"
    }
   ],
   "source": [
    "sample_decoder_layer = DecoderLayer(512, 8, 2048)\n",
    "x = tf.random.uniform((64, 50, 512))\n",
    "\n",
    "sample_decoder_layer_output, _, _ \\\n",
    "        = sample_decoder_layer(x, sample_encoder_layer_output, False, None, None)\n",
    "\n",
    "sample_decoder_layer_output.shape  # (batch_size, target_seq_len, d_model)"
   ]
  },
  {
   "cell_type": "markdown",
   "metadata": {
    "colab_type": "text",
    "id": "SE1H51Ajm0q1"
   },
   "source": [
    "### Encoder 전체\n",
    "\n",
    "전체 `Encoder` 는 다음으로 구성:\n",
    "1.   Input Embedding\n",
    "2.   Positional Encoding\n",
    "3.   N encoder layers\n",
    "\n",
    "입력은 positional 인코딩과 합쳐진 임베딩을 통해 이루어진다. 이 합산의 출력은 인코더 계층에 대한 입력이다. 인코더의 출력은 디코더에 대한 입력이다."
   ]
  },
  {
   "cell_type": "code",
   "execution_count": 0,
   "metadata": {
    "colab": {},
    "colab_type": "code",
    "id": "jpEox7gJ8FCI"
   },
   "outputs": [],
   "source": [
    "class Encoder(tf.keras.layers.Layer):\n",
    "  def __init__(self, num_layers, d_model, num_heads, dff, input_vocab_size,\n",
    "               maximum_position_encoding, rate=0.1):\n",
    "    super(Encoder, self).__init__()\n",
    "\n",
    "    self.d_model = d_model\n",
    "    self.num_layers = num_layers\n",
    "    \n",
    "    self.embedding = tf.keras.layers.Embedding(input_vocab_size, d_model)\n",
    "    self.pos_encoding = positional_encoding(maximum_position_encoding, self.d_model)\n",
    "    \n",
    "    self.enc_layers \\\n",
    "          = [EncoderLayer(d_model, num_heads, dff, rate) for _ in range(num_layers)]\n",
    "  \n",
    "    self.dropout = tf.keras.layers.Dropout(rate)\n",
    "        \n",
    "  def call(self, x, training, mask):\n",
    "\n",
    "    seq_len = tf.shape(x)[1]\n",
    "    \n",
    "    # adding embedding and position encoding.\n",
    "    x = self.embedding(x)  # (batch_size, input_seq_len, d_model)\n",
    "    x *= tf.math.sqrt(tf.cast(self.d_model, tf.float32))\n",
    "    x += self.pos_encoding[:, :seq_len, :]\n",
    "\n",
    "    x = self.dropout(x, training=training)\n",
    "    \n",
    "    for i in range(self.num_layers):\n",
    "        x = self.enc_layers[i](x, training, mask)\n",
    "    \n",
    "    return x  # (batch_size, input_seq_len, d_model)"
   ]
  },
  {
   "cell_type": "code",
   "execution_count": 0,
   "metadata": {
    "colab": {
     "base_uri": "https://localhost:8080/",
     "height": 34
    },
    "colab_type": "code",
    "id": "8QG9nueFQKXx",
    "outputId": "c469191b-637f-425f-f60f-4c4924cb0510"
   },
   "outputs": [
    {
     "name": "stdout",
     "output_type": "stream",
     "text": [
      "(64, 62, 512)\n"
     ]
    }
   ],
   "source": [
    "sample_encoder = Encoder(num_layers=2, d_model=512, num_heads=8, \n",
    "                         dff=2048, input_vocab_size=8500,\n",
    "                         maximum_position_encoding=10000)\n",
    "x = tf.random.uniform((64, 62), dtype=tf.int64, minval=0, maxval=200)\n",
    "\n",
    "sample_encoder_output = sample_encoder(x, training=False, mask=None)\n",
    "\n",
    "print (sample_encoder_output.shape)  # (batch_size, input_seq_len, d_model)"
   ]
  },
  {
   "cell_type": "markdown",
   "metadata": {
    "colab_type": "text",
    "id": "p-uO6ls8m2O5"
   },
   "source": [
    "### Decoder 전체"
   ]
  },
  {
   "cell_type": "markdown",
   "metadata": {
    "colab_type": "text",
    "id": "ZtT7PKzrXkNr"
   },
   "source": [
    "전체 `Decoder` 는 다음으로 구성:\n",
    "1.   Output Embedding\n",
    "2.   Positional Encoding\n",
    "3.   N decoder layers\n",
    "\n",
    "타겟은 positional 인코딩과 합산 된 임베딩을 통해 이루어진다. 이 합산의 출력은 디코더 층에 대한 입력이다. 디코더의 출력은 최종 linear layer 에 대한 입력이다."
   ]
  },
  {
   "cell_type": "code",
   "execution_count": 0,
   "metadata": {
    "colab": {},
    "colab_type": "code",
    "id": "d5_d5-PLQXwY"
   },
   "outputs": [],
   "source": [
    "class Decoder(tf.keras.layers.Layer):\n",
    "  def __init__(self, num_layers, d_model, num_heads, dff, target_vocab_size,\n",
    "               maximum_position_encoding, rate=0.1):\n",
    "    super(Decoder, self).__init__()\n",
    "\n",
    "    self.d_model = d_model\n",
    "    self.num_layers = num_layers\n",
    "    \n",
    "    self.embedding = tf.keras.layers.Embedding(target_vocab_size, d_model)\n",
    "    self.pos_encoding = positional_encoding(maximum_position_encoding, d_model)\n",
    "    \n",
    "    self.dec_layers \\\n",
    "         = [DecoderLayer(d_model, num_heads, dff, rate) for _ in range(num_layers)]\n",
    "    self.dropout = tf.keras.layers.Dropout(rate)\n",
    "    \n",
    "  def call(self, x, enc_output, training, look_ahead_mask, padding_mask):\n",
    "\n",
    "    seq_len = tf.shape(x)[1]\n",
    "    attention_weights = {}\n",
    "    \n",
    "    x = self.embedding(x)  # (batch_size, target_seq_len, d_model)\n",
    "    x *= tf.math.sqrt(tf.cast(self.d_model, tf.float32))\n",
    "    x += self.pos_encoding[:, :seq_len, :]\n",
    "    \n",
    "    x = self.dropout(x, training=training)\n",
    "\n",
    "    for i in range(self.num_layers):\n",
    "      x, block1, block2 \\\n",
    "        = self.dec_layers[i](x, enc_output, training, look_ahead_mask, padding_mask)\n",
    "      \n",
    "      attention_weights['decoder_layer{}_block1'.format(i+1)] = block1\n",
    "      attention_weights['decoder_layer{}_block2'.format(i+1)] = block2\n",
    "    \n",
    "    # x.shape == (batch_size, target_seq_len, d_model)\n",
    "    return x, attention_weights"
   ]
  },
  {
   "cell_type": "code",
   "execution_count": 0,
   "metadata": {
    "colab": {
     "base_uri": "https://localhost:8080/",
     "height": 34
    },
    "colab_type": "code",
    "id": "a1jXoAMRZyvu",
    "outputId": "6e7523e2-630b-4ac7-d080-f2afda5c2e08"
   },
   "outputs": [
    {
     "data": {
      "text/plain": [
       "(TensorShape([64, 26, 512]), TensorShape([64, 8, 26, 62]))"
      ]
     },
     "execution_count": 87,
     "metadata": {
      "tags": []
     },
     "output_type": "execute_result"
    }
   ],
   "source": [
    "sample_decoder = Decoder(num_layers=2, d_model=512, num_heads=8, \n",
    "                         dff=2048, target_vocab_size=8000,\n",
    "                         maximum_position_encoding=5000)\n",
    "\n",
    "x = tf.random.uniform((64, 26), dtype=tf.int64, minval=0, maxval=200)\n",
    "\n",
    "output, attn = sample_decoder(x, \n",
    "                              enc_output=sample_encoder_output, \n",
    "                              training=False,\n",
    "                              look_ahead_mask=None, \n",
    "                              padding_mask=None)\n",
    "\n",
    "output.shape, attn['decoder_layer2_block2'].shape"
   ]
  },
  {
   "cell_type": "markdown",
   "metadata": {
    "colab_type": "text",
    "id": "y54xnJnuYgJ7"
   },
   "source": [
    "## Transformer 생성"
   ]
  },
  {
   "cell_type": "markdown",
   "metadata": {
    "colab_type": "text",
    "id": "uERO1y54cOKq"
   },
   "source": [
    "Transformer 는 인코더, 디코더 및 최종 linear layer 로 구성. 디코더의 출력은 linear layer 에 대한 입력이며 출력이 반환된다."
   ]
  },
  {
   "cell_type": "code",
   "execution_count": 0,
   "metadata": {
    "colab": {},
    "colab_type": "code",
    "id": "PED3bIpOYkBu"
   },
   "outputs": [],
   "source": [
    "class Transformer(tf.keras.Model):\n",
    "  def __init__(self, num_layers, d_model, num_heads, dff, input_vocab_size, \n",
    "               target_vocab_size, pe_input, pe_target, rate=0.1):\n",
    "    super(Transformer, self).__init__()\n",
    "\n",
    "    self.encoder = Encoder(num_layers, d_model, num_heads, dff, \n",
    "                           input_vocab_size, pe_input, rate)\n",
    "\n",
    "    self.decoder = Decoder(num_layers, d_model, num_heads, dff, \n",
    "                           target_vocab_size, pe_target, rate)\n",
    "\n",
    "    self.final_layer = tf.keras.layers.Dense(target_vocab_size)\n",
    "    \n",
    "  def call(self, inp, tar, training, enc_padding_mask, \n",
    "           look_ahead_mask, dec_padding_mask):\n",
    "\n",
    "    enc_output = self.encoder(inp, training, enc_padding_mask)  # (batch_size, inp_seq_len, d_model)\n",
    "    \n",
    "    # dec_output.shape == (batch_size, tar_seq_len, d_model)\n",
    "    dec_output, attention_weights = self.decoder(\n",
    "        tar, enc_output, training, look_ahead_mask, dec_padding_mask)\n",
    "    \n",
    "    final_output = self.final_layer(dec_output)  # (batch_size, tar_seq_len, target_vocab_size)\n",
    "    \n",
    "    return final_output, attention_weights"
   ]
  },
  {
   "cell_type": "code",
   "execution_count": 0,
   "metadata": {
    "colab": {
     "base_uri": "https://localhost:8080/",
     "height": 34
    },
    "colab_type": "code",
    "id": "tJ4fbQcIkHW1",
    "outputId": "bfcaecb0-be0e-4061-d0a1-8e275e71052d"
   },
   "outputs": [
    {
     "data": {
      "text/plain": [
       "TensorShape([64, 36, 8000])"
      ]
     },
     "execution_count": 89,
     "metadata": {
      "tags": []
     },
     "output_type": "execute_result"
    }
   ],
   "source": [
    "sample_transformer = Transformer(\n",
    "    num_layers=2, d_model=512, num_heads=8, dff=2048, \n",
    "    input_vocab_size=8500, target_vocab_size=8000, \n",
    "    pe_input=10000, pe_target=6000)\n",
    "\n",
    "temp_input = tf.random.uniform((64, 38), dtype=tf.int64, minval=0, maxval=200)\n",
    "temp_target = tf.random.uniform((64, 36), dtype=tf.int64, minval=0, maxval=200)\n",
    "\n",
    "fn_out, _ = sample_transformer(temp_input, temp_target, training=False, \n",
    "                               enc_padding_mask=None, \n",
    "                               look_ahead_mask=None,\n",
    "                               dec_padding_mask=None)\n",
    "\n",
    "fn_out.shape  # (batch_size, tar_seq_len, target_vocab_size)"
   ]
  },
  {
   "cell_type": "markdown",
   "metadata": {
    "colab_type": "text",
    "id": "wsINyf1VEQLC"
   },
   "source": [
    "## Set hyperparameters"
   ]
  },
  {
   "cell_type": "markdown",
   "metadata": {
    "colab_type": "text",
    "id": "zVjWCxFNcgbt"
   },
   "source": [
    "이 예제를 작고 비교적 빠르게 유지하기 위해 *num_layers, d_model 및 dff* 의 값을 줄임. \n",
    "\n",
    "transformer  기본 모델에 사용 된 값은; *num_layers=6*, *d_model = 512*, *dff = 2048*. \n",
    "\n",
    "참고 : 아래 값을 변경하면 많은 작업에서 최첨단 모델을 얻을 수 있다."
   ]
  },
  {
   "cell_type": "code",
   "execution_count": 0,
   "metadata": {
    "colab": {},
    "colab_type": "code",
    "id": "lnJn5SLA2ahP"
   },
   "outputs": [],
   "source": [
    "num_layers = 4\n",
    "d_model = 128\n",
    "dff = 512\n",
    "num_heads = 8\n",
    "\n",
    "input_vocab_size = tokenizer_pt.vocab_size + 2\n",
    "target_vocab_size = tokenizer_en.vocab_size + 2\n",
    "dropout_rate = 0.1"
   ]
  },
  {
   "cell_type": "markdown",
   "metadata": {
    "colab_type": "text",
    "id": "xYEGhEOtzn5W"
   },
   "source": [
    "## Optimizer"
   ]
  },
  {
   "cell_type": "markdown",
   "metadata": {
    "colab_type": "text",
    "id": "GOmWW--yP3zx"
   },
   "source": [
    "[paper](https://arxiv.org/abs/1706.03762) 의 공식에 따라 custom learning rate scheduler 와 함께 Adam optimizer 를 사용한다.\n",
    "\n",
    "\n",
    "\n",
    "$${lrate = d_{model}^{-0.5} * min(step{\\_}num^{-0.5}, step{\\_}num * warmup{\\_}steps^{-1.5})}$$\n"
   ]
  },
  {
   "cell_type": "code",
   "execution_count": 0,
   "metadata": {
    "colab": {},
    "colab_type": "code",
    "id": "iYQdOO1axwEI"
   },
   "outputs": [],
   "source": [
    "class CustomSchedule(tf.keras.optimizers.schedules.LearningRateSchedule):\n",
    "  def __init__(self, d_model, warmup_steps=4000):\n",
    "    super(CustomSchedule, self).__init__()\n",
    "    \n",
    "    self.d_model = d_model\n",
    "    self.d_model = tf.cast(self.d_model, tf.float32)\n",
    "\n",
    "    self.warmup_steps = warmup_steps\n",
    "    \n",
    "  def __call__(self, step):\n",
    "    arg1 = tf.math.rsqrt(step)\n",
    "    arg2 = step * (self.warmup_steps ** -1.5)\n",
    "    \n",
    "    return tf.math.rsqrt(self.d_model) * tf.math.minimum(arg1, arg2)"
   ]
  },
  {
   "cell_type": "code",
   "execution_count": 0,
   "metadata": {
    "colab": {},
    "colab_type": "code",
    "id": "7r4scdulztRx"
   },
   "outputs": [],
   "source": [
    "learning_rate = CustomSchedule(d_model)\n",
    "\n",
    "optimizer = tf.keras.optimizers.Adam(learning_rate, beta_1=0.9, beta_2=0.98, \n",
    "                                     epsilon=1e-9)"
   ]
  },
  {
   "cell_type": "code",
   "execution_count": 0,
   "metadata": {
    "colab": {
     "base_uri": "https://localhost:8080/",
     "height": 296
    },
    "colab_type": "code",
    "id": "f33ZCgvHpPdG",
    "outputId": "556db319-56d8-4b85-af59-ba17d8571c52"
   },
   "outputs": [
    {
     "data": {
      "text/plain": [
       "Text(0.5, 0, 'Train Step')"
      ]
     },
     "execution_count": 93,
     "metadata": {
      "tags": []
     },
     "output_type": "execute_result"
    },
    {
     "data": {
      "image/png": "[encoded data removed]",
      "text/plain": [
       "<Figure size 432x288 with 1 Axes>"
      ]
     },
     "metadata": {
      "needs_background": "light",
      "tags": []
     },
     "output_type": "display_data"
    }
   ],
   "source": [
    "temp_learning_rate_schedule = CustomSchedule(d_model)\n",
    "\n",
    "plt.plot(temp_learning_rate_schedule(tf.range(40000, dtype=tf.float32)))\n",
    "plt.ylabel(\"Learning Rate\")\n",
    "plt.xlabel(\"Train Step\")"
   ]
  },
  {
   "cell_type": "markdown",
   "metadata": {
    "colab_type": "text",
    "id": "YgkDE7hzo8r5"
   },
   "source": [
    "## Loss and metrics"
   ]
  },
  {
   "cell_type": "markdown",
   "metadata": {
    "colab_type": "text",
    "id": "oxGJtoDuYIHL"
   },
   "source": [
    "target sequences 가 padding 되어 있으므로, loss 계산 시 padding mask 를 적용하는 것이 중요.\n",
    "\n",
    "tf.keras.losses.SparseCategoricalCrossentropy 의 reduction=NONE 으로 지정할 경우는 shape 이 [batch_size, d0, .. dN-1] 이고, 그렇지 않은 경우는 scalar 이다."
   ]
  },
  {
   "cell_type": "code",
   "execution_count": 0,
   "metadata": {
    "colab": {},
    "colab_type": "code",
    "id": "MlhsJMm0TW_B"
   },
   "outputs": [],
   "source": [
    "loss_object = tf.keras.losses.SparseCategoricalCrossentropy(\n",
    "                    from_logits=True, reduction='none')"
   ]
  },
  {
   "cell_type": "code",
   "execution_count": 0,
   "metadata": {
    "colab": {},
    "colab_type": "code",
    "id": "67oqVHiT0Eiu"
   },
   "outputs": [],
   "source": [
    "def loss_function(real, pred):\n",
    "  mask = tf.math.logical_not(tf.math.equal(real, 0))\n",
    "  loss_ = loss_object(real, pred)\n",
    "\n",
    "  mask = tf.cast(mask, dtype=loss_.dtype)\n",
    "  loss_ *= mask\n",
    "  \n",
    "  return tf.reduce_mean(loss_)"
   ]
  },
  {
   "cell_type": "code",
   "execution_count": 0,
   "metadata": {
    "colab": {},
    "colab_type": "code",
    "id": "phlyxMnm-Tpx"
   },
   "outputs": [],
   "source": [
    "train_loss = tf.keras.metrics.Mean(name='train_loss')\n",
    "train_accuracy = tf.keras.metrics.SparseCategoricalAccuracy(\n",
    "                     name='train_accuracy')"
   ]
  },
  {
   "cell_type": "markdown",
   "metadata": {
    "colab_type": "text",
    "id": "aeHumfr7zmMa"
   },
   "source": [
    "# Training and checkpointing\n",
    "\n",
    "## Transformer model 생성"
   ]
  },
  {
   "cell_type": "code",
   "execution_count": 0,
   "metadata": {
    "colab": {},
    "colab_type": "code",
    "id": "UiysUa--4tOU"
   },
   "outputs": [],
   "source": [
    "transformer = Transformer(num_layers, d_model, num_heads, dff,\n",
    "                          input_vocab_size, target_vocab_size, \n",
    "                          pe_input=input_vocab_size, \n",
    "                          pe_target=target_vocab_size,\n",
    "                          rate=dropout_rate)"
   ]
  },
  {
   "cell_type": "markdown",
   "metadata": {
    "colab_type": "text",
    "id": "b0xKPERCuee3"
   },
   "source": [
    "### 3 종류의 masks 생성"
   ]
  },
  {
   "cell_type": "code",
   "execution_count": 0,
   "metadata": {
    "colab": {},
    "colab_type": "code",
    "id": "ZOJUSB1T8GjM"
   },
   "outputs": [],
   "source": [
    "def create_masks(inp, tar):\n",
    "  # Encoder padding mask\n",
    "  enc_padding_mask = create_padding_mask(inp)\n",
    "  \n",
    "  # Decoder padding mask\n",
    "  dec_padding_mask = create_padding_mask(inp)\n",
    "  \n",
    "  # Used in the 1st attention block in the decoder.\n",
    "  # It is used to pad and mask future tokens in the input received by \n",
    "  # the decoder.\n",
    "  look_ahead_mask = create_look_ahead_mask(tf.shape(tar)[1])\n",
    "  dec_target_padding_mask = create_padding_mask(tar)\n",
    "  combined_mask = tf.maximum(dec_target_padding_mask, look_ahead_mask)\n",
    "  \n",
    "  return enc_padding_mask, combined_mask, dec_padding_mask"
   ]
  },
  {
   "cell_type": "markdown",
   "metadata": {
    "colab_type": "text",
    "id": "Fzuf06YZp66w"
   },
   "source": [
    "checkpoint path 및 checkpoint manager 생성. `n` epochs 에서 checkpoint save 에 사용."
   ]
  },
  {
   "cell_type": "code",
   "execution_count": 0,
   "metadata": {
    "colab": {},
    "colab_type": "code",
    "id": "hNhuYfllndLZ"
   },
   "outputs": [],
   "source": [
    "checkpoint_path = \"./checkpoints/train\"\n",
    "\n",
    "ckpt = tf.train.Checkpoint(transformer=transformer, optimizer=optimizer)\n",
    "\n",
    "ckpt_manager = tf.train.CheckpointManager(ckpt, checkpoint_path, max_to_keep=5)\n",
    "\n",
    "# if a checkpoint exists, restore the latest checkpoint.\n",
    "if ckpt_manager.latest_checkpoint:\n",
    "    ckpt.restore(ckpt_manager.latest_checkpoint)\n",
    "    print ('Latest checkpoint restored!!')"
   ]
  },
  {
   "cell_type": "markdown",
   "metadata": {
    "colab_type": "text",
    "id": "0Di_Yaa1gf9r"
   },
   "source": [
    "- target 은 tar_inp와 tar_real로 나뉜다. \n",
    "- tar_inp 은 디코더에 입력으로 전달된다. tar_real은 동일한 입력이 1 step 만큼 이동 된 것이다. tar_input 의 각 위치에서 tar_real은 예측해야 할 다음 토큰을 포함한다.\n",
    "\n",
    "    `sentence` = \"SOS A lion in the jungle is sleeping EOS\"\n",
    "\n",
    "    `tar_inp` =  \"SOS A lion in the jungle is sleeping\"\n",
    "\n",
    "    `tar_real` = \"A lion in the jungle is sleeping EOS\"\n",
    "\n",
    "- 훈련하는 동안은 teacher-forcing 기법 사용 teacher-forcing 은 현재 time step 에서 모델이 예측하는 것과 상관없이 실제 출력을 다음 time step 으로 전달.\n",
    "\n",
    "- Inference 단계에서 Transformer 는 자동 회귀 모델이다. 한 번에 한 부분 씩 예측하고 그 결과를 사용하여 다음에 수행 할 작업을 결정한다. Transformer 가 각 단어를 예측할 때 *self-attention* 을 사용하면 입력 시퀀스의 이전 단어를보고 다음 단어를 더 잘 예측할 수 있다.\n",
    "\n",
    "- model 이 expected output 을 미리 엿보는 것을 막기 위해 look-ahead mask 사용."
   ]
  },
  {
   "cell_type": "code",
   "execution_count": 0,
   "metadata": {
    "colab": {},
    "colab_type": "code",
    "id": "LKpoA6q1sJFj"
   },
   "outputs": [],
   "source": [
    "EPOCHS = 20"
   ]
  },
  {
   "cell_type": "code",
   "execution_count": 0,
   "metadata": {
    "colab": {},
    "colab_type": "code",
    "id": "iJwmp9OE29oj"
   },
   "outputs": [],
   "source": [
    "# input_signature 를 명시해 주면 tf.function 사용 시 graph 호출 당 1 회만 gradient 를 trace.\n",
    "train_step_signature = [\n",
    "    tf.TensorSpec(shape=(None, None), dtype=tf.int64),\n",
    "    tf.TensorSpec(shape=(None, None), dtype=tf.int64),\n",
    "]\n",
    "\n",
    "@tf.function(input_signature=train_step_signature)\n",
    "def train_step(inp, tar):\n",
    "  tar_inp  = tar[:, :-1]\n",
    "  tar_real = tar[:, 1:]\n",
    "  \n",
    "  enc_padding_mask, combined_mask, dec_padding_mask = create_masks(inp, tar_inp)\n",
    "  \n",
    "  with tf.GradientTape() as tape:\n",
    "      predictions, _ = transformer(inp, tar_inp, \n",
    "                                   True, \n",
    "                                   enc_padding_mask, \n",
    "                                   combined_mask, \n",
    "                                   dec_padding_mask)\n",
    "      loss = loss_function(tar_real, predictions)\n",
    "\n",
    "  gradients = tape.gradient(loss, transformer.trainable_variables)    \n",
    "  optimizer.apply_gradients(zip(gradients, transformer.trainable_variables))\n",
    "  \n",
    "  train_loss(loss)\n",
    "  train_accuracy(tar_real, predictions)"
   ]
  },
  {
   "cell_type": "markdown",
   "metadata": {
    "colab_type": "text",
    "id": "qM2PDWGDJ_8V"
   },
   "source": [
    "### Portugal 어가 input language 이고 English 가 target language 로 사용됨."
   ]
  },
  {
   "cell_type": "code",
   "execution_count": 0,
   "metadata": {
    "colab": {
     "base_uri": "https://localhost:8080/",
     "height": 1000
    },
    "colab_type": "code",
    "id": "bbvmaKNiznHZ",
    "outputId": "a59c3885-9232-4c70-b8d1-8ef9ad269d6e"
   },
   "outputs": [
    {
     "name": "stdout",
     "output_type": "stream",
     "text": [
      "Epoch 1 Batch 0 Loss 4.4740 Accuracy 0.0000\n",
      "Epoch 1 Batch 50 Loss 4.2834 Accuracy 0.0015\n",
      "Epoch 1 Batch 100 Loss 4.1898 Accuracy 0.0140\n",
      "Epoch 1 Batch 150 Loss 4.1300 Accuracy 0.0182\n",
      "Epoch 1 Batch 200 Loss 4.0773 Accuracy 0.0205\n",
      "Epoch 1 Batch 250 Loss 3.9994 Accuracy 0.0221\n",
      "Epoch 1 Batch 300 Loss 3.9184 Accuracy 0.0238\n",
      "Epoch 1 Batch 350 Loss 3.8362 Accuracy 0.0274\n",
      "Epoch 1 Batch 400 Loss 3.7565 Accuracy 0.0317\n",
      "Epoch 1 Batch 450 Loss 3.6741 Accuracy 0.0352\n",
      "Epoch 1 Batch 500 Loss 3.6020 Accuracy 0.0385\n",
      "Epoch 1 Batch 550 Loss 3.5369 Accuracy 0.0420\n",
      "Epoch 1 Batch 600 Loss 3.4780 Accuracy 0.0455\n",
      "Epoch 1 Batch 650 Loss 3.4204 Accuracy 0.0491\n",
      "Epoch 1 Batch 700 Loss 3.3645 Accuracy 0.0526\n",
      "Epoch 1 Loss 3.3629 Accuracy 0.0527\n",
      "Time taken for 1 epoch: 89.91205549240112 secs\n",
      "\n",
      "Epoch 2 Batch 0 Loss 2.4988 Accuracy 0.0980\n",
      "Epoch 2 Batch 50 Loss 2.5902 Accuracy 0.1038\n",
      "Epoch 2 Batch 100 Loss 2.5396 Accuracy 0.1053\n",
      "Epoch 2 Batch 150 Loss 2.5150 Accuracy 0.1078\n",
      "Epoch 2 Batch 200 Loss 2.4939 Accuracy 0.1096\n",
      "Epoch 2 Batch 250 Loss 2.4815 Accuracy 0.1115\n",
      "Epoch 2 Batch 300 Loss 2.4706 Accuracy 0.1132\n",
      "Epoch 2 Batch 350 Loss 2.4503 Accuracy 0.1146\n",
      "Epoch 2 Batch 400 Loss 2.4360 Accuracy 0.1163\n",
      "Epoch 2 Batch 450 Loss 2.4198 Accuracy 0.1179\n",
      "Epoch 2 Batch 500 Loss 2.4024 Accuracy 0.1192\n",
      "Epoch 2 Batch 550 Loss 2.3917 Accuracy 0.1207\n",
      "Epoch 2 Batch 600 Loss 2.3827 Accuracy 0.1223\n",
      "Epoch 2 Batch 650 Loss 2.3698 Accuracy 0.1235\n",
      "Epoch 2 Batch 700 Loss 2.3622 Accuracy 0.1249\n",
      "Epoch 2 Loss 2.3624 Accuracy 0.1249\n",
      "Time taken for 1 epoch: 54.08837080001831 secs\n",
      "\n",
      "Epoch 3 Batch 0 Loss 2.2030 Accuracy 0.1394\n",
      "Epoch 3 Batch 50 Loss 2.1466 Accuracy 0.1426\n",
      "Epoch 3 Batch 100 Loss 2.1440 Accuracy 0.1431\n",
      "Epoch 3 Batch 150 Loss 2.1533 Accuracy 0.1442\n",
      "Epoch 3 Batch 200 Loss 2.1481 Accuracy 0.1449\n",
      "Epoch 3 Batch 250 Loss 2.1533 Accuracy 0.1458\n",
      "Epoch 3 Batch 300 Loss 2.1478 Accuracy 0.1463\n",
      "Epoch 3 Batch 350 Loss 2.1434 Accuracy 0.1471\n",
      "Epoch 3 Batch 400 Loss 2.1404 Accuracy 0.1478\n",
      "Epoch 3 Batch 450 Loss 2.1327 Accuracy 0.1482\n",
      "Epoch 3 Batch 500 Loss 2.1259 Accuracy 0.1489\n",
      "Epoch 3 Batch 550 Loss 2.1182 Accuracy 0.1498\n",
      "Epoch 3 Batch 600 Loss 2.1093 Accuracy 0.1505\n",
      "Epoch 3 Batch 650 Loss 2.1033 Accuracy 0.1514\n",
      "Epoch 3 Batch 700 Loss 2.0976 Accuracy 0.1523\n",
      "Epoch 3 Loss 2.0973 Accuracy 0.1524\n",
      "Time taken for 1 epoch: 53.87432289123535 secs\n",
      "\n",
      "Epoch 4 Batch 0 Loss 2.0063 Accuracy 0.1664\n",
      "Epoch 4 Batch 50 Loss 1.9416 Accuracy 0.1667\n",
      "Epoch 4 Batch 100 Loss 1.9263 Accuracy 0.1675\n",
      "Epoch 4 Batch 150 Loss 1.9262 Accuracy 0.1684\n",
      "Epoch 4 Batch 200 Loss 1.9235 Accuracy 0.1693\n",
      "Epoch 4 Batch 250 Loss 1.9108 Accuracy 0.1701\n",
      "Epoch 4 Batch 300 Loss 1.9024 Accuracy 0.1714\n",
      "Epoch 4 Batch 350 Loss 1.8955 Accuracy 0.1727\n",
      "Epoch 4 Batch 400 Loss 1.8898 Accuracy 0.1741\n",
      "Epoch 4 Batch 450 Loss 1.8887 Accuracy 0.1752\n",
      "Epoch 4 Batch 500 Loss 1.8795 Accuracy 0.1764\n",
      "Epoch 4 Batch 550 Loss 1.8748 Accuracy 0.1774\n",
      "Epoch 4 Batch 600 Loss 1.8669 Accuracy 0.1782\n",
      "Epoch 4 Batch 650 Loss 1.8600 Accuracy 0.1792\n",
      "Epoch 4 Batch 700 Loss 1.8529 Accuracy 0.1802\n",
      "Epoch 4 Loss 1.8524 Accuracy 0.1802\n",
      "Time taken for 1 epoch: 53.545589447021484 secs\n",
      "\n",
      "Epoch 5 Batch 0 Loss 1.9648 Accuracy 0.2061\n",
      "Epoch 5 Batch 50 Loss 1.6889 Accuracy 0.1949\n",
      "Epoch 5 Batch 100 Loss 1.6836 Accuracy 0.1984\n",
      "Epoch 5 Batch 150 Loss 1.6785 Accuracy 0.1988\n",
      "Epoch 5 Batch 200 Loss 1.6719 Accuracy 0.1994\n",
      "Epoch 5 Batch 250 Loss 1.6740 Accuracy 0.2004\n",
      "Epoch 5 Batch 300 Loss 1.6686 Accuracy 0.2010\n",
      "Epoch 5 Batch 350 Loss 1.6666 Accuracy 0.2022\n",
      "Epoch 5 Batch 400 Loss 1.6647 Accuracy 0.2030\n",
      "Epoch 5 Batch 450 Loss 1.6591 Accuracy 0.2035\n",
      "Epoch 5 Batch 500 Loss 1.6547 Accuracy 0.2040\n",
      "Epoch 5 Batch 550 Loss 1.6522 Accuracy 0.2048\n",
      "Epoch 5 Batch 600 Loss 1.6469 Accuracy 0.2051\n",
      "Epoch 5 Batch 650 Loss 1.6439 Accuracy 0.2057\n",
      "Epoch 5 Batch 700 Loss 1.6392 Accuracy 0.2064\n",
      "Saving checkpoint for epoch 5 at ./checkpoints/train/ckpt-1\n",
      "Epoch 5 Loss 1.6389 Accuracy 0.2065\n",
      "Time taken for 1 epoch: 53.76357913017273 secs\n",
      "\n",
      "Epoch 6 Batch 0 Loss 1.5720 Accuracy 0.2331\n",
      "Epoch 6 Batch 50 Loss 1.4906 Accuracy 0.2212\n",
      "Epoch 6 Batch 100 Loss 1.4903 Accuracy 0.2207\n",
      "Epoch 6 Batch 150 Loss 1.4966 Accuracy 0.2211\n",
      "Epoch 6 Batch 200 Loss 1.4959 Accuracy 0.2218\n",
      "Epoch 6 Batch 250 Loss 1.4942 Accuracy 0.2230\n",
      "Epoch 6 Batch 300 Loss 1.4853 Accuracy 0.2233\n",
      "Epoch 6 Batch 350 Loss 1.4841 Accuracy 0.2242\n",
      "Epoch 6 Batch 400 Loss 1.4833 Accuracy 0.2245\n",
      "Epoch 6 Batch 450 Loss 1.4785 Accuracy 0.2249\n",
      "Epoch 6 Batch 500 Loss 1.4745 Accuracy 0.2249\n",
      "Epoch 6 Batch 550 Loss 1.4704 Accuracy 0.2252\n",
      "Epoch 6 Batch 600 Loss 1.4663 Accuracy 0.2257\n",
      "Epoch 6 Batch 650 Loss 1.4644 Accuracy 0.2262\n",
      "Epoch 6 Batch 700 Loss 1.4599 Accuracy 0.2264\n",
      "Epoch 6 Loss 1.4593 Accuracy 0.2264\n",
      "Time taken for 1 epoch: 53.799009561538696 secs\n",
      "\n",
      "Epoch 7 Batch 0 Loss 1.0513 Accuracy 0.1975\n",
      "Epoch 7 Batch 50 Loss 1.2861 Accuracy 0.2416\n",
      "Epoch 7 Batch 100 Loss 1.2907 Accuracy 0.2409\n",
      "Epoch 7 Batch 150 Loss 1.2925 Accuracy 0.2406\n",
      "Epoch 7 Batch 200 Loss 1.2930 Accuracy 0.2409\n",
      "Epoch 7 Batch 250 Loss 1.2912 Accuracy 0.2417\n",
      "Epoch 7 Batch 300 Loss 1.2906 Accuracy 0.2420\n",
      "Epoch 7 Batch 350 Loss 1.2880 Accuracy 0.2427\n",
      "Epoch 7 Batch 400 Loss 1.2842 Accuracy 0.2430\n",
      "Epoch 7 Batch 450 Loss 1.2816 Accuracy 0.2434\n",
      "Epoch 7 Batch 500 Loss 1.2795 Accuracy 0.2439\n",
      "Epoch 7 Batch 550 Loss 1.2781 Accuracy 0.2444\n",
      "Epoch 7 Batch 600 Loss 1.2784 Accuracy 0.2450\n",
      "Epoch 7 Batch 650 Loss 1.2782 Accuracy 0.2456\n",
      "Epoch 7 Batch 700 Loss 1.2764 Accuracy 0.2461\n",
      "Epoch 7 Loss 1.2768 Accuracy 0.2461\n",
      "Time taken for 1 epoch: 53.565722942352295 secs\n",
      "\n",
      "Epoch 8 Batch 0 Loss 1.1721 Accuracy 0.2940\n",
      "Epoch 8 Batch 50 Loss 1.1530 Accuracy 0.2661\n",
      "Epoch 8 Batch 100 Loss 1.1304 Accuracy 0.2652\n",
      "Epoch 8 Batch 150 Loss 1.1392 Accuracy 0.2642\n",
      "Epoch 8 Batch 200 Loss 1.1418 Accuracy 0.2643\n",
      "Epoch 8 Batch 250 Loss 1.1384 Accuracy 0.2638\n",
      "Epoch 8 Batch 300 Loss 1.1367 Accuracy 0.2640\n",
      "Epoch 8 Batch 350 Loss 1.1380 Accuracy 0.2642\n",
      "Epoch 8 Batch 400 Loss 1.1331 Accuracy 0.2640\n",
      "Epoch 8 Batch 450 Loss 1.1324 Accuracy 0.2641\n",
      "Epoch 8 Batch 500 Loss 1.1309 Accuracy 0.2640\n",
      "Epoch 8 Batch 550 Loss 1.1306 Accuracy 0.2641\n",
      "Epoch 8 Batch 600 Loss 1.1315 Accuracy 0.2643\n",
      "Epoch 8 Batch 650 Loss 1.1306 Accuracy 0.2643\n",
      "Epoch 8 Batch 700 Loss 1.1314 Accuracy 0.2647\n",
      "Epoch 8 Loss 1.1311 Accuracy 0.2647\n",
      "Time taken for 1 epoch: 53.44765305519104 secs\n",
      "\n",
      "Epoch 9 Batch 0 Loss 0.9798 Accuracy 0.2990\n",
      "Epoch 9 Batch 50 Loss 1.0020 Accuracy 0.2785\n",
      "Epoch 9 Batch 100 Loss 1.0136 Accuracy 0.2776\n",
      "Epoch 9 Batch 150 Loss 1.0133 Accuracy 0.2776\n",
      "Epoch 9 Batch 200 Loss 1.0147 Accuracy 0.2767\n",
      "Epoch 9 Batch 250 Loss 1.0134 Accuracy 0.2766\n",
      "Epoch 9 Batch 300 Loss 1.0126 Accuracy 0.2768\n",
      "Epoch 9 Batch 350 Loss 1.0144 Accuracy 0.2771\n",
      "Epoch 9 Batch 400 Loss 1.0133 Accuracy 0.2769\n",
      "Epoch 9 Batch 450 Loss 1.0148 Accuracy 0.2773\n",
      "Epoch 9 Batch 500 Loss 1.0155 Accuracy 0.2774\n",
      "Epoch 9 Batch 550 Loss 1.0163 Accuracy 0.2778\n",
      "Epoch 9 Batch 600 Loss 1.0164 Accuracy 0.2778\n",
      "Epoch 9 Batch 650 Loss 1.0187 Accuracy 0.2779\n",
      "Epoch 9 Batch 700 Loss 1.0201 Accuracy 0.2780\n",
      "Epoch 9 Loss 1.0201 Accuracy 0.2781\n",
      "Time taken for 1 epoch: 53.28413391113281 secs\n",
      "\n",
      "Epoch 10 Batch 0 Loss 0.9418 Accuracy 0.2732\n",
      "Epoch 10 Batch 50 Loss 0.9151 Accuracy 0.2898\n",
      "Epoch 10 Batch 100 Loss 0.9117 Accuracy 0.2907\n",
      "Epoch 10 Batch 150 Loss 0.9135 Accuracy 0.2900\n",
      "Epoch 10 Batch 200 Loss 0.9135 Accuracy 0.2886\n",
      "Epoch 10 Batch 250 Loss 0.9124 Accuracy 0.2881\n",
      "Epoch 10 Batch 300 Loss 0.9193 Accuracy 0.2885\n",
      "Epoch 10 Batch 350 Loss 0.9213 Accuracy 0.2890\n",
      "Epoch 10 Batch 400 Loss 0.9268 Accuracy 0.2891\n",
      "Epoch 10 Batch 450 Loss 0.9297 Accuracy 0.2896\n",
      "Epoch 10 Batch 500 Loss 0.9288 Accuracy 0.2890\n",
      "Epoch 10 Batch 550 Loss 0.9311 Accuracy 0.2890\n",
      "Epoch 10 Batch 600 Loss 0.9320 Accuracy 0.2889\n",
      "Epoch 10 Batch 650 Loss 0.9327 Accuracy 0.2889\n",
      "Epoch 10 Batch 700 Loss 0.9360 Accuracy 0.2888\n",
      "Saving checkpoint for epoch 10 at ./checkpoints/train/ckpt-2\n",
      "Epoch 10 Loss 0.9359 Accuracy 0.2888\n",
      "Time taken for 1 epoch: 53.418967962265015 secs\n",
      "\n",
      "Epoch 11 Batch 0 Loss 0.9000 Accuracy 0.3125\n",
      "Epoch 11 Batch 50 Loss 0.8375 Accuracy 0.3000\n",
      "Epoch 11 Batch 100 Loss 0.8403 Accuracy 0.3002\n",
      "Epoch 11 Batch 150 Loss 0.8434 Accuracy 0.2994\n",
      "Epoch 11 Batch 200 Loss 0.8493 Accuracy 0.2992\n",
      "Epoch 11 Batch 250 Loss 0.8471 Accuracy 0.2991\n",
      "Epoch 11 Batch 300 Loss 0.8508 Accuracy 0.2988\n",
      "Epoch 11 Batch 350 Loss 0.8538 Accuracy 0.2986\n",
      "Epoch 11 Batch 400 Loss 0.8556 Accuracy 0.2986\n",
      "Epoch 11 Batch 450 Loss 0.8576 Accuracy 0.2985\n",
      "Epoch 11 Batch 500 Loss 0.8596 Accuracy 0.2986\n",
      "Epoch 11 Batch 550 Loss 0.8619 Accuracy 0.2982\n",
      "Epoch 11 Batch 600 Loss 0.8644 Accuracy 0.2979\n",
      "Epoch 11 Batch 650 Loss 0.8670 Accuracy 0.2977\n",
      "Epoch 11 Batch 700 Loss 0.8690 Accuracy 0.2974\n",
      "Epoch 11 Loss 0.8691 Accuracy 0.2975\n",
      "Time taken for 1 epoch: 53.24047517776489 secs\n",
      "\n",
      "Epoch 12 Batch 0 Loss 0.8119 Accuracy 0.3043\n",
      "Epoch 12 Batch 50 Loss 0.7902 Accuracy 0.3095\n",
      "Epoch 12 Batch 100 Loss 0.7890 Accuracy 0.3088\n",
      "Epoch 12 Batch 150 Loss 0.7897 Accuracy 0.3083\n",
      "Epoch 12 Batch 200 Loss 0.7963 Accuracy 0.3079\n",
      "Epoch 12 Batch 250 Loss 0.7986 Accuracy 0.3071\n",
      "Epoch 12 Batch 300 Loss 0.8013 Accuracy 0.3060\n",
      "Epoch 12 Batch 350 Loss 0.8039 Accuracy 0.3059\n",
      "Epoch 12 Batch 400 Loss 0.8040 Accuracy 0.3059\n",
      "Epoch 12 Batch 450 Loss 0.8053 Accuracy 0.3062\n",
      "Epoch 12 Batch 500 Loss 0.8065 Accuracy 0.3055\n",
      "Epoch 12 Batch 550 Loss 0.8082 Accuracy 0.3054\n",
      "Epoch 12 Batch 600 Loss 0.8083 Accuracy 0.3054\n",
      "Epoch 12 Batch 650 Loss 0.8119 Accuracy 0.3056\n",
      "Epoch 12 Batch 700 Loss 0.8145 Accuracy 0.3050\n",
      "Epoch 12 Loss 0.8146 Accuracy 0.3050\n",
      "Time taken for 1 epoch: 53.50530552864075 secs\n",
      "\n",
      "Epoch 13 Batch 0 Loss 0.8174 Accuracy 0.2997\n",
      "Epoch 13 Batch 50 Loss 0.7149 Accuracy 0.3143\n",
      "Epoch 13 Batch 100 Loss 0.7211 Accuracy 0.3145\n",
      "Epoch 13 Batch 150 Loss 0.7336 Accuracy 0.3145\n",
      "Epoch 13 Batch 200 Loss 0.7360 Accuracy 0.3136\n",
      "Epoch 13 Batch 250 Loss 0.7420 Accuracy 0.3142\n",
      "Epoch 13 Batch 300 Loss 0.7492 Accuracy 0.3145\n",
      "Epoch 13 Batch 350 Loss 0.7522 Accuracy 0.3140\n",
      "Epoch 13 Batch 400 Loss 0.7540 Accuracy 0.3141\n",
      "Epoch 13 Batch 450 Loss 0.7562 Accuracy 0.3135\n",
      "Epoch 13 Batch 500 Loss 0.7584 Accuracy 0.3129\n",
      "Epoch 13 Batch 550 Loss 0.7608 Accuracy 0.3125\n",
      "Epoch 13 Batch 600 Loss 0.7633 Accuracy 0.3126\n",
      "Epoch 13 Batch 650 Loss 0.7654 Accuracy 0.3121\n",
      "Epoch 13 Batch 700 Loss 0.7676 Accuracy 0.3115\n",
      "Epoch 13 Loss 0.7678 Accuracy 0.3116\n",
      "Time taken for 1 epoch: 53.16690182685852 secs\n",
      "\n",
      "Epoch 14 Batch 0 Loss 0.6889 Accuracy 0.3177\n",
      "Epoch 14 Batch 50 Loss 0.6858 Accuracy 0.3201\n",
      "Epoch 14 Batch 100 Loss 0.6907 Accuracy 0.3207\n",
      "Epoch 14 Batch 150 Loss 0.6929 Accuracy 0.3182\n",
      "Epoch 14 Batch 200 Loss 0.6950 Accuracy 0.3186\n",
      "Epoch 14 Batch 250 Loss 0.7010 Accuracy 0.3189\n",
      "Epoch 14 Batch 300 Loss 0.7058 Accuracy 0.3189\n",
      "Epoch 14 Batch 350 Loss 0.7072 Accuracy 0.3180\n",
      "Epoch 14 Batch 400 Loss 0.7108 Accuracy 0.3180\n",
      "Epoch 14 Batch 450 Loss 0.7135 Accuracy 0.3185\n",
      "Epoch 14 Batch 500 Loss 0.7154 Accuracy 0.3180\n",
      "Epoch 14 Batch 550 Loss 0.7171 Accuracy 0.3178\n",
      "Epoch 14 Batch 600 Loss 0.7201 Accuracy 0.3174\n",
      "Epoch 14 Batch 650 Loss 0.7232 Accuracy 0.3174\n",
      "Epoch 14 Batch 700 Loss 0.7267 Accuracy 0.3176\n",
      "Epoch 14 Loss 0.7270 Accuracy 0.3176\n",
      "Time taken for 1 epoch: 53.26446533203125 secs\n",
      "\n",
      "Epoch 15 Batch 0 Loss 0.6230 Accuracy 0.3281\n",
      "Epoch 15 Batch 50 Loss 0.6611 Accuracy 0.3315\n",
      "Epoch 15 Batch 100 Loss 0.6635 Accuracy 0.3298\n",
      "Epoch 15 Batch 150 Loss 0.6644 Accuracy 0.3287\n",
      "Epoch 15 Batch 200 Loss 0.6640 Accuracy 0.3261\n",
      "Epoch 15 Batch 250 Loss 0.6666 Accuracy 0.3251\n",
      "Epoch 15 Batch 300 Loss 0.6711 Accuracy 0.3255\n",
      "Epoch 15 Batch 350 Loss 0.6752 Accuracy 0.3250\n",
      "Epoch 15 Batch 400 Loss 0.6793 Accuracy 0.3248\n",
      "Epoch 15 Batch 450 Loss 0.6796 Accuracy 0.3243\n",
      "Epoch 15 Batch 500 Loss 0.6812 Accuracy 0.3234\n",
      "Epoch 15 Batch 550 Loss 0.6840 Accuracy 0.3231\n",
      "Epoch 15 Batch 600 Loss 0.6877 Accuracy 0.3236\n",
      "Epoch 15 Batch 650 Loss 0.6901 Accuracy 0.3234\n",
      "Epoch 15 Batch 700 Loss 0.6929 Accuracy 0.3232\n",
      "Saving checkpoint for epoch 15 at ./checkpoints/train/ckpt-3\n",
      "Epoch 15 Loss 0.6931 Accuracy 0.3232\n",
      "Time taken for 1 epoch: 53.30535435676575 secs\n",
      "\n",
      "Epoch 16 Batch 0 Loss 0.5517 Accuracy 0.3101\n",
      "Epoch 16 Batch 50 Loss 0.6214 Accuracy 0.3369\n",
      "Epoch 16 Batch 100 Loss 0.6265 Accuracy 0.3321\n",
      "Epoch 16 Batch 150 Loss 0.6253 Accuracy 0.3311\n",
      "Epoch 16 Batch 200 Loss 0.6296 Accuracy 0.3303\n",
      "Epoch 16 Batch 250 Loss 0.6333 Accuracy 0.3305\n",
      "Epoch 16 Batch 300 Loss 0.6353 Accuracy 0.3299\n",
      "Epoch 16 Batch 350 Loss 0.6391 Accuracy 0.3297\n",
      "Epoch 16 Batch 400 Loss 0.6413 Accuracy 0.3292\n",
      "Epoch 16 Batch 450 Loss 0.6441 Accuracy 0.3285\n",
      "Epoch 16 Batch 500 Loss 0.6453 Accuracy 0.3279\n",
      "Epoch 16 Batch 550 Loss 0.6480 Accuracy 0.3279\n",
      "Epoch 16 Batch 600 Loss 0.6518 Accuracy 0.3275\n",
      "Epoch 16 Batch 650 Loss 0.6558 Accuracy 0.3276\n",
      "Epoch 16 Batch 700 Loss 0.6594 Accuracy 0.3275\n",
      "Epoch 16 Loss 0.6595 Accuracy 0.3276\n",
      "Time taken for 1 epoch: 53.41566276550293 secs\n",
      "\n",
      "Epoch 17 Batch 0 Loss 0.6092 Accuracy 0.3549\n",
      "Epoch 17 Batch 50 Loss 0.5797 Accuracy 0.3374\n",
      "Epoch 17 Batch 100 Loss 0.5859 Accuracy 0.3338\n",
      "Epoch 17 Batch 150 Loss 0.5920 Accuracy 0.3335\n",
      "Epoch 17 Batch 200 Loss 0.6006 Accuracy 0.3349\n",
      "Epoch 17 Batch 250 Loss 0.6043 Accuracy 0.3340\n",
      "Epoch 17 Batch 300 Loss 0.6082 Accuracy 0.3339\n",
      "Epoch 17 Batch 350 Loss 0.6097 Accuracy 0.3334\n",
      "Epoch 17 Batch 400 Loss 0.6119 Accuracy 0.3329\n",
      "Epoch 17 Batch 450 Loss 0.6153 Accuracy 0.3324\n",
      "Epoch 17 Batch 500 Loss 0.6190 Accuracy 0.3320\n",
      "Epoch 17 Batch 550 Loss 0.6226 Accuracy 0.3318\n",
      "Epoch 17 Batch 600 Loss 0.6250 Accuracy 0.3319\n",
      "Epoch 17 Batch 650 Loss 0.6276 Accuracy 0.3319\n",
      "Epoch 17 Batch 700 Loss 0.6295 Accuracy 0.3315\n",
      "Epoch 17 Loss 0.6297 Accuracy 0.3315\n",
      "Time taken for 1 epoch: 53.305081605911255 secs\n",
      "\n",
      "Epoch 18 Batch 0 Loss 0.5581 Accuracy 0.3336\n",
      "Epoch 18 Batch 50 Loss 0.5591 Accuracy 0.3452\n",
      "Epoch 18 Batch 100 Loss 0.5581 Accuracy 0.3400\n",
      "Epoch 18 Batch 150 Loss 0.5658 Accuracy 0.3394\n",
      "Epoch 18 Batch 200 Loss 0.5676 Accuracy 0.3378\n",
      "Epoch 18 Batch 250 Loss 0.5723 Accuracy 0.3377\n",
      "Epoch 18 Batch 300 Loss 0.5769 Accuracy 0.3372\n",
      "Epoch 18 Batch 350 Loss 0.5822 Accuracy 0.3369\n",
      "Epoch 18 Batch 400 Loss 0.5861 Accuracy 0.3372\n",
      "Epoch 18 Batch 450 Loss 0.5899 Accuracy 0.3371\n",
      "Epoch 18 Batch 500 Loss 0.5923 Accuracy 0.3367\n",
      "Epoch 18 Batch 550 Loss 0.5967 Accuracy 0.3368\n",
      "Epoch 18 Batch 600 Loss 0.5998 Accuracy 0.3364\n",
      "Epoch 18 Batch 650 Loss 0.6023 Accuracy 0.3358\n",
      "Epoch 18 Batch 700 Loss 0.6058 Accuracy 0.3357\n",
      "Epoch 18 Loss 0.6061 Accuracy 0.3357\n",
      "Time taken for 1 epoch: 53.38411784172058 secs\n",
      "\n",
      "Epoch 19 Batch 0 Loss 0.4994 Accuracy 0.3549\n",
      "Epoch 19 Batch 50 Loss 0.5375 Accuracy 0.3471\n",
      "Epoch 19 Batch 100 Loss 0.5445 Accuracy 0.3465\n",
      "Epoch 19 Batch 150 Loss 0.5484 Accuracy 0.3444\n",
      "Epoch 19 Batch 200 Loss 0.5542 Accuracy 0.3447\n",
      "Epoch 19 Batch 250 Loss 0.5585 Accuracy 0.3440\n",
      "Epoch 19 Batch 300 Loss 0.5616 Accuracy 0.3433\n",
      "Epoch 19 Batch 350 Loss 0.5660 Accuracy 0.3428\n",
      "Epoch 19 Batch 400 Loss 0.5698 Accuracy 0.3431\n",
      "Epoch 19 Batch 450 Loss 0.5716 Accuracy 0.3422\n",
      "Epoch 19 Batch 500 Loss 0.5735 Accuracy 0.3415\n",
      "Epoch 19 Batch 550 Loss 0.5752 Accuracy 0.3409\n",
      "Epoch 19 Batch 600 Loss 0.5782 Accuracy 0.3406\n",
      "Epoch 19 Batch 650 Loss 0.5806 Accuracy 0.3403\n",
      "Epoch 19 Batch 700 Loss 0.5821 Accuracy 0.3397\n",
      "Epoch 19 Loss 0.5827 Accuracy 0.3398\n",
      "Time taken for 1 epoch: 53.3345513343811 secs\n",
      "\n",
      "Epoch 20 Batch 0 Loss 0.5824 Accuracy 0.3378\n",
      "Epoch 20 Batch 50 Loss 0.5218 Accuracy 0.3488\n",
      "Epoch 20 Batch 100 Loss 0.5229 Accuracy 0.3478\n",
      "Epoch 20 Batch 150 Loss 0.5314 Accuracy 0.3474\n",
      "Epoch 20 Batch 200 Loss 0.5356 Accuracy 0.3467\n",
      "Epoch 20 Batch 250 Loss 0.5397 Accuracy 0.3470\n",
      "Epoch 20 Batch 300 Loss 0.5415 Accuracy 0.3459\n",
      "Epoch 20 Batch 350 Loss 0.5441 Accuracy 0.3453\n",
      "Epoch 20 Batch 400 Loss 0.5467 Accuracy 0.3449\n",
      "Epoch 20 Batch 450 Loss 0.5481 Accuracy 0.3440\n",
      "Epoch 20 Batch 500 Loss 0.5518 Accuracy 0.3435\n",
      "Epoch 20 Batch 550 Loss 0.5545 Accuracy 0.3433\n",
      "Epoch 20 Batch 600 Loss 0.5573 Accuracy 0.3429\n",
      "Epoch 20 Batch 650 Loss 0.5596 Accuracy 0.3425\n",
      "Epoch 20 Batch 700 Loss 0.5620 Accuracy 0.3426\n",
      "Saving checkpoint for epoch 20 at ./checkpoints/train/ckpt-4\n",
      "Epoch 20 Loss 0.5620 Accuracy 0.3425\n",
      "Time taken for 1 epoch: 54.83229064941406 secs\n",
      "\n",
      "CPU times: user 18min 20s, sys: 1min 32s, total: 19min 53s\n",
      "Wall time: 18min 27s\n"
     ]
    }
   ],
   "source": [
    "%%time\n",
    "for epoch in range(EPOCHS):\n",
    "  start = time.time()\n",
    "  \n",
    "  train_loss.reset_states()\n",
    "  train_accuracy.reset_states()\n",
    "  \n",
    "  # inp -> portuguese, tar -> english\n",
    "  for (batch, (inp, tar)) in enumerate(train_dataset):\n",
    "      train_step(inp, tar)\n",
    "      \n",
    "      if batch % 50 == 0:\n",
    "          print ('Epoch {} Batch {} Loss {:.4f} Accuracy {:.4f}'.format(\n",
    "                epoch + 1, batch, train_loss.result(), train_accuracy.result()))\n",
    "      \n",
    "  if (epoch + 1) % 5 == 0:\n",
    "      ckpt_save_path = ckpt_manager.save()\n",
    "      print ('Saving checkpoint for epoch {} at {}'.format(epoch+1, ckpt_save_path))\n",
    "    \n",
    "  print ('Epoch {} Loss {:.4f} Accuracy {:.4f}'.format(epoch + 1, \n",
    "                                                train_loss.result(), \n",
    "                                                train_accuracy.result()))\n",
    "\n",
    "  print ('Time taken for 1 epoch: {} secs\\n'.format(time.time() - start))"
   ]
  },
  {
   "cell_type": "markdown",
   "metadata": {
    "colab_type": "text",
    "id": "QfcsSWswSdGV"
   },
   "source": [
    "## Evaluate"
   ]
  },
  {
   "cell_type": "markdown",
   "metadata": {
    "colab_type": "text",
    "id": "y6APsFrgImLW"
   },
   "source": [
    "다음 단계에 따라 평가:\n",
    "\n",
    "* encoder input 은 Portuguese tokenizer (`tokenizer_pt`) 를 이용하여 input sentence 를 encoding 한다. 또한 START 및 END 토큰을 추가하여 모델이 학습할 당시와 동일한 입력이 되도록 만든다. \n",
    "* decoder 의 input 은 `start token == tokenizer_en.vocab_size` 이다.\n",
    "* padding masks 와 look ahead masks 를 계산.\n",
    "* `decoder` 는 `encoder output` 과 자신의 output (self-attention) 을 보면서 output 을 예측함. \n",
    "* 마지막 단어를 선택하고 해당 단어의 argmax 를 계산. \n",
    "* 예측된 단어를 디코더 입력에 연결합니다.\n",
    "* 이러한 방법으로, 디코더는 예측 된 이전 단어에 기초하여 다음 단어를 예측한다.\n",
    "\n",
    "Note: 여기에 사용 된 모델은 예제를 비교적 빠르게 수행하기 위해 적은 capacity 를 사용했으므로, 예측이 덜 적합 할 수 있다. 논문의 결과를 재현하려면 위의 하이퍼 파라미터를 변경하여 전체 데이터 세트를 다 사용하고, base Transformer model 또는 Transformer-XL 을 사용."
   ]
  },
  {
   "cell_type": "code",
   "execution_count": 0,
   "metadata": {
    "colab": {},
    "colab_type": "code",
    "id": "5buvMlnvyrFm"
   },
   "outputs": [],
   "source": [
    "def evaluate(inp_sentence):\n",
    "  start_token = [tokenizer_pt.vocab_size]\n",
    "  end_token = [tokenizer_pt.vocab_size + 1]\n",
    "  \n",
    "  # inp sentence 는 portugese 이고, start 및 end token 추가\n",
    "  inp_sentence = start_token + tokenizer_pt.encode(inp_sentence) + end_token\n",
    "  encoder_input = tf.expand_dims(inp_sentence, 0)\n",
    "  \n",
    "  # target  은 english 이고,  transformer 에 대한 첫번 word 는 start token 이다.\n",
    "  decoder_input = [tokenizer_en.vocab_size]\n",
    "  output = tf.expand_dims(decoder_input, 0)\n",
    "    \n",
    "  for i in range(MAX_LENGTH):\n",
    "    enc_padding_mask, combined_mask, dec_padding_mask = create_masks(\n",
    "        encoder_input, output)\n",
    "\n",
    "    # predictions.shape == (batch_size, seq_len, vocab_size)\n",
    "    predictions, attention_weights = transformer(encoder_input, \n",
    "                                                    output,\n",
    "                                                    False,\n",
    "                                                    enc_padding_mask,\n",
    "                                                    combined_mask,\n",
    "                                                    dec_padding_mask)\n",
    "\n",
    "    # seq_len dimension 으로부터 마지막 단어 선택 \n",
    "    predictions = predictions[: ,-1:, :]  # (batch_size, 1, vocab_size)\n",
    "\n",
    "    predicted_id = tf.cast(tf.argmax(predictions, axis=-1), tf.int32)\n",
    "\n",
    "    # predicted_id 가 end token 이 나오면 결과 반환\n",
    "    if predicted_id == tokenizer_en.vocab_size+1:\n",
    "        return tf.squeeze(output, axis=0), attention_weights\n",
    "\n",
    "    # predicted_id 를 output 에 concatenate 하여 decoder 의 input 으로 제공\n",
    "    output = tf.concat([output, predicted_id], axis=-1)\n",
    "\n",
    "  return tf.squeeze(output, axis=0), attention_weights"
   ]
  },
  {
   "cell_type": "code",
   "execution_count": 0,
   "metadata": {
    "colab": {},
    "colab_type": "code",
    "id": "CN-BV43FMBej"
   },
   "outputs": [],
   "source": [
    "def plot_attention_weights(attention, sentence, result, layer):\n",
    "  fig = plt.figure(figsize=(16, 8))\n",
    "  \n",
    "  sentence = tokenizer_pt.encode(sentence)\n",
    "  \n",
    "  attention = tf.squeeze(attention[layer], axis=0)\n",
    "  \n",
    "  for head in range(attention.shape[0]):\n",
    "    ax = fig.add_subplot(2, 4, head+1)\n",
    "    \n",
    "    # plot the attention weights\n",
    "    ax.matshow(attention[head][:-1, :], cmap='viridis')\n",
    "\n",
    "    fontdict = {'fontsize': 10}\n",
    "    \n",
    "    ax.set_xticks(range(len(sentence)+2))\n",
    "    ax.set_yticks(range(len(result)))\n",
    "    \n",
    "    ax.set_ylim(len(result)-1.5, -0.5)\n",
    "        \n",
    "    ax.set_xticklabels(\n",
    "        ['<start>']+[tokenizer_pt.decode([i]) for i in sentence]+['<end>'], \n",
    "        fontdict=fontdict, rotation=90)\n",
    "    \n",
    "    ax.set_yticklabels([tokenizer_en.decode([i]) for i in result \n",
    "                        if i < tokenizer_en.vocab_size], \n",
    "                       fontdict=fontdict)\n",
    "    \n",
    "    ax.set_xlabel('Head {}'.format(head+1))\n",
    "  \n",
    "  plt.tight_layout()\n",
    "  plt.show()"
   ]
  },
  {
   "cell_type": "code",
   "execution_count": 0,
   "metadata": {
    "colab": {},
    "colab_type": "code",
    "id": "lU2_yG_vBGza"
   },
   "outputs": [],
   "source": [
    "def translate(sentence, plot=''):\n",
    "  result, attention_weights = evaluate(sentence)\n",
    "  \n",
    "  predicted_sentence = tokenizer_en.decode([i for i in result \n",
    "                                            if i < tokenizer_en.vocab_size])  \n",
    "\n",
    "  print('Input: {}'.format(sentence))\n",
    "  print('Predicted translation: {}'.format(predicted_sentence))\n",
    "  \n",
    "  if plot:\n",
    "    plot_attention_weights(attention_weights, sentence, result, plot)"
   ]
  },
  {
   "cell_type": "code",
   "execution_count": 0,
   "metadata": {
    "colab": {
     "base_uri": "https://localhost:8080/",
     "height": 68
    },
    "colab_type": "code",
    "id": "YsxrAlvFG8SZ",
    "outputId": "39cc3c1f-bde7-4d67-f014-9e4726292c9a"
   },
   "outputs": [
    {
     "name": "stdout",
     "output_type": "stream",
     "text": [
      "Input: este é um problema que temos que resolver.\n",
      "Predicted translation: this is a problem that we have to solve ....\n",
      "Real translation: this is a problem we have to solve .\n"
     ]
    }
   ],
   "source": [
    "translate(\"este é um problema que temos que resolver.\")\n",
    "print (\"Real translation: this is a problem we have to solve .\")"
   ]
  },
  {
   "cell_type": "code",
   "execution_count": 0,
   "metadata": {
    "colab": {
     "base_uri": "https://localhost:8080/",
     "height": 68
    },
    "colab_type": "code",
    "id": "7EH5y_aqI4t1",
    "outputId": "e0b6624b-3fc0-4208-d2c1-e19e2f490142"
   },
   "outputs": [
    {
     "name": "stdout",
     "output_type": "stream",
     "text": [
      "Input: os meus vizinhos ouviram sobre esta ideia.\n",
      "Predicted translation: my neighbors heard about this idea .\n",
      "Real translation: and my neighboring homes heard about this idea .\n"
     ]
    }
   ],
   "source": [
    "translate(\"os meus vizinhos ouviram sobre esta ideia.\")\n",
    "print (\"Real translation: and my neighboring homes heard about this idea .\")"
   ]
  },
  {
   "cell_type": "code",
   "execution_count": 0,
   "metadata": {
    "colab": {
     "base_uri": "https://localhost:8080/",
     "height": 68
    },
    "colab_type": "code",
    "id": "J-hVCTSUMlkb",
    "outputId": "98d4e7c1-a85b-4ce8-d4cd-e60df69398bc"
   },
   "outputs": [
    {
     "name": "stdout",
     "output_type": "stream",
     "text": [
      "Input: vou então muito rapidamente partilhar convosco algumas histórias de algumas coisas mágicas que aconteceram.\n",
      "Predicted translation: so i 'm going to really quickly share with you a few magic stories that happened to happen .\n",
      "Real translation: so i 'll just share with you some stories very quickly of some magical things that have happened .\n"
     ]
    }
   ],
   "source": [
    "translate(\"vou então muito rapidamente partilhar convosco algumas histórias de algumas coisas mágicas que aconteceram.\")\n",
    "print (\"Real translation: so i 'll just share with you some stories very quickly of some magical things that have happened .\")"
   ]
  },
  {
   "cell_type": "markdown",
   "metadata": {
    "colab_type": "text",
    "id": "_1MxkSZvz0jX"
   },
   "source": [
    "`plot` parameter 에 decoder 의 다른 layer 와 attention block 을 전달."
   ]
  },
  {
   "cell_type": "code",
   "execution_count": 0,
   "metadata": {
    "colab": {
     "base_uri": "https://localhost:8080/",
     "height": 636
    },
    "colab_type": "code",
    "id": "t-kFyiOLH0xg",
    "outputId": "83b5cd2e-86f0-4b09-c03e-fd5c807297ef"
   },
   "outputs": [
    {
     "name": "stdout",
     "output_type": "stream",
     "text": [
      "Input: este é o primeiro livro que eu fiz.\n",
      "Predicted translation: this is the first book that i did n't succeed .\n"
     ]
    },
    {
     "data": {
      "image/png": "[encoded data removed]",
      "text/plain": [
       "<Figure size 1152x576 with 8 Axes>"
      ]
     },
     "metadata": {
      "needs_background": "light",
      "tags": []
     },
     "output_type": "display_data"
    },
    {
     "name": "stdout",
     "output_type": "stream",
     "text": [
      "Real translation: this is the first book i've ever done.\n"
     ]
    }
   ],
   "source": [
    "translate(\"este é o primeiro livro que eu fiz.\", plot='decoder_layer4_block2')\n",
    "print (\"Real translation: this is the first book i've ever done.\")"
   ]
  }
 ],
 "metadata": {
  "accelerator": "GPU",
  "colab": {
   "collapsed_sections": [],
   "name": "130_transformer.ipynb",
   "provenance": []
  },
  "kernelspec": {
   "display_name": "Python 3",
   "language": "python",
   "name": "python3"
  },
  "language_info": {
   "codemirror_mode": {
    "name": "ipython",
    "version": 3
   },
   "file_extension": ".py",
   "mimetype": "text/x-python",
   "name": "python",
   "nbconvert_exporter": "python",
   "pygments_lexer": "ipython3",
   "version": "3.7.6"
  },
  "widgets": {
   "application/vnd.jupyter.widget-state+json": {
    "029b99a5954845febdaf740b73defb1e": {
     "model_module": "@jupyter-widgets/controls",
     "model_name": "IntProgressModel",
     "state": {
      "_dom_classes": [],
      "_model_module": "@jupyter-widgets/controls",
      "_model_module_version": "1.5.0",
      "_model_name": "IntProgressModel",
      "_view_count": null,
      "_view_module": "@jupyter-widgets/controls",
      "_view_module_version": "1.5.0",
      "_view_name": "ProgressView",
      "bar_style": "danger",
      "description": " 31%",
      "description_tooltip": null,
      "layout": "IPY_MODEL_7103d9491ba8430bb7cdfc3e91eb4d67",
      "max": 51785,
      "min": 0,
      "orientation": "horizontal",
      "style": "IPY_MODEL_84161540c1b04a8f9a12130a727309ad",
      "value": 16181
     }
    },
    "148480046b254b8e8d4c597856ba091c": {
     "model_module": "@jupyter-widgets/controls",
     "model_name": "IntProgressModel",
     "state": {
      "_dom_classes": [],
      "_model_module": "@jupyter-widgets/controls",
      "_model_module_version": "1.5.0",
      "_model_name": "IntProgressModel",
      "_view_count": null,
      "_view_module": "@jupyter-widgets/controls",
      "_view_module_version": "1.5.0",
      "_view_name": "ProgressView",
      "bar_style": "info",
      "description": "",
      "description_tooltip": null,
      "layout": "IPY_MODEL_9d6c3cb421824d27a5abac3353782a5d",
      "max": 1,
      "min": 0,
      "orientation": "horizontal",
      "style": "IPY_MODEL_e5604a90c29b43b8a035dac1b949253d",
      "value": 1
     }
    },
    "166298362f5a4945b0f4a3b4e8e00bbf": {
     "model_module": "@jupyter-widgets/base",
     "model_name": "LayoutModel",
     "state": {
      "_model_module": "@jupyter-widgets/base",
      "_model_module_version": "1.2.0",
      "_model_name": "LayoutModel",
      "_view_count": null,
      "_view_module": "@jupyter-widgets/base",
      "_view_module_version": "1.2.0",
      "_view_name": "LayoutView",
      "align_content": null,
      "align_items": null,
      "align_self": null,
      "border": null,
      "bottom": null,
      "display": null,
      "flex": null,
      "flex_flow": null,
      "grid_area": null,
      "grid_auto_columns": null,
      "grid_auto_flow": null,
      "grid_auto_rows": null,
      "grid_column": null,
      "grid_gap": null,
      "grid_row": null,
      "grid_template_areas": null,
      "grid_template_columns": null,
      "grid_template_rows": null,
      "height": null,
      "justify_content": null,
      "justify_items": null,
      "left": null,
      "margin": null,
      "max_height": null,
      "max_width": null,
      "min_height": null,
      "min_width": null,
      "object_fit": null,
      "object_position": null,
      "order": null,
      "overflow": null,
      "overflow_x": null,
      "overflow_y": null,
      "padding": null,
      "right": null,
      "top": null,
      "visibility": null,
      "width": null
     }
    },
    "19bbb6be0aa24588ad98f56cc4c5d6f0": {
     "model_module": "@jupyter-widgets/base",
     "model_name": "LayoutModel",
     "state": {
      "_model_module": "@jupyter-widgets/base",
      "_model_module_version": "1.2.0",
      "_model_name": "LayoutModel",
      "_view_count": null,
      "_view_module": "@jupyter-widgets/base",
      "_view_module_version": "1.2.0",
      "_view_name": "LayoutView",
      "align_content": null,
      "align_items": null,
      "align_self": null,
      "border": null,
      "bottom": null,
      "display": null,
      "flex": null,
      "flex_flow": null,
      "grid_area": null,
      "grid_auto_columns": null,
      "grid_auto_flow": null,
      "grid_auto_rows": null,
      "grid_column": null,
      "grid_gap": null,
      "grid_row": null,
      "grid_template_areas": null,
      "grid_template_columns": null,
      "grid_template_rows": null,
      "height": null,
      "justify_content": null,
      "justify_items": null,
      "left": null,
      "margin": null,
      "max_height": null,
      "max_width": null,
      "min_height": null,
      "min_width": null,
      "object_fit": null,
      "object_position": null,
      "order": null,
      "overflow": null,
      "overflow_x": null,
      "overflow_y": null,
      "padding": null,
      "right": null,
      "top": null,
      "visibility": null,
      "width": null
     }
    },
    "1a244ef6bf974794887bd2d9887b32ae": {
     "model_module": "@jupyter-widgets/base",
     "model_name": "LayoutModel",
     "state": {
      "_model_module": "@jupyter-widgets/base",
      "_model_module_version": "1.2.0",
      "_model_name": "LayoutModel",
      "_view_count": null,
      "_view_module": "@jupyter-widgets/base",
      "_view_module_version": "1.2.0",
      "_view_name": "LayoutView",
      "align_content": null,
      "align_items": null,
      "align_self": null,
      "border": null,
      "bottom": null,
      "display": null,
      "flex": null,
      "flex_flow": null,
      "grid_area": null,
      "grid_auto_columns": null,
      "grid_auto_flow": null,
      "grid_auto_rows": null,
      "grid_column": null,
      "grid_gap": null,
      "grid_row": null,
      "grid_template_areas": null,
      "grid_template_columns": null,
      "grid_template_rows": null,
      "height": null,
      "justify_content": null,
      "justify_items": null,
      "left": null,
      "margin": null,
      "max_height": null,
      "max_width": null,
      "min_height": null,
      "min_width": null,
      "object_fit": null,
      "object_position": null,
      "order": null,
      "overflow": null,
      "overflow_x": null,
      "overflow_y": null,
      "padding": null,
      "right": null,
      "top": null,
      "visibility": null,
      "width": null
     }
    },
    "25cdd450ad24487bbeddac079d35bd8a": {
     "model_module": "@jupyter-widgets/controls",
     "model_name": "DescriptionStyleModel",
     "state": {
      "_model_module": "@jupyter-widgets/controls",
      "_model_module_version": "1.5.0",
      "_model_name": "DescriptionStyleModel",
      "_view_count": null,
      "_view_module": "@jupyter-widgets/base",
      "_view_module_version": "1.2.0",
      "_view_name": "StyleView",
      "description_width": ""
     }
    },
    "2bb14960c69240baa5ec6de1668e6717": {
     "model_module": "@jupyter-widgets/controls",
     "model_name": "HTMLModel",
     "state": {
      "_dom_classes": [],
      "_model_module": "@jupyter-widgets/controls",
      "_model_module_version": "1.5.0",
      "_model_name": "HTMLModel",
      "_view_count": null,
      "_view_module": "@jupyter-widgets/controls",
      "_view_module_version": "1.5.0",
      "_view_name": "HTMLView",
      "description": "",
      "description_tooltip": null,
      "layout": "IPY_MODEL_6fa20384c26c4d1686ec7a6d8c4a2209",
      "placeholder": "​",
      "style": "IPY_MODEL_2ddf93672fe146fa81d8d49e17317cab",
      "value": " 16181/51785 [00:00&lt;00:00, 161809.77 examples/s]"
     }
    },
    "2ddf93672fe146fa81d8d49e17317cab": {
     "model_module": "@jupyter-widgets/controls",
     "model_name": "DescriptionStyleModel",
     "state": {
      "_model_module": "@jupyter-widgets/controls",
      "_model_module_version": "1.5.0",
      "_model_name": "DescriptionStyleModel",
      "_view_count": null,
      "_view_module": "@jupyter-widgets/base",
      "_view_module_version": "1.2.0",
      "_view_name": "StyleView",
      "description_width": ""
     }
    },
    "3261d145e6ea45d3bddaf409f90d5e9e": {
     "model_module": "@jupyter-widgets/base",
     "model_name": "LayoutModel",
     "state": {
      "_model_module": "@jupyter-widgets/base",
      "_model_module_version": "1.2.0",
      "_model_name": "LayoutModel",
      "_view_count": null,
      "_view_module": "@jupyter-widgets/base",
      "_view_module_version": "1.2.0",
      "_view_name": "LayoutView",
      "align_content": null,
      "align_items": null,
      "align_self": null,
      "border": null,
      "bottom": null,
      "display": null,
      "flex": null,
      "flex_flow": null,
      "grid_area": null,
      "grid_auto_columns": null,
      "grid_auto_flow": null,
      "grid_auto_rows": null,
      "grid_column": null,
      "grid_gap": null,
      "grid_row": null,
      "grid_template_areas": null,
      "grid_template_columns": null,
      "grid_template_rows": null,
      "height": null,
      "justify_content": null,
      "justify_items": null,
      "left": null,
      "margin": null,
      "max_height": null,
      "max_width": null,
      "min_height": null,
      "min_width": null,
      "object_fit": null,
      "object_position": null,
      "order": null,
      "overflow": null,
      "overflow_x": null,
      "overflow_y": null,
      "padding": null,
      "right": null,
      "top": null,
      "visibility": null,
      "width": null
     }
    },
    "349225c5560845d2916795b08016ae6a": {
     "model_module": "@jupyter-widgets/controls",
     "model_name": "ProgressStyleModel",
     "state": {
      "_model_module": "@jupyter-widgets/controls",
      "_model_module_version": "1.5.0",
      "_model_name": "ProgressStyleModel",
      "_view_count": null,
      "_view_module": "@jupyter-widgets/base",
      "_view_module_version": "1.2.0",
      "_view_name": "StyleView",
      "bar_color": null,
      "description_width": "initial"
     }
    },
    "34d6294eb0854bfbaeb3db8ead0184e8": {
     "model_module": "@jupyter-widgets/controls",
     "model_name": "HBoxModel",
     "state": {
      "_dom_classes": [],
      "_model_module": "@jupyter-widgets/controls",
      "_model_module_version": "1.5.0",
      "_model_name": "HBoxModel",
      "_view_count": null,
      "_view_module": "@jupyter-widgets/controls",
      "_view_module_version": "1.5.0",
      "_view_name": "HBoxView",
      "box_style": "",
      "children": [
       "IPY_MODEL_029b99a5954845febdaf740b73defb1e",
       "IPY_MODEL_2bb14960c69240baa5ec6de1668e6717"
      ],
      "layout": "IPY_MODEL_8244c30aa2ce4cfbb695c34d16d15dbd"
     }
    },
    "35dc1dcc6c4646fc90ab4116ff21e79f": {
     "model_module": "@jupyter-widgets/controls",
     "model_name": "HTMLModel",
     "state": {
      "_dom_classes": [],
      "_model_module": "@jupyter-widgets/controls",
      "_model_module_version": "1.5.0",
      "_model_name": "HTMLModel",
      "_view_count": null,
      "_view_module": "@jupyter-widgets/controls",
      "_view_module_version": "1.5.0",
      "_view_name": "HTMLView",
      "description": "",
      "description_tooltip": null,
      "layout": "IPY_MODEL_87e64234d7394936806a278ab246723b",
      "placeholder": "​",
      "style": "IPY_MODEL_3de4ff3397e343dfa5067d26b0db5633",
      "value": " 0/1803 [00:00&lt;?, ? examples/s]"
     }
    },
    "36515a9073dc4e07aa091eea9249561b": {
     "model_module": "@jupyter-widgets/base",
     "model_name": "LayoutModel",
     "state": {
      "_model_module": "@jupyter-widgets/base",
      "_model_module_version": "1.2.0",
      "_model_name": "LayoutModel",
      "_view_count": null,
      "_view_module": "@jupyter-widgets/base",
      "_view_module_version": "1.2.0",
      "_view_name": "LayoutView",
      "align_content": null,
      "align_items": null,
      "align_self": null,
      "border": null,
      "bottom": null,
      "display": null,
      "flex": null,
      "flex_flow": null,
      "grid_area": null,
      "grid_auto_columns": null,
      "grid_auto_flow": null,
      "grid_auto_rows": null,
      "grid_column": null,
      "grid_gap": null,
      "grid_row": null,
      "grid_template_areas": null,
      "grid_template_columns": null,
      "grid_template_rows": null,
      "height": null,
      "justify_content": null,
      "justify_items": null,
      "left": null,
      "margin": null,
      "max_height": null,
      "max_width": null,
      "min_height": null,
      "min_width": null,
      "object_fit": null,
      "object_position": null,
      "order": null,
      "overflow": null,
      "overflow_x": null,
      "overflow_y": null,
      "padding": null,
      "right": null,
      "top": null,
      "visibility": null,
      "width": null
     }
    },
    "3de4ff3397e343dfa5067d26b0db5633": {
     "model_module": "@jupyter-widgets/controls",
     "model_name": "DescriptionStyleModel",
     "state": {
      "_model_module": "@jupyter-widgets/controls",
      "_model_module_version": "1.5.0",
      "_model_name": "DescriptionStyleModel",
      "_view_count": null,
      "_view_module": "@jupyter-widgets/base",
      "_view_module_version": "1.2.0",
      "_view_name": "StyleView",
      "description_width": ""
     }
    },
    "4079ab3e508341db8e0b4e86a063ad0f": {
     "model_module": "@jupyter-widgets/controls",
     "model_name": "ProgressStyleModel",
     "state": {
      "_model_module": "@jupyter-widgets/controls",
      "_model_module_version": "1.5.0",
      "_model_name": "ProgressStyleModel",
      "_view_count": null,
      "_view_module": "@jupyter-widgets/base",
      "_view_module_version": "1.2.0",
      "_view_name": "StyleView",
      "bar_color": null,
      "description_width": "initial"
     }
    },
    "457f9bfcda884862b2272fa9f1d75659": {
     "model_module": "@jupyter-widgets/controls",
     "model_name": "HBoxModel",
     "state": {
      "_dom_classes": [],
      "_model_module": "@jupyter-widgets/controls",
      "_model_module_version": "1.5.0",
      "_model_name": "HBoxModel",
      "_view_count": null,
      "_view_module": "@jupyter-widgets/controls",
      "_view_module_version": "1.5.0",
      "_view_name": "HBoxView",
      "box_style": "",
      "children": [
       "IPY_MODEL_9c7d73b7f59c4137ba3ea068079e2459",
       "IPY_MODEL_5747d5b1b5f4485ba7ebacc51f8386f0"
      ],
      "layout": "IPY_MODEL_fb108e2fc80746c9a77662855ce75f85"
     }
    },
    "54b22bdfba3641d9871e363217d885ff": {
     "model_module": "@jupyter-widgets/controls",
     "model_name": "IntProgressModel",
     "state": {
      "_dom_classes": [],
      "_model_module": "@jupyter-widgets/controls",
      "_model_module_version": "1.5.0",
      "_model_name": "IntProgressModel",
      "_view_count": null,
      "_view_module": "@jupyter-widgets/controls",
      "_view_module_version": "1.5.0",
      "_view_name": "ProgressView",
      "bar_style": "danger",
      "description": "  0%",
      "description_tooltip": null,
      "layout": "IPY_MODEL_d8314c3ed12743399644d44fc528a7ac",
      "max": 1803,
      "min": 0,
      "orientation": "horizontal",
      "style": "IPY_MODEL_ad65af2d432d48c1bae61b73bfb5084d",
      "value": 0
     }
    },
    "5605d714b2f6470d8f3ecafac10881b5": {
     "model_module": "@jupyter-widgets/base",
     "model_name": "LayoutModel",
     "state": {
      "_model_module": "@jupyter-widgets/base",
      "_model_module_version": "1.2.0",
      "_model_name": "LayoutModel",
      "_view_count": null,
      "_view_module": "@jupyter-widgets/base",
      "_view_module_version": "1.2.0",
      "_view_name": "LayoutView",
      "align_content": null,
      "align_items": null,
      "align_self": null,
      "border": null,
      "bottom": null,
      "display": null,
      "flex": null,
      "flex_flow": null,
      "grid_area": null,
      "grid_auto_columns": null,
      "grid_auto_flow": null,
      "grid_auto_rows": null,
      "grid_column": null,
      "grid_gap": null,
      "grid_row": null,
      "grid_template_areas": null,
      "grid_template_columns": null,
      "grid_template_rows": null,
      "height": null,
      "justify_content": null,
      "justify_items": null,
      "left": null,
      "margin": null,
      "max_height": null,
      "max_width": null,
      "min_height": null,
      "min_width": null,
      "object_fit": null,
      "object_position": null,
      "order": null,
      "overflow": null,
      "overflow_x": null,
      "overflow_y": null,
      "padding": null,
      "right": null,
      "top": null,
      "visibility": null,
      "width": null
     }
    },
    "5747d5b1b5f4485ba7ebacc51f8386f0": {
     "model_module": "@jupyter-widgets/controls",
     "model_name": "HTMLModel",
     "state": {
      "_dom_classes": [],
      "_model_module": "@jupyter-widgets/controls",
      "_model_module_version": "1.5.0",
      "_model_name": "HTMLModel",
      "_view_count": null,
      "_view_module": "@jupyter-widgets/controls",
      "_view_module_version": "1.5.0",
      "_view_name": "HTMLView",
      "description": "",
      "description_tooltip": null,
      "layout": "IPY_MODEL_8bc922855af649deb67e94b7752691f7",
      "placeholder": "​",
      "style": "IPY_MODEL_fdfd816ef2314ce79de78f6d784e2a46",
      "value": " 1193/0 [00:00&lt;00:00, 4344.32 examples/s]"
     }
    },
    "60476a2dff1840b7b2724fc1722b00ea": {
     "model_module": "@jupyter-widgets/base",
     "model_name": "LayoutModel",
     "state": {
      "_model_module": "@jupyter-widgets/base",
      "_model_module_version": "1.2.0",
      "_model_name": "LayoutModel",
      "_view_count": null,
      "_view_module": "@jupyter-widgets/base",
      "_view_module_version": "1.2.0",
      "_view_name": "LayoutView",
      "align_content": null,
      "align_items": null,
      "align_self": null,
      "border": null,
      "bottom": null,
      "display": null,
      "flex": null,
      "flex_flow": null,
      "grid_area": null,
      "grid_auto_columns": null,
      "grid_auto_flow": null,
      "grid_auto_rows": null,
      "grid_column": null,
      "grid_gap": null,
      "grid_row": null,
      "grid_template_areas": null,
      "grid_template_columns": null,
      "grid_template_rows": null,
      "height": null,
      "justify_content": null,
      "justify_items": null,
      "left": null,
      "margin": null,
      "max_height": null,
      "max_width": null,
      "min_height": null,
      "min_width": null,
      "object_fit": null,
      "object_position": null,
      "order": null,
      "overflow": null,
      "overflow_x": null,
      "overflow_y": null,
      "padding": null,
      "right": null,
      "top": null,
      "visibility": null,
      "width": null
     }
    },
    "65e79818a0234715bf48d53484aea433": {
     "model_module": "@jupyter-widgets/base",
     "model_name": "LayoutModel",
     "state": {
      "_model_module": "@jupyter-widgets/base",
      "_model_module_version": "1.2.0",
      "_model_name": "LayoutModel",
      "_view_count": null,
      "_view_module": "@jupyter-widgets/base",
      "_view_module_version": "1.2.0",
      "_view_name": "LayoutView",
      "align_content": null,
      "align_items": null,
      "align_self": null,
      "border": null,
      "bottom": null,
      "display": null,
      "flex": null,
      "flex_flow": null,
      "grid_area": null,
      "grid_auto_columns": null,
      "grid_auto_flow": null,
      "grid_auto_rows": null,
      "grid_column": null,
      "grid_gap": null,
      "grid_row": null,
      "grid_template_areas": null,
      "grid_template_columns": null,
      "grid_template_rows": null,
      "height": null,
      "justify_content": null,
      "justify_items": null,
      "left": null,
      "margin": null,
      "max_height": null,
      "max_width": null,
      "min_height": null,
      "min_width": null,
      "object_fit": null,
      "object_position": null,
      "order": null,
      "overflow": null,
      "overflow_x": null,
      "overflow_y": null,
      "padding": null,
      "right": null,
      "top": null,
      "visibility": null,
      "width": null
     }
    },
    "6702f39b89a74fd09e2d0177d2f126c2": {
     "model_module": "@jupyter-widgets/base",
     "model_name": "LayoutModel",
     "state": {
      "_model_module": "@jupyter-widgets/base",
      "_model_module_version": "1.2.0",
      "_model_name": "LayoutModel",
      "_view_count": null,
      "_view_module": "@jupyter-widgets/base",
      "_view_module_version": "1.2.0",
      "_view_name": "LayoutView",
      "align_content": null,
      "align_items": null,
      "align_self": null,
      "border": null,
      "bottom": null,
      "display": null,
      "flex": null,
      "flex_flow": null,
      "grid_area": null,
      "grid_auto_columns": null,
      "grid_auto_flow": null,
      "grid_auto_rows": null,
      "grid_column": null,
      "grid_gap": null,
      "grid_row": null,
      "grid_template_areas": null,
      "grid_template_columns": null,
      "grid_template_rows": null,
      "height": null,
      "justify_content": null,
      "justify_items": null,
      "left": null,
      "margin": null,
      "max_height": null,
      "max_width": null,
      "min_height": null,
      "min_width": null,
      "object_fit": null,
      "object_position": null,
      "order": null,
      "overflow": null,
      "overflow_x": null,
      "overflow_y": null,
      "padding": null,
      "right": null,
      "top": null,
      "visibility": null,
      "width": null
     }
    },
    "68e69f2576d446c48c8edb0595bd8914": {
     "model_module": "@jupyter-widgets/base",
     "model_name": "LayoutModel",
     "state": {
      "_model_module": "@jupyter-widgets/base",
      "_model_module_version": "1.2.0",
      "_model_name": "LayoutModel",
      "_view_count": null,
      "_view_module": "@jupyter-widgets/base",
      "_view_module_version": "1.2.0",
      "_view_name": "LayoutView",
      "align_content": null,
      "align_items": null,
      "align_self": null,
      "border": null,
      "bottom": null,
      "display": null,
      "flex": null,
      "flex_flow": null,
      "grid_area": null,
      "grid_auto_columns": null,
      "grid_auto_flow": null,
      "grid_auto_rows": null,
      "grid_column": null,
      "grid_gap": null,
      "grid_row": null,
      "grid_template_areas": null,
      "grid_template_columns": null,
      "grid_template_rows": null,
      "height": null,
      "justify_content": null,
      "justify_items": null,
      "left": null,
      "margin": null,
      "max_height": null,
      "max_width": null,
      "min_height": null,
      "min_width": null,
      "object_fit": null,
      "object_position": null,
      "order": null,
      "overflow": null,
      "overflow_x": null,
      "overflow_y": null,
      "padding": null,
      "right": null,
      "top": null,
      "visibility": null,
      "width": null
     }
    },
    "6e35ab1df42d40faa48a8bc692d1a435": {
     "model_module": "@jupyter-widgets/controls",
     "model_name": "DescriptionStyleModel",
     "state": {
      "_model_module": "@jupyter-widgets/controls",
      "_model_module_version": "1.5.0",
      "_model_name": "DescriptionStyleModel",
      "_view_count": null,
      "_view_module": "@jupyter-widgets/base",
      "_view_module_version": "1.2.0",
      "_view_name": "StyleView",
      "description_width": ""
     }
    },
    "6fa20384c26c4d1686ec7a6d8c4a2209": {
     "model_module": "@jupyter-widgets/base",
     "model_name": "LayoutModel",
     "state": {
      "_model_module": "@jupyter-widgets/base",
      "_model_module_version": "1.2.0",
      "_model_name": "LayoutModel",
      "_view_count": null,
      "_view_module": "@jupyter-widgets/base",
      "_view_module_version": "1.2.0",
      "_view_name": "LayoutView",
      "align_content": null,
      "align_items": null,
      "align_self": null,
      "border": null,
      "bottom": null,
      "display": null,
      "flex": null,
      "flex_flow": null,
      "grid_area": null,
      "grid_auto_columns": null,
      "grid_auto_flow": null,
      "grid_auto_rows": null,
      "grid_column": null,
      "grid_gap": null,
      "grid_row": null,
      "grid_template_areas": null,
      "grid_template_columns": null,
      "grid_template_rows": null,
      "height": null,
      "justify_content": null,
      "justify_items": null,
      "left": null,
      "margin": null,
      "max_height": null,
      "max_width": null,
      "min_height": null,
      "min_width": null,
      "object_fit": null,
      "object_position": null,
      "order": null,
      "overflow": null,
      "overflow_x": null,
      "overflow_y": null,
      "padding": null,
      "right": null,
      "top": null,
      "visibility": null,
      "width": null
     }
    },
    "7090f77e04524f68a1a003399218412b": {
     "model_module": "@jupyter-widgets/controls",
     "model_name": "DescriptionStyleModel",
     "state": {
      "_model_module": "@jupyter-widgets/controls",
      "_model_module_version": "1.5.0",
      "_model_name": "DescriptionStyleModel",
      "_view_count": null,
      "_view_module": "@jupyter-widgets/base",
      "_view_module_version": "1.2.0",
      "_view_name": "StyleView",
      "description_width": ""
     }
    },
    "7103d9491ba8430bb7cdfc3e91eb4d67": {
     "model_module": "@jupyter-widgets/base",
     "model_name": "LayoutModel",
     "state": {
      "_model_module": "@jupyter-widgets/base",
      "_model_module_version": "1.2.0",
      "_model_name": "LayoutModel",
      "_view_count": null,
      "_view_module": "@jupyter-widgets/base",
      "_view_module_version": "1.2.0",
      "_view_name": "LayoutView",
      "align_content": null,
      "align_items": null,
      "align_self": null,
      "border": null,
      "bottom": null,
      "display": null,
      "flex": null,
      "flex_flow": null,
      "grid_area": null,
      "grid_auto_columns": null,
      "grid_auto_flow": null,
      "grid_auto_rows": null,
      "grid_column": null,
      "grid_gap": null,
      "grid_row": null,
      "grid_template_areas": null,
      "grid_template_columns": null,
      "grid_template_rows": null,
      "height": null,
      "justify_content": null,
      "justify_items": null,
      "left": null,
      "margin": null,
      "max_height": null,
      "max_width": null,
      "min_height": null,
      "min_width": null,
      "object_fit": null,
      "object_position": null,
      "order": null,
      "overflow": null,
      "overflow_x": null,
      "overflow_y": null,
      "padding": null,
      "right": null,
      "top": null,
      "visibility": null,
      "width": null
     }
    },
    "71306b82d5e24a09af5e6f6aaefd0e62": {
     "model_module": "@jupyter-widgets/base",
     "model_name": "LayoutModel",
     "state": {
      "_model_module": "@jupyter-widgets/base",
      "_model_module_version": "1.2.0",
      "_model_name": "LayoutModel",
      "_view_count": null,
      "_view_module": "@jupyter-widgets/base",
      "_view_module_version": "1.2.0",
      "_view_name": "LayoutView",
      "align_content": null,
      "align_items": null,
      "align_self": null,
      "border": null,
      "bottom": null,
      "display": null,
      "flex": null,
      "flex_flow": null,
      "grid_area": null,
      "grid_auto_columns": null,
      "grid_auto_flow": null,
      "grid_auto_rows": null,
      "grid_column": null,
      "grid_gap": null,
      "grid_row": null,
      "grid_template_areas": null,
      "grid_template_columns": null,
      "grid_template_rows": null,
      "height": null,
      "justify_content": null,
      "justify_items": null,
      "left": null,
      "margin": null,
      "max_height": null,
      "max_width": null,
      "min_height": null,
      "min_width": null,
      "object_fit": null,
      "object_position": null,
      "order": null,
      "overflow": null,
      "overflow_x": null,
      "overflow_y": null,
      "padding": null,
      "right": null,
      "top": null,
      "visibility": null,
      "width": null
     }
    },
    "7a880aca221e4aad9f1f6f8bc462eebb": {
     "model_module": "@jupyter-widgets/controls",
     "model_name": "IntProgressModel",
     "state": {
      "_dom_classes": [],
      "_model_module": "@jupyter-widgets/controls",
      "_model_module_version": "1.5.0",
      "_model_name": "IntProgressModel",
      "_view_count": null,
      "_view_module": "@jupyter-widgets/controls",
      "_view_module_version": "1.5.0",
      "_view_name": "ProgressView",
      "bar_style": "success",
      "description": "Dl Completed...: 100%",
      "description_tooltip": null,
      "layout": "IPY_MODEL_904c17c822ec44f69e12ee050350f459",
      "max": 1,
      "min": 0,
      "orientation": "horizontal",
      "style": "IPY_MODEL_e5615d848deb46a1a9903ac97730557a",
      "value": 1
     }
    },
    "7b8649000ccf44b8b32659e87efa86bf": {
     "model_module": "@jupyter-widgets/base",
     "model_name": "LayoutModel",
     "state": {
      "_model_module": "@jupyter-widgets/base",
      "_model_module_version": "1.2.0",
      "_model_name": "LayoutModel",
      "_view_count": null,
      "_view_module": "@jupyter-widgets/base",
      "_view_module_version": "1.2.0",
      "_view_name": "LayoutView",
      "align_content": null,
      "align_items": null,
      "align_self": null,
      "border": null,
      "bottom": null,
      "display": null,
      "flex": null,
      "flex_flow": null,
      "grid_area": null,
      "grid_auto_columns": null,
      "grid_auto_flow": null,
      "grid_auto_rows": null,
      "grid_column": null,
      "grid_gap": null,
      "grid_row": null,
      "grid_template_areas": null,
      "grid_template_columns": null,
      "grid_template_rows": null,
      "height": null,
      "justify_content": null,
      "justify_items": null,
      "left": null,
      "margin": null,
      "max_height": null,
      "max_width": null,
      "min_height": null,
      "min_width": null,
      "object_fit": null,
      "object_position": null,
      "order": null,
      "overflow": null,
      "overflow_x": null,
      "overflow_y": null,
      "padding": null,
      "right": null,
      "top": null,
      "visibility": null,
      "width": null
     }
    },
    "80fa0ec5e09140e5840da2cff79a5a51": {
     "model_module": "@jupyter-widgets/controls",
     "model_name": "HTMLModel",
     "state": {
      "_dom_classes": [],
      "_model_module": "@jupyter-widgets/controls",
      "_model_module_version": "1.5.0",
      "_model_name": "HTMLModel",
      "_view_count": null,
      "_view_module": "@jupyter-widgets/controls",
      "_view_module_version": "1.5.0",
      "_view_name": "HTMLView",
      "description": "",
      "description_tooltip": null,
      "layout": "IPY_MODEL_6702f39b89a74fd09e2d0177d2f126c2",
      "placeholder": "​",
      "style": "IPY_MODEL_7090f77e04524f68a1a003399218412b",
      "value": " 1803/0 [00:00&lt;00:00, 4360.70 examples/s]"
     }
    },
    "8244c30aa2ce4cfbb695c34d16d15dbd": {
     "model_module": "@jupyter-widgets/base",
     "model_name": "LayoutModel",
     "state": {
      "_model_module": "@jupyter-widgets/base",
      "_model_module_version": "1.2.0",
      "_model_name": "LayoutModel",
      "_view_count": null,
      "_view_module": "@jupyter-widgets/base",
      "_view_module_version": "1.2.0",
      "_view_name": "LayoutView",
      "align_content": null,
      "align_items": null,
      "align_self": null,
      "border": null,
      "bottom": null,
      "display": null,
      "flex": null,
      "flex_flow": null,
      "grid_area": null,
      "grid_auto_columns": null,
      "grid_auto_flow": null,
      "grid_auto_rows": null,
      "grid_column": null,
      "grid_gap": null,
      "grid_row": null,
      "grid_template_areas": null,
      "grid_template_columns": null,
      "grid_template_rows": null,
      "height": null,
      "justify_content": null,
      "justify_items": null,
      "left": null,
      "margin": null,
      "max_height": null,
      "max_width": null,
      "min_height": null,
      "min_width": null,
      "object_fit": null,
      "object_position": null,
      "order": null,
      "overflow": null,
      "overflow_x": null,
      "overflow_y": null,
      "padding": null,
      "right": null,
      "top": null,
      "visibility": null,
      "width": null
     }
    },
    "82b0011ea8974b179b0974e8f16f8872": {
     "model_module": "@jupyter-widgets/controls",
     "model_name": "HBoxModel",
     "state": {
      "_dom_classes": [],
      "_model_module": "@jupyter-widgets/controls",
      "_model_module_version": "1.5.0",
      "_model_name": "HBoxModel",
      "_view_count": null,
      "_view_module": "@jupyter-widgets/controls",
      "_view_module_version": "1.5.0",
      "_view_name": "HBoxView",
      "box_style": "",
      "children": [
       "IPY_MODEL_7a880aca221e4aad9f1f6f8bc462eebb",
       "IPY_MODEL_bdecefcaf14b482cad13970230c24e40"
      ],
      "layout": "IPY_MODEL_65e79818a0234715bf48d53484aea433"
     }
    },
    "84161540c1b04a8f9a12130a727309ad": {
     "model_module": "@jupyter-widgets/controls",
     "model_name": "ProgressStyleModel",
     "state": {
      "_model_module": "@jupyter-widgets/controls",
      "_model_module_version": "1.5.0",
      "_model_name": "ProgressStyleModel",
      "_view_count": null,
      "_view_module": "@jupyter-widgets/base",
      "_view_module_version": "1.2.0",
      "_view_name": "StyleView",
      "bar_color": null,
      "description_width": "initial"
     }
    },
    "85c3f0c346024aefa24b824df2a1ba64": {
     "model_module": "@jupyter-widgets/controls",
     "model_name": "HTMLModel",
     "state": {
      "_dom_classes": [],
      "_model_module": "@jupyter-widgets/controls",
      "_model_module_version": "1.5.0",
      "_model_name": "HTMLModel",
      "_view_count": null,
      "_view_module": "@jupyter-widgets/controls",
      "_view_module_version": "1.5.0",
      "_view_name": "HTMLView",
      "description": "",
      "description_tooltip": null,
      "layout": "IPY_MODEL_166298362f5a4945b0f4a3b4e8e00bbf",
      "placeholder": "​",
      "style": "IPY_MODEL_e026f6748cff4d9d83e7e6e8f91945b8",
      "value": " 0/1193 [00:00&lt;?, ? examples/s]"
     }
    },
    "87e64234d7394936806a278ab246723b": {
     "model_module": "@jupyter-widgets/base",
     "model_name": "LayoutModel",
     "state": {
      "_model_module": "@jupyter-widgets/base",
      "_model_module_version": "1.2.0",
      "_model_name": "LayoutModel",
      "_view_count": null,
      "_view_module": "@jupyter-widgets/base",
      "_view_module_version": "1.2.0",
      "_view_name": "LayoutView",
      "align_content": null,
      "align_items": null,
      "align_self": null,
      "border": null,
      "bottom": null,
      "display": null,
      "flex": null,
      "flex_flow": null,
      "grid_area": null,
      "grid_auto_columns": null,
      "grid_auto_flow": null,
      "grid_auto_rows": null,
      "grid_column": null,
      "grid_gap": null,
      "grid_row": null,
      "grid_template_areas": null,
      "grid_template_columns": null,
      "grid_template_rows": null,
      "height": null,
      "justify_content": null,
      "justify_items": null,
      "left": null,
      "margin": null,
      "max_height": null,
      "max_width": null,
      "min_height": null,
      "min_width": null,
      "object_fit": null,
      "object_position": null,
      "order": null,
      "overflow": null,
      "overflow_x": null,
      "overflow_y": null,
      "padding": null,
      "right": null,
      "top": null,
      "visibility": null,
      "width": null
     }
    },
    "8bc922855af649deb67e94b7752691f7": {
     "model_module": "@jupyter-widgets/base",
     "model_name": "LayoutModel",
     "state": {
      "_model_module": "@jupyter-widgets/base",
      "_model_module_version": "1.2.0",
      "_model_name": "LayoutModel",
      "_view_count": null,
      "_view_module": "@jupyter-widgets/base",
      "_view_module_version": "1.2.0",
      "_view_name": "LayoutView",
      "align_content": null,
      "align_items": null,
      "align_self": null,
      "border": null,
      "bottom": null,
      "display": null,
      "flex": null,
      "flex_flow": null,
      "grid_area": null,
      "grid_auto_columns": null,
      "grid_auto_flow": null,
      "grid_auto_rows": null,
      "grid_column": null,
      "grid_gap": null,
      "grid_row": null,
      "grid_template_areas": null,
      "grid_template_columns": null,
      "grid_template_rows": null,
      "height": null,
      "justify_content": null,
      "justify_items": null,
      "left": null,
      "margin": null,
      "max_height": null,
      "max_width": null,
      "min_height": null,
      "min_width": null,
      "object_fit": null,
      "object_position": null,
      "order": null,
      "overflow": null,
      "overflow_x": null,
      "overflow_y": null,
      "padding": null,
      "right": null,
      "top": null,
      "visibility": null,
      "width": null
     }
    },
    "904c17c822ec44f69e12ee050350f459": {
     "model_module": "@jupyter-widgets/base",
     "model_name": "LayoutModel",
     "state": {
      "_model_module": "@jupyter-widgets/base",
      "_model_module_version": "1.2.0",
      "_model_name": "LayoutModel",
      "_view_count": null,
      "_view_module": "@jupyter-widgets/base",
      "_view_module_version": "1.2.0",
      "_view_name": "LayoutView",
      "align_content": null,
      "align_items": null,
      "align_self": null,
      "border": null,
      "bottom": null,
      "display": null,
      "flex": null,
      "flex_flow": null,
      "grid_area": null,
      "grid_auto_columns": null,
      "grid_auto_flow": null,
      "grid_auto_rows": null,
      "grid_column": null,
      "grid_gap": null,
      "grid_row": null,
      "grid_template_areas": null,
      "grid_template_columns": null,
      "grid_template_rows": null,
      "height": null,
      "justify_content": null,
      "justify_items": null,
      "left": null,
      "margin": null,
      "max_height": null,
      "max_width": null,
      "min_height": null,
      "min_width": null,
      "object_fit": null,
      "object_position": null,
      "order": null,
      "overflow": null,
      "overflow_x": null,
      "overflow_y": null,
      "padding": null,
      "right": null,
      "top": null,
      "visibility": null,
      "width": null
     }
    },
    "9a4c95ca7f4746829ef8082c2b08e149": {
     "model_module": "@jupyter-widgets/base",
     "model_name": "LayoutModel",
     "state": {
      "_model_module": "@jupyter-widgets/base",
      "_model_module_version": "1.2.0",
      "_model_name": "LayoutModel",
      "_view_count": null,
      "_view_module": "@jupyter-widgets/base",
      "_view_module_version": "1.2.0",
      "_view_name": "LayoutView",
      "align_content": null,
      "align_items": null,
      "align_self": null,
      "border": null,
      "bottom": null,
      "display": null,
      "flex": null,
      "flex_flow": null,
      "grid_area": null,
      "grid_auto_columns": null,
      "grid_auto_flow": null,
      "grid_auto_rows": null,
      "grid_column": null,
      "grid_gap": null,
      "grid_row": null,
      "grid_template_areas": null,
      "grid_template_columns": null,
      "grid_template_rows": null,
      "height": null,
      "justify_content": null,
      "justify_items": null,
      "left": null,
      "margin": null,
      "max_height": null,
      "max_width": null,
      "min_height": null,
      "min_width": null,
      "object_fit": null,
      "object_position": null,
      "order": null,
      "overflow": null,
      "overflow_x": null,
      "overflow_y": null,
      "padding": null,
      "right": null,
      "top": null,
      "visibility": null,
      "width": null
     }
    },
    "9b406c1238f44ec49d77bd4c7ae6a67c": {
     "model_module": "@jupyter-widgets/controls",
     "model_name": "HBoxModel",
     "state": {
      "_dom_classes": [],
      "_model_module": "@jupyter-widgets/controls",
      "_model_module_version": "1.5.0",
      "_model_name": "HBoxModel",
      "_view_count": null,
      "_view_module": "@jupyter-widgets/controls",
      "_view_module_version": "1.5.0",
      "_view_name": "HBoxView",
      "box_style": "",
      "children": [
       "IPY_MODEL_54b22bdfba3641d9871e363217d885ff",
       "IPY_MODEL_35dc1dcc6c4646fc90ab4116ff21e79f"
      ],
      "layout": "IPY_MODEL_19bbb6be0aa24588ad98f56cc4c5d6f0"
     }
    },
    "9b5517b2f297426ab755bd0802110ada": {
     "model_module": "@jupyter-widgets/controls",
     "model_name": "DescriptionStyleModel",
     "state": {
      "_model_module": "@jupyter-widgets/controls",
      "_model_module_version": "1.5.0",
      "_model_name": "DescriptionStyleModel",
      "_view_count": null,
      "_view_module": "@jupyter-widgets/base",
      "_view_module_version": "1.2.0",
      "_view_name": "StyleView",
      "description_width": ""
     }
    },
    "9baeb60831fd4bd698bd892be71d56db": {
     "model_module": "@jupyter-widgets/controls",
     "model_name": "HBoxModel",
     "state": {
      "_dom_classes": [],
      "_model_module": "@jupyter-widgets/controls",
      "_model_module_version": "1.5.0",
      "_model_name": "HBoxModel",
      "_view_count": null,
      "_view_module": "@jupyter-widgets/controls",
      "_view_module_version": "1.5.0",
      "_view_name": "HBoxView",
      "box_style": "",
      "children": [
       "IPY_MODEL_c7e3a8071bfe4cd1974a025531d38fe6",
       "IPY_MODEL_e4e8d37ea1914858b5e4d1caf9f43dcc"
      ],
      "layout": "IPY_MODEL_9a4c95ca7f4746829ef8082c2b08e149"
     }
    },
    "9c7d73b7f59c4137ba3ea068079e2459": {
     "model_module": "@jupyter-widgets/controls",
     "model_name": "IntProgressModel",
     "state": {
      "_dom_classes": [],
      "_model_module": "@jupyter-widgets/controls",
      "_model_module_version": "1.5.0",
      "_model_name": "IntProgressModel",
      "_view_count": null,
      "_view_module": "@jupyter-widgets/controls",
      "_view_module_version": "1.5.0",
      "_view_name": "ProgressView",
      "bar_style": "info",
      "description": "",
      "description_tooltip": null,
      "layout": "IPY_MODEL_1a244ef6bf974794887bd2d9887b32ae",
      "max": 1,
      "min": 0,
      "orientation": "horizontal",
      "style": "IPY_MODEL_4079ab3e508341db8e0b4e86a063ad0f",
      "value": 1
     }
    },
    "9cf832ea9c0a404eb968f255cb6c9d16": {
     "model_module": "@jupyter-widgets/controls",
     "model_name": "ProgressStyleModel",
     "state": {
      "_model_module": "@jupyter-widgets/controls",
      "_model_module_version": "1.5.0",
      "_model_name": "ProgressStyleModel",
      "_view_count": null,
      "_view_module": "@jupyter-widgets/base",
      "_view_module_version": "1.2.0",
      "_view_name": "StyleView",
      "bar_color": null,
      "description_width": "initial"
     }
    },
    "9d6c3cb421824d27a5abac3353782a5d": {
     "model_module": "@jupyter-widgets/base",
     "model_name": "LayoutModel",
     "state": {
      "_model_module": "@jupyter-widgets/base",
      "_model_module_version": "1.2.0",
      "_model_name": "LayoutModel",
      "_view_count": null,
      "_view_module": "@jupyter-widgets/base",
      "_view_module_version": "1.2.0",
      "_view_name": "LayoutView",
      "align_content": null,
      "align_items": null,
      "align_self": null,
      "border": null,
      "bottom": null,
      "display": null,
      "flex": null,
      "flex_flow": null,
      "grid_area": null,
      "grid_auto_columns": null,
      "grid_auto_flow": null,
      "grid_auto_rows": null,
      "grid_column": null,
      "grid_gap": null,
      "grid_row": null,
      "grid_template_areas": null,
      "grid_template_columns": null,
      "grid_template_rows": null,
      "height": null,
      "justify_content": null,
      "justify_items": null,
      "left": null,
      "margin": null,
      "max_height": null,
      "max_width": null,
      "min_height": null,
      "min_width": null,
      "object_fit": null,
      "object_position": null,
      "order": null,
      "overflow": null,
      "overflow_x": null,
      "overflow_y": null,
      "padding": null,
      "right": null,
      "top": null,
      "visibility": null,
      "width": null
     }
    },
    "9f57e2ebaccd4890b13e586ba0279247": {
     "model_module": "@jupyter-widgets/controls",
     "model_name": "HTMLModel",
     "state": {
      "_dom_classes": [],
      "_model_module": "@jupyter-widgets/controls",
      "_model_module_version": "1.5.0",
      "_model_name": "HTMLModel",
      "_view_count": null,
      "_view_module": "@jupyter-widgets/controls",
      "_view_module_version": "1.5.0",
      "_view_name": "HTMLView",
      "description": "",
      "description_tooltip": null,
      "layout": "IPY_MODEL_7b8649000ccf44b8b32659e87efa86bf",
      "placeholder": "​",
      "style": "IPY_MODEL_be86e0a332ac43a2845551a67bbabe99",
      "value": " 51785/0 [00:08&lt;00:00, 6206.40 examples/s]"
     }
    },
    "a4bd6c72bdfc4d96b103d3388c31a349": {
     "model_module": "@jupyter-widgets/controls",
     "model_name": "ProgressStyleModel",
     "state": {
      "_model_module": "@jupyter-widgets/controls",
      "_model_module_version": "1.5.0",
      "_model_name": "ProgressStyleModel",
      "_view_count": null,
      "_view_module": "@jupyter-widgets/base",
      "_view_module_version": "1.2.0",
      "_view_name": "StyleView",
      "bar_color": null,
      "description_width": "initial"
     }
    },
    "ad65af2d432d48c1bae61b73bfb5084d": {
     "model_module": "@jupyter-widgets/controls",
     "model_name": "ProgressStyleModel",
     "state": {
      "_model_module": "@jupyter-widgets/controls",
      "_model_module_version": "1.5.0",
      "_model_name": "ProgressStyleModel",
      "_view_count": null,
      "_view_module": "@jupyter-widgets/base",
      "_view_module_version": "1.2.0",
      "_view_name": "StyleView",
      "bar_color": null,
      "description_width": "initial"
     }
    },
    "b044a1e3facb465db7d249033c09ee64": {
     "model_module": "@jupyter-widgets/controls",
     "model_name": "HBoxModel",
     "state": {
      "_dom_classes": [],
      "_model_module": "@jupyter-widgets/controls",
      "_model_module_version": "1.5.0",
      "_model_name": "HBoxModel",
      "_view_count": null,
      "_view_module": "@jupyter-widgets/controls",
      "_view_module_version": "1.5.0",
      "_view_name": "HBoxView",
      "box_style": "",
      "children": [
       "IPY_MODEL_e73502dbc87443bbbaf217cec54371aa",
       "IPY_MODEL_80fa0ec5e09140e5840da2cff79a5a51"
      ],
      "layout": "IPY_MODEL_f74762456b9f4748bcd75789e2765680"
     }
    },
    "b63c16d93da947108c780e369fc0eac4": {
     "model_module": "@jupyter-widgets/base",
     "model_name": "LayoutModel",
     "state": {
      "_model_module": "@jupyter-widgets/base",
      "_model_module_version": "1.2.0",
      "_model_name": "LayoutModel",
      "_view_count": null,
      "_view_module": "@jupyter-widgets/base",
      "_view_module_version": "1.2.0",
      "_view_name": "LayoutView",
      "align_content": null,
      "align_items": null,
      "align_self": null,
      "border": null,
      "bottom": null,
      "display": null,
      "flex": null,
      "flex_flow": null,
      "grid_area": null,
      "grid_auto_columns": null,
      "grid_auto_flow": null,
      "grid_auto_rows": null,
      "grid_column": null,
      "grid_gap": null,
      "grid_row": null,
      "grid_template_areas": null,
      "grid_template_columns": null,
      "grid_template_rows": null,
      "height": null,
      "justify_content": null,
      "justify_items": null,
      "left": null,
      "margin": null,
      "max_height": null,
      "max_width": null,
      "min_height": null,
      "min_width": null,
      "object_fit": null,
      "object_position": null,
      "order": null,
      "overflow": null,
      "overflow_x": null,
      "overflow_y": null,
      "padding": null,
      "right": null,
      "top": null,
      "visibility": null,
      "width": null
     }
    },
    "b6ade7b97e254a60a23debcd372703ef": {
     "model_module": "@jupyter-widgets/controls",
     "model_name": "IntProgressModel",
     "state": {
      "_dom_classes": [],
      "_model_module": "@jupyter-widgets/controls",
      "_model_module_version": "1.5.0",
      "_model_name": "IntProgressModel",
      "_view_count": null,
      "_view_module": "@jupyter-widgets/controls",
      "_view_module_version": "1.5.0",
      "_view_name": "ProgressView",
      "bar_style": "danger",
      "description": "  0%",
      "description_tooltip": null,
      "layout": "IPY_MODEL_f053046a45e34682b4879c28a083d1a3",
      "max": 1193,
      "min": 0,
      "orientation": "horizontal",
      "style": "IPY_MODEL_349225c5560845d2916795b08016ae6a",
      "value": 0
     }
    },
    "b90d55a6f56e438b9dc71487cd8fe966": {
     "model_module": "@jupyter-widgets/controls",
     "model_name": "HBoxModel",
     "state": {
      "_dom_classes": [],
      "_model_module": "@jupyter-widgets/controls",
      "_model_module_version": "1.5.0",
      "_model_name": "HBoxModel",
      "_view_count": null,
      "_view_module": "@jupyter-widgets/controls",
      "_view_module_version": "1.5.0",
      "_view_name": "HBoxView",
      "box_style": "",
      "children": [
       "IPY_MODEL_cf66d94ceda14eb0a8470439834df9c6",
       "IPY_MODEL_bc188bdb140647dc9bb702ebcea5827f"
      ],
      "layout": "IPY_MODEL_60476a2dff1840b7b2724fc1722b00ea"
     }
    },
    "ba50aec72fb84182a8f44f4e5e2608a3": {
     "model_module": "@jupyter-widgets/controls",
     "model_name": "ProgressStyleModel",
     "state": {
      "_model_module": "@jupyter-widgets/controls",
      "_model_module_version": "1.5.0",
      "_model_name": "ProgressStyleModel",
      "_view_count": null,
      "_view_module": "@jupyter-widgets/base",
      "_view_module_version": "1.2.0",
      "_view_name": "StyleView",
      "bar_color": null,
      "description_width": "initial"
     }
    },
    "bc188bdb140647dc9bb702ebcea5827f": {
     "model_module": "@jupyter-widgets/controls",
     "model_name": "HTMLModel",
     "state": {
      "_dom_classes": [],
      "_model_module": "@jupyter-widgets/controls",
      "_model_module_version": "1.5.0",
      "_model_name": "HTMLModel",
      "_view_count": null,
      "_view_module": "@jupyter-widgets/controls",
      "_view_module_version": "1.5.0",
      "_view_name": "HTMLView",
      "description": "",
      "description_tooltip": null,
      "layout": "IPY_MODEL_eff255c404224b99bcb2bed5592940c9",
      "placeholder": "​",
      "style": "IPY_MODEL_25cdd450ad24487bbeddac079d35bd8a",
      "value": " 1/1 [00:07&lt;00:00,  7.20s/ file]"
     }
    },
    "bdecefcaf14b482cad13970230c24e40": {
     "model_module": "@jupyter-widgets/controls",
     "model_name": "HTMLModel",
     "state": {
      "_dom_classes": [],
      "_model_module": "@jupyter-widgets/controls",
      "_model_module_version": "1.5.0",
      "_model_name": "HTMLModel",
      "_view_count": null,
      "_view_module": "@jupyter-widgets/controls",
      "_view_module_version": "1.5.0",
      "_view_name": "HTMLView",
      "description": "",
      "description_tooltip": null,
      "layout": "IPY_MODEL_3261d145e6ea45d3bddaf409f90d5e9e",
      "placeholder": "​",
      "style": "IPY_MODEL_6e35ab1df42d40faa48a8bc692d1a435",
      "value": " 1/1 [00:07&lt;00:00,  7.26s/ url]"
     }
    },
    "be86e0a332ac43a2845551a67bbabe99": {
     "model_module": "@jupyter-widgets/controls",
     "model_name": "DescriptionStyleModel",
     "state": {
      "_model_module": "@jupyter-widgets/controls",
      "_model_module_version": "1.5.0",
      "_model_name": "DescriptionStyleModel",
      "_view_count": null,
      "_view_module": "@jupyter-widgets/base",
      "_view_module_version": "1.2.0",
      "_view_name": "StyleView",
      "description_width": ""
     }
    },
    "c7e3a8071bfe4cd1974a025531d38fe6": {
     "model_module": "@jupyter-widgets/controls",
     "model_name": "IntProgressModel",
     "state": {
      "_dom_classes": [],
      "_model_module": "@jupyter-widgets/controls",
      "_model_module_version": "1.5.0",
      "_model_name": "IntProgressModel",
      "_view_count": null,
      "_view_module": "@jupyter-widgets/controls",
      "_view_module_version": "1.5.0",
      "_view_name": "ProgressView",
      "bar_style": "success",
      "description": "Dl Size...: 100%",
      "description_tooltip": null,
      "layout": "IPY_MODEL_5605d714b2f6470d8f3ecafac10881b5",
      "max": 1,
      "min": 0,
      "orientation": "horizontal",
      "style": "IPY_MODEL_a4bd6c72bdfc4d96b103d3388c31a349",
      "value": 1
     }
    },
    "cc627588c6a043f8b878298b52934888": {
     "model_module": "@jupyter-widgets/base",
     "model_name": "LayoutModel",
     "state": {
      "_model_module": "@jupyter-widgets/base",
      "_model_module_version": "1.2.0",
      "_model_name": "LayoutModel",
      "_view_count": null,
      "_view_module": "@jupyter-widgets/base",
      "_view_module_version": "1.2.0",
      "_view_name": "LayoutView",
      "align_content": null,
      "align_items": null,
      "align_self": null,
      "border": null,
      "bottom": null,
      "display": null,
      "flex": null,
      "flex_flow": null,
      "grid_area": null,
      "grid_auto_columns": null,
      "grid_auto_flow": null,
      "grid_auto_rows": null,
      "grid_column": null,
      "grid_gap": null,
      "grid_row": null,
      "grid_template_areas": null,
      "grid_template_columns": null,
      "grid_template_rows": null,
      "height": null,
      "justify_content": null,
      "justify_items": null,
      "left": null,
      "margin": null,
      "max_height": null,
      "max_width": null,
      "min_height": null,
      "min_width": null,
      "object_fit": null,
      "object_position": null,
      "order": null,
      "overflow": null,
      "overflow_x": null,
      "overflow_y": null,
      "padding": null,
      "right": null,
      "top": null,
      "visibility": null,
      "width": null
     }
    },
    "cf66d94ceda14eb0a8470439834df9c6": {
     "model_module": "@jupyter-widgets/controls",
     "model_name": "IntProgressModel",
     "state": {
      "_dom_classes": [],
      "_model_module": "@jupyter-widgets/controls",
      "_model_module_version": "1.5.0",
      "_model_name": "IntProgressModel",
      "_view_count": null,
      "_view_module": "@jupyter-widgets/controls",
      "_view_module_version": "1.5.0",
      "_view_name": "ProgressView",
      "bar_style": "success",
      "description": "Extraction completed...: 100%",
      "description_tooltip": null,
      "layout": "IPY_MODEL_cc627588c6a043f8b878298b52934888",
      "max": 1,
      "min": 0,
      "orientation": "horizontal",
      "style": "IPY_MODEL_9cf832ea9c0a404eb968f255cb6c9d16",
      "value": 1
     }
    },
    "d8314c3ed12743399644d44fc528a7ac": {
     "model_module": "@jupyter-widgets/base",
     "model_name": "LayoutModel",
     "state": {
      "_model_module": "@jupyter-widgets/base",
      "_model_module_version": "1.2.0",
      "_model_name": "LayoutModel",
      "_view_count": null,
      "_view_module": "@jupyter-widgets/base",
      "_view_module_version": "1.2.0",
      "_view_name": "LayoutView",
      "align_content": null,
      "align_items": null,
      "align_self": null,
      "border": null,
      "bottom": null,
      "display": null,
      "flex": null,
      "flex_flow": null,
      "grid_area": null,
      "grid_auto_columns": null,
      "grid_auto_flow": null,
      "grid_auto_rows": null,
      "grid_column": null,
      "grid_gap": null,
      "grid_row": null,
      "grid_template_areas": null,
      "grid_template_columns": null,
      "grid_template_rows": null,
      "height": null,
      "justify_content": null,
      "justify_items": null,
      "left": null,
      "margin": null,
      "max_height": null,
      "max_width": null,
      "min_height": null,
      "min_width": null,
      "object_fit": null,
      "object_position": null,
      "order": null,
      "overflow": null,
      "overflow_x": null,
      "overflow_y": null,
      "padding": null,
      "right": null,
      "top": null,
      "visibility": null,
      "width": null
     }
    },
    "e026f6748cff4d9d83e7e6e8f91945b8": {
     "model_module": "@jupyter-widgets/controls",
     "model_name": "DescriptionStyleModel",
     "state": {
      "_model_module": "@jupyter-widgets/controls",
      "_model_module_version": "1.5.0",
      "_model_name": "DescriptionStyleModel",
      "_view_count": null,
      "_view_module": "@jupyter-widgets/base",
      "_view_module_version": "1.2.0",
      "_view_name": "StyleView",
      "description_width": ""
     }
    },
    "e4e8d37ea1914858b5e4d1caf9f43dcc": {
     "model_module": "@jupyter-widgets/controls",
     "model_name": "HTMLModel",
     "state": {
      "_dom_classes": [],
      "_model_module": "@jupyter-widgets/controls",
      "_model_module_version": "1.5.0",
      "_model_name": "HTMLModel",
      "_view_count": null,
      "_view_module": "@jupyter-widgets/controls",
      "_view_module_version": "1.5.0",
      "_view_name": "HTMLView",
      "description": "",
      "description_tooltip": null,
      "layout": "IPY_MODEL_71306b82d5e24a09af5e6f6aaefd0e62",
      "placeholder": "​",
      "style": "IPY_MODEL_9b5517b2f297426ab755bd0802110ada",
      "value": " 124/124 [00:07&lt;00:00, 17.14 MiB/s]"
     }
    },
    "e5604a90c29b43b8a035dac1b949253d": {
     "model_module": "@jupyter-widgets/controls",
     "model_name": "ProgressStyleModel",
     "state": {
      "_model_module": "@jupyter-widgets/controls",
      "_model_module_version": "1.5.0",
      "_model_name": "ProgressStyleModel",
      "_view_count": null,
      "_view_module": "@jupyter-widgets/base",
      "_view_module_version": "1.2.0",
      "_view_name": "StyleView",
      "bar_color": null,
      "description_width": "initial"
     }
    },
    "e5615d848deb46a1a9903ac97730557a": {
     "model_module": "@jupyter-widgets/controls",
     "model_name": "ProgressStyleModel",
     "state": {
      "_model_module": "@jupyter-widgets/controls",
      "_model_module_version": "1.5.0",
      "_model_name": "ProgressStyleModel",
      "_view_count": null,
      "_view_module": "@jupyter-widgets/base",
      "_view_module_version": "1.2.0",
      "_view_name": "StyleView",
      "bar_color": null,
      "description_width": "initial"
     }
    },
    "e73502dbc87443bbbaf217cec54371aa": {
     "model_module": "@jupyter-widgets/controls",
     "model_name": "IntProgressModel",
     "state": {
      "_dom_classes": [],
      "_model_module": "@jupyter-widgets/controls",
      "_model_module_version": "1.5.0",
      "_model_name": "IntProgressModel",
      "_view_count": null,
      "_view_module": "@jupyter-widgets/controls",
      "_view_module_version": "1.5.0",
      "_view_name": "ProgressView",
      "bar_style": "info",
      "description": "",
      "description_tooltip": null,
      "layout": "IPY_MODEL_b63c16d93da947108c780e369fc0eac4",
      "max": 1,
      "min": 0,
      "orientation": "horizontal",
      "style": "IPY_MODEL_ba50aec72fb84182a8f44f4e5e2608a3",
      "value": 1
     }
    },
    "e86de5d880254735b3a4c7a501d9d474": {
     "model_module": "@jupyter-widgets/controls",
     "model_name": "HBoxModel",
     "state": {
      "_dom_classes": [],
      "_model_module": "@jupyter-widgets/controls",
      "_model_module_version": "1.5.0",
      "_model_name": "HBoxModel",
      "_view_count": null,
      "_view_module": "@jupyter-widgets/controls",
      "_view_module_version": "1.5.0",
      "_view_name": "HBoxView",
      "box_style": "",
      "children": [
       "IPY_MODEL_b6ade7b97e254a60a23debcd372703ef",
       "IPY_MODEL_85c3f0c346024aefa24b824df2a1ba64"
      ],
      "layout": "IPY_MODEL_36515a9073dc4e07aa091eea9249561b"
     }
    },
    "ee7d6e29f5c549be8e9bf516af4902e4": {
     "model_module": "@jupyter-widgets/controls",
     "model_name": "HBoxModel",
     "state": {
      "_dom_classes": [],
      "_model_module": "@jupyter-widgets/controls",
      "_model_module_version": "1.5.0",
      "_model_name": "HBoxModel",
      "_view_count": null,
      "_view_module": "@jupyter-widgets/controls",
      "_view_module_version": "1.5.0",
      "_view_name": "HBoxView",
      "box_style": "",
      "children": [
       "IPY_MODEL_148480046b254b8e8d4c597856ba091c",
       "IPY_MODEL_9f57e2ebaccd4890b13e586ba0279247"
      ],
      "layout": "IPY_MODEL_68e69f2576d446c48c8edb0595bd8914"
     }
    },
    "eff255c404224b99bcb2bed5592940c9": {
     "model_module": "@jupyter-widgets/base",
     "model_name": "LayoutModel",
     "state": {
      "_model_module": "@jupyter-widgets/base",
      "_model_module_version": "1.2.0",
      "_model_name": "LayoutModel",
      "_view_count": null,
      "_view_module": "@jupyter-widgets/base",
      "_view_module_version": "1.2.0",
      "_view_name": "LayoutView",
      "align_content": null,
      "align_items": null,
      "align_self": null,
      "border": null,
      "bottom": null,
      "display": null,
      "flex": null,
      "flex_flow": null,
      "grid_area": null,
      "grid_auto_columns": null,
      "grid_auto_flow": null,
      "grid_auto_rows": null,
      "grid_column": null,
      "grid_gap": null,
      "grid_row": null,
      "grid_template_areas": null,
      "grid_template_columns": null,
      "grid_template_rows": null,
      "height": null,
      "justify_content": null,
      "justify_items": null,
      "left": null,
      "margin": null,
      "max_height": null,
      "max_width": null,
      "min_height": null,
      "min_width": null,
      "object_fit": null,
      "object_position": null,
      "order": null,
      "overflow": null,
      "overflow_x": null,
      "overflow_y": null,
      "padding": null,
      "right": null,
      "top": null,
      "visibility": null,
      "width": null
     }
    },
    "f053046a45e34682b4879c28a083d1a3": {
     "model_module": "@jupyter-widgets/base",
     "model_name": "LayoutModel",
     "state": {
      "_model_module": "@jupyter-widgets/base",
      "_model_module_version": "1.2.0",
      "_model_name": "LayoutModel",
      "_view_count": null,
      "_view_module": "@jupyter-widgets/base",
      "_view_module_version": "1.2.0",
      "_view_name": "LayoutView",
      "align_content": null,
      "align_items": null,
      "align_self": null,
      "border": null,
      "bottom": null,
      "display": null,
      "flex": null,
      "flex_flow": null,
      "grid_area": null,
      "grid_auto_columns": null,
      "grid_auto_flow": null,
      "grid_auto_rows": null,
      "grid_column": null,
      "grid_gap": null,
      "grid_row": null,
      "grid_template_areas": null,
      "grid_template_columns": null,
      "grid_template_rows": null,
      "height": null,
      "justify_content": null,
      "justify_items": null,
      "left": null,
      "margin": null,
      "max_height": null,
      "max_width": null,
      "min_height": null,
      "min_width": null,
      "object_fit": null,
      "object_position": null,
      "order": null,
      "overflow": null,
      "overflow_x": null,
      "overflow_y": null,
      "padding": null,
      "right": null,
      "top": null,
      "visibility": null,
      "width": null
     }
    },
    "f74762456b9f4748bcd75789e2765680": {
     "model_module": "@jupyter-widgets/base",
     "model_name": "LayoutModel",
     "state": {
      "_model_module": "@jupyter-widgets/base",
      "_model_module_version": "1.2.0",
      "_model_name": "LayoutModel",
      "_view_count": null,
      "_view_module": "@jupyter-widgets/base",
      "_view_module_version": "1.2.0",
      "_view_name": "LayoutView",
      "align_content": null,
      "align_items": null,
      "align_self": null,
      "border": null,
      "bottom": null,
      "display": null,
      "flex": null,
      "flex_flow": null,
      "grid_area": null,
      "grid_auto_columns": null,
      "grid_auto_flow": null,
      "grid_auto_rows": null,
      "grid_column": null,
      "grid_gap": null,
      "grid_row": null,
      "grid_template_areas": null,
      "grid_template_columns": null,
      "grid_template_rows": null,
      "height": null,
      "justify_content": null,
      "justify_items": null,
      "left": null,
      "margin": null,
      "max_height": null,
      "max_width": null,
      "min_height": null,
      "min_width": null,
      "object_fit": null,
      "object_position": null,
      "order": null,
      "overflow": null,
      "overflow_x": null,
      "overflow_y": null,
      "padding": null,
      "right": null,
      "top": null,
      "visibility": null,
      "width": null
     }
    },
    "fb108e2fc80746c9a77662855ce75f85": {
     "model_module": "@jupyter-widgets/base",
     "model_name": "LayoutModel",
     "state": {
      "_model_module": "@jupyter-widgets/base",
      "_model_module_version": "1.2.0",
      "_model_name": "LayoutModel",
      "_view_count": null,
      "_view_module": "@jupyter-widgets/base",
      "_view_module_version": "1.2.0",
      "_view_name": "LayoutView",
      "align_content": null,
      "align_items": null,
      "align_self": null,
      "border": null,
      "bottom": null,
      "display": null,
      "flex": null,
      "flex_flow": null,
      "grid_area": null,
      "grid_auto_columns": null,
      "grid_auto_flow": null,
      "grid_auto_rows": null,
      "grid_column": null,
      "grid_gap": null,
      "grid_row": null,
      "grid_template_areas": null,
      "grid_template_columns": null,
      "grid_template_rows": null,
      "height": null,
      "justify_content": null,
      "justify_items": null,
      "left": null,
      "margin": null,
      "max_height": null,
      "max_width": null,
      "min_height": null,
      "min_width": null,
      "object_fit": null,
      "object_position": null,
      "order": null,
      "overflow": null,
      "overflow_x": null,
      "overflow_y": null,
      "padding": null,
      "right": null,
      "top": null,
      "visibility": null,
      "width": null
     }
    },
    "fdfd816ef2314ce79de78f6d784e2a46": {
     "model_module": "@jupyter-widgets/controls",
     "model_name": "DescriptionStyleModel",
     "state": {
      "_model_module": "@jupyter-widgets/controls",
      "_model_module_version": "1.5.0",
      "_model_name": "DescriptionStyleModel",
      "_view_count": null,
      "_view_module": "@jupyter-widgets/base",
      "_view_module_version": "1.2.0",
      "_view_name": "StyleView",
      "description_width": ""
     }
    }
   }
  }
 },
 "nbformat": 4,
 "nbformat_minor": 1
}
