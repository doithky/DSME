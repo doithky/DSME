{
 "cells": [
  {
   "cell_type": "markdown",
   "metadata": {},
   "source": [
    "# 080. seq2seq language translation\n",
    "\n",
    "### Encoder-Decoder model\n",
    "\n",
    "\n",
    "- Seq2seq language translation 의 decoder 부분은 Language Model 의 text poetry generation 과 동일함  \n",
    "\n",
    "\n",
    "- 영어-한국어 번역"
   ]
  },
  {
   "cell_type": "code",
   "execution_count": 1,
   "metadata": {},
   "outputs": [],
   "source": [
    "import numpy as np\n",
    "import pandas as pd\n",
    "import matplotlib.pyplot as plt\n",
    "\n",
    "import tensorflow as tf\n",
    "from tensorflow.keras.models import Model\n",
    "from tensorflow.keras.layers import Dense, Embedding, Input, LSTM\n",
    "from tensorflow.keras.preprocessing.text import Tokenizer\n",
    "from tensorflow.keras.preprocessing.sequence import pad_sequences\n",
    "from tensorflow.keras.utils import to_categorical\n",
    "from tensorflow.keras.optimizers import Adam\n",
    "from tensorflow.keras.utils import plot_model"
   ]
  },
  {
   "cell_type": "code",
   "execution_count": 2,
   "metadata": {},
   "outputs": [],
   "source": [
    "BATCH_SIZE = 64\n",
    "LATENT_DIM = 256                # encoding space 의 latent dimensionality\n",
    "NUM_SAMPLES = 10000         # number of samples to train on\n",
    "MAX_VOCAB_SIZE = 20000\n",
    "EMBEDDING_DIM = 100"
   ]
  },
  {
   "cell_type": "markdown",
   "metadata": {},
   "source": [
    "## 입력 data list 작성  \n",
    "\n",
    "### 1. input_texts     : original language 의 input text  \n",
    "\n",
    "\n",
    "### 2. Teacher Forcing 용 input / target data 생성\n",
    "\n",
    "- target_texts_inputs  : 1 만큼 offset 된 target language sentence $\\rightarrow$ `<sos>....`  \n",
    "- target_texts  : target language sentence  $\\rightarrow$ `.....<eos>`\n",
    "\n",
    "\n",
    "\n",
    "- data 는 http://www.manythings.org/anki/  (Tab-delimited Bilingual Sentence Pairs) 에서 download  \n",
    "\n",
    "\n",
    "    - English(input) + `\\t` + The Other Language(target) + `\\t` + Attribution(기여자) 형식으로 구성 \n",
    "        ex)\n",
    "        - Hi.\t안녕.\tCC-BY 2.0 (France) Attribution: tatoeba.org #538123 (CM) & #8355888 (Eunhee)\n",
    "        \n",
    "   "
   ]
  },
  {
   "cell_type": "code",
   "execution_count": 3,
   "metadata": {},
   "outputs": [],
   "source": [
    "file_path = tf.keras.utils.get_file(\"kor.txt\",\n",
    "                 \"https://github.com/ironmanciti/NLP_lecture/raw/master/data/kor.txt\")"
   ]
  },
  {
   "cell_type": "code",
   "execution_count": 4,
   "metadata": {},
   "outputs": [
    {
     "name": "stdout",
     "output_type": "stream",
     "text": [
      "num_samples : 3318\n"
     ]
    }
   ],
   "source": [
    "# load in the data\n",
    "original_texts = []\n",
    "translation_inputs = []\n",
    "translation_targets = []\n",
    "\n",
    "# load data\n",
    "for line in open(file_path, 'r', encoding='utf-8'):\n",
    "   \n",
    "    if '\\t' not in line:     # next line 이동\n",
    "        continue\n",
    "        \n",
    "    # input 과 target translation 구분\n",
    "    input_text, translation, attribution = line.split('\\t')\n",
    "        \n",
    "    # target input 과 output 을 teacher forcing 입력 구성\n",
    "    translation_input = '<sos> ' + translation\n",
    "    translaton_target = translation + ' <eos>'\n",
    "\n",
    "    original_texts.append(input_text)     # original text\n",
    "    \n",
    "    translation_inputs.append(translation_input)   \n",
    "    translation_targets.append(translaton_target)\n",
    "\n",
    "print(\"num_samples :\", len(original_texts))"
   ]
  },
  {
   "cell_type": "code",
   "execution_count": 5,
   "metadata": {},
   "outputs": [
    {
     "name": "stdout",
     "output_type": "stream",
     "text": [
      "Original Input :\n",
      "[\"Don't lie anymore, OK?\", \"Don't you laugh at me.\", 'French is fascinating.', 'French is interesting.', 'French is very useful.', 'He looked quite tired.', 'He was about to speak.', 'He was born in Africa.', 'I called Tom for help.', \"I didn't come by taxi.\"]\n",
      "\n",
      "Teacher Forcing Input :\n",
      "['<sos> 거짓말 하지 마세요, 알았죠?', '<sos> 날 비웃지마.', '<sos> 프랑스어는 매력적이야.', '<sos> 프랑스어는 흥미로워.', '<sos> 프랑스어는 아주 유용해.', '<sos> 그사람은 좀 지쳐보였어.', '<sos> 그사람이 말하려고 했어.', '<sos> 그는 아프리카에서 태어났다.', '<sos> 나는 톰에게 도움을 요청했다.', '<sos> 택시로 안 왔어.']\n",
      "\n",
      "Teacher Forcing Target\n",
      "['거짓말 하지 마세요, 알았죠? <eos>', '날 비웃지마. <eos>', '프랑스어는 매력적이야. <eos>', '프랑스어는 흥미로워. <eos>', '프랑스어는 아주 유용해. <eos>', '그사람은 좀 지쳐보였어. <eos>', '그사람이 말하려고 했어. <eos>', '그는 아프리카에서 태어났다. <eos>', '나는 톰에게 도움을 요청했다. <eos>', '택시로 안 왔어. <eos>']\n"
     ]
    }
   ],
   "source": [
    "print(\"Original Input :\")\n",
    "print(original_texts[1100:1110])\n",
    "print(\"\\nTeacher Forcing Input :\")\n",
    "print(translation_inputs[1100:1110])\n",
    "print(\"\\nTeacher Forcing Target\")\n",
    "print(translation_targets[1100:1110])"
   ]
  },
  {
   "cell_type": "markdown",
   "metadata": {},
   "source": [
    "## Tokenization\n",
    "\n",
    "- language 가 2 개 이므로 언어별로 서로 다른 tokenizer 생성. 따라서, 2 개의 word_index 구성\n",
    "\n",
    "### Input Text 의 tokenize"
   ]
  },
  {
   "cell_type": "code",
   "execution_count": 6,
   "metadata": {},
   "outputs": [
    {
     "data": {
      "text/plain": [
       "['Yesterday was a good day.',\n",
       " \"You can't erase the past.\",\n",
       " 'You have to study French.',\n",
       " 'You need to study French.',\n",
       " 'You should exercise more.']"
      ]
     },
     "execution_count": 6,
     "metadata": {},
     "output_type": "execute_result"
    }
   ],
   "source": [
    "original_texts[1500:1505]"
   ]
  },
  {
   "cell_type": "code",
   "execution_count": 7,
   "metadata": {},
   "outputs": [
    {
     "data": {
      "text/plain": [
       "[[126, 12, 6, 94, 153],\n",
       " [4, 68, 1547, 7, 449],\n",
       " [4, 17, 3, 142, 29],\n",
       " [4, 116, 3, 142, 29],\n",
       " [4, 119, 961, 89]]"
      ]
     },
     "execution_count": 7,
     "metadata": {},
     "output_type": "execute_result"
    }
   ],
   "source": [
    "tokenizer_original = Tokenizer(num_words=MAX_VOCAB_SIZE)\n",
    "tokenizer_original.fit_on_texts(original_texts)\n",
    "\n",
    "original_sequences = tokenizer_original.texts_to_sequences(original_texts)\n",
    "original_sequences[1500:1505]"
   ]
  },
  {
   "cell_type": "code",
   "execution_count": 8,
   "metadata": {},
   "outputs": [
    {
     "name": "stdout",
     "output_type": "stream",
     "text": [
      "unique input token 수 : 2395\n",
      "Input Text 의 단어 수 : 2396\n",
      "Input Text 의 최대 길이 : 101\n"
     ]
    }
   ],
   "source": [
    "word2idx_original = tokenizer_original.word_index\n",
    "print(f'unique input token 수 : {len(word2idx_original)}')\n",
    "\n",
    "num_words_original = min(MAX_VOCAB_SIZE, len(word2idx_original) + 1)\n",
    "print(\"Input Text 의 단어 수 :\", num_words_original)\n",
    "\n",
    "max_len_original = max(len(s) for s in original_sequences)\n",
    "print(\"Input Text 의 최대 길이 :\", max_len_original)"
   ]
  },
  {
   "cell_type": "markdown",
   "metadata": {},
   "source": [
    "### Target Text 의 tokenize "
   ]
  },
  {
   "cell_type": "code",
   "execution_count": 9,
   "metadata": {},
   "outputs": [
    {
     "name": "stdout",
     "output_type": "stream",
     "text": [
      "['<sos> 어제는 좋은 날이었다.', '<sos> 과거를 지울 순 없어.', '<sos> 넌 프랑스어를 공부해야 돼.', '<sos> 넌 프랑스어를 공부할 필요가 있어.']\n",
      "['어제는 좋은 날이었다. <eos>', '과거를 지울 순 없어. <eos>', '넌 프랑스어를 공부해야 돼. <eos>', '넌 프랑스어를 공부할 필요가 있어. <eos>']\n"
     ]
    }
   ],
   "source": [
    "print(translation_inputs[1500:1504])\n",
    "print(translation_targets[1500:1504])"
   ]
  },
  {
   "cell_type": "markdown",
   "metadata": {},
   "source": [
    "### input language 의 tokenize\n",
    "- 주의 사항 : $<sos>, <eos>$때문에 special character 를 filtering 하면 안됨"
   ]
  },
  {
   "cell_type": "code",
   "execution_count": 10,
   "metadata": {},
   "outputs": [
    {
     "name": "stdout",
     "output_type": "stream",
     "text": [
      "[[1, 1164, 87, 2706], [1, 696, 2707, 2708, 21], [1, 52, 37, 548, 124], [1, 52, 37, 2709, 247, 6]]\n",
      "[[1164, 87, 2706, 2], [696, 2707, 2708, 21, 2], [52, 37, 548, 124, 2], [52, 37, 2709, 247, 6, 2]]\n"
     ]
    }
   ],
   "source": [
    "tokenizer_translation = Tokenizer(num_words=MAX_VOCAB_SIZE, filters=\"\")\n",
    "tokenizer_translation.fit_on_texts(translation_inputs + translation_targets) \n",
    "\n",
    "translation_input_sequences  = tokenizer_translation.texts_to_sequences(translation_inputs)\n",
    "translation_target_sequences = tokenizer_translation.texts_to_sequences(translation_targets)\n",
    "\n",
    "print(translation_input_sequences[1500:1504])\n",
    "print(translation_target_sequences [1500:1504])"
   ]
  },
  {
   "cell_type": "markdown",
   "metadata": {},
   "source": [
    "### output language 의 tokenize"
   ]
  },
  {
   "cell_type": "code",
   "execution_count": 11,
   "metadata": {},
   "outputs": [
    {
     "name": "stdout",
     "output_type": "stream",
     "text": [
      "unique output tokens : 5324\n",
      "Target 언어의 단어 수 : 5325\n",
      "Target 언어의 최대 길이 : 90\n"
     ]
    }
   ],
   "source": [
    "word2idx_translation = tokenizer_translation.word_index\n",
    "print(f'unique output tokens : {len(word2idx_translation)}')\n",
    "\n",
    "num_words_translation = len(word2idx_translation) +1\n",
    "print(\"Target 언어의 단어 수 :\", num_words_translation)\n",
    "\n",
    "max_len_translation = max(len(s) for s in translation_target_sequences)\n",
    "print(\"Target 언어의 최대 길이 :\", max_len_translation )"
   ]
  },
  {
   "cell_type": "markdown",
   "metadata": {},
   "source": [
    "## sequence padding\n",
    "\n",
    "\n",
    "#### 주의 사항\n",
    "- encoder 는 thought vector 생성 목적이므로 default (pre) 로 padding\n",
    "\n",
    "- decoder 는 teacher forcing 을 해야하므로 post 로 padding"
   ]
  },
  {
   "cell_type": "code",
   "execution_count": 12,
   "metadata": {
    "scrolled": false
   },
   "outputs": [
    {
     "name": "stdout",
     "output_type": "stream",
     "text": [
      "encoder input shape : (3318, 101)\n",
      "encoder_inputs[0] :  [  0   0   0   0   0   0   0   0   0   0   0   0   0   0   0   0   0   0\n",
      "   0   0   0   0   0   0   0   0   0   0   0   0   0   0   0   0   0   0\n",
      "   0   0   0   0   0   0   0   0   0   0   0   0   0   0   0   0   0   0\n",
      "   0   0   0   0   0   0   0   0   0   0   0   0   0   0   0   0   0   0\n",
      "   0   0   0   0   0   0   0   0   0   0   0   0   0   0   0   0   0   0\n",
      "   0   0   0   0   0   0 126  12   6  94 153]\n",
      "\n",
      "decoder input shape : (3318, 90)\n",
      "decoder_inputs[0] :  [   1 1164   87 2706    0    0    0    0    0    0    0    0    0    0\n",
      "    0    0    0    0    0    0    0    0    0    0    0    0    0    0\n",
      "    0    0    0    0    0    0    0    0    0    0    0    0    0    0\n",
      "    0    0    0    0    0    0    0    0    0    0    0    0    0    0\n",
      "    0    0    0    0    0    0    0    0    0    0    0    0    0    0\n",
      "    0    0    0    0    0    0    0    0    0    0    0    0    0    0\n",
      "    0    0    0    0    0    0]\n",
      "\n",
      "encoder target shape : (3318, 90)\n",
      "encoder_targets[0] :  [1164   87 2706    2    0    0    0    0    0    0    0    0    0    0\n",
      "    0    0    0    0    0    0    0    0    0    0    0    0    0    0\n",
      "    0    0    0    0    0    0    0    0    0    0    0    0    0    0\n",
      "    0    0    0    0    0    0    0    0    0    0    0    0    0    0\n",
      "    0    0    0    0    0    0    0    0    0    0    0    0    0    0\n",
      "    0    0    0    0    0    0    0    0    0    0    0    0    0    0\n",
      "    0    0    0    0    0    0]\n"
     ]
    }
   ],
   "source": [
    "encoder_inputs = pad_sequences(original_sequences, maxlen=max_len_original)\n",
    "print(\"encoder input shape :\", encoder_inputs.shape)\n",
    "print(\"encoder_inputs[0] : \", encoder_inputs[1500])\n",
    "\n",
    "decoder_inputs = pad_sequences(translation_input_sequences, maxlen=max_len_translation, padding=\"post\")\n",
    "print(\"\\ndecoder input shape :\", decoder_inputs.shape)\n",
    "print(\"decoder_inputs[0] : \", decoder_inputs[1500])\n",
    "\n",
    "decoder_targets = pad_sequences(translation_target_sequences, maxlen=max_len_translation, padding=\"post\")\n",
    "print(\"\\nencoder target shape :\", decoder_targets.shape)\n",
    "print(\"encoder_targets[0] : \", decoder_targets[1500])"
   ]
  },
  {
   "cell_type": "markdown",
   "metadata": {},
   "source": [
    "## pretrained word embedding 값을 transfer learning\n",
    "\n",
    "- Embedding layer 의 weight 를 pre-trained model 로 초기화  \n",
    "\n",
    "\n",
    "- glove.6B 의 EMBEDDING_DIM version 사용  \n",
    "    - space 로 구분된 text file \n",
    "    - 첫번째는 word 이고 두번째 이후는 weight vector 값이다\n",
    "\n",
    "\n",
    "- word index 가 1 부터 시작하므로 0 padding 감안하여 num_words 는 len(word2idx)+1, 혹은 MAX_VOCAB_SIZE 중 작은 것 선택  \n",
    "\n",
    "\n",
    "- embedding_dict dictionary : key - word, value - embedding_vector"
   ]
  },
  {
   "cell_type": "code",
   "execution_count": 13,
   "metadata": {},
   "outputs": [],
   "source": [
    "glove_path = tf.keras.utils.get_file(\"glove.6B.100d.txt\", \n",
    "             \"https://storage.googleapis.com/laurencemoroney-blog.appspot.com/glove.6B.100d.txt\")"
   ]
  },
  {
   "cell_type": "code",
   "execution_count": 14,
   "metadata": {},
   "outputs": [],
   "source": [
    "def make_embedding(transfer_learning=True):\n",
    "\n",
    "    embeddings_dict = {}\n",
    "\n",
    "    with open(glove_path, encoding=\"utf8\") as f:\n",
    "        for i, line in enumerate(f):\n",
    "            values = line.split()                                           # 각 줄을 읽어와서 word_vector에 저장\n",
    "            word = values[0]                                              # 첫번째 값은 word\n",
    "            coefs = np.asarray(values[1:], dtype='float32')  # 두번째 element 부터 마지막까지 100 개는 해당 단어의 임베딩 벡터의  값\n",
    "            embeddings_dict[word] = coefs\n",
    "                \n",
    "    embedding_matrix = np.zeros((num_words, EMBEDDING_DIM))    # zero 로 초기화   \n",
    "    \n",
    "    if transfer_learning:    \n",
    "        print(\"word 갯수 =\", num_words)\n",
    "        print(embedding_matrix.shape)\n",
    "\n",
    "        for word, i in word2idx_original.items():\n",
    "            if i < MAX_VOCAB_SIZE:\n",
    "                embedding_vector = embeddings_dict.get(word)\n",
    "                if embedding_vector is not None:       # 해당 word 가 없으면 all zero 로 남겨둠\n",
    "                    embedding_matrix[i] = embedding_vector\n",
    "                    \n",
    "    return embedding_matrix"
   ]
  },
  {
   "cell_type": "code",
   "execution_count": 15,
   "metadata": {},
   "outputs": [],
   "source": [
    "num_words = min(MAX_VOCAB_SIZE, len(word2idx_original) + 1)"
   ]
  },
  {
   "cell_type": "markdown",
   "metadata": {},
   "source": [
    "### embedding layer 작성\n",
    "\n",
    "- encoder 와 decoder 의 Embedding layer 에 pre-trained embedding weight 를 초기값으로 load"
   ]
  },
  {
   "cell_type": "code",
   "execution_count": 16,
   "metadata": {},
   "outputs": [
    {
     "name": "stdout",
     "output_type": "stream",
     "text": [
      "word 갯수 = 2396\n",
      "(2396, 100)\n"
     ]
    }
   ],
   "source": [
    "# create embedding layer\n",
    "embedding_matrix = make_embedding(transfer_learning=True)\n",
    "embedding_layer = Embedding(num_words, EMBEDDING_DIM, weights=[embedding_matrix], trainable=True)"
   ]
  },
  {
   "cell_type": "markdown",
   "metadata": {},
   "source": [
    "## Build the model\n",
    "\n",
    "- encoder 와 decoder 의 embedding, lstm 및 dense layer 를 training 할 목적의 model 작성  \n",
    "\n",
    "- encoder 는 decoder 에 states [h, c] 만 전달\n",
    "\n",
    "- prediction 을 위한 model 은 training model 에서 만들어진 layer 들의 weight 를 이용하여 별도 작성  \n",
    "\n",
    "### Training : Encoder + Teacher Forcing model"
   ]
  },
  {
   "cell_type": "code",
   "execution_count": 17,
   "metadata": {},
   "outputs": [
    {
     "name": "stdout",
     "output_type": "stream",
     "text": [
      "Model: \"model\"\n",
      "__________________________________________________________________________________________________\n",
      "Layer (type)                    Output Shape         Param #     Connected to                     \n",
      "==================================================================================================\n",
      "Encoder_Input (InputLayer)      [(None, 101)]        0                                            \n",
      "__________________________________________________________________________________________________\n",
      "Decoder_Input (InputLayer)      [(None, 90)]         0                                            \n",
      "__________________________________________________________________________________________________\n",
      "embedding (Embedding)           (None, 101, 100)     239600      Encoder_Input[0][0]              \n",
      "__________________________________________________________________________________________________\n",
      "embedding_1 (Embedding)         (None, 90, 256)      1363200     Decoder_Input[0][0]              \n",
      "__________________________________________________________________________________________________\n",
      "lstm (LSTM)                     [(None, 256), (None, 365568      embedding[0][0]                  \n",
      "__________________________________________________________________________________________________\n",
      "lstm_1 (LSTM)                   [(None, 90, 256), (N 525312      embedding_1[0][0]                \n",
      "                                                                 lstm[0][1]                       \n",
      "                                                                 lstm[0][2]                       \n",
      "__________________________________________________________________________________________________\n",
      "Decoder_Output (Dense)          (None, 90, 5325)     1368525     lstm_1[0][0]                     \n",
      "==================================================================================================\n",
      "Total params: 3,862,205\n",
      "Trainable params: 3,862,205\n",
      "Non-trainable params: 0\n",
      "__________________________________________________________________________________________________\n"
     ]
    }
   ],
   "source": [
    "# Encoder\n",
    "encoder_inputs_ = Input(shape=(max_len_original), name='Encoder_Input')\n",
    "\n",
    "# pre-trained embedding layer 사용\n",
    "x = embedding_layer(encoder_inputs_)\n",
    "\n",
    "encoder_outputs, h, c = LSTM(LATENT_DIM, return_state=True)(x)\n",
    "\n",
    "# encoder 는 hidden state and cell state 만 decoder 로 전달 --> thought vector\n",
    "encoder_states = [h, c]\n",
    "\n",
    "# Decoder\n",
    "# decoder 는 [h, c] 를 initial state 로 사용\n",
    "decoder_inputs_ = Input(shape=(max_len_translation,), name=\"Decoder_Input\")\n",
    "\n",
    "# decode word embedding 은 pre-trained vector 를 사용 않음\n",
    "decoder_embedding = Embedding(num_words_translation, LATENT_DIM)\n",
    "decoder_inputs_x = decoder_embedding(decoder_inputs_)\n",
    "\n",
    "decoder_lstm = LSTM(LATENT_DIM, return_sequences=True, return_state=True)\n",
    "\n",
    "decoder_outputs, _, _ = decoder_lstm(decoder_inputs_x, initial_state=encoder_states)\n",
    "\n",
    "# final layer\n",
    "decoder_dense = Dense(num_words_translation, activation='softmax', name='Decoder_Output')\n",
    "decoder_outputs = decoder_dense(decoder_outputs)\n",
    "\n",
    "# Create the model object\n",
    "model_teacher_forcing = Model([encoder_inputs_, decoder_inputs_], decoder_outputs)\n",
    "\n",
    "#Compile the model and train it\n",
    "model_teacher_forcing.compile(loss='sparse_categorical_crossentropy', \n",
    "                              optimizer='rmsprop', metrics=['accuracy'])\n",
    "\n",
    "model_teacher_forcing.summary()"
   ]
  },
  {
   "cell_type": "code",
   "execution_count": 18,
   "metadata": {},
   "outputs": [
    {
     "data": {
      "image/png": "[encoded data removed]",
      "text/plain": [
       "<IPython.core.display.Image object>"
      ]
     },
     "execution_count": 18,
     "metadata": {},
     "output_type": "execute_result"
    }
   ],
   "source": [
    "plot_model(model_teacher_forcing)"
   ]
  },
  {
   "cell_type": "code",
   "execution_count": null,
   "metadata": {
    "scrolled": true
   },
   "outputs": [],
   "source": [
    "history = model_teacher_forcing.fit([encoder_inputs, decoder_inputs], decoder_targets, \n",
    "                         batch_size=BATCH_SIZE, epochs=40, validation_split=0.2)"
   ]
  },
  {
   "cell_type": "code",
   "execution_count": null,
   "metadata": {},
   "outputs": [],
   "source": [
    "# plot some data\n",
    "fig, (ax1, ax2) = plt.subplots(1, 2, figsize=(12, 4))\n",
    "ax1.plot(history.history['loss'], label='loss')\n",
    "ax1.plot(history.history['val_loss'], label='val_loss')\n",
    "ax1.legend()\n",
    "\n",
    "# accuracies\n",
    "ax2.plot(history.history['accuracy'], label='acc')\n",
    "ax2.plot(history.history['val_accuracy'], label='val_acc')\n",
    "ax2.legend()\n",
    "plt.show()"
   ]
  },
  {
   "cell_type": "code",
   "execution_count": null,
   "metadata": {},
   "outputs": [],
   "source": [
    "# save model\n",
    "model_teacher_forcing.save('seq2seq_translation.h5')"
   ]
  },
  {
   "cell_type": "markdown",
   "metadata": {},
   "source": [
    "### Make Predictions - Inference phase\n",
    "\n",
    "- prediction 을 위한 별도의 encoder model \n",
    "- encoder 의 states 를 initial state 로 받는 decoder model 작성  \n",
    "\n",
    "- encoder 는 training 단계와 동일하게 input_text 를 입력으로 받고 encoder_states 를 출력으로 하므로 이전에 define 한 encoder_input_ 과 encoder_states 변수 재사용"
   ]
  },
  {
   "cell_type": "code",
   "execution_count": null,
   "metadata": {},
   "outputs": [],
   "source": [
    "# Encoder\n",
    "encoder_model = Model(encoder_inputs_, encoder_states)\n",
    "\n",
    "# Decoder\n",
    "decoder_state_input_h = Input(shape=(LATENT_DIM,), name='Decoder_hidden_h')\n",
    "decoder_state_input_c = Input(shape=(LATENT_DIM,), name='Decoder_hidden_c')\n",
    "decoder_states_inputs = [decoder_state_input_h, decoder_state_input_c]\n",
    "\n",
    "decoder_inputs_single = Input(shape=(1,), name='Decoder_input')\n",
    "x = decoder_embedding(decoder_inputs_single)\n",
    "\n",
    "# output, hidden states 를 저장\n",
    "decoder_outputs, h, c = decoder_lstm(x, initial_state=decoder_states_inputs)\n",
    "\n",
    "decoder_states = [h, c]\n",
    "\n",
    "decoder_outputs = decoder_dense(decoder_outputs)  \n",
    "\n",
    "decoder_model = Model(\n",
    "    [decoder_inputs_single] + decoder_states_inputs,    #decoder_model.predict([target_seq] + states_value)\n",
    "    [decoder_outputs] + decoder_states\n",
    ")\n",
    "\n",
    "encoder_model.summary()\n",
    "\n",
    "decoder_model.summary()"
   ]
  },
  {
   "cell_type": "code",
   "execution_count": null,
   "metadata": {},
   "outputs": [],
   "source": [
    "plot_model(encoder_model)"
   ]
  },
  {
   "cell_type": "code",
   "execution_count": null,
   "metadata": {},
   "outputs": [],
   "source": [
    "plot_model(decoder_model)"
   ]
  },
  {
   "cell_type": "code",
   "execution_count": null,
   "metadata": {},
   "outputs": [],
   "source": [
    "# reverse word2idx dictionary to get back words during prediction\n",
    "idx2word_original = dict((i, w) for w, i in word2idx_original.items())\n",
    "\n",
    "idx2word_translation = dict((i, w) for w, i in word2idx_translation.items())"
   ]
  },
  {
   "cell_type": "code",
   "execution_count": null,
   "metadata": {
    "scrolled": false
   },
   "outputs": [],
   "source": [
    "def decode_sequence(input_seq):\n",
    "   # Encode the input as state vectors.\n",
    "    states_value = encoder_model.predict(input_seq)\n",
    "\n",
    "   # Generate empty target sequence of length 1.\n",
    "    target_seq = np.zeros((1, 1))\n",
    "\n",
    "   # target sequence 의 첫번째 character 를 start character (<sos>) 로 설정 \n",
    "   # [[2.]]\n",
    "    target_seq[0, 0] = word2idx_translation['<sos>']\n",
    "\n",
    "   # <eos> 가 decode 에서 생성되면 break\n",
    "    eos = word2idx_translation['<eos>']\n",
    "\n",
    "   # Create the translation\n",
    "    output_sentence = []\n",
    "    for _ in range(max_len_translation):\n",
    "        output_tokens, h, c = decoder_model.predict([target_seq] + states_value)\n",
    "\n",
    "       # argmax 로 가장 확률 높은 단어 선택 --> greedy selection\n",
    "        idx = np.argmax(output_tokens[0, 0, :])\n",
    "\n",
    "        if eos == idx:  # End sentence of EOS\n",
    "            break\n",
    "\n",
    "        word = ''\n",
    "        if idx > 0:      # idx 0 은 zero padding 된 sequence 이므로 skip\n",
    "            word = idx2word_translation[idx]\n",
    "            output_sentence.append(word)\n",
    "\n",
    "        # 생성된 word 를 decoder 의 다음 input 으로 사용\n",
    "        target_seq[0, 0] = idx\n",
    "\n",
    "       # Update states\n",
    "        states_value = [h, c]\n",
    "\n",
    "    return ' '.join(output_sentence)\n",
    "\n",
    "for _ in range(5):\n",
    "    i = np.random.choice(len(original_texts))\n",
    "    input_seq = encoder_inputs[i:i+1]\n",
    "    \n",
    "    translation = decode_sequence(input_seq)\n",
    "    print('-')\n",
    "    print('Input:', original_texts[i])\n",
    "    print('Translation:', translation)"
   ]
  },
  {
   "cell_type": "code",
   "execution_count": null,
   "metadata": {
    "scrolled": true
   },
   "outputs": [],
   "source": [
    "txt = \"Your lips are red.\"\n",
    "input_sequence = tokenizer_original.texts_to_sequences([txt])\n",
    "encoder_input = pad_sequences(input_sequence, maxlen=max_len_original)\n",
    "\n",
    "translation = decode_sequence(encoder_input)\n",
    "print('-')\n",
    "print('Input:', txt)\n",
    "print('Translation:', translation)"
   ]
  },
  {
   "cell_type": "code",
   "execution_count": null,
   "metadata": {},
   "outputs": [],
   "source": []
  }
 ],
 "metadata": {
  "kernelspec": {
   "display_name": "Python 3",
   "language": "python",
   "name": "python3"
  },
  "language_info": {
   "codemirror_mode": {
    "name": "ipython",
    "version": 3
   },
   "file_extension": ".py",
   "mimetype": "text/x-python",
   "name": "python",
   "nbconvert_exporter": "python",
   "pygments_lexer": "ipython3",
   "version": "3.7.6"
  }
 },
 "nbformat": 4,
 "nbformat_minor": 2
}
