{
 "cells": [
  {
   "cell_type": "markdown",
   "metadata": {
    "colab_type": "text",
    "id": "uMzSmlzgrTPV"
   },
   "source": [
    "# 100.Boston House Price Regression\n",
    "\n",
    "### 13 개의 종속변수와 1 개의 독립변수 (주택가격 중앙값) 으로 구성\n",
    "\n",
    "#### 종속변수 (13 개)\n",
    "CRIM 자치시(town) 별 1인당 범죄율  \n",
    "ZN 25,000 평방피트를 초과하는 거주지역의 비율  \n",
    "INDUS 비소매상업지역이 점유하고 있는 토지의 비율  \n",
    "CHAS 찰스강에 대한 더미변수(강의 경계에 위치한 경우는 1, 아니면 0)  \n",
    "NOX 10ppm 당 농축 일산화질소  \n",
    "RM 주택 1가구당 평균 방의 개수  \n",
    "AGE 1940년 이전에 건축된 소유주택의 비율  \n",
    "DIS 5개의 보스턴 직업센터까지의 접근성 지수  \n",
    "RAD 방사형 도로까지의 접근성 지수  \n",
    "TAX 10,000 달러 당 재산세율  \n",
    "PTRATIO 자치시(town)별 학생/교사 비율  \n",
    "B 1000(Bk-0.63)^2, 여기서 Bk는 자치시별 흑인의 비율을 말함  \n",
    "LSTAT 모집단의 하위계층의 비율(%)   \n",
    "\n",
    "#### 독립변수 (1 개)\n",
    "MEDV 본인 소유의 주택가격(중앙값) (단위: $1,000)  "
   ]
  },
  {
   "cell_type": "code",
   "execution_count": 1,
   "metadata": {
    "colab": {},
    "colab_type": "code",
    "id": "phPT7edHrTPW"
   },
   "outputs": [],
   "source": [
    "from sklearn.datasets import load_boston\n",
    "from sklearn.model_selection import train_test_split\n",
    "from sklearn.preprocessing import MinMaxScaler\n",
    "from tensorflow.keras.models import Sequential\n",
    "from tensorflow.keras.layers import Dense, Activation, Dropout\n",
    "import pandas as pd\n",
    "import matplotlib.pyplot as plt\n",
    "import tensorflow as tf"
   ]
  },
  {
   "cell_type": "code",
   "execution_count": 2,
   "metadata": {
    "colab": {
     "base_uri": "https://localhost:8080/",
     "height": 198
    },
    "colab_type": "code",
    "id": "CLOt7W58rTPa",
    "outputId": "f632edd1-51ff-47d7-8de6-255fbe874e22"
   },
   "outputs": [
    {
     "data": {
      "text/html": [
       "<div>\n",
       "<style scoped>\n",
       "    .dataframe tbody tr th:only-of-type {\n",
       "        vertical-align: middle;\n",
       "    }\n",
       "\n",
       "    .dataframe tbody tr th {\n",
       "        vertical-align: top;\n",
       "    }\n",
       "\n",
       "    .dataframe thead th {\n",
       "        text-align: right;\n",
       "    }\n",
       "</style>\n",
       "<table border=\"1\" class=\"dataframe\">\n",
       "  <thead>\n",
       "    <tr style=\"text-align: right;\">\n",
       "      <th></th>\n",
       "      <th>CRIM</th>\n",
       "      <th>ZN</th>\n",
       "      <th>INDUS</th>\n",
       "      <th>CHAS</th>\n",
       "      <th>NOX</th>\n",
       "      <th>RM</th>\n",
       "      <th>AGE</th>\n",
       "      <th>DIS</th>\n",
       "      <th>RAD</th>\n",
       "      <th>TAX</th>\n",
       "      <th>PTRATIO</th>\n",
       "      <th>B</th>\n",
       "      <th>LSTAT</th>\n",
       "    </tr>\n",
       "  </thead>\n",
       "  <tbody>\n",
       "    <tr>\n",
       "      <th>0</th>\n",
       "      <td>0.00632</td>\n",
       "      <td>18.0</td>\n",
       "      <td>2.31</td>\n",
       "      <td>0.0</td>\n",
       "      <td>0.538</td>\n",
       "      <td>6.575</td>\n",
       "      <td>65.2</td>\n",
       "      <td>4.0900</td>\n",
       "      <td>1.0</td>\n",
       "      <td>296.0</td>\n",
       "      <td>15.3</td>\n",
       "      <td>396.90</td>\n",
       "      <td>4.98</td>\n",
       "    </tr>\n",
       "    <tr>\n",
       "      <th>1</th>\n",
       "      <td>0.02731</td>\n",
       "      <td>0.0</td>\n",
       "      <td>7.07</td>\n",
       "      <td>0.0</td>\n",
       "      <td>0.469</td>\n",
       "      <td>6.421</td>\n",
       "      <td>78.9</td>\n",
       "      <td>4.9671</td>\n",
       "      <td>2.0</td>\n",
       "      <td>242.0</td>\n",
       "      <td>17.8</td>\n",
       "      <td>396.90</td>\n",
       "      <td>9.14</td>\n",
       "    </tr>\n",
       "    <tr>\n",
       "      <th>2</th>\n",
       "      <td>0.02729</td>\n",
       "      <td>0.0</td>\n",
       "      <td>7.07</td>\n",
       "      <td>0.0</td>\n",
       "      <td>0.469</td>\n",
       "      <td>7.185</td>\n",
       "      <td>61.1</td>\n",
       "      <td>4.9671</td>\n",
       "      <td>2.0</td>\n",
       "      <td>242.0</td>\n",
       "      <td>17.8</td>\n",
       "      <td>392.83</td>\n",
       "      <td>4.03</td>\n",
       "    </tr>\n",
       "    <tr>\n",
       "      <th>3</th>\n",
       "      <td>0.03237</td>\n",
       "      <td>0.0</td>\n",
       "      <td>2.18</td>\n",
       "      <td>0.0</td>\n",
       "      <td>0.458</td>\n",
       "      <td>6.998</td>\n",
       "      <td>45.8</td>\n",
       "      <td>6.0622</td>\n",
       "      <td>3.0</td>\n",
       "      <td>222.0</td>\n",
       "      <td>18.7</td>\n",
       "      <td>394.63</td>\n",
       "      <td>2.94</td>\n",
       "    </tr>\n",
       "    <tr>\n",
       "      <th>4</th>\n",
       "      <td>0.06905</td>\n",
       "      <td>0.0</td>\n",
       "      <td>2.18</td>\n",
       "      <td>0.0</td>\n",
       "      <td>0.458</td>\n",
       "      <td>7.147</td>\n",
       "      <td>54.2</td>\n",
       "      <td>6.0622</td>\n",
       "      <td>3.0</td>\n",
       "      <td>222.0</td>\n",
       "      <td>18.7</td>\n",
       "      <td>396.90</td>\n",
       "      <td>5.33</td>\n",
       "    </tr>\n",
       "  </tbody>\n",
       "</table>\n",
       "</div>"
      ],
      "text/plain": [
       "      CRIM    ZN  INDUS  CHAS    NOX     RM   AGE     DIS  RAD    TAX  \\\n",
       "0  0.00632  18.0   2.31   0.0  0.538  6.575  65.2  4.0900  1.0  296.0   \n",
       "1  0.02731   0.0   7.07   0.0  0.469  6.421  78.9  4.9671  2.0  242.0   \n",
       "2  0.02729   0.0   7.07   0.0  0.469  7.185  61.1  4.9671  2.0  242.0   \n",
       "3  0.03237   0.0   2.18   0.0  0.458  6.998  45.8  6.0622  3.0  222.0   \n",
       "4  0.06905   0.0   2.18   0.0  0.458  7.147  54.2  6.0622  3.0  222.0   \n",
       "\n",
       "   PTRATIO       B  LSTAT  \n",
       "0     15.3  396.90   4.98  \n",
       "1     17.8  396.90   9.14  \n",
       "2     17.8  392.83   4.03  \n",
       "3     18.7  394.63   2.94  \n",
       "4     18.7  396.90   5.33  "
      ]
     },
     "execution_count": 2,
     "metadata": {},
     "output_type": "execute_result"
    }
   ],
   "source": [
    "boston = load_boston()\n",
    "df_boston = pd.DataFrame(data=boston.data, columns=boston.feature_names)\n",
    "df_boston.head()"
   ]
  },
  {
   "cell_type": "code",
   "execution_count": 3,
   "metadata": {
    "colab": {},
    "colab_type": "code",
    "id": "dTar7PMprTPd"
   },
   "outputs": [],
   "source": [
    "X = boston.data\n",
    "y = boston.target"
   ]
  },
  {
   "cell_type": "code",
   "execution_count": 4,
   "metadata": {
    "colab": {
     "base_uri": "https://localhost:8080/",
     "height": 35
    },
    "colab_type": "code",
    "id": "tjU7kLnRrTPg",
    "outputId": "4dd6c014-c002-4f6f-ec4f-14016fbd5382"
   },
   "outputs": [
    {
     "data": {
      "text/plain": [
       "array([24. , 21.6, 34.7, 33.4, 36.2, 28.7, 22.9, 27.1, 16.5, 18.9])"
      ]
     },
     "execution_count": 4,
     "metadata": {},
     "output_type": "execute_result"
    }
   ],
   "source": [
    "y[:10]"
   ]
  },
  {
   "cell_type": "code",
   "execution_count": 5,
   "metadata": {
    "colab": {
     "base_uri": "https://localhost:8080/",
     "height": 53
    },
    "colab_type": "code",
    "id": "T6CypJZVrTPj",
    "outputId": "1ac5c40e-8039-470b-fdd6-4811ec19d395"
   },
   "outputs": [
    {
     "name": "stdout",
     "output_type": "stream",
     "text": [
      "(506, 13)\n",
      "(506,)\n"
     ]
    }
   ],
   "source": [
    "print(X.shape)\n",
    "print(y.shape)"
   ]
  },
  {
   "cell_type": "code",
   "execution_count": 6,
   "metadata": {
    "colab": {},
    "colab_type": "code",
    "id": "4cgRCJrBrTPl"
   },
   "outputs": [],
   "source": [
    "X_train, X_test, y_train, y_test = train_test_split(X, y)"
   ]
  },
  {
   "cell_type": "code",
   "execution_count": 7,
   "metadata": {
    "colab": {},
    "colab_type": "code",
    "id": "cMm9Wk5DrTPo"
   },
   "outputs": [],
   "source": [
    "sc = MinMaxScaler()\n",
    "X_train = sc.fit_transform(X_train)\n",
    "X_test  = sc.transform(X_test)"
   ]
  },
  {
   "cell_type": "markdown",
   "metadata": {
    "colab_type": "text",
    "id": "pLf27y9VrTPr"
   },
   "source": [
    "### model build"
   ]
  },
  {
   "cell_type": "code",
   "execution_count": 8,
   "metadata": {
    "colab": {},
    "colab_type": "code",
    "id": "1GPf5hWlrTPs"
   },
   "outputs": [],
   "source": [
    "model = Sequential()\n",
    "\n",
    "model.add(Dense(64, input_shape=(13,)))\n",
    "model.add(Activation('relu'))\n",
    "model.add(Dense(32))\n",
    "model.add(Activation('relu'))\n",
    "model.add(Dense(1))"
   ]
  },
  {
   "cell_type": "code",
   "execution_count": 9,
   "metadata": {
    "colab": {},
    "colab_type": "code",
    "id": "g5NRN0k1rTPu"
   },
   "outputs": [],
   "source": [
    "model.compile(loss='mean_squared_error', optimizer='adam')"
   ]
  },
  {
   "cell_type": "code",
   "execution_count": 10,
   "metadata": {},
   "outputs": [
    {
     "name": "stdout",
     "output_type": "stream",
     "text": [
      "Model: \"sequential\"\n",
      "_________________________________________________________________\n",
      "Layer (type)                 Output Shape              Param #   \n",
      "=================================================================\n",
      "dense (Dense)                (None, 64)                896       \n",
      "_________________________________________________________________\n",
      "activation (Activation)      (None, 64)                0         \n",
      "_________________________________________________________________\n",
      "dense_1 (Dense)              (None, 32)                2080      \n",
      "_________________________________________________________________\n",
      "activation_1 (Activation)    (None, 32)                0         \n",
      "_________________________________________________________________\n",
      "dense_2 (Dense)              (None, 1)                 33        \n",
      "=================================================================\n",
      "Total params: 3,009\n",
      "Trainable params: 3,009\n",
      "Non-trainable params: 0\n",
      "_________________________________________________________________\n"
     ]
    }
   ],
   "source": [
    "model.summary()"
   ]
  },
  {
   "cell_type": "markdown",
   "metadata": {
    "colab_type": "text",
    "id": "4nlJzIHwrTPy"
   },
   "source": [
    "- epoch 수와 batchz_size 변경하며 test"
   ]
  },
  {
   "cell_type": "code",
   "execution_count": 36,
   "metadata": {
    "colab": {
     "base_uri": "https://localhost:8080/",
     "height": 1000
    },
    "colab_type": "code",
    "id": "GiBonfIdrTPy",
    "outputId": "809d622a-d39f-481b-c12b-dae8d8226c17",
    "scrolled": true
   },
   "outputs": [
    {
     "name": "stdout",
     "output_type": "stream",
     "text": [
      "Epoch 1/100\n",
      "12/12 [==============================] - 0s 5ms/step - loss: 26.1922 - val_loss: 21.8702\n",
      "Epoch 2/100\n",
      "12/12 [==============================] - 0s 5ms/step - loss: 25.7045 - val_loss: 21.2952\n",
      "Epoch 3/100\n",
      "12/12 [==============================] - 0s 4ms/step - loss: 25.4626 - val_loss: 21.0009\n",
      "Epoch 4/100\n",
      "12/12 [==============================] - 0s 4ms/step - loss: 25.7831 - val_loss: 20.3900\n",
      "Epoch 5/100\n",
      "12/12 [==============================] - 0s 4ms/step - loss: 24.8608 - val_loss: 20.8256\n",
      "Epoch 6/100\n",
      "12/12 [==============================] - 0s 4ms/step - loss: 24.3794 - val_loss: 19.5438\n",
      "Epoch 7/100\n",
      "12/12 [==============================] - 0s 4ms/step - loss: 24.2711 - val_loss: 19.4552\n",
      "Epoch 8/100\n",
      "12/12 [==============================] - 0s 4ms/step - loss: 23.8107 - val_loss: 19.0469\n",
      "Epoch 9/100\n",
      "12/12 [==============================] - 0s 4ms/step - loss: 23.5744 - val_loss: 18.8765\n",
      "Epoch 10/100\n",
      "12/12 [==============================] - 0s 4ms/step - loss: 23.5033 - val_loss: 18.8279\n",
      "Epoch 11/100\n",
      "12/12 [==============================] - 0s 4ms/step - loss: 23.1572 - val_loss: 18.5185\n",
      "Epoch 12/100\n",
      "12/12 [==============================] - 0s 4ms/step - loss: 22.9196 - val_loss: 18.1038\n",
      "Epoch 13/100\n",
      "12/12 [==============================] - 0s 4ms/step - loss: 22.8462 - val_loss: 17.7341\n",
      "Epoch 14/100\n",
      "12/12 [==============================] - 0s 4ms/step - loss: 22.5095 - val_loss: 17.5414\n",
      "Epoch 15/100\n",
      "12/12 [==============================] - 0s 5ms/step - loss: 22.7036 - val_loss: 17.4776\n",
      "Epoch 16/100\n",
      "12/12 [==============================] - 0s 4ms/step - loss: 22.0986 - val_loss: 16.9106\n",
      "Epoch 17/100\n",
      "12/12 [==============================] - 0s 4ms/step - loss: 22.1487 - val_loss: 17.1341\n",
      "Epoch 18/100\n",
      "12/12 [==============================] - 0s 4ms/step - loss: 21.8639 - val_loss: 16.9079\n",
      "Epoch 19/100\n",
      "12/12 [==============================] - 0s 4ms/step - loss: 21.6905 - val_loss: 16.5632\n",
      "Epoch 20/100\n",
      "12/12 [==============================] - 0s 4ms/step - loss: 21.4987 - val_loss: 16.7007\n",
      "Epoch 21/100\n",
      "12/12 [==============================] - 0s 5ms/step - loss: 21.5445 - val_loss: 16.1089\n",
      "Epoch 22/100\n",
      "12/12 [==============================] - 0s 4ms/step - loss: 21.3883 - val_loss: 16.0704\n",
      "Epoch 23/100\n",
      "12/12 [==============================] - 0s 4ms/step - loss: 21.1388 - val_loss: 16.1266\n",
      "Epoch 24/100\n",
      "12/12 [==============================] - 0s 4ms/step - loss: 21.0108 - val_loss: 15.7770\n",
      "Epoch 25/100\n",
      "12/12 [==============================] - 0s 4ms/step - loss: 21.0628 - val_loss: 15.5271\n",
      "Epoch 26/100\n",
      "12/12 [==============================] - 0s 4ms/step - loss: 20.7829 - val_loss: 16.3312\n",
      "Epoch 27/100\n",
      "12/12 [==============================] - 0s 4ms/step - loss: 20.7219 - val_loss: 15.2238\n",
      "Epoch 28/100\n",
      "12/12 [==============================] - 0s 4ms/step - loss: 20.5055 - val_loss: 15.5456\n",
      "Epoch 29/100\n",
      "12/12 [==============================] - 0s 4ms/step - loss: 20.4576 - val_loss: 15.2329\n",
      "Epoch 30/100\n",
      "12/12 [==============================] - 0s 4ms/step - loss: 20.3483 - val_loss: 14.9292\n",
      "Epoch 31/100\n",
      "12/12 [==============================] - 0s 4ms/step - loss: 20.2509 - val_loss: 15.0812\n",
      "Epoch 32/100\n",
      "12/12 [==============================] - 0s 4ms/step - loss: 20.0130 - val_loss: 14.7397\n",
      "Epoch 33/100\n",
      "12/12 [==============================] - 0s 4ms/step - loss: 20.1347 - val_loss: 14.7062\n",
      "Epoch 34/100\n",
      "12/12 [==============================] - 0s 4ms/step - loss: 20.1560 - val_loss: 14.6082\n",
      "Epoch 35/100\n",
      "12/12 [==============================] - 0s 4ms/step - loss: 19.7909 - val_loss: 14.8393\n",
      "Epoch 36/100\n",
      "12/12 [==============================] - 0s 4ms/step - loss: 19.5021 - val_loss: 14.2999\n",
      "Epoch 37/100\n",
      "12/12 [==============================] - 0s 4ms/step - loss: 19.5844 - val_loss: 14.3110\n",
      "Epoch 38/100\n",
      "12/12 [==============================] - 0s 4ms/step - loss: 19.6080 - val_loss: 14.2034\n",
      "Epoch 39/100\n",
      "12/12 [==============================] - 0s 4ms/step - loss: 19.5528 - val_loss: 14.1000\n",
      "Epoch 40/100\n",
      "12/12 [==============================] - 0s 4ms/step - loss: 19.2454 - val_loss: 14.2081\n",
      "Epoch 41/100\n",
      "12/12 [==============================] - 0s 4ms/step - loss: 19.3352 - val_loss: 13.8776\n",
      "Epoch 42/100\n",
      "12/12 [==============================] - 0s 4ms/step - loss: 19.3396 - val_loss: 13.9199\n",
      "Epoch 43/100\n",
      "12/12 [==============================] - 0s 4ms/step - loss: 19.0422 - val_loss: 13.8948\n",
      "Epoch 44/100\n",
      "12/12 [==============================] - 0s 4ms/step - loss: 19.0371 - val_loss: 14.0384\n",
      "Epoch 45/100\n",
      "12/12 [==============================] - 0s 4ms/step - loss: 18.7506 - val_loss: 13.7282\n",
      "Epoch 46/100\n",
      "12/12 [==============================] - 0s 4ms/step - loss: 18.8163 - val_loss: 13.4569\n",
      "Epoch 47/100\n",
      "12/12 [==============================] - 0s 4ms/step - loss: 18.5912 - val_loss: 13.7493\n",
      "Epoch 48/100\n",
      "12/12 [==============================] - 0s 4ms/step - loss: 18.6654 - val_loss: 13.4200\n",
      "Epoch 49/100\n",
      "12/12 [==============================] - 0s 4ms/step - loss: 18.6380 - val_loss: 13.3220\n",
      "Epoch 50/100\n",
      "12/12 [==============================] - 0s 4ms/step - loss: 18.4865 - val_loss: 13.5676\n",
      "Epoch 51/100\n",
      "12/12 [==============================] - 0s 4ms/step - loss: 18.2549 - val_loss: 13.1131\n",
      "Epoch 52/100\n",
      "12/12 [==============================] - 0s 4ms/step - loss: 18.3891 - val_loss: 13.0483\n",
      "Epoch 53/100\n",
      "12/12 [==============================] - 0s 4ms/step - loss: 18.1531 - val_loss: 13.1708\n",
      "Epoch 54/100\n",
      "12/12 [==============================] - 0s 4ms/step - loss: 18.1161 - val_loss: 12.9818\n",
      "Epoch 55/100\n",
      "12/12 [==============================] - 0s 4ms/step - loss: 17.8960 - val_loss: 12.9400\n",
      "Epoch 56/100\n",
      "12/12 [==============================] - 0s 4ms/step - loss: 17.8157 - val_loss: 12.9580\n",
      "Epoch 57/100\n",
      "12/12 [==============================] - 0s 4ms/step - loss: 17.7903 - val_loss: 12.8459\n",
      "Epoch 58/100\n",
      "12/12 [==============================] - 0s 5ms/step - loss: 17.7839 - val_loss: 12.7734\n",
      "Epoch 59/100\n",
      "12/12 [==============================] - 0s 4ms/step - loss: 17.5912 - val_loss: 12.5611\n",
      "Epoch 60/100\n",
      "12/12 [==============================] - 0s 4ms/step - loss: 17.8439 - val_loss: 12.6250\n",
      "Epoch 61/100\n",
      "12/12 [==============================] - 0s 4ms/step - loss: 17.3637 - val_loss: 12.4113\n",
      "Epoch 62/100\n",
      "12/12 [==============================] - 0s 4ms/step - loss: 17.3873 - val_loss: 12.4883\n",
      "Epoch 63/100\n",
      "12/12 [==============================] - 0s 4ms/step - loss: 17.4382 - val_loss: 12.6676\n",
      "Epoch 64/100\n",
      "12/12 [==============================] - 0s 4ms/step - loss: 17.2194 - val_loss: 12.2926\n",
      "Epoch 65/100\n",
      "12/12 [==============================] - 0s 4ms/step - loss: 17.1238 - val_loss: 12.4508\n",
      "Epoch 66/100\n",
      "12/12 [==============================] - 0s 4ms/step - loss: 17.0585 - val_loss: 12.2044\n",
      "Epoch 67/100\n",
      "12/12 [==============================] - 0s 4ms/step - loss: 16.9296 - val_loss: 12.0024\n",
      "Epoch 68/100\n",
      "12/12 [==============================] - 0s 4ms/step - loss: 16.8682 - val_loss: 12.2188\n",
      "Epoch 69/100\n",
      "12/12 [==============================] - 0s 4ms/step - loss: 16.8790 - val_loss: 11.9130\n",
      "Epoch 70/100\n",
      "12/12 [==============================] - 0s 4ms/step - loss: 16.7766 - val_loss: 12.0844\n",
      "Epoch 71/100\n",
      "12/12 [==============================] - 0s 4ms/step - loss: 16.7403 - val_loss: 12.0507\n",
      "Epoch 72/100\n",
      "12/12 [==============================] - 0s 5ms/step - loss: 16.6361 - val_loss: 12.0883\n",
      "Epoch 73/100\n",
      "12/12 [==============================] - 0s 6ms/step - loss: 16.4950 - val_loss: 11.5694\n",
      "Epoch 74/100\n",
      "12/12 [==============================] - 0s 5ms/step - loss: 16.3658 - val_loss: 11.8228\n",
      "Epoch 75/100\n",
      "12/12 [==============================] - 0s 4ms/step - loss: 16.3664 - val_loss: 11.5347\n",
      "Epoch 76/100\n",
      "12/12 [==============================] - 0s 4ms/step - loss: 16.2865 - val_loss: 11.5280\n",
      "Epoch 77/100\n",
      "12/12 [==============================] - 0s 4ms/step - loss: 16.1348 - val_loss: 11.3489\n",
      "Epoch 78/100\n",
      "12/12 [==============================] - 0s 4ms/step - loss: 16.0529 - val_loss: 11.3859\n",
      "Epoch 79/100\n",
      "12/12 [==============================] - 0s 4ms/step - loss: 16.0122 - val_loss: 11.5356\n",
      "Epoch 80/100\n",
      "12/12 [==============================] - 0s 4ms/step - loss: 15.7875 - val_loss: 11.0913\n",
      "Epoch 81/100\n",
      "12/12 [==============================] - 0s 4ms/step - loss: 15.9314 - val_loss: 11.3200\n",
      "Epoch 82/100\n",
      "12/12 [==============================] - 0s 4ms/step - loss: 16.5527 - val_loss: 10.9140\n",
      "Epoch 83/100\n",
      "12/12 [==============================] - 0s 4ms/step - loss: 16.2267 - val_loss: 11.3549\n",
      "Epoch 84/100\n",
      "12/12 [==============================] - 0s 4ms/step - loss: 15.9001 - val_loss: 10.9323\n",
      "Epoch 85/100\n",
      "12/12 [==============================] - 0s 4ms/step - loss: 15.5700 - val_loss: 10.8301\n",
      "Epoch 86/100\n",
      "12/12 [==============================] - 0s 4ms/step - loss: 15.4266 - val_loss: 10.8545\n",
      "Epoch 87/100\n",
      "12/12 [==============================] - 0s 4ms/step - loss: 15.4353 - val_loss: 11.1051\n",
      "Epoch 88/100\n",
      "12/12 [==============================] - 0s 4ms/step - loss: 15.4504 - val_loss: 10.7411\n",
      "Epoch 89/100\n",
      "12/12 [==============================] - 0s 4ms/step - loss: 15.3450 - val_loss: 10.8618\n",
      "Epoch 90/100\n",
      "12/12 [==============================] - 0s 4ms/step - loss: 15.1053 - val_loss: 10.5247\n",
      "Epoch 91/100\n",
      "12/12 [==============================] - 0s 5ms/step - loss: 14.9932 - val_loss: 10.4358\n",
      "Epoch 92/100\n",
      "12/12 [==============================] - 0s 4ms/step - loss: 14.9895 - val_loss: 10.5112\n",
      "Epoch 93/100\n",
      "12/12 [==============================] - 0s 4ms/step - loss: 14.8439 - val_loss: 10.4407\n",
      "Epoch 94/100\n",
      "12/12 [==============================] - 0s 4ms/step - loss: 14.7704 - val_loss: 10.9000\n",
      "Epoch 95/100\n",
      "12/12 [==============================] - 0s 4ms/step - loss: 14.7215 - val_loss: 10.2220\n",
      "Epoch 96/100\n",
      "12/12 [==============================] - 0s 4ms/step - loss: 14.7155 - val_loss: 10.4336\n",
      "Epoch 97/100\n",
      "12/12 [==============================] - 0s 4ms/step - loss: 14.5991 - val_loss: 10.2789\n",
      "Epoch 98/100\n",
      "12/12 [==============================] - 0s 4ms/step - loss: 14.6260 - val_loss: 10.3055\n",
      "Epoch 99/100\n",
      "12/12 [==============================] - 0s 4ms/step - loss: 14.6769 - val_loss: 10.2633\n",
      "Epoch 100/100\n",
      "12/12 [==============================] - 0s 4ms/step - loss: 14.4960 - val_loss: 10.1474\n"
     ]
    }
   ],
   "source": [
    "history = model.fit(X_train, y_train, batch_size=32, epochs=100, validation_data=(X_test, y_test), verbose=1)"
   ]
  },
  {
   "cell_type": "code",
   "execution_count": 37,
   "metadata": {
    "colab": {
     "base_uri": "https://localhost:8080/",
     "height": 35
    },
    "colab_type": "code",
    "id": "1ZFSsBqVrTP1",
    "outputId": "d294314b-4808-4c0f-defc-ed8e4de416a9",
    "scrolled": true
   },
   "outputs": [
    {
     "data": {
      "text/plain": [
       "10.147391319274902"
      ]
     },
     "execution_count": 37,
     "metadata": {
      "tags": []
     },
     "output_type": "execute_result"
    }
   ],
   "source": [
    "model.evaluate(X_test, y_test, verbose=0)"
   ]
  },
  {
   "cell_type": "code",
   "execution_count": 0,
   "metadata": {
    "colab": {},
    "colab_type": "code",
    "id": "ToA2qijTrTP4"
   },
   "outputs": [],
   "source": [
    "y_pred = model.predict(X_test)"
   ]
  },
  {
   "cell_type": "code",
   "execution_count": 39,
   "metadata": {
    "colab": {
     "base_uri": "https://localhost:8080/",
     "height": 53
    },
    "colab_type": "code",
    "id": "bNIig2qBrTP6",
    "outputId": "39e3a8b5-4772-47c7-a7cb-3d1406ef776a"
   },
   "outputs": [
    {
     "name": "stdout",
     "output_type": "stream",
     "text": [
      "10.147391829057833\n",
      "0.883731499251141\n"
     ]
    }
   ],
   "source": [
    "from sklearn.metrics import mean_squared_error, r2_score\n",
    "\n",
    "print(mean_squared_error(y_test, y_pred))\n",
    "print(r2_score(y_test, y_pred))"
   ]
  },
  {
   "cell_type": "code",
   "execution_count": 40,
   "metadata": {
    "colab": {
     "base_uri": "https://localhost:8080/",
     "height": 314
    },
    "colab_type": "code",
    "id": "1BsUtTlErTP9",
    "outputId": "7ac930ee-d227-4aa5-9d08-ebc46bb8c237"
   },
   "outputs": [
    {
     "data": {
      "text/plain": [
       "Text(0.5, 1.0, 'Boston House Price Prediction ($1,000)')"
      ]
     },
     "execution_count": 40,
     "metadata": {
      "tags": []
     },
     "output_type": "execute_result"
    },
    {
     "data": {
      "image/png": "[encoded data removed]",
      "text/plain": [
       "<Figure size 432x288 with 1 Axes>"
      ]
     },
     "metadata": {
      "needs_background": "light",
      "tags": []
     },
     "output_type": "display_data"
    }
   ],
   "source": [
    "plt.scatter(y_test, y_pred)\n",
    "plt.plot([y_test.min(), y_test.max()], [y_test.min(), y_test.max()], '--', c='r')\n",
    "plt.xlabel('y_test')\n",
    "plt.ylabel('y_pred')\n",
    "plt.title('Boston House Price Prediction ($1,000)')"
   ]
  },
  {
   "cell_type": "markdown",
   "metadata": {
    "colab_type": "text",
    "id": "HHSjTEgsrTQC"
   },
   "source": [
    "## sklearn LinearRegression 비교"
   ]
  },
  {
   "cell_type": "code",
   "execution_count": 0,
   "metadata": {
    "colab": {},
    "colab_type": "code",
    "id": "Ys50B2fQrTQD"
   },
   "outputs": [],
   "source": [
    "from sklearn.linear_model import LinearRegression\n",
    "regr = LinearRegression()\n",
    "\n",
    "X_train, X_test, y_train, y_test = train_test_split(X, y)\n",
    "\n",
    "sc = MinMaxScaler()\n",
    "X_train = sc.fit_transform(X_train)\n",
    "X_test  = sc.transform(X_test)"
   ]
  },
  {
   "cell_type": "code",
   "execution_count": 24,
   "metadata": {
    "colab": {
     "base_uri": "https://localhost:8080/",
     "height": 35
    },
    "colab_type": "code",
    "id": "w4jI7c37rTQF",
    "outputId": "f7686808-c371-4f24-fa07-7768b8424c9b"
   },
   "outputs": [
    {
     "data": {
      "text/plain": [
       "LinearRegression(copy_X=True, fit_intercept=True, n_jobs=None, normalize=False)"
      ]
     },
     "execution_count": 24,
     "metadata": {
      "tags": []
     },
     "output_type": "execute_result"
    }
   ],
   "source": [
    "regr.fit(X_train, y_train)"
   ]
  },
  {
   "cell_type": "code",
   "execution_count": 0,
   "metadata": {
    "colab": {},
    "colab_type": "code",
    "id": "PovF4BEVrTQJ"
   },
   "outputs": [],
   "source": [
    "y_pred = regr.predict(X_test)"
   ]
  },
  {
   "cell_type": "code",
   "execution_count": 26,
   "metadata": {
    "colab": {
     "base_uri": "https://localhost:8080/",
     "height": 125
    },
    "colab_type": "code",
    "id": "2NPoXeQRrTQL",
    "outputId": "4429b9f7-7bef-4acf-edb3-b7f77d5ac319"
   },
   "outputs": [
    {
     "name": "stdout",
     "output_type": "stream",
     "text": [
      "Coefficients: \n",
      " [ -6.55790706   4.99365773  -0.27445726   2.5554096   -9.25967812\n",
      "  18.01264803  -0.24463462 -17.64564107   8.81309545  -7.85868172\n",
      "  -8.77105605   3.89883919 -18.64385927]\n",
      "Intercept: \n",
      " 28.703084896904677\n"
     ]
    }
   ],
   "source": [
    "# The coefficients\n",
    "print('Coefficients: \\n', regr.coef_)\n",
    "print('Intercept: \\n', regr.intercept_)"
   ]
  },
  {
   "cell_type": "code",
   "execution_count": 27,
   "metadata": {
    "colab": {
     "base_uri": "https://localhost:8080/",
     "height": 53
    },
    "colab_type": "code",
    "id": "nmcGQEyXrTQP",
    "outputId": "1173b675-0c0a-4071-92ec-2135f0d1ba75"
   },
   "outputs": [
    {
     "name": "stdout",
     "output_type": "stream",
     "text": [
      "Mean squared error: 20.99\n",
      "Variance score: 0.76\n"
     ]
    }
   ],
   "source": [
    "# MSE(mean squared error) 계산\n",
    "print(\"Mean squared error: {:.2f}\".format(mean_squared_error(y_test, y_pred)))\n",
    "\n",
    "# R2 계산 \n",
    "print(\"Variance score: {:.2f}\".format(r2_score(y_test, y_pred)))"
   ]
  },
  {
   "cell_type": "code",
   "execution_count": 28,
   "metadata": {
    "colab": {
     "base_uri": "https://localhost:8080/",
     "height": 314
    },
    "colab_type": "code",
    "id": "MN-2xQzNrTQS",
    "outputId": "76cc8734-596c-4494-c5fd-3ebd0aa2c59b"
   },
   "outputs": [
    {
     "data": {
      "text/plain": [
       "Text(0.5, 1.0, 'Boston House Price Prediction ($1,000)')"
      ]
     },
     "execution_count": 28,
     "metadata": {
      "tags": []
     },
     "output_type": "execute_result"
    },
    {
     "data": {
      "image/png": "[encoded data removed]",
      "text/plain": [
       "<Figure size 432x288 with 1 Axes>"
      ]
     },
     "metadata": {
      "needs_background": "light",
      "tags": []
     },
     "output_type": "display_data"
    }
   ],
   "source": [
    "plt.scatter(y_test, y_pred)\n",
    "plt.plot([y_test.min(), y_test.max()], [y_test.min(), y_test.max()], '--', c='r')\n",
    "plt.xlabel('y_test')\n",
    "plt.ylabel('y_pred')\n",
    "plt.title('Boston House Price Prediction ($1,000)')"
   ]
  },
  {
   "cell_type": "markdown",
   "metadata": {
    "colab_type": "text",
    "id": "N1dR1BCOrTQV"
   },
   "source": [
    "## 실습\n",
    "\n",
    "### UCI Machine Learning Repository 의 Auto MPG dataset 을 사용하여 Regression 예측 model 작성\n",
    "\n",
    "auto-mpg.data - data file  \n",
    "auto-mpg.names - data 설명 file\n",
    "\n",
    "1. mpg:           continuous  \n",
    "2. cylinders:     multi-valued discrete  \n",
    "3. displacement:  continuous (배기량)   \n",
    "4. horsepower:    continuous  \n",
    "5. weight:        continuous  \n",
    "6. acceleration:  continuous  \n",
    "7. model year:    multi-valued discrete  \n",
    "8. origin:        multi-valued discrete, 1 - USA, 2 - Europe, 3 - Japan  \n",
    "9. car name:      string (unique for each instance)  \n",
    "\n",
    "Missing Attribute Values:  horsepower has 6 missing values  ==> \"?\" 로 들어 있으므로 read_csv 시 nan 으로 변환"
   ]
  },
  {
   "cell_type": "code",
   "execution_count": 0,
   "metadata": {
    "colab": {},
    "colab_type": "code",
    "id": "tBbjUToQrTQV"
   },
   "outputs": [],
   "source": [
    "import pandas as pd\n",
    "import numpy as np\n",
    "import tensorflow as tf\n",
    "from tensorflow import keras\n",
    "from tensorflow.keras import layers\n",
    "from sklearn.model_selection import train_test_split\n",
    "from sklearn.preprocessing import StandardScaler"
   ]
  },
  {
   "cell_type": "markdown",
   "metadata": {
    "colab_type": "text",
    "id": "OaJ3QC85rTQY"
   },
   "source": [
    "### Data load 및 Preprocessing"
   ]
  },
  {
   "cell_type": "code",
   "execution_count": 42,
   "metadata": {
    "colab": {
     "base_uri": "https://localhost:8080/",
     "height": 53
    },
    "colab_type": "code",
    "id": "zwc5ou1PrTQY",
    "outputId": "472698f8-440b-43fd-fc7d-4eac7e14ca27"
   },
   "outputs": [
    {
     "name": "stdout",
     "output_type": "stream",
     "text": [
      "Downloading data from https://archive.ics.uci.edu/ml/machine-learning-databases/auto-mpg/auto-mpg.data\n",
      "32768/30286 [================================] - 0s 4us/step\n"
     ]
    }
   ],
   "source": [
    "data_path = keras.utils.get_file(\"auto-mpg.data\", \n",
    "                                 \"https://archive.ics.uci.edu/ml/machine-learning-databases/auto-mpg/auto-mpg.data\")\n",
    "\n",
    "column_names = ['mpg', 'cylinders', 'displacement', 'horsepower', 'weight', 'acceleration', 'model year', 'origin']\n",
    "\n",
    "rawdata = pd.read_csv(data_path, names=column_names, na_values=\"?\", comment=\"\\t\", sep=\" \", skipinitialspace=True)\n",
    "\n",
    "rawdata.dropna(inplace=True)\n",
    "\n",
    "data = rawdata.copy()\n",
    "\n",
    "data = pd.get_dummies(data, columns=['cylinders', 'origin'])\n",
    "\n",
    "label = data.pop('mpg')\n",
    "\n",
    "X_train, X_test, y_train, y_test = train_test_split(data.values, label.values)\n",
    "\n",
    "sc = StandardScaler()\n",
    "X_train = sc.fit_transform(X_train)\n",
    "X_test = sc.transform(X_test)"
   ]
  },
  {
   "cell_type": "markdown",
   "metadata": {
    "colab_type": "text",
    "id": "lSAJqN3DrTQa"
   },
   "source": [
    "### Regression Model Build\n",
    "\n",
    "### train\n",
    "\n",
    "### predict\n",
    "\n",
    "### $r^2$ 계산"
   ]
  }
 ],
 "metadata": {
  "accelerator": "GPU",
  "colab": {
   "name": "100.Boston Regression.ipynb",
   "provenance": []
  },
  "kernelspec": {
   "display_name": "Python 3",
   "language": "python",
   "name": "python3"
  },
  "language_info": {
   "codemirror_mode": {
    "name": "ipython",
    "version": 3
   },
   "file_extension": ".py",
   "mimetype": "text/x-python",
   "name": "python",
   "nbconvert_exporter": "python",
   "pygments_lexer": "ipython3",
   "version": "3.7.6"
  }
 },
 "nbformat": 4,
 "nbformat_minor": 1
}
