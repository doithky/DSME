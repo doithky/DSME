{
 "cells": [
  {
   "cell_type": "markdown",
   "metadata": {
    "colab_type": "text",
    "id": "i3SMFJYftfEs"
   },
   "source": [
    "# 190. Keras API 와 LSTM 을 이용한 이상한 나라의 Alice 문장 생성기\n",
    "\n",
    "- next word 예측"
   ]
  },
  {
   "cell_type": "code",
   "execution_count": 1,
   "metadata": {
    "colab": {
     "base_uri": "https://localhost:8080/",
     "height": 34
    },
    "colab_type": "code",
    "id": "xQWk90P4thyK",
    "outputId": "5ee3a384-8bec-47fc-a2e8-2c7296b99139"
   },
   "outputs": [
    {
     "name": "stdout",
     "output_type": "stream",
     "text": [
      "TensorFlow 2.x selected.\n"
     ]
    }
   ],
   "source": [
    "%tensorflow_version 2.x"
   ]
  },
  {
   "cell_type": "code",
   "execution_count": 0,
   "metadata": {
    "colab": {},
    "colab_type": "code",
    "id": "asn1fHFytfEu"
   },
   "outputs": [],
   "source": [
    "import tensorflow as tf\n",
    "import numpy as np\n",
    "from tensorflow.keras.preprocessing.sequence import pad_sequences\n",
    "from tensorflow.keras.layers import Embedding, LSTM, Dense, Dropout, Bidirectional\n",
    "from tensorflow.keras.preprocessing.text import Tokenizer\n",
    "from tensorflow.keras.models import Sequential\n",
    "import tensorflow.keras.regularizers as regularizers\n",
    "import numpy as np "
   ]
  },
  {
   "cell_type": "code",
   "execution_count": 0,
   "metadata": {
    "colab": {},
    "colab_type": "code",
    "id": "uP-mC7LTtfEx"
   },
   "outputs": [],
   "source": [
    "path_to_file = tf.keras.utils.get_file('alice.txt', \"http://www.gutenberg.org/files/11/11.txt\")"
   ]
  },
  {
   "cell_type": "code",
   "execution_count": 4,
   "metadata": {
    "colab": {
     "base_uri": "https://localhost:8080/",
     "height": 54
    },
    "colab_type": "code",
    "id": "SvrmXp25tfEz",
    "outputId": "8c61ff3f-12b0-4d57-af7f-94aac4875641"
   },
   "outputs": [
    {
     "data": {
      "text/plain": [
       "\"project gutenberg's alice's adventures in wonderland, by lewis carroll this ebook is for the use of anyone anywhere at no cost and with almost no restrictions whatsoever.  you may copy it, give it away or re-use it under the terms of the project gutenberg license included with this ebook or online at www.gutenberg.org title: alice's adventures in wonderland author: lewis carroll posting date: june 25, 2008 [ebook #11] release date: march, 1994 [last updated: december 20, 2011] language: english character set encoding: ascii *** start of this project gutenberg ebook alice's adventures in wonderland *** alice's adventures in wonderland lewis carroll the millennium fulcrum edition 3.0 chapter i. down the rabbit-hole alice was beginning to get very tired of sitting by her sister on the bank, and of having nothing to do: once or twice she had peeped into the book her sister was reading, but it had no pictures or conversations in it, 'and what is the use of a book,' thought alice 'without pi\""
      ]
     },
     "execution_count": 4,
     "metadata": {
      "tags": []
     },
     "output_type": "execute_result"
    }
   ],
   "source": [
    "r = open(path_to_file)\n",
    "texts = r.readlines()\n",
    "lines = []\n",
    "\n",
    "for line in texts:\n",
    "    line = line.strip().lower()\n",
    "    if len(line) == 0:\n",
    "        continue\n",
    "    lines.append(line)\n",
    "\n",
    "text = \" \".join(lines)\n",
    "text[:1000]"
   ]
  },
  {
   "cell_type": "code",
   "execution_count": 0,
   "metadata": {
    "colab": {},
    "colab_type": "code",
    "id": "1RuGgWAmtfE2"
   },
   "outputs": [],
   "source": [
    "import re\n",
    "\n",
    "corpus = re.split('[,.]', text)"
   ]
  },
  {
   "cell_type": "code",
   "execution_count": 21,
   "metadata": {
    "colab": {
     "base_uri": "https://localhost:8080/",
     "height": 211
    },
    "colab_type": "code",
    "id": "RyUJ7MxNtfE4",
    "outputId": "f9af7cce-3241-40f6-ae33-1bd3ae640bf2"
   },
   "outputs": [
    {
     "data": {
      "text/plain": [
       "[\"project gutenberg's alice's adventures in wonderland\",\n",
       " ' by lewis carroll this ebook is for the use of anyone anywhere at no cost and with almost no restrictions whatsoever',\n",
       " '  you may copy it',\n",
       " ' give it away or re-use it under the terms of the project gutenberg license included with this ebook or online at www',\n",
       " 'gutenberg',\n",
       " \"org title: alice's adventures in wonderland author: lewis carroll posting date: june 25\",\n",
       " ' 2008 [ebook #11] release date: march',\n",
       " ' 1994 [last updated: december 20',\n",
       " \" 2011] language: english character set encoding: ascii *** start of this project gutenberg ebook alice's adventures in wonderland *** alice's adventures in wonderland lewis carroll the millennium fulcrum edition 3\",\n",
       " '0 chapter i']"
      ]
     },
     "execution_count": 21,
     "metadata": {
      "tags": []
     },
     "output_type": "execute_result"
    }
   ],
   "source": [
    "corpus[:10]"
   ]
  },
  {
   "cell_type": "code",
   "execution_count": 22,
   "metadata": {
    "colab": {
     "base_uri": "https://localhost:8080/",
     "height": 34
    },
    "colab_type": "code",
    "id": "mRzxcEeatfE6",
    "outputId": "f583d310-6e4c-4830-a655-1341fa1947cd"
   },
   "outputs": [
    {
     "name": "stdout",
     "output_type": "stream",
     "text": [
      "3338\n"
     ]
    }
   ],
   "source": [
    "tokenizer = Tokenizer()\n",
    "\n",
    "tokenizer.fit_on_texts(corpus)\n",
    "total_words = len(tokenizer.word_index) + 1\n",
    "print(total_words)"
   ]
  },
  {
   "cell_type": "code",
   "execution_count": 8,
   "metadata": {
    "colab": {
     "base_uri": "https://localhost:8080/",
     "height": 34
    },
    "colab_type": "code",
    "id": "rD29b-YrM8hJ",
    "outputId": "05857171-2834-4ef1-ba98-2a885b4802d7"
   },
   "outputs": [
    {
     "data": {
      "text/plain": [
       "[(11, 'you'), (12, 'alice'), (13, 'was'), (14, 'i'), (15, 'that')]"
      ]
     },
     "execution_count": 8,
     "metadata": {
      "tags": []
     },
     "output_type": "execute_result"
    }
   ],
   "source": [
    "list(tokenizer.index_word.items())[10:15]"
   ]
  },
  {
   "cell_type": "code",
   "execution_count": 9,
   "metadata": {
    "colab": {
     "base_uri": "https://localhost:8080/",
     "height": 34
    },
    "colab_type": "code",
    "id": "t4UF7YzUM8hO",
    "outputId": "498f80da-0220-4ec2-ad87-e9dd2a51e132"
   },
   "outputs": [
    {
     "data": {
      "text/plain": [
       "[('you', 11), ('alice', 12), ('was', 13), ('i', 14), ('that', 15)]"
      ]
     },
     "execution_count": 9,
     "metadata": {
      "tags": []
     },
     "output_type": "execute_result"
    }
   ],
   "source": [
    "list(tokenizer.word_index.items())[10:15]"
   ]
  },
  {
   "cell_type": "code",
   "execution_count": 0,
   "metadata": {
    "colab": {},
    "colab_type": "code",
    "id": "AQlBVvwitfE8"
   },
   "outputs": [],
   "source": [
    "# create input sequences using list of tokens\n",
    "input_sequences = []\n",
    "\n",
    "for line in corpus:\n",
    "    token_list = tokenizer.texts_to_sequences([line])[0]\n",
    "    for i in range(1, len(token_list)):\n",
    "        n_gram_sequence = token_list[:i+1]\n",
    "        input_sequences.append(n_gram_sequence)"
   ]
  },
  {
   "cell_type": "code",
   "execution_count": 24,
   "metadata": {
    "colab": {
     "base_uri": "https://localhost:8080/",
     "height": 209
    },
    "colab_type": "code",
    "id": "nI97Ln4atfE_",
    "outputId": "42f02cb7-258d-4e50-8257-1cde57561a07"
   },
   "outputs": [
    {
     "name": "stdout",
     "output_type": "stream",
     "text": [
      "27218\n"
     ]
    },
    {
     "data": {
      "text/plain": [
       "[[48, 1303],\n",
       " [48, 1303, 248],\n",
       " [48, 1303, 248, 342],\n",
       " [48, 1303, 248, 342, 10],\n",
       " [48, 1303, 248, 342, 10, 481],\n",
       " [59, 815],\n",
       " [59, 815, 816],\n",
       " [59, 815, 816, 22],\n",
       " [59, 815, 816, 22, 443],\n",
       " [59, 815, 816, 22, 443, 31]]"
      ]
     },
     "execution_count": 24,
     "metadata": {
      "tags": []
     },
     "output_type": "execute_result"
    }
   ],
   "source": [
    "print(len(input_sequences))\n",
    "input_sequences[:10]"
   ]
  },
  {
   "cell_type": "code",
   "execution_count": 25,
   "metadata": {
    "colab": {
     "base_uri": "https://localhost:8080/",
     "height": 139
    },
    "colab_type": "code",
    "id": "neKxP5KXtfFB",
    "outputId": "559a7886-4f70-4772-e833-6001ad4ee809"
   },
   "outputs": [
    {
     "data": {
      "text/plain": [
       "array([[   0,    0,    0, ...,    0,   48, 1303],\n",
       "       [   0,    0,    0, ...,   48, 1303,  248],\n",
       "       [   0,    0,    0, ..., 1303,  248,  342],\n",
       "       ...,\n",
       "       [   0,    0,    0, ...,    4,  275,   40],\n",
       "       [   0,    0,    0, ...,  275,   40,  494],\n",
       "       [   0,    0,    0, ...,   40,  494,  621]], dtype=int32)"
      ]
     },
     "execution_count": 25,
     "metadata": {
      "tags": []
     },
     "output_type": "execute_result"
    }
   ],
   "source": [
    "# pad sequences \n",
    "max_sequence_len = max([len(x) for x in input_sequences])\n",
    "\n",
    "input_sequences = np.array(pad_sequences(input_sequences, maxlen=max_sequence_len, padding='pre'))\n",
    "input_sequences"
   ]
  },
  {
   "cell_type": "code",
   "execution_count": 0,
   "metadata": {
    "colab": {},
    "colab_type": "code",
    "id": "ejnqC8LZtfFE"
   },
   "outputs": [],
   "source": [
    "text_dataset = tf.data.Dataset.from_tensor_slices(input_sequences)"
   ]
  },
  {
   "cell_type": "code",
   "execution_count": 0,
   "metadata": {
    "colab": {},
    "colab_type": "code",
    "id": "02XRjp6htfFH"
   },
   "outputs": [],
   "source": [
    "def split_input_target(chunk):\n",
    "    input_text = chunk[:-1]\n",
    "    target_text = chunk[-1]\n",
    "    return input_text, target_text"
   ]
  },
  {
   "cell_type": "code",
   "execution_count": 28,
   "metadata": {
    "colab": {
     "base_uri": "https://localhost:8080/",
     "height": 523
    },
    "colab_type": "code",
    "id": "CqJpy2c-tfFJ",
    "outputId": "746a6bcc-9b4a-43e9-e1e5-7f167904275c"
   },
   "outputs": [
    {
     "name": "stdout",
     "output_type": "stream",
     "text": [
      "tf.Tensor(\n",
      "[[   0    0    0 ...    0    0   48]\n",
      " [   0    0    0 ...    0   48 1303]\n",
      " [   0    0    0 ...   48 1303  248]\n",
      " ...\n",
      " [   0    0    0 ...    8 1317    4]\n",
      " [   0    0    0 ... 1317    4   17]\n",
      " [   0    0    0 ...    4   17   15]], shape=(256, 62), dtype=int32)\n",
      "\n",
      "tf.Tensor(\n",
      "[1303  248  342   10  481  815  816   22  443   31   24    1  151    6\n",
      "  704 1006   19   49  817    3   18  482   49 1304 1305  175  343    8\n",
      "    8  169   27 1306  151    8  203    1  204    6    1   48   44  258\n",
      " 1007   18   22  443   27  818   19  625 1826  248  342   10  481 1827\n",
      "  815  816 1828  819 1829 1830  443  820 1832  819  136  140 1307 1834\n",
      " 1308 1836  550 1309  196 1837 1008 1009    6   22   48   44  443  248\n",
      "  342   10  481  248  342   10  481  815  816    1 1838 1839 1310  373\n",
      "  344   14    1  110  705   12   13  274    4  115   29  551    6  405\n",
      "   59   17  483   20    1 1010    6  406  154    4   45  148   27  706\n",
      "    7   23 1011   68    1  374   17  483   13  821    8   23   49  822\n",
      "   27 1311   10    8   38   31    1  151    6    5  374   62   12 1841\n",
      "  822   27 1311    2   28    7   13 1012   10   17  407  375   16  121\n",
      "   16    7   57    1  552  162  155   17  484   29  707    3 1013    1\n",
      " 1312    6  485    5 1842 1843   58   25  823    1  626    6  205   39\n",
      "    3 1313    1 1844  315    5  156  110   18 1845  163  259  316   59\n",
      "   17   13  154   28   29 1314   10   15 1315   74   12   91    8   28\n",
      "   29   93   35    6    1   76    4  275    1  110   95    4  295  170\n",
      "  206  170   14  188   25  627    2   60    7   62    8  122 1316 1317\n",
      "    4   17   15    7], shape=(256,), dtype=int32)\n"
     ]
    }
   ],
   "source": [
    "dataset = text_dataset.map(split_input_target).batch(256, drop_remainder=True)\n",
    "\n",
    "for input, target in dataset.take(1):\n",
    "    print(input)\n",
    "    print()\n",
    "    print(target)"
   ]
  },
  {
   "cell_type": "code",
   "execution_count": 29,
   "metadata": {
    "colab": {
     "base_uri": "https://localhost:8080/",
     "height": 383
    },
    "colab_type": "code",
    "id": "w9vH8Y59ajYL",
    "outputId": "d5651ca3-b8b7-4091-ed98-ba7f911ba58e"
   },
   "outputs": [
    {
     "name": "stdout",
     "output_type": "stream",
     "text": [
      "Model: \"sequential_1\"\n",
      "_________________________________________________________________\n",
      "Layer (type)                 Output Shape              Param #   \n",
      "=================================================================\n",
      "embedding_1 (Embedding)      (None, None, 100)         333800    \n",
      "_________________________________________________________________\n",
      "bidirectional_1 (Bidirection (None, None, 64)          34048     \n",
      "_________________________________________________________________\n",
      "dropout_1 (Dropout)          (None, None, 64)          0         \n",
      "_________________________________________________________________\n",
      "lstm_3 (LSTM)                (None, 16)                5184      \n",
      "_________________________________________________________________\n",
      "dense_2 (Dense)              (None, 1669)              28373     \n",
      "_________________________________________________________________\n",
      "dense_3 (Dense)              (None, 3338)              5574460   \n",
      "=================================================================\n",
      "Total params: 5,975,865\n",
      "Trainable params: 5,975,865\n",
      "Non-trainable params: 0\n",
      "_________________________________________________________________\n",
      "None\n"
     ]
    }
   ],
   "source": [
    "model = Sequential()\n",
    "model.add(Embedding(total_words, 100))\n",
    "model.add(Bidirectional(LSTM(32, return_sequences = True)))\n",
    "model.add(Dropout(0.2))\n",
    "model.add(LSTM(16))\n",
    "model.add(Dense(total_words/2, activation='relu', kernel_regularizer=regularizers.l2(0.01)))\n",
    "model.add(Dense(total_words, activation='softmax'))\n",
    "\n",
    "model.compile(loss='sparse_categorical_crossentropy', optimizer='adam', metrics=['accuracy'])\n",
    "print(model.summary())"
   ]
  },
  {
   "cell_type": "code",
   "execution_count": 30,
   "metadata": {
    "colab": {
     "base_uri": "https://localhost:8080/",
     "height": 1000
    },
    "colab_type": "code",
    "id": "AIg2f1HBxqof",
    "outputId": "ee2ef47f-1ee0-4a70-8624-0107b441eec2",
    "scrolled": true
   },
   "outputs": [
    {
     "name": "stdout",
     "output_type": "stream",
     "text": [
      "Train for 106 steps\n",
      "Epoch 1/150\n",
      "106/106 [==============================] - 6s 56ms/step - loss: 6.9080 - accuracy: 0.0617\n",
      "Epoch 2/150\n",
      "106/106 [==============================] - 3s 32ms/step - loss: 6.2999 - accuracy: 0.0622\n",
      "Epoch 3/150\n",
      "106/106 [==============================] - 3s 33ms/step - loss: 6.1775 - accuracy: 0.0622\n",
      "Epoch 4/150\n",
      "106/106 [==============================] - 3s 32ms/step - loss: 6.1317 - accuracy: 0.0623\n",
      "Epoch 5/150\n",
      "106/106 [==============================] - 3s 32ms/step - loss: 6.0576 - accuracy: 0.0660\n",
      "Epoch 6/150\n",
      "106/106 [==============================] - 3s 32ms/step - loss: 5.9701 - accuracy: 0.0688\n",
      "Epoch 7/150\n",
      "106/106 [==============================] - 3s 32ms/step - loss: 5.8958 - accuracy: 0.0737\n",
      "Epoch 8/150\n",
      "106/106 [==============================] - 3s 32ms/step - loss: 5.8262 - accuracy: 0.0777\n",
      "Epoch 9/150\n",
      "106/106 [==============================] - 3s 32ms/step - loss: 5.7446 - accuracy: 0.0846\n",
      "Epoch 10/150\n",
      "106/106 [==============================] - 3s 32ms/step - loss: 5.6617 - accuracy: 0.0928\n",
      "Epoch 11/150\n",
      "106/106 [==============================] - 3s 32ms/step - loss: 5.5839 - accuracy: 0.0992\n",
      "Epoch 12/150\n",
      "106/106 [==============================] - 3s 32ms/step - loss: 5.5116 - accuracy: 0.1064\n",
      "Epoch 13/150\n",
      "106/106 [==============================] - 3s 32ms/step - loss: 5.4397 - accuracy: 0.1110\n",
      "Epoch 14/150\n",
      "106/106 [==============================] - 3s 32ms/step - loss: 5.3744 - accuracy: 0.1139\n",
      "Epoch 15/150\n",
      "106/106 [==============================] - 3s 32ms/step - loss: 5.3144 - accuracy: 0.1177\n",
      "Epoch 16/150\n",
      "106/106 [==============================] - 3s 32ms/step - loss: 5.2554 - accuracy: 0.1212\n",
      "Epoch 17/150\n",
      "106/106 [==============================] - 3s 32ms/step - loss: 5.2029 - accuracy: 0.1255\n",
      "Epoch 18/150\n",
      "106/106 [==============================] - 3s 32ms/step - loss: 5.1506 - accuracy: 0.1315\n",
      "Epoch 19/150\n",
      "106/106 [==============================] - 3s 32ms/step - loss: 5.1036 - accuracy: 0.1348\n",
      "Epoch 20/150\n",
      "106/106 [==============================] - 3s 33ms/step - loss: 5.0593 - accuracy: 0.1380\n",
      "Epoch 21/150\n",
      "106/106 [==============================] - 3s 33ms/step - loss: 5.0155 - accuracy: 0.1423\n",
      "Epoch 22/150\n",
      "106/106 [==============================] - 3s 32ms/step - loss: 4.9790 - accuracy: 0.1459\n",
      "Epoch 23/150\n",
      "106/106 [==============================] - 3s 32ms/step - loss: 4.9434 - accuracy: 0.1470\n",
      "Epoch 24/150\n",
      "106/106 [==============================] - 3s 31ms/step - loss: 4.9065 - accuracy: 0.1512\n",
      "Epoch 25/150\n",
      "106/106 [==============================] - 3s 32ms/step - loss: 4.8673 - accuracy: 0.1540\n",
      "Epoch 26/150\n",
      "106/106 [==============================] - 3s 32ms/step - loss: 4.8369 - accuracy: 0.1586\n",
      "Epoch 27/150\n",
      "106/106 [==============================] - 3s 32ms/step - loss: 4.8096 - accuracy: 0.1582\n",
      "Epoch 28/150\n",
      "106/106 [==============================] - 3s 32ms/step - loss: 4.7759 - accuracy: 0.1621\n",
      "Epoch 29/150\n",
      "106/106 [==============================] - 3s 32ms/step - loss: 4.7460 - accuracy: 0.1638\n",
      "Epoch 30/150\n",
      "106/106 [==============================] - 3s 32ms/step - loss: 4.7160 - accuracy: 0.1677\n",
      "Epoch 31/150\n",
      "106/106 [==============================] - 3s 32ms/step - loss: 4.6864 - accuracy: 0.1695\n",
      "Epoch 32/150\n",
      "106/106 [==============================] - 3s 32ms/step - loss: 4.6622 - accuracy: 0.1728\n",
      "Epoch 33/150\n",
      "106/106 [==============================] - 3s 32ms/step - loss: 4.6368 - accuracy: 0.1741\n",
      "Epoch 34/150\n",
      "106/106 [==============================] - 3s 32ms/step - loss: 4.6130 - accuracy: 0.1770\n",
      "Epoch 35/150\n",
      "106/106 [==============================] - 3s 32ms/step - loss: 4.5843 - accuracy: 0.1797\n",
      "Epoch 36/150\n",
      "106/106 [==============================] - 3s 31ms/step - loss: 4.5661 - accuracy: 0.1822\n",
      "Epoch 37/150\n",
      "106/106 [==============================] - 3s 32ms/step - loss: 4.5402 - accuracy: 0.1848\n",
      "Epoch 38/150\n",
      "106/106 [==============================] - 3s 32ms/step - loss: 4.5095 - accuracy: 0.1872\n",
      "Epoch 39/150\n",
      "106/106 [==============================] - 3s 32ms/step - loss: 4.4873 - accuracy: 0.1900\n",
      "Epoch 40/150\n",
      "106/106 [==============================] - 3s 32ms/step - loss: 4.4587 - accuracy: 0.1917\n",
      "Epoch 41/150\n",
      "106/106 [==============================] - 3s 32ms/step - loss: 4.4337 - accuracy: 0.1942\n",
      "Epoch 42/150\n",
      "106/106 [==============================] - 3s 32ms/step - loss: 4.4045 - accuracy: 0.1975\n",
      "Epoch 43/150\n",
      "106/106 [==============================] - 3s 31ms/step - loss: 4.3792 - accuracy: 0.1995\n",
      "Epoch 44/150\n",
      "106/106 [==============================] - 3s 32ms/step - loss: 4.3539 - accuracy: 0.2026\n",
      "Epoch 45/150\n",
      "106/106 [==============================] - 3s 32ms/step - loss: 4.3289 - accuracy: 0.2037\n",
      "Epoch 46/150\n",
      "106/106 [==============================] - 3s 32ms/step - loss: 4.3001 - accuracy: 0.2071\n",
      "Epoch 47/150\n",
      "106/106 [==============================] - 3s 32ms/step - loss: 4.2757 - accuracy: 0.2101\n",
      "Epoch 48/150\n",
      "106/106 [==============================] - 3s 31ms/step - loss: 4.2595 - accuracy: 0.2126\n",
      "Epoch 49/150\n",
      "106/106 [==============================] - 3s 32ms/step - loss: 4.2259 - accuracy: 0.2147\n",
      "Epoch 50/150\n",
      "106/106 [==============================] - 3s 31ms/step - loss: 4.2119 - accuracy: 0.2152\n",
      "Epoch 51/150\n",
      "106/106 [==============================] - 3s 32ms/step - loss: 4.1877 - accuracy: 0.2167\n",
      "Epoch 52/150\n",
      "106/106 [==============================] - 3s 32ms/step - loss: 4.1690 - accuracy: 0.2174\n",
      "Epoch 53/150\n",
      "106/106 [==============================] - 3s 32ms/step - loss: 4.1359 - accuracy: 0.2218\n",
      "Epoch 54/150\n",
      "106/106 [==============================] - 3s 32ms/step - loss: 4.1138 - accuracy: 0.2258\n",
      "Epoch 55/150\n",
      "106/106 [==============================] - 3s 32ms/step - loss: 4.0899 - accuracy: 0.2268\n",
      "Epoch 56/150\n",
      "106/106 [==============================] - 3s 32ms/step - loss: 4.0749 - accuracy: 0.2292\n",
      "Epoch 57/150\n",
      "106/106 [==============================] - 3s 31ms/step - loss: 4.0519 - accuracy: 0.2297\n",
      "Epoch 58/150\n",
      "106/106 [==============================] - 3s 32ms/step - loss: 4.0310 - accuracy: 0.2343\n",
      "Epoch 59/150\n",
      "106/106 [==============================] - 3s 32ms/step - loss: 4.0092 - accuracy: 0.2364\n",
      "Epoch 60/150\n",
      "106/106 [==============================] - 3s 32ms/step - loss: 3.9901 - accuracy: 0.2374\n",
      "Epoch 61/150\n",
      "106/106 [==============================] - 3s 32ms/step - loss: 3.9657 - accuracy: 0.2396\n",
      "Epoch 62/150\n",
      "106/106 [==============================] - 3s 32ms/step - loss: 3.9511 - accuracy: 0.2424\n",
      "Epoch 63/150\n",
      "106/106 [==============================] - 3s 32ms/step - loss: 3.9420 - accuracy: 0.2412\n",
      "Epoch 64/150\n",
      "106/106 [==============================] - 3s 32ms/step - loss: 3.9448 - accuracy: 0.2401\n",
      "Epoch 65/150\n",
      "106/106 [==============================] - 3s 32ms/step - loss: 3.9135 - accuracy: 0.2425\n",
      "Epoch 66/150\n",
      "106/106 [==============================] - 3s 32ms/step - loss: 3.8792 - accuracy: 0.2465\n",
      "Epoch 67/150\n",
      "106/106 [==============================] - 3s 32ms/step - loss: 3.8545 - accuracy: 0.2505\n",
      "Epoch 68/150\n",
      "106/106 [==============================] - 3s 32ms/step - loss: 3.8526 - accuracy: 0.2536\n",
      "Epoch 69/150\n",
      "106/106 [==============================] - 3s 32ms/step - loss: 3.8270 - accuracy: 0.2547\n",
      "Epoch 70/150\n",
      "106/106 [==============================] - 3s 31ms/step - loss: 3.8149 - accuracy: 0.2562\n",
      "Epoch 71/150\n",
      "106/106 [==============================] - 3s 32ms/step - loss: 3.7956 - accuracy: 0.2578\n",
      "Epoch 72/150\n",
      "106/106 [==============================] - 3s 31ms/step - loss: 3.7740 - accuracy: 0.2581\n",
      "Epoch 73/150\n",
      "106/106 [==============================] - 3s 32ms/step - loss: 3.7588 - accuracy: 0.2621\n",
      "Epoch 74/150\n",
      "106/106 [==============================] - 3s 32ms/step - loss: 3.7389 - accuracy: 0.2654\n",
      "Epoch 75/150\n",
      "106/106 [==============================] - 3s 32ms/step - loss: 3.7268 - accuracy: 0.2665\n",
      "Epoch 76/150\n",
      "106/106 [==============================] - 3s 32ms/step - loss: 3.7085 - accuracy: 0.2654\n",
      "Epoch 77/150\n",
      "106/106 [==============================] - 3s 31ms/step - loss: 3.6892 - accuracy: 0.2682\n",
      "Epoch 78/150\n",
      "106/106 [==============================] - 3s 32ms/step - loss: 3.6775 - accuracy: 0.2729\n",
      "Epoch 79/150\n",
      "106/106 [==============================] - 3s 32ms/step - loss: 3.6640 - accuracy: 0.2719\n",
      "Epoch 80/150\n",
      "106/106 [==============================] - 3s 32ms/step - loss: 3.6481 - accuracy: 0.2762\n",
      "Epoch 81/150\n",
      "106/106 [==============================] - 3s 32ms/step - loss: 3.6313 - accuracy: 0.2779\n",
      "Epoch 82/150\n",
      "106/106 [==============================] - 3s 32ms/step - loss: 3.6168 - accuracy: 0.2773\n",
      "Epoch 83/150\n",
      "106/106 [==============================] - 3s 32ms/step - loss: 3.6014 - accuracy: 0.2801\n",
      "Epoch 84/150\n",
      "106/106 [==============================] - 3s 31ms/step - loss: 3.5866 - accuracy: 0.2832\n",
      "Epoch 85/150\n",
      "106/106 [==============================] - 3s 32ms/step - loss: 3.5698 - accuracy: 0.2835\n",
      "Epoch 86/150\n",
      "106/106 [==============================] - 3s 31ms/step - loss: 3.5626 - accuracy: 0.2851\n",
      "Epoch 87/150\n",
      "106/106 [==============================] - 3s 32ms/step - loss: 3.5464 - accuracy: 0.2857\n",
      "Epoch 88/150\n",
      "106/106 [==============================] - 3s 32ms/step - loss: 3.5372 - accuracy: 0.2879\n",
      "Epoch 89/150\n",
      "106/106 [==============================] - 3s 32ms/step - loss: 3.5151 - accuracy: 0.2914\n",
      "Epoch 90/150\n",
      "106/106 [==============================] - 3s 32ms/step - loss: 3.4967 - accuracy: 0.2934\n",
      "Epoch 91/150\n",
      "106/106 [==============================] - 3s 32ms/step - loss: 3.4819 - accuracy: 0.2985\n",
      "Epoch 92/150\n",
      "106/106 [==============================] - 3s 32ms/step - loss: 3.4698 - accuracy: 0.2981\n",
      "Epoch 93/150\n",
      "106/106 [==============================] - 3s 31ms/step - loss: 3.4577 - accuracy: 0.2982\n",
      "Epoch 94/150\n",
      "106/106 [==============================] - 3s 33ms/step - loss: 3.4525 - accuracy: 0.2997\n",
      "Epoch 95/150\n",
      "106/106 [==============================] - 3s 32ms/step - loss: 3.4301 - accuracy: 0.2997\n",
      "Epoch 96/150\n",
      "106/106 [==============================] - 3s 32ms/step - loss: 3.4366 - accuracy: 0.3007\n",
      "Epoch 97/150\n",
      "106/106 [==============================] - 3s 32ms/step - loss: 3.4259 - accuracy: 0.3013\n",
      "Epoch 98/150\n",
      "106/106 [==============================] - 3s 33ms/step - loss: 3.3987 - accuracy: 0.3067\n",
      "Epoch 99/150\n",
      "106/106 [==============================] - 4s 33ms/step - loss: 3.3813 - accuracy: 0.3094\n",
      "Epoch 100/150\n",
      "106/106 [==============================] - 3s 33ms/step - loss: 3.3668 - accuracy: 0.3110\n",
      "Epoch 101/150\n",
      "106/106 [==============================] - 3s 32ms/step - loss: 3.3602 - accuracy: 0.3139\n",
      "Epoch 102/150\n",
      "106/106 [==============================] - 3s 32ms/step - loss: 3.3380 - accuracy: 0.3140\n",
      "Epoch 103/150\n",
      "106/106 [==============================] - 3s 32ms/step - loss: 3.3329 - accuracy: 0.3129\n",
      "Epoch 104/150\n",
      "106/106 [==============================] - 3s 32ms/step - loss: 3.3207 - accuracy: 0.3167\n",
      "Epoch 105/150\n",
      "106/106 [==============================] - 3s 32ms/step - loss: 3.3070 - accuracy: 0.3181\n",
      "Epoch 106/150\n",
      "106/106 [==============================] - 3s 32ms/step - loss: 3.2961 - accuracy: 0.3227\n",
      "Epoch 107/150\n",
      "106/106 [==============================] - 3s 32ms/step - loss: 3.2818 - accuracy: 0.3259\n",
      "Epoch 108/150\n",
      "106/106 [==============================] - 3s 31ms/step - loss: 3.2963 - accuracy: 0.3202\n",
      "Epoch 109/150\n",
      "106/106 [==============================] - 3s 33ms/step - loss: 3.2800 - accuracy: 0.3220\n",
      "Epoch 110/150\n",
      "106/106 [==============================] - 3s 32ms/step - loss: 3.2560 - accuracy: 0.3255\n",
      "Epoch 111/150\n",
      "106/106 [==============================] - 3s 32ms/step - loss: 3.2406 - accuracy: 0.3285\n",
      "Epoch 112/150\n",
      "106/106 [==============================] - 4s 34ms/step - loss: 3.2394 - accuracy: 0.3275\n",
      "Epoch 113/150\n",
      "106/106 [==============================] - 4s 33ms/step - loss: 3.2173 - accuracy: 0.3321\n",
      "Epoch 114/150\n",
      "106/106 [==============================] - 4s 33ms/step - loss: 3.2025 - accuracy: 0.3332\n",
      "Epoch 115/150\n",
      "106/106 [==============================] - 3s 32ms/step - loss: 3.1869 - accuracy: 0.3374\n",
      "Epoch 116/150\n",
      "106/106 [==============================] - 3s 33ms/step - loss: 3.1659 - accuracy: 0.3433\n",
      "Epoch 117/150\n",
      "106/106 [==============================] - 3s 32ms/step - loss: 3.1531 - accuracy: 0.3440\n",
      "Epoch 118/150\n",
      "106/106 [==============================] - 4s 34ms/step - loss: 3.1587 - accuracy: 0.3430\n",
      "Epoch 119/150\n",
      "106/106 [==============================] - 3s 33ms/step - loss: 3.1506 - accuracy: 0.3433\n",
      "Epoch 120/150\n",
      "106/106 [==============================] - 3s 32ms/step - loss: 3.1365 - accuracy: 0.3456\n",
      "Epoch 121/150\n",
      "106/106 [==============================] - 4s 33ms/step - loss: 3.1143 - accuracy: 0.3485\n",
      "Epoch 122/150\n",
      "106/106 [==============================] - 3s 32ms/step - loss: 3.1489 - accuracy: 0.3459\n",
      "Epoch 123/150\n",
      "106/106 [==============================] - 3s 32ms/step - loss: 3.1115 - accuracy: 0.3485\n",
      "Epoch 124/150\n",
      "106/106 [==============================] - 3s 32ms/step - loss: 3.0889 - accuracy: 0.3532\n",
      "Epoch 125/150\n",
      "106/106 [==============================] - 3s 31ms/step - loss: 3.0815 - accuracy: 0.3552\n",
      "Epoch 126/150\n",
      "106/106 [==============================] - 3s 32ms/step - loss: 3.0691 - accuracy: 0.3548\n",
      "Epoch 127/150\n",
      "106/106 [==============================] - 3s 32ms/step - loss: 3.0519 - accuracy: 0.3624\n",
      "Epoch 128/150\n",
      "106/106 [==============================] - 3s 32ms/step - loss: 3.0389 - accuracy: 0.3649\n",
      "Epoch 129/150\n",
      "106/106 [==============================] - 3s 31ms/step - loss: 3.0375 - accuracy: 0.3642\n",
      "Epoch 130/150\n",
      "106/106 [==============================] - 3s 32ms/step - loss: 3.0239 - accuracy: 0.3673\n",
      "Epoch 131/150\n",
      "106/106 [==============================] - 3s 32ms/step - loss: 3.0087 - accuracy: 0.3704\n",
      "Epoch 132/150\n",
      "106/106 [==============================] - 3s 31ms/step - loss: 2.9979 - accuracy: 0.3703\n",
      "Epoch 133/150\n",
      "106/106 [==============================] - 3s 31ms/step - loss: 2.9878 - accuracy: 0.3708\n",
      "Epoch 134/150\n",
      "106/106 [==============================] - 3s 32ms/step - loss: 2.9795 - accuracy: 0.3723\n",
      "Epoch 135/150\n",
      "106/106 [==============================] - 3s 31ms/step - loss: 2.9617 - accuracy: 0.3772\n",
      "Epoch 136/150\n",
      "106/106 [==============================] - 3s 32ms/step - loss: 2.9514 - accuracy: 0.3781\n",
      "Epoch 137/150\n",
      "106/106 [==============================] - 3s 31ms/step - loss: 2.9428 - accuracy: 0.3798\n",
      "Epoch 138/150\n",
      "106/106 [==============================] - 3s 31ms/step - loss: 2.9389 - accuracy: 0.3809\n",
      "Epoch 139/150\n",
      "106/106 [==============================] - 3s 31ms/step - loss: 2.9193 - accuracy: 0.3831\n",
      "Epoch 140/150\n",
      "106/106 [==============================] - 3s 31ms/step - loss: 2.9285 - accuracy: 0.3844\n",
      "Epoch 141/150\n",
      "106/106 [==============================] - 3s 31ms/step - loss: 2.9013 - accuracy: 0.3876\n",
      "Epoch 142/150\n",
      "106/106 [==============================] - 3s 32ms/step - loss: 2.8923 - accuracy: 0.3898\n",
      "Epoch 143/150\n",
      "106/106 [==============================] - 3s 32ms/step - loss: 2.8818 - accuracy: 0.3928\n",
      "Epoch 144/150\n",
      "106/106 [==============================] - 3s 32ms/step - loss: 2.8816 - accuracy: 0.3944\n",
      "Epoch 145/150\n",
      "106/106 [==============================] - 3s 32ms/step - loss: 2.8765 - accuracy: 0.3921\n",
      "Epoch 146/150\n",
      "106/106 [==============================] - 3s 31ms/step - loss: 2.8687 - accuracy: 0.3930\n",
      "Epoch 147/150\n",
      "106/106 [==============================] - 3s 31ms/step - loss: 2.8626 - accuracy: 0.3966\n",
      "Epoch 148/150\n",
      "106/106 [==============================] - 3s 31ms/step - loss: 2.8652 - accuracy: 0.3943\n",
      "Epoch 149/150\n",
      "106/106 [==============================] - 3s 32ms/step - loss: 2.8380 - accuracy: 0.3995\n",
      "Epoch 150/150\n",
      "106/106 [==============================] - 3s 32ms/step - loss: 2.8301 - accuracy: 0.4003\n",
      "CPU times: user 9min 18s, sys: 57.1 s, total: 10min 15s\n",
      "Wall time: 8min 30s\n"
     ]
    }
   ],
   "source": [
    "%%time\n",
    "history = model.fit(dataset, epochs=150, verbose=1)"
   ]
  },
  {
   "cell_type": "code",
   "execution_count": 31,
   "metadata": {
    "colab": {
     "base_uri": "https://localhost:8080/",
     "height": 281
    },
    "colab_type": "code",
    "id": "1fXTEO3GJ282",
    "outputId": "951b05d4-7648-44e9-8091-2b517a3f016f"
   },
   "outputs": [
    {
     "data": {
      "image/png": "[encoded data removed]",
      "text/plain": [
       "<Figure size 864x288 with 2 Axes>"
      ]
     },
     "metadata": {
      "tags": []
     },
     "output_type": "display_data"
    }
   ],
   "source": [
    "import matplotlib.pyplot as plt\n",
    "%matplotlib inline\n",
    "\n",
    "acc = history.history['accuracy']\n",
    "loss = history.history['loss']\n",
    "\n",
    "epochs = range(len(acc))\n",
    "\n",
    "plt.figure(figsize=(12,4))\n",
    "\n",
    "plt.subplot(1, 2, 1)\n",
    "plt.plot(epochs, acc, 'b', label='Training accuracy')\n",
    "plt.title('Training accuracy')\n",
    "\n",
    "plt.subplot(1, 2, 2)\n",
    "plt.plot(epochs, loss, 'b', label='Training Loss')\n",
    "plt.title('Training loss')\n",
    "plt.legend()\n",
    "\n",
    "plt.show()"
   ]
  },
  {
   "cell_type": "code",
   "execution_count": 32,
   "metadata": {
    "colab": {
     "base_uri": "https://localhost:8080/",
     "height": 54
    },
    "colab_type": "code",
    "id": "MPTokoLYxCvI",
    "outputId": "10b5dea3-b316-49fb-ab6a-b9995506fe0b"
   },
   "outputs": [
    {
     "name": "stdout",
     "output_type": "stream",
     "text": [
      "Help me Obi Wan Kenobi, you're my only hope the united states and you are not not gone ' said the king 'and to find her eyes nor try the little head again to save her head from the little tea about on it ' and the white rabbit said ' said the king in a officers of the court that as your sea was going into a sun and a user who notifies you to ask all it as your history of the terms of the united states on the top of the house ' and she said to herself to herself in her eyes by the jury\n"
     ]
    }
   ],
   "source": [
    "seed_text = \"Help me Obi Wan Kenobi, you're my only hope\"\n",
    "next_words = 100\n",
    "\n",
    "for _ in range(next_words):\n",
    "    token_list = tokenizer.texts_to_sequences([seed_text])[0]\n",
    "    token_list = pad_sequences([token_list], maxlen=max_sequence_len-1, padding='pre')\n",
    "    predicted = model.predict_classes(token_list, verbose=0)\n",
    "    output_word = tokenizer.index_word[predicted[0]]\n",
    "    seed_text += \" \" + output_word\n",
    "print(seed_text)"
   ]
  },
  {
   "cell_type": "code",
   "execution_count": 0,
   "metadata": {
    "colab": {},
    "colab_type": "code",
    "id": "AJzIYX4Fw574"
   },
   "outputs": [],
   "source": []
  }
 ],
 "metadata": {
  "accelerator": "GPU",
  "colab": {
   "collapsed_sections": [],
   "name": "190_Generating_LSTM_Sentences_AliceWonderland_next_word.ipynb",
   "provenance": []
  },
  "kernelspec": {
   "display_name": "Python 3",
   "language": "python",
   "name": "python3"
  },
  "language_info": {
   "codemirror_mode": {
    "name": "ipython",
    "version": 3
   },
   "file_extension": ".py",
   "mimetype": "text/x-python",
   "name": "python",
   "nbconvert_exporter": "python",
   "pygments_lexer": "ipython3",
   "version": "3.7.6"
  }
 },
 "nbformat": 4,
 "nbformat_minor": 1
}
