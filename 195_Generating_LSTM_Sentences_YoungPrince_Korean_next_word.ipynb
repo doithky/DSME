{
  "nbformat": 4,
  "nbformat_minor": 0,
  "metadata": {
    "accelerator": "GPU",
    "colab": {
      "name": "195_Generating_LSTM_Sentences_YoungPrince_Korean_next_word.ipynb",
      "provenance": []
    },
    "kernelspec": {
      "display_name": "Python 3",
      "language": "python",
      "name": "python3"
    },
    "language_info": {
      "codemirror_mode": {
        "name": "ipython",
        "version": 3
      },
      "file_extension": ".py",
      "mimetype": "text/x-python",
      "name": "python",
      "nbconvert_exporter": "python",
      "pygments_lexer": "ipython3",
      "version": "3.7.6"
    }
  },
  "cells": [
    {
      "cell_type": "markdown",
      "metadata": {
        "colab_type": "text",
        "id": "ZyxyanlZ5aJp"
      },
      "source": [
        "# 195. Keras API 와 LSTM 을 이용한 한글 어린왕자 문장 생성기\n",
        "\n",
        "- next word 예측"
      ]
    },
    {
      "cell_type": "code",
      "metadata": {
        "colab_type": "code",
        "id": "BOwsuGQQY9OL",
        "colab": {}
      },
      "source": [
        "import tensorflow as tf\n",
        "import numpy as np\n",
        "from tensorflow.keras.preprocessing.sequence import pad_sequences\n",
        "from tensorflow.keras.layers import Embedding, LSTM, Dense, Dropout, Bidirectional\n",
        "from tensorflow.keras.preprocessing.text import Tokenizer\n",
        "from tensorflow.keras.models import Sequential\n",
        "import tensorflow.keras.regularizers as regularizers"
      ],
      "execution_count": 0,
      "outputs": []
    },
    {
      "cell_type": "code",
      "metadata": {
        "id": "ZimSMFiHv_pL",
        "colab_type": "code",
        "colab": {}
      },
      "source": [
        "path_to_file = tf.keras.utils.get_file('alice.txt', \"https://github.com/ironmanciti/DSME/raw/master/datasets/%EC%96%B4%EB%A6%B0%EC%99%95%EC%9E%90-dmsah10.txt\")"
      ],
      "execution_count": 0,
      "outputs": []
    },
    {
      "cell_type": "code",
      "metadata": {
        "colab_type": "code",
        "id": "n19R9Jpy5aJu",
        "outputId": "02b18737-1c1a-42fd-89b9-c69773b3633b",
        "colab": {
          "base_uri": "https://localhost:8080/",
          "height": 55
        }
      },
      "source": [
        "r = open(path_to_file, 'r', encoding='cp949')\n",
        "\n",
        "texts = r.readlines()\n",
        "lines = []\n",
        "\n",
        "for line in texts:\n",
        "    line = line.strip().lower()\n",
        "    if len(line) == 0:\n",
        "        continue\n",
        "    lines.append(line)\n",
        "\n",
        "text = \" \".join(lines)\n",
        "text[:1000]"
      ],
      "execution_count": 11,
      "outputs": [
        {
          "output_type": "execute_result",
          "data": {
            "text/plain": [
              "'여섯 살 적에 나는 \"체험한 이야기\"라는 제목의, 원시림에 관한 책에서 기막힌 그림 하나를 본 적이 있다. 맹수를 집어삼키고 있는 보아 구렁이 그림이었다. 위의 그림은 그것을 옮겨 그린 것이다. 그 책에는 이렇게 씌어 있었다. \"보아 구렁이는 먹이를 씹지도 않고 통째로 집어삼킨다.그리고는 꼼짝도 하지 못하고 여섯 달 동안 잠을 자면서 그것을 소화시킨다.\" 나는 그래서 밀림 속에서의 모험에 대해 한참 생각해 보고 난 끝에 색연필을 가지고 내 나름대로 내 생애 첫번째 그림을 그려보았다. 나의 그림 제 1호였다. 그것은 이런 그림이었다. 나는 그 걸작품을 어른들에게 보여 주면서내 그림이 무섭지 않느냐고 물었다. 그들은 \"모자가 뭐가 무섭다는 거니?\" 하고 대답했다. 내 그림은 모자를 그린 게 아니었다. 그것은 코끼리를 소화시키고 있는 보아 구렁이었다. 그래서 나는 어른들이 알아볼 수 있도록 보아 구렁이의 속을 그렸다. 어른들은 언제나 설명을 해주어야만 한다. 나의 그림 제 2호는 이러했다. 어른들은 속이 보이거나 보이지 않거나 하는 보아 구렁이의 그림들은 집어치우고 차라리 지리, 역사, 계산, 그리고 문법 쪽에 관심을 가져보는 게 좋을 것이라고 충고해 주었다. 그래서 나는 여섯 살 적에 화가라는 멋진 직업을 포기해 버렸다.내 그림제 1호와 제 2호가 성공을 거두지 못한 데 낙심해 버렸던 것이다. 어른들은언제나 스스로는 아무것도 이해하지 못한다.자꾸자꾸 설명을 해주어야 하니 맥빠지는 노릇이 아닐 수 없다. 그래서 다른 직업을 선택하지 않을 수 없게 된 나는 비행기 조종하는 법을배웠다.세계의 여기저기 거의 안 가본 데 없이 나는 날아다녔다.그러니지리는 정말로 많은 도움을 준 셈이었다.한번 슬쩍 보고도 중국과 애리조나를 나는 구별할 수 있었던 것이다.그것은 밤에 길을 잃었을 때 아주 유용한 일이다. 나는 그리하여 일생 동안 수없이 많은 점잖은 사람들과수많은 접촉을 가져왔다.어른들 틈에서 많이 살아온 것이다.나는 가까이서 그들을 볼 수있었다. 그렇다고 해서 그들에 대한 내'"
            ]
          },
          "metadata": {
            "tags": []
          },
          "execution_count": 11
        }
      ]
    },
    {
      "cell_type": "code",
      "metadata": {
        "colab_type": "code",
        "id": "7SZhigNh5aJx",
        "colab": {}
      },
      "source": [
        "import re\n",
        "\n",
        "corpus = re.split('[,.]', text)"
      ],
      "execution_count": 0,
      "outputs": []
    },
    {
      "cell_type": "code",
      "metadata": {
        "colab_type": "code",
        "id": "zk-Kn9785aJ0",
        "outputId": "00afac04-f199-48d6-e8f5-266ffe92bcf7",
        "colab": {
          "base_uri": "https://localhost:8080/",
          "height": 196
        }
      },
      "source": [
        "corpus[:10]"
      ],
      "execution_count": 13,
      "outputs": [
        {
          "output_type": "execute_result",
          "data": {
            "text/plain": [
              "['여섯 살 적에 나는 \"체험한 이야기\"라는 제목의',\n",
              " ' 원시림에 관한 책에서 기막힌 그림 하나를 본 적이 있다',\n",
              " ' 맹수를 집어삼키고 있는 보아 구렁이 그림이었다',\n",
              " ' 위의 그림은 그것을 옮겨 그린 것이다',\n",
              " ' 그 책에는 이렇게 씌어 있었다',\n",
              " ' \"보아 구렁이는 먹이를 씹지도 않고 통째로 집어삼킨다',\n",
              " '그리고는 꼼짝도 하지 못하고 여섯 달 동안 잠을 자면서 그것을 소화시킨다',\n",
              " '\" 나는 그래서 밀림 속에서의 모험에 대해 한참 생각해 보고 난 끝에 색연필을 가지고 내 나름대로 내 생애 첫번째 그림을 그려보았다',\n",
              " ' 나의 그림 제 1호였다',\n",
              " ' 그것은 이런 그림이었다']"
            ]
          },
          "metadata": {
            "tags": []
          },
          "execution_count": 13
        }
      ]
    },
    {
      "cell_type": "code",
      "metadata": {
        "colab_type": "code",
        "id": "B0aXEN_15aJ2",
        "outputId": "fbb83c1e-2aeb-49ce-f6dc-ae4ad194eeda",
        "colab": {
          "base_uri": "https://localhost:8080/",
          "height": 35
        }
      },
      "source": [
        "tokenizer = Tokenizer()\n",
        "\n",
        "tokenizer.fit_on_texts(corpus)\n",
        "total_words = len(tokenizer.word_index) + 1\n",
        "print(total_words)"
      ],
      "execution_count": 14,
      "outputs": [
        {
          "output_type": "stream",
          "text": [
            "4594\n"
          ],
          "name": "stdout"
        }
      ]
    },
    {
      "cell_type": "code",
      "metadata": {
        "colab_type": "code",
        "id": "rn-AIOff5aJ4",
        "colab": {}
      },
      "source": [
        "# create input sequences using list of tokens\n",
        "input_sequences = []\n",
        "\n",
        "for line in corpus:\n",
        "    token_list = tokenizer.texts_to_sequences([line])[0]\n",
        "    for i in range(1, len(token_list)):\n",
        "        n_gram_sequence = token_list[:i+1]\n",
        "        input_sequences.append(n_gram_sequence)"
      ],
      "execution_count": 0,
      "outputs": []
    },
    {
      "cell_type": "code",
      "metadata": {
        "colab_type": "code",
        "id": "tsplC63C5aJ6",
        "outputId": "4297345b-e66c-4b9c-d787-990936b41aed",
        "colab": {
          "base_uri": "https://localhost:8080/",
          "height": 214
        }
      },
      "source": [
        "print(len(input_sequences))\n",
        "input_sequences[:10]"
      ],
      "execution_count": 16,
      "outputs": [
        {
          "output_type": "stream",
          "text": [
            "9365\n"
          ],
          "name": "stdout"
        },
        {
          "output_type": "execute_result",
          "data": {
            "text/plain": [
              "[[142, 245],\n",
              " [142, 245, 371],\n",
              " [142, 245, 371, 3],\n",
              " [142, 245, 371, 3, 1322],\n",
              " [142, 245, 371, 3, 1322, 739],\n",
              " [142, 245, 371, 3, 1322, 739, 372],\n",
              " [142, 245, 371, 3, 1322, 739, 372, 1323],\n",
              " [1324, 1325],\n",
              " [1324, 1325, 1326],\n",
              " [1324, 1325, 1326, 1327]]"
            ]
          },
          "metadata": {
            "tags": []
          },
          "execution_count": 16
        }
      ]
    },
    {
      "cell_type": "code",
      "metadata": {
        "colab_type": "code",
        "id": "-kSzQM4p5aJ8",
        "outputId": "d401f744-e587-4af5-bbaf-74cb7cc2597d",
        "colab": {
          "base_uri": "https://localhost:8080/",
          "height": 143
        }
      },
      "source": [
        "# pad sequences \n",
        "max_sequence_len = max([len(x) for x in input_sequences])\n",
        "\n",
        "input_sequences = np.array(pad_sequences(input_sequences, maxlen=max_sequence_len, padding='pre'))\n",
        "input_sequences"
      ],
      "execution_count": 17,
      "outputs": [
        {
          "output_type": "execute_result",
          "data": {
            "text/plain": [
              "array([[   0,    0,    0, ...,    0,  142,  245],\n",
              "       [   0,    0,    0, ...,  142,  245,  371],\n",
              "       [   0,    0,    0, ...,  245,  371,    3],\n",
              "       ...,\n",
              "       [   0,    0,    0, ..., 4591, 1139, 4592],\n",
              "       [   0,    0,    0, ..., 1139, 4592, 4593],\n",
              "       [   0,    0,    0, ..., 4592, 4593,  525]], dtype=int32)"
            ]
          },
          "metadata": {
            "tags": []
          },
          "execution_count": 17
        }
      ]
    },
    {
      "cell_type": "code",
      "metadata": {
        "colab_type": "code",
        "id": "yU3N25jx5aJ-",
        "colab": {}
      },
      "source": [
        "text_dataset = tf.data.Dataset.from_tensor_slices(input_sequences)"
      ],
      "execution_count": 0,
      "outputs": []
    },
    {
      "cell_type": "code",
      "metadata": {
        "colab_type": "code",
        "id": "YWPQPgs05aKB",
        "colab": {}
      },
      "source": [
        "def split_input_target(chunk):\n",
        "    input_text = chunk[:-1]\n",
        "    target_text = chunk[-1]\n",
        "    return input_text, target_text"
      ],
      "execution_count": 0,
      "outputs": []
    },
    {
      "cell_type": "code",
      "metadata": {
        "colab_type": "code",
        "id": "PlE-4oP55aKF",
        "outputId": "4a4b7385-5713-418e-e403-6518119426fd",
        "colab": {
          "base_uri": "https://localhost:8080/",
          "height": 537
        }
      },
      "source": [
        "dataset = text_dataset.map(split_input_target).batch(256, drop_remainder=True)\n",
        "\n",
        "for input, target in dataset.take(1):\n",
        "  print(input)\n",
        "  print()\n",
        "  print(target)"
      ],
      "execution_count": 20,
      "outputs": [
        {
          "output_type": "stream",
          "text": [
            "tf.Tensor(\n",
            "[[   0    0    0 ...    0    0  142]\n",
            " [   0    0    0 ...    0  142  245]\n",
            " [   0    0    0 ...  142  245  371]\n",
            " ...\n",
            " [   0    0    0 ...  128  189 1418]\n",
            " [   0    0    0 ...  189 1418 1419]\n",
            " [   0    0    0 ...    0    0   23]], shape=(256, 51), dtype=int32)\n",
            "\n",
            "tf.Tensor(\n",
            "[ 245  371    3 1322  739  372 1323 1325 1326 1327  207  740   87  126\n",
            "  143 1329   10  113  373  741  298  144  742  246   13  743   61 1330\n",
            "   20  744 1331 1332  186 1333 1334  745   43  493  142 1335  299  247\n",
            " 1336  144 1337   17 1338 1339 1340  114  374  300  167   14 1341 1342\n",
            "   91   11 1343   11 1344  746  145 1345  207  248 1346  168  741    2\n",
            " 1347  747  748 1348 1349  749 1350   33  750  751 1351  494   21   28\n",
            "  298  375  246   26  376  752 1352   10  113 1353    3  495  496    9\n",
            " 1354  113  497 1355  249  127  498 1356  147  207  248 1357 1358  301\n",
            "  499   81  753   27  113  497 1359 1360 1361  754 1362 1363 1364  757\n",
            "   26  758  759 1365  377    3  142  245  371 1366  500  501  502  250\n",
            " 1367 1368  248 1369 1370 1371  503  251 1372 1373   13 1375  106  504\n",
            "  760  498  761  762 1377 1378 1379    9  252   39  501 1380  169    9\n",
            "  302  115    3 1381 1382 1383 1385  763  253 1386  251  505    3 1387\n",
            "  208   88 1389  148 1390  764 1391 1392 1393    3  765    9  187   13\n",
            "  506  149 1394  116   34 1395  766  254 1396  299 1397   88 1398 1399\n",
            " 1400 1401 1402  768 1403   13 1404  209  210 1405  255 1407  303   11\n",
            "  188 1408   63 1409  304  507  769 1410  770 1411 1412  379 1413   76\n",
            "  207  248 1414   91    2  507 1415 1416   57   29 1417  256  128  189\n",
            " 1418 1419   13 1420], shape=(256,), dtype=int32)\n"
          ],
          "name": "stdout"
        }
      ]
    },
    {
      "cell_type": "code",
      "metadata": {
        "colab_type": "code",
        "id": "PRnDnCW-Z7qv",
        "outputId": "131911ea-a457-4119-ec52-799633e29586",
        "colab": {
          "base_uri": "https://localhost:8080/",
          "height": 393
        }
      },
      "source": [
        "model = Sequential()\n",
        "model.add(Embedding(total_words, 100))\n",
        "model.add(Bidirectional(LSTM(32, return_sequences = True)))\n",
        "model.add(Dropout(0.2))\n",
        "model.add(LSTM(16))\n",
        "model.add(Dense(total_words/2, activation='relu', kernel_regularizer=regularizers.l2(0.01)))\n",
        "model.add(Dense(total_words, activation='softmax'))\n",
        "\n",
        "model.compile(loss='sparse_categorical_crossentropy', optimizer='adam', metrics=['accuracy'])\n",
        "print(model.summary())"
      ],
      "execution_count": 21,
      "outputs": [
        {
          "output_type": "stream",
          "text": [
            "Model: \"sequential\"\n",
            "_________________________________________________________________\n",
            "Layer (type)                 Output Shape              Param #   \n",
            "=================================================================\n",
            "embedding (Embedding)        (None, None, 100)         459400    \n",
            "_________________________________________________________________\n",
            "bidirectional (Bidirectional (None, None, 64)          34048     \n",
            "_________________________________________________________________\n",
            "dropout (Dropout)            (None, None, 64)          0         \n",
            "_________________________________________________________________\n",
            "lstm_1 (LSTM)                (None, 16)                5184      \n",
            "_________________________________________________________________\n",
            "dense (Dense)                (None, 2297)              39049     \n",
            "_________________________________________________________________\n",
            "dense_1 (Dense)              (None, 4594)              10557012  \n",
            "=================================================================\n",
            "Total params: 11,094,693\n",
            "Trainable params: 11,094,693\n",
            "Non-trainable params: 0\n",
            "_________________________________________________________________\n",
            "None\n"
          ],
          "name": "stdout"
        }
      ]
    },
    {
      "cell_type": "code",
      "metadata": {
        "colab_type": "code",
        "id": "AIg2f1HBxqof",
        "outputId": "cea90e5a-01ee-48a0-88a0-f5f52273124a",
        "scrolled": true,
        "colab": {
          "base_uri": "https://localhost:8080/",
          "height": 1000
        }
      },
      "source": [
        " %%time\n",
        " history = model.fit(dataset, epochs=200, verbose=1)"
      ],
      "execution_count": 22,
      "outputs": [
        {
          "output_type": "stream",
          "text": [
            "Epoch 1/200\n",
            "36/36 [==============================] - 1s 27ms/step - loss: 8.4011 - accuracy: 0.0094\n",
            "Epoch 2/200\n",
            "36/36 [==============================] - 1s 26ms/step - loss: 7.8159 - accuracy: 0.0110\n",
            "Epoch 3/200\n",
            "36/36 [==============================] - 1s 26ms/step - loss: 7.7195 - accuracy: 0.0119\n",
            "Epoch 4/200\n",
            "36/36 [==============================] - 1s 26ms/step - loss: 7.5565 - accuracy: 0.0097\n",
            "Epoch 5/200\n",
            "36/36 [==============================] - 1s 25ms/step - loss: 7.4680 - accuracy: 0.0098\n",
            "Epoch 6/200\n",
            "36/36 [==============================] - 1s 26ms/step - loss: 7.4109 - accuracy: 0.0097\n",
            "Epoch 7/200\n",
            "36/36 [==============================] - 1s 26ms/step - loss: 7.3669 - accuracy: 0.0097\n",
            "Epoch 8/200\n",
            "36/36 [==============================] - 1s 26ms/step - loss: 7.3188 - accuracy: 0.0076\n",
            "Epoch 9/200\n",
            "36/36 [==============================] - 1s 26ms/step - loss: 7.2670 - accuracy: 0.0084\n",
            "Epoch 10/200\n",
            "36/36 [==============================] - 1s 26ms/step - loss: 7.2017 - accuracy: 0.0095\n",
            "Epoch 11/200\n",
            "36/36 [==============================] - 1s 26ms/step - loss: 7.1518 - accuracy: 0.0109\n",
            "Epoch 12/200\n",
            "36/36 [==============================] - 1s 26ms/step - loss: 7.1108 - accuracy: 0.0115\n",
            "Epoch 13/200\n",
            "36/36 [==============================] - 1s 26ms/step - loss: 7.0735 - accuracy: 0.0125\n",
            "Epoch 14/200\n",
            "36/36 [==============================] - 1s 26ms/step - loss: 7.0302 - accuracy: 0.0129\n",
            "Epoch 15/200\n",
            "36/36 [==============================] - 1s 26ms/step - loss: 6.9868 - accuracy: 0.0142\n",
            "Epoch 16/200\n",
            "36/36 [==============================] - 1s 26ms/step - loss: 6.9522 - accuracy: 0.0170\n",
            "Epoch 17/200\n",
            "36/36 [==============================] - 1s 26ms/step - loss: 6.9057 - accuracy: 0.0175\n",
            "Epoch 18/200\n",
            "36/36 [==============================] - 1s 27ms/step - loss: 6.8783 - accuracy: 0.0183\n",
            "Epoch 19/200\n",
            "36/36 [==============================] - 1s 27ms/step - loss: 6.8571 - accuracy: 0.0197\n",
            "Epoch 20/200\n",
            "36/36 [==============================] - 1s 27ms/step - loss: 6.8398 - accuracy: 0.0205\n",
            "Epoch 21/200\n",
            "36/36 [==============================] - 1s 26ms/step - loss: 6.8113 - accuracy: 0.0240\n",
            "Epoch 22/200\n",
            "36/36 [==============================] - 1s 26ms/step - loss: 6.7531 - accuracy: 0.0221\n",
            "Epoch 23/200\n",
            "36/36 [==============================] - 1s 26ms/step - loss: 6.7254 - accuracy: 0.0224\n",
            "Epoch 24/200\n",
            "36/36 [==============================] - 1s 26ms/step - loss: 6.6931 - accuracy: 0.0240\n",
            "Epoch 25/200\n",
            "36/36 [==============================] - 1s 26ms/step - loss: 6.6604 - accuracy: 0.0238\n",
            "Epoch 26/200\n",
            "36/36 [==============================] - 1s 26ms/step - loss: 6.6277 - accuracy: 0.0229\n",
            "Epoch 27/200\n",
            "36/36 [==============================] - 1s 25ms/step - loss: 6.6057 - accuracy: 0.0226\n",
            "Epoch 28/200\n",
            "36/36 [==============================] - 1s 26ms/step - loss: 6.5744 - accuracy: 0.0273\n",
            "Epoch 29/200\n",
            "36/36 [==============================] - 1s 26ms/step - loss: 6.5367 - accuracy: 0.0277\n",
            "Epoch 30/200\n",
            "36/36 [==============================] - 1s 26ms/step - loss: 6.5343 - accuracy: 0.0275\n",
            "Epoch 31/200\n",
            "36/36 [==============================] - 1s 27ms/step - loss: 6.5454 - accuracy: 0.0256\n",
            "Epoch 32/200\n",
            "36/36 [==============================] - 1s 27ms/step - loss: 6.5622 - accuracy: 0.0256\n",
            "Epoch 33/200\n",
            "36/36 [==============================] - 1s 26ms/step - loss: 6.5335 - accuracy: 0.0276\n",
            "Epoch 34/200\n",
            "36/36 [==============================] - 1s 27ms/step - loss: 6.4578 - accuracy: 0.0361\n",
            "Epoch 35/200\n",
            "36/36 [==============================] - 1s 26ms/step - loss: 6.3688 - accuracy: 0.0368\n",
            "Epoch 36/200\n",
            "36/36 [==============================] - 1s 26ms/step - loss: 6.2862 - accuracy: 0.0396\n",
            "Epoch 37/200\n",
            "36/36 [==============================] - 1s 27ms/step - loss: 6.2254 - accuracy: 0.0405\n",
            "Epoch 38/200\n",
            "36/36 [==============================] - 1s 26ms/step - loss: 6.1787 - accuracy: 0.0396\n",
            "Epoch 39/200\n",
            "36/36 [==============================] - 1s 26ms/step - loss: 6.1357 - accuracy: 0.0398\n",
            "Epoch 40/200\n",
            "36/36 [==============================] - 1s 26ms/step - loss: 6.1059 - accuracy: 0.0436\n",
            "Epoch 41/200\n",
            "36/36 [==============================] - 1s 26ms/step - loss: 6.0672 - accuracy: 0.0426\n",
            "Epoch 42/200\n",
            "36/36 [==============================] - 1s 26ms/step - loss: 6.0459 - accuracy: 0.0437\n",
            "Epoch 43/200\n",
            "36/36 [==============================] - 1s 25ms/step - loss: 6.0412 - accuracy: 0.0429\n",
            "Epoch 44/200\n",
            "36/36 [==============================] - 1s 26ms/step - loss: 6.0179 - accuracy: 0.0452\n",
            "Epoch 45/200\n",
            "36/36 [==============================] - 1s 25ms/step - loss: 5.9919 - accuracy: 0.0458\n",
            "Epoch 46/200\n",
            "36/36 [==============================] - 1s 26ms/step - loss: 5.9733 - accuracy: 0.0464\n",
            "Epoch 47/200\n",
            "36/36 [==============================] - 1s 26ms/step - loss: 5.9367 - accuracy: 0.0493\n",
            "Epoch 48/200\n",
            "36/36 [==============================] - 1s 26ms/step - loss: 5.9066 - accuracy: 0.0489\n",
            "Epoch 49/200\n",
            "36/36 [==============================] - 1s 26ms/step - loss: 5.8962 - accuracy: 0.0482\n",
            "Epoch 50/200\n",
            "36/36 [==============================] - 1s 26ms/step - loss: 5.8567 - accuracy: 0.0530\n",
            "Epoch 51/200\n",
            "36/36 [==============================] - 1s 26ms/step - loss: 5.8273 - accuracy: 0.0546\n",
            "Epoch 52/200\n",
            "36/36 [==============================] - 1s 26ms/step - loss: 5.8229 - accuracy: 0.0558\n",
            "Epoch 53/200\n",
            "36/36 [==============================] - 1s 26ms/step - loss: 5.7698 - accuracy: 0.0570\n",
            "Epoch 54/200\n",
            "36/36 [==============================] - 1s 26ms/step - loss: 5.7240 - accuracy: 0.0581\n",
            "Epoch 55/200\n",
            "36/36 [==============================] - 1s 26ms/step - loss: 5.7146 - accuracy: 0.0562\n",
            "Epoch 56/200\n",
            "36/36 [==============================] - 1s 25ms/step - loss: 5.6688 - accuracy: 0.0583\n",
            "Epoch 57/200\n",
            "36/36 [==============================] - 1s 26ms/step - loss: 5.6081 - accuracy: 0.0600\n",
            "Epoch 58/200\n",
            "36/36 [==============================] - 1s 26ms/step - loss: 5.5482 - accuracy: 0.0622\n",
            "Epoch 59/200\n",
            "36/36 [==============================] - 1s 26ms/step - loss: 5.4887 - accuracy: 0.0645\n",
            "Epoch 60/200\n",
            "36/36 [==============================] - 1s 26ms/step - loss: 5.4434 - accuracy: 0.0674\n",
            "Epoch 61/200\n",
            "36/36 [==============================] - 1s 28ms/step - loss: 5.4189 - accuracy: 0.0671\n",
            "Epoch 62/200\n",
            "36/36 [==============================] - 1s 26ms/step - loss: 5.3873 - accuracy: 0.0669\n",
            "Epoch 63/200\n",
            "36/36 [==============================] - 1s 26ms/step - loss: 5.3533 - accuracy: 0.0688\n",
            "Epoch 64/200\n",
            "36/36 [==============================] - 1s 26ms/step - loss: 5.3140 - accuracy: 0.0719\n",
            "Epoch 65/200\n",
            "36/36 [==============================] - 1s 26ms/step - loss: 5.2846 - accuracy: 0.0738\n",
            "Epoch 66/200\n",
            "36/36 [==============================] - 1s 26ms/step - loss: 5.2570 - accuracy: 0.0729\n",
            "Epoch 67/200\n",
            "36/36 [==============================] - 1s 26ms/step - loss: 5.2157 - accuracy: 0.0763\n",
            "Epoch 68/200\n",
            "36/36 [==============================] - 1s 26ms/step - loss: 5.1776 - accuracy: 0.0765\n",
            "Epoch 69/200\n",
            "36/36 [==============================] - 1s 26ms/step - loss: 5.1314 - accuracy: 0.0787\n",
            "Epoch 70/200\n",
            "36/36 [==============================] - 1s 25ms/step - loss: 5.0905 - accuracy: 0.0805\n",
            "Epoch 71/200\n",
            "36/36 [==============================] - 1s 27ms/step - loss: 5.0687 - accuracy: 0.0830\n",
            "Epoch 72/200\n",
            "36/36 [==============================] - 1s 26ms/step - loss: 5.0205 - accuracy: 0.0870\n",
            "Epoch 73/200\n",
            "36/36 [==============================] - 1s 26ms/step - loss: 4.9884 - accuracy: 0.0855\n",
            "Epoch 74/200\n",
            "36/36 [==============================] - 1s 26ms/step - loss: 4.9674 - accuracy: 0.0888\n",
            "Epoch 75/200\n",
            "36/36 [==============================] - 1s 26ms/step - loss: 4.9345 - accuracy: 0.0918\n",
            "Epoch 76/200\n",
            "36/36 [==============================] - 1s 26ms/step - loss: 4.8916 - accuracy: 0.0940\n",
            "Epoch 77/200\n",
            "36/36 [==============================] - 1s 26ms/step - loss: 4.8591 - accuracy: 0.0952\n",
            "Epoch 78/200\n",
            "36/36 [==============================] - 1s 26ms/step - loss: 4.8489 - accuracy: 0.0944\n",
            "Epoch 79/200\n",
            "36/36 [==============================] - 1s 26ms/step - loss: 4.8278 - accuracy: 0.0978\n",
            "Epoch 80/200\n",
            "36/36 [==============================] - 1s 26ms/step - loss: 4.7996 - accuracy: 0.0972\n",
            "Epoch 81/200\n",
            "36/36 [==============================] - 1s 26ms/step - loss: 4.7802 - accuracy: 0.0993\n",
            "Epoch 82/200\n",
            "36/36 [==============================] - 1s 26ms/step - loss: 4.7429 - accuracy: 0.1042\n",
            "Epoch 83/200\n",
            "36/36 [==============================] - 1s 26ms/step - loss: 4.6851 - accuracy: 0.1070\n",
            "Epoch 84/200\n",
            "36/36 [==============================] - 1s 26ms/step - loss: 4.6528 - accuracy: 0.1085\n",
            "Epoch 85/200\n",
            "36/36 [==============================] - 1s 26ms/step - loss: 4.6235 - accuracy: 0.1137\n",
            "Epoch 86/200\n",
            "36/36 [==============================] - 1s 26ms/step - loss: 4.5837 - accuracy: 0.1165\n",
            "Epoch 87/200\n",
            "36/36 [==============================] - 1s 26ms/step - loss: 4.5492 - accuracy: 0.1183\n",
            "Epoch 88/200\n",
            "36/36 [==============================] - 1s 26ms/step - loss: 4.5177 - accuracy: 0.1235\n",
            "Epoch 89/200\n",
            "36/36 [==============================] - 1s 27ms/step - loss: 4.5061 - accuracy: 0.1224\n",
            "Epoch 90/200\n",
            "36/36 [==============================] - 1s 26ms/step - loss: 4.4777 - accuracy: 0.1248\n",
            "Epoch 91/200\n",
            "36/36 [==============================] - 1s 26ms/step - loss: 4.4573 - accuracy: 0.1260\n",
            "Epoch 92/200\n",
            "36/36 [==============================] - 1s 26ms/step - loss: 4.4245 - accuracy: 0.1275\n",
            "Epoch 93/200\n",
            "36/36 [==============================] - 1s 26ms/step - loss: 4.3989 - accuracy: 0.1322\n",
            "Epoch 94/200\n",
            "36/36 [==============================] - 1s 26ms/step - loss: 4.3955 - accuracy: 0.1324\n",
            "Epoch 95/200\n",
            "36/36 [==============================] - 1s 26ms/step - loss: 4.3463 - accuracy: 0.1432\n",
            "Epoch 96/200\n",
            "36/36 [==============================] - 1s 26ms/step - loss: 4.3286 - accuracy: 0.1426\n",
            "Epoch 97/200\n",
            "36/36 [==============================] - 1s 26ms/step - loss: 4.2871 - accuracy: 0.1501\n",
            "Epoch 98/200\n",
            "36/36 [==============================] - 1s 26ms/step - loss: 4.2601 - accuracy: 0.1514\n",
            "Epoch 99/200\n",
            "36/36 [==============================] - 1s 26ms/step - loss: 4.2333 - accuracy: 0.1535\n",
            "Epoch 100/200\n",
            "36/36 [==============================] - 1s 26ms/step - loss: 4.2055 - accuracy: 0.1590\n",
            "Epoch 101/200\n",
            "36/36 [==============================] - 1s 25ms/step - loss: 4.1748 - accuracy: 0.1629\n",
            "Epoch 102/200\n",
            "36/36 [==============================] - 1s 25ms/step - loss: 4.1238 - accuracy: 0.1685\n",
            "Epoch 103/200\n",
            "36/36 [==============================] - 1s 26ms/step - loss: 4.0845 - accuracy: 0.1781\n",
            "Epoch 104/200\n",
            "36/36 [==============================] - 1s 26ms/step - loss: 4.0521 - accuracy: 0.1807\n",
            "Epoch 105/200\n",
            "36/36 [==============================] - 1s 26ms/step - loss: 4.0146 - accuracy: 0.1841\n",
            "Epoch 106/200\n",
            "36/36 [==============================] - 1s 26ms/step - loss: 3.9791 - accuracy: 0.1927\n",
            "Epoch 107/200\n",
            "36/36 [==============================] - 1s 26ms/step - loss: 3.9315 - accuracy: 0.1995\n",
            "Epoch 108/200\n",
            "36/36 [==============================] - 1s 26ms/step - loss: 3.9025 - accuracy: 0.2035\n",
            "Epoch 109/200\n",
            "36/36 [==============================] - 1s 26ms/step - loss: 3.8710 - accuracy: 0.2119\n",
            "Epoch 110/200\n",
            "36/36 [==============================] - 1s 26ms/step - loss: 3.8539 - accuracy: 0.2139\n",
            "Epoch 111/200\n",
            "36/36 [==============================] - 1s 26ms/step - loss: 3.8299 - accuracy: 0.2159\n",
            "Epoch 112/200\n",
            "36/36 [==============================] - 1s 26ms/step - loss: 3.7821 - accuracy: 0.2278\n",
            "Epoch 113/200\n",
            "36/36 [==============================] - 1s 26ms/step - loss: 3.7494 - accuracy: 0.2340\n",
            "Epoch 114/200\n",
            "36/36 [==============================] - 1s 26ms/step - loss: 3.7428 - accuracy: 0.2330\n",
            "Epoch 115/200\n",
            "36/36 [==============================] - 1s 26ms/step - loss: 3.7264 - accuracy: 0.2374\n",
            "Epoch 116/200\n",
            "36/36 [==============================] - 1s 26ms/step - loss: 3.7170 - accuracy: 0.2418\n",
            "Epoch 117/200\n",
            "36/36 [==============================] - 1s 26ms/step - loss: 3.7017 - accuracy: 0.2450\n",
            "Epoch 118/200\n",
            "36/36 [==============================] - 1s 26ms/step - loss: 3.6564 - accuracy: 0.2511\n",
            "Epoch 119/200\n",
            "36/36 [==============================] - 1s 26ms/step - loss: 3.6255 - accuracy: 0.2593\n",
            "Epoch 120/200\n",
            "36/36 [==============================] - 1s 26ms/step - loss: 3.5930 - accuracy: 0.2623\n",
            "Epoch 121/200\n",
            "36/36 [==============================] - 1s 26ms/step - loss: 3.5677 - accuracy: 0.2673\n",
            "Epoch 122/200\n",
            "36/36 [==============================] - 1s 26ms/step - loss: 3.5428 - accuracy: 0.2741\n",
            "Epoch 123/200\n",
            "36/36 [==============================] - 1s 26ms/step - loss: 3.5046 - accuracy: 0.2816\n",
            "Epoch 124/200\n",
            "36/36 [==============================] - 1s 26ms/step - loss: 3.4988 - accuracy: 0.2821\n",
            "Epoch 125/200\n",
            "36/36 [==============================] - 1s 26ms/step - loss: 3.4828 - accuracy: 0.2855\n",
            "Epoch 126/200\n",
            "36/36 [==============================] - 1s 26ms/step - loss: 3.4647 - accuracy: 0.2932\n",
            "Epoch 127/200\n",
            "36/36 [==============================] - 1s 26ms/step - loss: 3.4558 - accuracy: 0.2939\n",
            "Epoch 128/200\n",
            "36/36 [==============================] - 1s 26ms/step - loss: 3.4330 - accuracy: 0.3021\n",
            "Epoch 129/200\n",
            "36/36 [==============================] - 1s 26ms/step - loss: 3.3767 - accuracy: 0.3109\n",
            "Epoch 130/200\n",
            "36/36 [==============================] - 1s 26ms/step - loss: 3.3595 - accuracy: 0.3158\n",
            "Epoch 131/200\n",
            "36/36 [==============================] - 1s 26ms/step - loss: 3.3161 - accuracy: 0.3292\n",
            "Epoch 132/200\n",
            "36/36 [==============================] - 1s 26ms/step - loss: 3.2800 - accuracy: 0.3334\n",
            "Epoch 133/200\n",
            "36/36 [==============================] - 1s 26ms/step - loss: 3.2546 - accuracy: 0.3455\n",
            "Epoch 134/200\n",
            "36/36 [==============================] - 1s 27ms/step - loss: 3.2319 - accuracy: 0.3456\n",
            "Epoch 135/200\n",
            "36/36 [==============================] - 1s 26ms/step - loss: 3.2129 - accuracy: 0.3486\n",
            "Epoch 136/200\n",
            "36/36 [==============================] - 1s 25ms/step - loss: 3.1754 - accuracy: 0.3557\n",
            "Epoch 137/200\n",
            "36/36 [==============================] - 1s 25ms/step - loss: 3.1650 - accuracy: 0.3615\n",
            "Epoch 138/200\n",
            "36/36 [==============================] - 1s 26ms/step - loss: 3.1333 - accuracy: 0.3672\n",
            "Epoch 139/200\n",
            "36/36 [==============================] - 1s 26ms/step - loss: 3.1172 - accuracy: 0.3750\n",
            "Epoch 140/200\n",
            "36/36 [==============================] - 1s 26ms/step - loss: 3.0926 - accuracy: 0.3754\n",
            "Epoch 141/200\n",
            "36/36 [==============================] - 1s 26ms/step - loss: 3.0870 - accuracy: 0.3841\n",
            "Epoch 142/200\n",
            "36/36 [==============================] - 1s 26ms/step - loss: 3.0717 - accuracy: 0.3832\n",
            "Epoch 143/200\n",
            "36/36 [==============================] - 1s 26ms/step - loss: 3.0494 - accuracy: 0.3905\n",
            "Epoch 144/200\n",
            "36/36 [==============================] - 1s 26ms/step - loss: 3.0546 - accuracy: 0.3864\n",
            "Epoch 145/200\n",
            "36/36 [==============================] - 1s 26ms/step - loss: 3.0349 - accuracy: 0.3860\n",
            "Epoch 146/200\n",
            "36/36 [==============================] - 1s 26ms/step - loss: 2.9922 - accuracy: 0.4025\n",
            "Epoch 147/200\n",
            "36/36 [==============================] - 1s 26ms/step - loss: 2.9673 - accuracy: 0.4061\n",
            "Epoch 148/200\n",
            "36/36 [==============================] - 1s 26ms/step - loss: 2.9299 - accuracy: 0.4135\n",
            "Epoch 149/200\n",
            "36/36 [==============================] - 1s 26ms/step - loss: 2.9020 - accuracy: 0.4258\n",
            "Epoch 150/200\n",
            "36/36 [==============================] - 1s 26ms/step - loss: 2.8663 - accuracy: 0.4323\n",
            "Epoch 151/200\n",
            "36/36 [==============================] - 1s 26ms/step - loss: 2.8497 - accuracy: 0.4358\n",
            "Epoch 152/200\n",
            "36/36 [==============================] - 1s 26ms/step - loss: 2.8219 - accuracy: 0.4447\n",
            "Epoch 153/200\n",
            "36/36 [==============================] - 1s 26ms/step - loss: 2.7937 - accuracy: 0.4571\n",
            "Epoch 154/200\n",
            "36/36 [==============================] - 1s 25ms/step - loss: 2.7710 - accuracy: 0.4597\n",
            "Epoch 155/200\n",
            "36/36 [==============================] - 1s 26ms/step - loss: 2.7530 - accuracy: 0.4683\n",
            "Epoch 156/200\n",
            "36/36 [==============================] - 1s 26ms/step - loss: 2.7393 - accuracy: 0.4663\n",
            "Epoch 157/200\n",
            "36/36 [==============================] - 1s 26ms/step - loss: 2.7152 - accuracy: 0.4778\n",
            "Epoch 158/200\n",
            "36/36 [==============================] - 1s 26ms/step - loss: 2.6849 - accuracy: 0.4834\n",
            "Epoch 159/200\n",
            "36/36 [==============================] - 1s 26ms/step - loss: 2.6736 - accuracy: 0.4806\n",
            "Epoch 160/200\n",
            "36/36 [==============================] - 1s 26ms/step - loss: 2.6428 - accuracy: 0.4956\n",
            "Epoch 161/200\n",
            "36/36 [==============================] - 1s 25ms/step - loss: 2.6170 - accuracy: 0.5005\n",
            "Epoch 162/200\n",
            "36/36 [==============================] - 1s 25ms/step - loss: 2.5858 - accuracy: 0.5118\n",
            "Epoch 163/200\n",
            "36/36 [==============================] - 1s 26ms/step - loss: 2.5789 - accuracy: 0.5079\n",
            "Epoch 164/200\n",
            "36/36 [==============================] - 1s 26ms/step - loss: 2.5614 - accuracy: 0.5163\n",
            "Epoch 165/200\n",
            "36/36 [==============================] - 1s 26ms/step - loss: 2.5404 - accuracy: 0.5227\n",
            "Epoch 166/200\n",
            "36/36 [==============================] - 1s 26ms/step - loss: 2.5373 - accuracy: 0.5179\n",
            "Epoch 167/200\n",
            "36/36 [==============================] - 1s 26ms/step - loss: 2.5125 - accuracy: 0.5244\n",
            "Epoch 168/200\n",
            "36/36 [==============================] - 1s 26ms/step - loss: 2.4959 - accuracy: 0.5265\n",
            "Epoch 169/200\n",
            "36/36 [==============================] - 1s 26ms/step - loss: 2.4948 - accuracy: 0.5256\n",
            "Epoch 170/200\n",
            "36/36 [==============================] - 1s 26ms/step - loss: 2.4777 - accuracy: 0.5314\n",
            "Epoch 171/200\n",
            "36/36 [==============================] - 1s 25ms/step - loss: 2.4707 - accuracy: 0.5382\n",
            "Epoch 172/200\n",
            "36/36 [==============================] - 1s 26ms/step - loss: 2.4536 - accuracy: 0.5362\n",
            "Epoch 173/200\n",
            "36/36 [==============================] - 1s 26ms/step - loss: 2.4402 - accuracy: 0.5443\n",
            "Epoch 174/200\n",
            "36/36 [==============================] - 1s 26ms/step - loss: 2.3856 - accuracy: 0.5611\n",
            "Epoch 175/200\n",
            "36/36 [==============================] - 1s 26ms/step - loss: 2.3639 - accuracy: 0.5588\n",
            "Epoch 176/200\n",
            "36/36 [==============================] - 1s 26ms/step - loss: 2.3597 - accuracy: 0.5614\n",
            "Epoch 177/200\n",
            "36/36 [==============================] - 1s 26ms/step - loss: 2.3137 - accuracy: 0.5766\n",
            "Epoch 178/200\n",
            "36/36 [==============================] - 1s 27ms/step - loss: 2.2964 - accuracy: 0.5793\n",
            "Epoch 179/200\n",
            "36/36 [==============================] - 1s 26ms/step - loss: 2.2702 - accuracy: 0.5867\n",
            "Epoch 180/200\n",
            "36/36 [==============================] - 1s 26ms/step - loss: 2.2475 - accuracy: 0.5970\n",
            "Epoch 181/200\n",
            "36/36 [==============================] - 1s 26ms/step - loss: 2.2281 - accuracy: 0.6007\n",
            "Epoch 182/200\n",
            "36/36 [==============================] - 1s 26ms/step - loss: 2.2135 - accuracy: 0.6003\n",
            "Epoch 183/200\n",
            "36/36 [==============================] - 1s 26ms/step - loss: 2.2069 - accuracy: 0.6037\n",
            "Epoch 184/200\n",
            "36/36 [==============================] - 1s 27ms/step - loss: 2.1867 - accuracy: 0.6059\n",
            "Epoch 185/200\n",
            "36/36 [==============================] - 1s 26ms/step - loss: 2.1963 - accuracy: 0.6049\n",
            "Epoch 186/200\n",
            "36/36 [==============================] - 1s 27ms/step - loss: 2.1604 - accuracy: 0.6141\n",
            "Epoch 187/200\n",
            "36/36 [==============================] - 1s 26ms/step - loss: 2.1600 - accuracy: 0.6188\n",
            "Epoch 188/200\n",
            "36/36 [==============================] - 1s 26ms/step - loss: 2.1395 - accuracy: 0.6163\n",
            "Epoch 189/200\n",
            "36/36 [==============================] - 1s 25ms/step - loss: 2.1250 - accuracy: 0.6222\n",
            "Epoch 190/200\n",
            "36/36 [==============================] - 1s 25ms/step - loss: 2.1174 - accuracy: 0.6227\n",
            "Epoch 191/200\n",
            "36/36 [==============================] - 1s 26ms/step - loss: 2.0990 - accuracy: 0.6268\n",
            "Epoch 192/200\n",
            "36/36 [==============================] - 1s 26ms/step - loss: 2.0965 - accuracy: 0.6261\n",
            "Epoch 193/200\n",
            "36/36 [==============================] - 1s 26ms/step - loss: 2.0952 - accuracy: 0.6299\n",
            "Epoch 194/200\n",
            "36/36 [==============================] - 1s 26ms/step - loss: 2.0775 - accuracy: 0.6286\n",
            "Epoch 195/200\n",
            "36/36 [==============================] - 1s 26ms/step - loss: 2.0674 - accuracy: 0.6287\n",
            "Epoch 196/200\n",
            "36/36 [==============================] - 1s 26ms/step - loss: 2.0362 - accuracy: 0.6424\n",
            "Epoch 197/200\n",
            "36/36 [==============================] - 1s 25ms/step - loss: 2.0045 - accuracy: 0.6443\n",
            "Epoch 198/200\n",
            "36/36 [==============================] - 1s 25ms/step - loss: 1.9986 - accuracy: 0.6497\n",
            "Epoch 199/200\n",
            "36/36 [==============================] - 1s 26ms/step - loss: 1.9823 - accuracy: 0.6507\n",
            "Epoch 200/200\n",
            "36/36 [==============================] - 1s 26ms/step - loss: 1.9641 - accuracy: 0.6562\n",
            "CPU times: user 4min, sys: 32.4 s, total: 4min 32s\n",
            "Wall time: 3min 27s\n"
          ],
          "name": "stdout"
        }
      ]
    },
    {
      "cell_type": "code",
      "metadata": {
        "colab_type": "code",
        "id": "1fXTEO3GJ282",
        "outputId": "c7f3f94c-ce7c-4310-aa62-1d6a85114b56",
        "colab": {
          "base_uri": "https://localhost:8080/",
          "height": 281
        }
      },
      "source": [
        "import matplotlib.pyplot as plt\n",
        "%matplotlib inline\n",
        "\n",
        "acc = history.history['accuracy']\n",
        "loss = history.history['loss']\n",
        "\n",
        "epochs = range(len(acc))\n",
        "\n",
        "plt.figure(figsize=(12,4))\n",
        "\n",
        "plt.subplot(1, 2, 1)\n",
        "plt.plot(epochs, acc, 'b', label='Training accuracy')\n",
        "plt.title('Training accuracy')\n",
        "\n",
        "plt.subplot(1, 2, 2)\n",
        "plt.plot(epochs, loss, 'b', label='Training Loss')\n",
        "plt.title('Training loss')\n",
        "plt.legend()\n",
        "\n",
        "plt.show()"
      ],
      "execution_count": 23,
      "outputs": [
        {
          "output_type": "display_data",
          "data": {
            "image/png": "[encoded data removed]",
            "text/plain": [
              "<Figure size 864x288 with 2 Axes>"
            ]
          },
          "metadata": {
            "tags": [],
            "needs_background": "light"
          }
        }
      ]
    },
    {
      "cell_type": "code",
      "metadata": {
        "colab_type": "code",
        "id": "6Vc6PHgxa6Hm",
        "outputId": "bcf13d16-53c4-42e7-e76d-e7fa1af039f5",
        "colab": {
          "base_uri": "https://localhost:8080/",
          "height": 55
        }
      },
      "source": [
        "seed_text = \"그래서 나는 어른들이 알아볼 수 있도록 보아 구렁이의 속을 그렸다\"\n",
        "next_words = 100\n",
        "\n",
        "for _ in range(next_words):\n",
        "    token_list = tokenizer.texts_to_sequences([seed_text])[0]\n",
        "    token_list = pad_sequences([token_list], maxlen=max_sequence_len-1, padding='pre')\n",
        "    predicted = model.predict_classes(token_list, verbose=0)\n",
        "    output_word = tokenizer.index_word[predicted[0]]\n",
        "    seed_text += \" \" + output_word\n",
        "print(seed_text)"
      ],
      "execution_count": 25,
      "outputs": [
        {
          "output_type": "stream",
          "text": [
            "그래서 나는 어른들이 알아볼 수 있도록 보아 구렁이의 속을 그렸다 없다가어린 왕자가 차마 그럴 수 있는 간신히 따르게 세로 20마일 가로 20마일의 광장으로도 충분할 것이다 송이는 걸 알고 발견했다 않을 싶지 있는 일이었다 느낄 수 있었다 나는 그를 몸을 없는 보물을 식물일 의미가 있거든 바라보고 거야 것이었다 그랬어 끄적거려 말없이 잇지 못했다 데 있는 아닌가 그 별은 시 간이란다 있었으므로 어린 왕자가 말했다 말을 이었다 그렸다 아닌가 그 노인이 물었다 되물었다 물었다 보고 말들을 6십 6십 2만 2천 7백 3십 1이 되 는구나 일분이라니 조금도 는구나 면 변하도록 11명이나 되는가로등 나는 그들은 아닌가 그의 가슴이 흉측스럽게 일이 긴요한 위로 몸을 감추어 버렸다 이야기하는 것이다 금빛이니까 내가 이 여전히 그래 그러나\n"
          ],
          "name": "stdout"
        }
      ]
    },
    {
      "cell_type": "code",
      "metadata": {
        "colab_type": "code",
        "id": "OX_yyEP95aKZ",
        "colab": {}
      },
      "source": [
        ""
      ],
      "execution_count": 0,
      "outputs": []
    }
  ]
}