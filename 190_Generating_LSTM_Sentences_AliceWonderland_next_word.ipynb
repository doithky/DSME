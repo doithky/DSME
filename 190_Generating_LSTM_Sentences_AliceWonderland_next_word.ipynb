{
  "nbformat": 4,
  "nbformat_minor": 0,
  "metadata": {
    "accelerator": "GPU",
    "colab": {
      "name": "190_Generating_LSTM_Sentences_AliceWonderland_next_word.ipynb",
      "provenance": [],
      "collapsed_sections": []
    },
    "kernelspec": {
      "display_name": "Python 3",
      "language": "python",
      "name": "python3"
    },
    "language_info": {
      "codemirror_mode": {
        "name": "ipython",
        "version": 3
      },
      "file_extension": ".py",
      "mimetype": "text/x-python",
      "name": "python",
      "nbconvert_exporter": "python",
      "pygments_lexer": "ipython3",
      "version": "3.7.6"
    }
  },
  "cells": [
    {
      "cell_type": "markdown",
      "metadata": {
        "colab_type": "text",
        "id": "i3SMFJYftfEs"
      },
      "source": [
        "# 190. Keras API 와 LSTM 을 이용한 이상한 나라의 Alice 문장 생성기\n",
        "\n",
        "- next word 예측"
      ]
    },
    {
      "cell_type": "code",
      "metadata": {
        "colab_type": "code",
        "id": "asn1fHFytfEu",
        "colab": {}
      },
      "source": [
        "import tensorflow as tf\n",
        "import numpy as np\n",
        "from tensorflow.keras.preprocessing.sequence import pad_sequences\n",
        "from tensorflow.keras.layers import Embedding, LSTM, Dense, Dropout, Bidirectional\n",
        "from tensorflow.keras.preprocessing.text import Tokenizer\n",
        "from tensorflow.keras.models import Sequential\n",
        "import tensorflow.keras.regularizers as regularizers\n",
        "import numpy as np "
      ],
      "execution_count": 1,
      "outputs": []
    },
    {
      "cell_type": "code",
      "metadata": {
        "colab_type": "code",
        "id": "uP-mC7LTtfEx",
        "colab": {
          "base_uri": "https://localhost:8080/",
          "height": 51
        },
        "outputId": "65a1d1cc-1741-41a3-c309-2791df18a267"
      },
      "source": [
        "path_to_file = tf.keras.utils.get_file('alice.txt', \"http://www.gutenberg.org/files/11/11.txt\")"
      ],
      "execution_count": 2,
      "outputs": [
        {
          "output_type": "stream",
          "text": [
            "Downloading data from http://www.gutenberg.org/files/11/11.txt\n",
            "172032/167546 [==============================] - 0s 1us/step\n"
          ],
          "name": "stdout"
        }
      ]
    },
    {
      "cell_type": "code",
      "metadata": {
        "colab_type": "code",
        "id": "SvrmXp25tfEz",
        "colab": {
          "base_uri": "https://localhost:8080/",
          "height": 54
        },
        "outputId": "d1b28ce4-e7d2-4b08-9b25-8e5a2a54bd8a"
      },
      "source": [
        "r = open(path_to_file, 'r')\n",
        "texts = r.readlines()\n",
        "lines = []\n",
        "\n",
        "for line in texts:\n",
        "    line = line.strip().lower()\n",
        "    if len(line) == 0:\n",
        "        continue\n",
        "    lines.append(line)\n",
        "\n",
        "text = \" \".join(lines)\n",
        "text[:1000]"
      ],
      "execution_count": 3,
      "outputs": [
        {
          "output_type": "execute_result",
          "data": {
            "text/plain": [
              "\"project gutenberg's alice's adventures in wonderland, by lewis carroll this ebook is for the use of anyone anywhere at no cost and with almost no restrictions whatsoever.  you may copy it, give it away or re-use it under the terms of the project gutenberg license included with this ebook or online at www.gutenberg.org title: alice's adventures in wonderland author: lewis carroll posting date: june 25, 2008 [ebook #11] release date: march, 1994 [last updated: december 20, 2011] language: english character set encoding: ascii *** start of this project gutenberg ebook alice's adventures in wonderland *** alice's adventures in wonderland lewis carroll the millennium fulcrum edition 3.0 chapter i. down the rabbit-hole alice was beginning to get very tired of sitting by her sister on the bank, and of having nothing to do: once or twice she had peeped into the book her sister was reading, but it had no pictures or conversations in it, 'and what is the use of a book,' thought alice 'without pi\""
            ]
          },
          "metadata": {
            "tags": []
          },
          "execution_count": 3
        }
      ]
    },
    {
      "cell_type": "code",
      "metadata": {
        "colab_type": "code",
        "id": "1RuGgWAmtfE2",
        "colab": {}
      },
      "source": [
        "import re\n",
        "\n",
        "corpus = re.split('[,.]', text)"
      ],
      "execution_count": 4,
      "outputs": []
    },
    {
      "cell_type": "code",
      "metadata": {
        "colab_type": "code",
        "id": "RyUJ7MxNtfE4",
        "colab": {
          "base_uri": "https://localhost:8080/",
          "height": 207
        },
        "outputId": "c391ab6c-73c1-4b84-a212-01ff4b225511"
      },
      "source": [
        "corpus[:10]"
      ],
      "execution_count": 5,
      "outputs": [
        {
          "output_type": "execute_result",
          "data": {
            "text/plain": [
              "[\"project gutenberg's alice's adventures in wonderland\",\n",
              " ' by lewis carroll this ebook is for the use of anyone anywhere at no cost and with almost no restrictions whatsoever',\n",
              " '  you may copy it',\n",
              " ' give it away or re-use it under the terms of the project gutenberg license included with this ebook or online at www',\n",
              " 'gutenberg',\n",
              " \"org title: alice's adventures in wonderland author: lewis carroll posting date: june 25\",\n",
              " ' 2008 [ebook #11] release date: march',\n",
              " ' 1994 [last updated: december 20',\n",
              " \" 2011] language: english character set encoding: ascii *** start of this project gutenberg ebook alice's adventures in wonderland *** alice's adventures in wonderland lewis carroll the millennium fulcrum edition 3\",\n",
              " '0 chapter i']"
            ]
          },
          "metadata": {
            "tags": []
          },
          "execution_count": 5
        }
      ]
    },
    {
      "cell_type": "code",
      "metadata": {
        "colab_type": "code",
        "id": "mRzxcEeatfE6",
        "colab": {
          "base_uri": "https://localhost:8080/",
          "height": 34
        },
        "outputId": "feab9894-d43c-4c89-a35d-a6579edf062f"
      },
      "source": [
        "tokenizer = Tokenizer()\n",
        "\n",
        "tokenizer.fit_on_texts(corpus)\n",
        "total_words = len(tokenizer.word_index) + 1\n",
        "print(total_words)"
      ],
      "execution_count": 6,
      "outputs": [
        {
          "output_type": "stream",
          "text": [
            "3338\n"
          ],
          "name": "stdout"
        }
      ]
    },
    {
      "cell_type": "code",
      "metadata": {
        "colab_type": "code",
        "id": "rD29b-YrM8hJ",
        "colab": {
          "base_uri": "https://localhost:8080/",
          "height": 34
        },
        "outputId": "4ec506f5-90e5-407b-a6fa-5896c36654a0"
      },
      "source": [
        "list(tokenizer.index_word.items())[10:15]"
      ],
      "execution_count": 7,
      "outputs": [
        {
          "output_type": "execute_result",
          "data": {
            "text/plain": [
              "[(11, 'you'), (12, 'alice'), (13, 'was'), (14, 'i'), (15, 'that')]"
            ]
          },
          "metadata": {
            "tags": []
          },
          "execution_count": 7
        }
      ]
    },
    {
      "cell_type": "code",
      "metadata": {
        "colab_type": "code",
        "id": "t4UF7YzUM8hO",
        "colab": {
          "base_uri": "https://localhost:8080/",
          "height": 34
        },
        "outputId": "db1c688d-f1ef-45e8-a87c-e78f2eb8e75e"
      },
      "source": [
        "list(tokenizer.word_index.items())[10:15]"
      ],
      "execution_count": 8,
      "outputs": [
        {
          "output_type": "execute_result",
          "data": {
            "text/plain": [
              "[('you', 11), ('alice', 12), ('was', 13), ('i', 14), ('that', 15)]"
            ]
          },
          "metadata": {
            "tags": []
          },
          "execution_count": 8
        }
      ]
    },
    {
      "cell_type": "code",
      "metadata": {
        "colab_type": "code",
        "id": "AQlBVvwitfE8",
        "colab": {}
      },
      "source": [
        "# create input sequences using list of tokens\n",
        "input_sequences = []\n",
        "\n",
        "for line in corpus:\n",
        "    token_list = tokenizer.texts_to_sequences([line])[0]\n",
        "    for i in range(1, len(token_list)):\n",
        "        n_gram_sequence = token_list[:i+1]\n",
        "        input_sequences.append(n_gram_sequence)"
      ],
      "execution_count": 9,
      "outputs": []
    },
    {
      "cell_type": "code",
      "metadata": {
        "colab_type": "code",
        "id": "nI97Ln4atfE_",
        "colab": {
          "base_uri": "https://localhost:8080/",
          "height": 204
        },
        "outputId": "5c43d818-1bb4-4bbe-9a47-ae0649b6465f"
      },
      "source": [
        "print(len(input_sequences))\n",
        "input_sequences[:10]"
      ],
      "execution_count": 10,
      "outputs": [
        {
          "output_type": "stream",
          "text": [
            "27218\n"
          ],
          "name": "stdout"
        },
        {
          "output_type": "execute_result",
          "data": {
            "text/plain": [
              "[[48, 1303],\n",
              " [48, 1303, 248],\n",
              " [48, 1303, 248, 342],\n",
              " [48, 1303, 248, 342, 10],\n",
              " [48, 1303, 248, 342, 10, 481],\n",
              " [59, 815],\n",
              " [59, 815, 816],\n",
              " [59, 815, 816, 22],\n",
              " [59, 815, 816, 22, 443],\n",
              " [59, 815, 816, 22, 443, 31]]"
            ]
          },
          "metadata": {
            "tags": []
          },
          "execution_count": 10
        }
      ]
    },
    {
      "cell_type": "code",
      "metadata": {
        "colab_type": "code",
        "id": "neKxP5KXtfFB",
        "colab": {
          "base_uri": "https://localhost:8080/",
          "height": 136
        },
        "outputId": "75f20215-eb80-4ffb-d445-9d4074369bf2"
      },
      "source": [
        "# pad sequences \n",
        "max_sequence_len = max([len(x) for x in input_sequences])\n",
        "\n",
        "input_sequences = np.array(pad_sequences(input_sequences, maxlen=max_sequence_len, padding='pre'))\n",
        "input_sequences"
      ],
      "execution_count": 11,
      "outputs": [
        {
          "output_type": "execute_result",
          "data": {
            "text/plain": [
              "array([[   0,    0,    0, ...,    0,   48, 1303],\n",
              "       [   0,    0,    0, ...,   48, 1303,  248],\n",
              "       [   0,    0,    0, ..., 1303,  248,  342],\n",
              "       ...,\n",
              "       [   0,    0,    0, ...,    4,  275,   40],\n",
              "       [   0,    0,    0, ...,  275,   40,  494],\n",
              "       [   0,    0,    0, ...,   40,  494,  621]], dtype=int32)"
            ]
          },
          "metadata": {
            "tags": []
          },
          "execution_count": 11
        }
      ]
    },
    {
      "cell_type": "code",
      "metadata": {
        "colab_type": "code",
        "id": "ejnqC8LZtfFE",
        "colab": {}
      },
      "source": [
        "text_dataset = tf.data.Dataset.from_tensor_slices(input_sequences)"
      ],
      "execution_count": 12,
      "outputs": []
    },
    {
      "cell_type": "code",
      "metadata": {
        "colab_type": "code",
        "id": "02XRjp6htfFH",
        "colab": {}
      },
      "source": [
        "def split_input_target(chunk):\n",
        "    input_text = chunk[:-1]\n",
        "    target_text = chunk[-1]\n",
        "    return input_text, target_text"
      ],
      "execution_count": 13,
      "outputs": []
    },
    {
      "cell_type": "code",
      "metadata": {
        "colab_type": "code",
        "id": "CqJpy2c-tfFJ",
        "colab": {
          "base_uri": "https://localhost:8080/",
          "height": 510
        },
        "outputId": "4fbb4e71-60c2-4d76-bd1c-260e84112b1a"
      },
      "source": [
        "dataset = text_dataset.map(split_input_target).batch(256, drop_remainder=True)\n",
        "\n",
        "for input, target in dataset.take(1):\n",
        "    print(input)\n",
        "    print()\n",
        "    print(target)"
      ],
      "execution_count": 14,
      "outputs": [
        {
          "output_type": "stream",
          "text": [
            "tf.Tensor(\n",
            "[[   0    0    0 ...    0    0   48]\n",
            " [   0    0    0 ...    0   48 1303]\n",
            " [   0    0    0 ...   48 1303  248]\n",
            " ...\n",
            " [   0    0    0 ...    8 1317    4]\n",
            " [   0    0    0 ... 1317    4   17]\n",
            " [   0    0    0 ...    4   17   15]], shape=(256, 62), dtype=int32)\n",
            "\n",
            "tf.Tensor(\n",
            "[1303  248  342   10  481  815  816   22  443   31   24    1  151    6\n",
            "  704 1006   19   49  817    3   18  482   49 1304 1305  175  343    8\n",
            "    8  169   27 1306  151    8  203    1  204    6    1   48   44  258\n",
            " 1007   18   22  443   27  818   19  625 1826  248  342   10  481 1827\n",
            "  815  816 1828  819 1829 1830  443  820 1832  819  136  140 1307 1834\n",
            " 1308 1836  550 1309  196 1837 1008 1009    6   22   48   44  443  248\n",
            "  342   10  481  248  342   10  481  815  816    1 1838 1839 1310  373\n",
            "  344   14    1  110  705   12   13  274    4  115   29  551    6  405\n",
            "   59   17  483   20    1 1010    6  406  154    4   45  148   27  706\n",
            "    7   23 1011   68    1  374   17  483   13  821    8   23   49  822\n",
            "   27 1311   10    8   38   31    1  151    6    5  374   62   12 1841\n",
            "  822   27 1311    2   28    7   13 1012   10   17  407  375   16  121\n",
            "   16    7   57    1  552  162  155   17  484   29  707    3 1013    1\n",
            " 1312    6  485    5 1842 1843   58   25  823    1  626    6  205   39\n",
            "    3 1313    1 1844  315    5  156  110   18 1845  163  259  316   59\n",
            "   17   13  154   28   29 1314   10   15 1315   74   12   91    8   28\n",
            "   29   93   35    6    1   76    4  275    1  110   95    4  295  170\n",
            "  206  170   14  188   25  627    2   60    7   62    8  122 1316 1317\n",
            "    4   17   15    7], shape=(256,), dtype=int32)\n"
          ],
          "name": "stdout"
        }
      ]
    },
    {
      "cell_type": "code",
      "metadata": {
        "colab_type": "code",
        "id": "w9vH8Y59ajYL",
        "colab": {
          "base_uri": "https://localhost:8080/",
          "height": 374
        },
        "outputId": "ce281ecb-c138-4427-ae07-7acb50ee446a"
      },
      "source": [
        "model = Sequential()\n",
        "model.add(Embedding(total_words, 100))\n",
        "model.add(Bidirectional(LSTM(32, return_sequences = True)))\n",
        "model.add(Dropout(0.2))\n",
        "model.add(LSTM(16))\n",
        "model.add(Dense(total_words/2, activation='relu', kernel_regularizer=regularizers.l2(0.01)))\n",
        "model.add(Dense(total_words, activation='softmax'))\n",
        "\n",
        "model.compile(loss='sparse_categorical_crossentropy', optimizer='adam', metrics=['accuracy'])\n",
        "print(model.summary())"
      ],
      "execution_count": 17,
      "outputs": [
        {
          "output_type": "stream",
          "text": [
            "Model: \"sequential_1\"\n",
            "_________________________________________________________________\n",
            "Layer (type)                 Output Shape              Param #   \n",
            "=================================================================\n",
            "embedding_1 (Embedding)      (None, None, 100)         333800    \n",
            "_________________________________________________________________\n",
            "bidirectional_1 (Bidirection (None, None, 64)          34048     \n",
            "_________________________________________________________________\n",
            "dropout_1 (Dropout)          (None, None, 64)          0         \n",
            "_________________________________________________________________\n",
            "lstm_3 (LSTM)                (None, 16)                5184      \n",
            "_________________________________________________________________\n",
            "dense_2 (Dense)              (None, 1669)              28373     \n",
            "_________________________________________________________________\n",
            "dense_3 (Dense)              (None, 3338)              5574460   \n",
            "=================================================================\n",
            "Total params: 5,975,865\n",
            "Trainable params: 5,975,865\n",
            "Non-trainable params: 0\n",
            "_________________________________________________________________\n",
            "None\n"
          ],
          "name": "stdout"
        }
      ]
    },
    {
      "cell_type": "code",
      "metadata": {
        "colab_type": "code",
        "id": "AIg2f1HBxqof",
        "scrolled": true,
        "colab": {
          "base_uri": "https://localhost:8080/",
          "height": 1000
        },
        "outputId": "1097eae8-3e42-4195-ccd1-6012ee2bee6e"
      },
      "source": [
        "%%time\n",
        "history = model.fit(dataset, epochs=50, verbose=1)"
      ],
      "execution_count": 19,
      "outputs": [
        {
          "output_type": "stream",
          "text": [
            "Epoch 1/50\n",
            "106/106 [==============================] - 7s 64ms/step - loss: 6.0687 - accuracy: 0.0645\n",
            "Epoch 2/50\n",
            "106/106 [==============================] - 7s 64ms/step - loss: 6.0110 - accuracy: 0.0656\n",
            "Epoch 3/50\n",
            "106/106 [==============================] - 7s 64ms/step - loss: 5.9343 - accuracy: 0.0669\n",
            "Epoch 4/50\n",
            "106/106 [==============================] - 7s 64ms/step - loss: 5.8833 - accuracy: 0.0695\n",
            "Epoch 5/50\n",
            "106/106 [==============================] - 7s 64ms/step - loss: 5.8307 - accuracy: 0.0730\n",
            "Epoch 6/50\n",
            "106/106 [==============================] - 7s 65ms/step - loss: 5.7718 - accuracy: 0.0785\n",
            "Epoch 7/50\n",
            "106/106 [==============================] - 7s 64ms/step - loss: 5.7009 - accuracy: 0.0889\n",
            "Epoch 8/50\n",
            "106/106 [==============================] - 7s 64ms/step - loss: 5.6273 - accuracy: 0.0923\n",
            "Epoch 9/50\n",
            "106/106 [==============================] - 7s 64ms/step - loss: 5.5562 - accuracy: 0.0982\n",
            "Epoch 10/50\n",
            "106/106 [==============================] - 7s 64ms/step - loss: 5.4926 - accuracy: 0.1027\n",
            "Epoch 11/50\n",
            "106/106 [==============================] - 7s 65ms/step - loss: 5.4385 - accuracy: 0.1064\n",
            "Epoch 12/50\n",
            "106/106 [==============================] - 7s 64ms/step - loss: 5.3881 - accuracy: 0.1089\n",
            "Epoch 13/50\n",
            "106/106 [==============================] - 7s 64ms/step - loss: 5.3424 - accuracy: 0.1126\n",
            "Epoch 14/50\n",
            "106/106 [==============================] - 7s 64ms/step - loss: 5.2991 - accuracy: 0.1160\n",
            "Epoch 15/50\n",
            "106/106 [==============================] - 7s 64ms/step - loss: 5.2617 - accuracy: 0.1183\n",
            "Epoch 16/50\n",
            "106/106 [==============================] - 7s 65ms/step - loss: 5.2199 - accuracy: 0.1209\n",
            "Epoch 17/50\n",
            "106/106 [==============================] - 7s 64ms/step - loss: 5.1826 - accuracy: 0.1235\n",
            "Epoch 18/50\n",
            "106/106 [==============================] - 7s 64ms/step - loss: 5.1471 - accuracy: 0.1270\n",
            "Epoch 19/50\n",
            "106/106 [==============================] - 7s 64ms/step - loss: 5.1056 - accuracy: 0.1301\n",
            "Epoch 20/50\n",
            "106/106 [==============================] - 7s 64ms/step - loss: 5.0723 - accuracy: 0.1335\n",
            "Epoch 21/50\n",
            "106/106 [==============================] - 7s 64ms/step - loss: 5.0363 - accuracy: 0.1383\n",
            "Epoch 22/50\n",
            "106/106 [==============================] - 7s 64ms/step - loss: 5.0068 - accuracy: 0.1378\n",
            "Epoch 23/50\n",
            "106/106 [==============================] - 7s 64ms/step - loss: 4.9730 - accuracy: 0.1412\n",
            "Epoch 24/50\n",
            "106/106 [==============================] - 7s 64ms/step - loss: 4.9390 - accuracy: 0.1443\n",
            "Epoch 25/50\n",
            "106/106 [==============================] - 7s 64ms/step - loss: 4.9118 - accuracy: 0.1473\n",
            "Epoch 26/50\n",
            "106/106 [==============================] - 7s 64ms/step - loss: 4.8867 - accuracy: 0.1484\n",
            "Epoch 27/50\n",
            "106/106 [==============================] - 7s 64ms/step - loss: 4.8589 - accuracy: 0.1519\n",
            "Epoch 28/50\n",
            "106/106 [==============================] - 7s 64ms/step - loss: 4.8279 - accuracy: 0.1550\n",
            "Epoch 29/50\n",
            "106/106 [==============================] - 7s 64ms/step - loss: 4.8149 - accuracy: 0.1565\n",
            "Epoch 30/50\n",
            "106/106 [==============================] - 7s 64ms/step - loss: 4.7916 - accuracy: 0.1596\n",
            "Epoch 31/50\n",
            "106/106 [==============================] - 7s 64ms/step - loss: 4.7643 - accuracy: 0.1613\n",
            "Epoch 32/50\n",
            "106/106 [==============================] - 7s 64ms/step - loss: 4.7394 - accuracy: 0.1636\n",
            "Epoch 33/50\n",
            "106/106 [==============================] - 7s 63ms/step - loss: 4.7129 - accuracy: 0.1658\n",
            "Epoch 34/50\n",
            "106/106 [==============================] - 7s 64ms/step - loss: 4.6921 - accuracy: 0.1675\n",
            "Epoch 35/50\n",
            "106/106 [==============================] - 7s 64ms/step - loss: 4.6647 - accuracy: 0.1693\n",
            "Epoch 36/50\n",
            "106/106 [==============================] - 7s 64ms/step - loss: 4.6364 - accuracy: 0.1718\n",
            "Epoch 37/50\n",
            "106/106 [==============================] - 7s 64ms/step - loss: 4.6094 - accuracy: 0.1752\n",
            "Epoch 38/50\n",
            "106/106 [==============================] - 7s 64ms/step - loss: 4.5873 - accuracy: 0.1768\n",
            "Epoch 39/50\n",
            "106/106 [==============================] - 7s 64ms/step - loss: 4.5620 - accuracy: 0.1788\n",
            "Epoch 40/50\n",
            "106/106 [==============================] - 7s 63ms/step - loss: 4.5475 - accuracy: 0.1807\n",
            "Epoch 41/50\n",
            "106/106 [==============================] - 7s 64ms/step - loss: 4.5231 - accuracy: 0.1835\n",
            "Epoch 42/50\n",
            "106/106 [==============================] - 7s 64ms/step - loss: 4.4977 - accuracy: 0.1867\n",
            "Epoch 43/50\n",
            "106/106 [==============================] - 7s 64ms/step - loss: 4.4750 - accuracy: 0.1885\n",
            "Epoch 44/50\n",
            "106/106 [==============================] - 7s 64ms/step - loss: 4.4665 - accuracy: 0.1876\n",
            "Epoch 45/50\n",
            "106/106 [==============================] - 7s 63ms/step - loss: 4.4361 - accuracy: 0.1916\n",
            "Epoch 46/50\n",
            "106/106 [==============================] - 7s 64ms/step - loss: 4.4125 - accuracy: 0.1938\n",
            "Epoch 47/50\n",
            "106/106 [==============================] - 7s 64ms/step - loss: 4.3925 - accuracy: 0.1945\n",
            "Epoch 48/50\n",
            "106/106 [==============================] - 7s 63ms/step - loss: 4.3816 - accuracy: 0.1948\n",
            "Epoch 49/50\n",
            "106/106 [==============================] - 7s 64ms/step - loss: 4.3624 - accuracy: 0.1978\n",
            "Epoch 50/50\n",
            "106/106 [==============================] - 7s 64ms/step - loss: 4.3346 - accuracy: 0.1996\n",
            "CPU times: user 3min 23s, sys: 36.7 s, total: 3min 59s\n",
            "Wall time: 5min 43s\n"
          ],
          "name": "stdout"
        }
      ]
    },
    {
      "cell_type": "code",
      "metadata": {
        "colab_type": "code",
        "id": "1fXTEO3GJ282",
        "colab": {
          "base_uri": "https://localhost:8080/",
          "height": 281
        },
        "outputId": "da684fdf-ba96-4370-fb0f-1e38517622db"
      },
      "source": [
        "import matplotlib.pyplot as plt\n",
        "%matplotlib inline\n",
        "\n",
        "acc = history.history['accuracy']\n",
        "loss = history.history['loss']\n",
        "\n",
        "epochs = range(len(acc))\n",
        "\n",
        "plt.figure(figsize=(12,4))\n",
        "\n",
        "plt.subplot(1, 2, 1)\n",
        "plt.plot(epochs, acc, 'b', label='Training accuracy')\n",
        "plt.title('Training accuracy')\n",
        "\n",
        "plt.subplot(1, 2, 2)\n",
        "plt.plot(epochs, loss, 'b', label='Training Loss')\n",
        "plt.title('Training loss')\n",
        "plt.legend()\n",
        "\n",
        "plt.show()"
      ],
      "execution_count": 20,
      "outputs": [
        {
          "output_type": "display_data",
          "data": {
            "image/png": "[encoded data removed]",
            "text/plain": [
              "<Figure size 864x288 with 2 Axes>"
            ]
          },
          "metadata": {
            "tags": [],
            "needs_background": "light"
          }
        }
      ]
    },
    {
      "cell_type": "code",
      "metadata": {
        "colab_type": "code",
        "id": "MPTokoLYxCvI",
        "colab": {
          "base_uri": "https://localhost:8080/",
          "height": 54
        },
        "outputId": "5d023aa0-7e6e-41ff-e733-dde37d0d5f6e"
      },
      "source": [
        "seed_text = \"Help me Obi Wan Kenobi, you're my only hope\"\n",
        "next_words = 100\n",
        "\n",
        "for _ in range(next_words):\n",
        "    token_list = tokenizer.texts_to_sequences([seed_text])[0]\n",
        "    token_list = pad_sequences([token_list], maxlen=max_sequence_len-1, padding='pre')\n",
        "    predicted = np.argmax(model.predict(token_list), axis=-1)\n",
        "    output_word = tokenizer.index_word[predicted[0]]\n",
        "    seed_text += \" \" + output_word\n",
        "print(seed_text)"
      ],
      "execution_count": 22,
      "outputs": [
        {
          "output_type": "stream",
          "text": [
            "Help me Obi Wan Kenobi, you're my only hope the project gutenberg tm works in a little little tone in a little tone and all all very little little tone and a little tone of course would be a little tone and all all all very little little tone and a little tone of course would be a little tone and all all all very little little tone and a little tone of the little little tone and all all the little little tone and the little little tone and all all all one thing is the little thing ' said the gutenberg tm works in a little little\n"
          ],
          "name": "stdout"
        }
      ]
    },
    {
      "cell_type": "code",
      "metadata": {
        "colab_type": "code",
        "id": "AJzIYX4Fw574",
        "colab": {}
      },
      "source": [
        ""
      ],
      "execution_count": null,
      "outputs": []
    }
  ]
}