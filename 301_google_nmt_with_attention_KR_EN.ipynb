{
 "cells": [
  {
   "cell_type": "markdown",
   "metadata": {
    "colab_type": "text",
    "id": "J0Qjg6vuaHNt"
   },
   "source": [
    "# 301. Neural machine translation with attention - 한글 번역기"
   ]
  },
  {
   "cell_type": "markdown",
   "metadata": {
    "colab_type": "text",
    "id": "CiwtNgENbx2g"
   },
   "source": [
    "- English Korean translation 을 seq2seq attention model 로 구현  \n"
   ]
  },
  {
   "cell_type": "code",
   "execution_count": 0,
   "metadata": {
    "colab": {},
    "colab_type": "code",
    "id": "aK17QdjU8Of4"
   },
   "outputs": [],
   "source": [
    "# Google Colab 한글 font 설치\n",
    "# 설치 후 반드시 런타임 다시 시작\n",
    "import matplotlib as mpl\n",
    "import matplotlib.pyplot as plt\n",
    " \n",
    "%config InlineBackend.figure_format = 'retina'\n",
    " \n",
    "!apt -qq -y install fonts-nanum\n",
    " \n",
    "import matplotlib.font_manager as fm\n",
    "fontpath = '/usr/share/fonts/truetype/nanum/NanumBarunGothic.ttf'\n",
    "font = fm.FontProperties(fname=fontpath, size=9)\n",
    "plt.rc('font', family='NanumBarunGothic') \n",
    "mpl.font_manager._rebuild()"
   ]
  },
  {
   "cell_type": "code",
   "execution_count": 0,
   "metadata": {
    "colab": {},
    "colab_type": "code",
    "id": "kU89bNWB35UW"
   },
   "outputs": [],
   "source": [
    "# #windows 한글 폰트 사용\n",
    "# from matplotlib import font_manager\n",
    "# import matplotlib\n",
    "# font_path = \"C:/Windows/Fonts/H2GTRM.TTF\"                       #폰트 경로\n",
    "# font_name = font_manager.FontProperties(fname=font_path).get_name()  #폰트 이름 얻어오기\n",
    "# matplotlib.rc('font', family=font_name)                                 #font 지정\n",
    "# matplotlib.rcParams['axes.unicode_minus'] = False               #한글사용시 마이너스 사인 깨짐 방지"
   ]
  },
  {
   "cell_type": "code",
   "execution_count": 0,
   "metadata": {
    "colab": {},
    "colab_type": "code",
    "id": "1E47G9t7ovP1"
   },
   "outputs": [],
   "source": [
    "import tensorflow as tf\n",
    "tf.__version__"
   ]
  },
  {
   "cell_type": "code",
   "execution_count": 0,
   "metadata": {
    "colab": {},
    "colab_type": "code",
    "id": "tnxXKDjq3jEL"
   },
   "outputs": [],
   "source": [
    "import matplotlib.pyplot as plt\n",
    "%matplotlib inline\n",
    "import matplotlib.ticker as ticker\n",
    "from sklearn.model_selection import train_test_split\n",
    "\n",
    "import unicodedata\n",
    "import re\n",
    "import numpy as np\n",
    "import os\n",
    "import io\n",
    "import time\n",
    "import pandas as pd"
   ]
  },
  {
   "cell_type": "code",
   "execution_count": 0,
   "metadata": {
    "colab": {},
    "colab_type": "code",
    "id": "KsfQ5UNtygQl"
   },
   "outputs": [],
   "source": [
    "df = pd.read_csv(\"https://github.com/ironmanciti/NLP_Lecture/raw/master/kor-eng/kor.txt\", delimiter='\\t', header=None)\n",
    "df = df.iloc[:-10]\n",
    "print(len(df))\n",
    "df.pop(2)\n",
    "df.to_csv(\"kor_clean.txt\", sep=\"\\t\", index=False)"
   ]
  },
  {
   "cell_type": "markdown",
   "metadata": {
    "colab_type": "text",
    "id": "wfodePkj3jEa"
   },
   "source": [
    "# Step1. prepare the dataset\n",
    "1.  Teacher Forcing 용 data 생성\n",
    "    - target_texts_inputs  : 1 만큼 offset 된 target language sentence $\\rightarrow$ `<sos>...`\n",
    "    - target_texts  : target language sentence  $\\rightarrow$ `.....<eos>`\n",
    "\n",
    "\n",
    "2. 특수문자 제거  \n",
    "\n",
    "\n",
    "3. 각 sentence 를 maximum 길이로 sequence padding  ng\n",
    "\n",
    "\n",
    "\n",
    "   "
   ]
  },
  {
   "cell_type": "code",
   "execution_count": 0,
   "metadata": {
    "colab": {},
    "colab_type": "code",
    "id": "kRVATYOgJs1b"
   },
   "outputs": [],
   "source": [
    "path_to_file = \"kor_clean.txt\""
   ]
  },
  {
   "cell_type": "code",
   "execution_count": 0,
   "metadata": {
    "colab": {},
    "colab_type": "code",
    "id": "rd0jw-eC3jEh"
   },
   "outputs": [],
   "source": [
    "# Converts the unicode file to ascii\n",
    "# NFC - 한글 소리마디 영역으로 처리\n",
    "# Mn - Nonspacing_Mark\n",
    "# 문장을 NFC 방식으로 normalize 하고 accent 를 제거\n",
    "def unicode_to_ascii(s):\n",
    "  return ''.join(c for c in unicodedata.normalize('NFC', s) if unicodedata.category(c) != 'Mn')\n",
    "\n",
    "\n",
    "def preprocess_sentence(w):\n",
    "  w = unicode_to_ascii(w.lower().strip())\n",
    "\n",
    "  # word 와 구둣점 사이에 space 추가 \n",
    "  # eg: \"he is a boy.\" => \"he is a boy .\"\n",
    "  # \\1 - first group\n",
    "  w = re.sub(r\"([?.!,¿])\", r\" \\1 \", w)\n",
    "  w = re.sub(r'[\" \"]+', \" \", w)\n",
    "    \n",
    "  # a-z, A-Z, \".\", \"?\", \"!\", \",\" 외에는 모두 space  로 변환\n",
    "  w = re.sub(r\"[^a-zA-Z[가-힣]?.!,¿]+\", \" \", w)\n",
    "\n",
    "  w = w.rstrip().strip()\n",
    "\n",
    "  # sentence 에 start, end token 추가\n",
    "  w = '<start> ' + w + ' <end>'\n",
    "  return w"
   ]
  },
  {
   "cell_type": "code",
   "execution_count": 0,
   "metadata": {
    "colab": {},
    "colab_type": "code",
    "id": "opI2GzOt479E",
    "scrolled": true
   },
   "outputs": [],
   "source": [
    "en_sentence = u\"How's the business going?\"\n",
    "ko_sentence = u\"사업 어떻게 되어 가?\"\n",
    "print(preprocess_sentence(en_sentence))\n",
    "print(preprocess_sentence(ko_sentence))"
   ]
  },
  {
   "cell_type": "code",
   "execution_count": 0,
   "metadata": {
    "colab": {},
    "colab_type": "code",
    "id": "OHn4Dct23jEm"
   },
   "outputs": [],
   "source": [
    "# 1. accent 제거\n",
    "# 2. sentences cleansing\n",
    "# 3. [ENGLISH, Korean] pair 로 반환\n",
    "def create_dataset(path, num_examples):\n",
    "    lines = io.open(path, encoding='UTF-8').read().strip().split('\\n')\n",
    "    word_pairs = [[preprocess_sentence(w) for w in l.split('\\t')]  for l in lines[:num_examples]]\n",
    "    return zip(*word_pairs)"
   ]
  },
  {
   "cell_type": "code",
   "execution_count": 0,
   "metadata": {
    "colab": {},
    "colab_type": "code",
    "id": "vfD3OS6syY_l"
   },
   "outputs": [],
   "source": [
    "lines = open(path_to_file, encoding='UTF-8').read().strip().split('\\n')\n",
    "print(lines[100:105])\n",
    "\n",
    "word_pairs = [[preprocess_sentence(w) for w in l.split('\\t')]  for l in lines[100:105]]\n",
    "print(word_pairs)"
   ]
  },
  {
   "cell_type": "code",
   "execution_count": 0,
   "metadata": {
    "colab": {},
    "colab_type": "code",
    "id": "HYOiWcVenIRu"
   },
   "outputs": [],
   "source": [
    "en, ko = create_dataset(path_to_file, None)\n",
    "print(en[-1])\n",
    "print(ko[-1])"
   ]
  },
  {
   "cell_type": "code",
   "execution_count": 0,
   "metadata": {
    "colab": {},
    "colab_type": "code",
    "id": "bIOn8RCNDJXG"
   },
   "outputs": [],
   "source": [
    "def tokenize(lang):\n",
    "    lang_tokenizer = tf.keras.preprocessing.text.Tokenizer(filters='', oov_token='<OOV>')\n",
    "    lang_tokenizer.fit_on_texts(lang)\n",
    "    tensor = lang_tokenizer.texts_to_sequences(lang)\n",
    "    tensor = tf.keras.preprocessing.sequence.pad_sequences(tensor, padding='post')\n",
    "    return tensor, lang_tokenizer"
   ]
  },
  {
   "cell_type": "code",
   "execution_count": 0,
   "metadata": {
    "colab": {},
    "colab_type": "code",
    "id": "eAY9k49G3jE_"
   },
   "outputs": [],
   "source": [
    "def load_dataset(path, num_examples=None):\n",
    "  # creating cleaned input, output pairs\n",
    "  targ_lang, inp_lang = create_dataset(path, num_examples)\n",
    "\n",
    "  input_tensor, inp_lang_tokenizer = tokenize(inp_lang)\n",
    "  target_tensor, targ_lang_tokenizer = tokenize(targ_lang)\n",
    "\n",
    "  return input_tensor, target_tensor, inp_lang_tokenizer, targ_lang_tokenizer"
   ]
  },
  {
   "cell_type": "code",
   "execution_count": 0,
   "metadata": {
    "colab": {},
    "colab_type": "code",
    "id": "cnxC7q-j3jFD",
    "scrolled": true
   },
   "outputs": [],
   "source": [
    "# 한글 dataset 은 작으므로 전체 size 에 대해 다음을 수행\n",
    "input_tensor, target_tensor, inp_lang_tokenizer, targ_lang_tokenizer \\\n",
    "                                    = load_dataset(path_to_file)\n",
    "\n",
    "# target tensor 의 max_length 계산\n",
    "max_length_targ, max_length_inp \\\n",
    "            = max(len(t) for t in target_tensor), max(len(t) for t in input_tensor)\n",
    "max_length_targ, max_length_inp"
   ]
  },
  {
   "cell_type": "code",
   "execution_count": 0,
   "metadata": {
    "colab": {},
    "colab_type": "code",
    "id": "4QILQkOs3jFG"
   },
   "outputs": [],
   "source": [
    "# 80-20 으로 training, validation set 분할\n",
    "input_tensor_train, input_tensor_val, target_tensor_train, target_tensor_val \\\n",
    "                                        = train_test_split(input_tensor, target_tensor, test_size=0.2)\n",
    "\n",
    "# Show length\n",
    "print(len(input_tensor_train), len(target_tensor_train))\n",
    "print(len(input_tensor_val), len(target_tensor_val))"
   ]
  },
  {
   "cell_type": "code",
   "execution_count": 0,
   "metadata": {
    "colab": {},
    "colab_type": "code",
    "id": "VXukARTDd7MT"
   },
   "outputs": [],
   "source": [
    "print (\"Input Language; \")     \n",
    "print([inp_lang_tokenizer.index_word[i] for i in input_tensor_train[0] if i != 0])\n",
    "print ()\n",
    "print (\"Target Language; \")\n",
    "print([targ_lang_tokenizer.index_word[i] for i in target_tensor_train[0] if i != 0])"
   ]
  },
  {
   "cell_type": "markdown",
   "metadata": {
    "colab_type": "text",
    "id": "rgCLkfv5uO3d"
   },
   "source": [
    "### tf.data dataset 생성"
   ]
  },
  {
   "cell_type": "code",
   "execution_count": 0,
   "metadata": {
    "colab": {},
    "colab_type": "code",
    "id": "TqHsArVZ3jFS"
   },
   "outputs": [],
   "source": [
    "BUFFER_SIZE = len(input_tensor_train)   \n",
    "print(BUFFER_SIZE)\n",
    "\n",
    "BATCH_SIZE = 64\n",
    "steps_per_epoch = len(input_tensor_train)//BATCH_SIZE    \n",
    "print((steps_per_epoch))\n",
    "\n",
    "embedding_dim = 256\n",
    "units = 1024\n",
    "\n",
    "vocab_inp_size = len(inp_lang_tokenizer.word_index) + 1       \n",
    "print(vocab_inp_size)\n",
    "\n",
    "vocab_tar_size = len(targ_lang_tokenizer.word_index) + 1      \n",
    "print(vocab_tar_size)\n",
    "\n",
    "dataset = tf.data.Dataset.from_tensor_slices((input_tensor_train, target_tensor_train)).shuffle(BUFFER_SIZE)\n",
    "dataset = dataset.batch(BATCH_SIZE, drop_remainder=True)"
   ]
  },
  {
   "cell_type": "code",
   "execution_count": 0,
   "metadata": {
    "colab": {},
    "colab_type": "code",
    "id": "qc6-NK1GtWQt"
   },
   "outputs": [],
   "source": [
    "example_input_batch, example_target_batch = next(iter(dataset))\n",
    "example_input_batch.shape, example_target_batch.shape"
   ]
  },
  {
   "cell_type": "markdown",
   "metadata": {
    "colab_type": "text",
    "id": "Wk1xLpXOygRY"
   },
   "source": [
    "## encoder, decoder model 작성"
   ]
  },
  {
   "cell_type": "markdown",
   "metadata": {
    "colab_type": "text",
    "id": "xlqzokbuygRZ"
   },
   "source": [
    "# Step 2. Encoder model 작성"
   ]
  },
  {
   "cell_type": "code",
   "execution_count": 0,
   "metadata": {
    "colab": {},
    "colab_type": "code",
    "id": "nZ2rI24i3jFg"
   },
   "outputs": [],
   "source": [
    "class Encoder(tf.keras.Model):\n",
    "  def __init__(self, vocab_size, embedding_dim, enc_units, batch_sz):\n",
    "    super(Encoder, self).__init__()\n",
    "    self.batch_sz = batch_sz\n",
    "    self.enc_units = enc_units\n",
    "    \n",
    "    self.embedding = tf.keras.layers.Embedding(vocab_size, embedding_dim)\n",
    "    \n",
    "    self.gru = tf.keras.layers.GRU(self.enc_units,\n",
    "                                   return_sequences=True,\n",
    "                                   return_state=True,\n",
    "                                   recurrent_initializer='glorot_uniform')\n",
    "\n",
    "  def call(self, x, hidden):\n",
    "    x = self.embedding(x)\n",
    "    output, state = self.gru(x, initial_state = hidden)\n",
    "    return output, state\n",
    "\n",
    "  def initialize_hidden_state(self):\n",
    "    return tf.zeros((self.batch_sz, self.enc_units))"
   ]
  },
  {
   "cell_type": "code",
   "execution_count": 0,
   "metadata": {
    "colab": {},
    "colab_type": "code",
    "id": "60gSVh05Jl6l"
   },
   "outputs": [],
   "source": [
    "encoder = Encoder(vocab_inp_size, embedding_dim, units, BATCH_SIZE)\n",
    "\n",
    "# sample input\n",
    "sample_hidden = encoder.initialize_hidden_state()\n",
    "sample_output, sample_hidden = encoder(example_input_batch, sample_hidden)\n",
    "print ('Encoder output shape: (batch size, max input sequence length, units) {}'\n",
    "                       .format(sample_output.shape))\n",
    "print ('Encoder Hidden state shape: (batch size, units) {}'.format(sample_hidden.shape))"
   ]
  },
  {
   "cell_type": "code",
   "execution_count": 0,
   "metadata": {
    "colab": {},
    "colab_type": "code",
    "id": "umohpBN2OM94"
   },
   "outputs": [],
   "source": [
    "class BahdanauAttention(tf.keras.layers.Layer):\n",
    "  def __init__(self, units):\n",
    "    super(BahdanauAttention, self).__init__()\n",
    "    self.W1 = tf.keras.layers.Dense(units)\n",
    "    self.W2 = tf.keras.layers.Dense(units)\n",
    "    self.V = tf.keras.layers.Dense(1)\n",
    "\n",
    "  def call(self, query, values):\n",
    "    \n",
    "    hidden_with_time_axis = tf.expand_dims(query, 1)\n",
    "    score = self.V(tf.nn.tanh(self.W1(values) + self.W2(hidden_with_time_axis)))\n",
    "\n",
    "    attention_weights = tf.nn.softmax(score, axis=1)\n",
    "\n",
    "    context_vector = attention_weights * values\n",
    "    context_vector = tf.reduce_sum(context_vector, axis=1)\n",
    "\n",
    "    return context_vector, attention_weights"
   ]
  },
  {
   "cell_type": "code",
   "execution_count": 0,
   "metadata": {
    "colab": {},
    "colab_type": "code",
    "id": "k534zTHiDjQU"
   },
   "outputs": [],
   "source": [
    "attention_layer = BahdanauAttention(10)\n",
    "attention_result, attention_weights = attention_layer(sample_hidden, sample_output)\n",
    "\n",
    "print(\"Attention result shape: (batch size, hidden_units) {}\".format(attention_result.shape))\n",
    "print(\"Attention weights shape: (batch_size, input_lang_max_sequence_length, 1) {}\"\n",
    "                  .format(attention_weights.shape))"
   ]
  },
  {
   "cell_type": "code",
   "execution_count": 0,
   "metadata": {
    "colab": {},
    "colab_type": "code",
    "id": "yJ_B3mhW3jFk"
   },
   "outputs": [],
   "source": [
    "class Decoder(tf.keras.Model):\n",
    "  def __init__(self, vocab_size, embedding_dim, dec_units, batch_sz):\n",
    "    super(Decoder, self).__init__()\n",
    "    self.batch_sz = batch_sz\n",
    "    self.dec_units = dec_units\n",
    "    self.embedding = tf.keras.layers.Embedding(vocab_size, embedding_dim)\n",
    "    self.gru = tf.keras.layers.GRU(self.dec_units,\n",
    "                                   return_sequences=True,\n",
    "                                   return_state=True,\n",
    "                                   recurrent_initializer='glorot_uniform')\n",
    "    self.fc = tf.keras.layers.Dense(vocab_size)     # vocab_size - target_lang vocab_size (4935)\n",
    "\n",
    "    self.attention = BahdanauAttention(self.dec_units)        \n",
    "\n",
    "  def call(self, x, hidden, enc_output):\n",
    "    \n",
    "    context_vector, attention_weights = self.attention(hidden, enc_output)\n",
    "\n",
    "    x = self.embedding(x)\n",
    "\n",
    "    x = tf.concat([tf.expand_dims(context_vector, 1), x], axis=-1)\n",
    "\n",
    "    output, state = self.gru(x)\n",
    "\n",
    "    output = tf.reshape(output, (-1, output.shape[2]))\n",
    "\n",
    "    x = self.fc(output)\n",
    "\n",
    "    return x, state, attention_weights"
   ]
  },
  {
   "cell_type": "code",
   "execution_count": 0,
   "metadata": {
    "colab": {},
    "colab_type": "code",
    "id": "P5UY8wko3jFp"
   },
   "outputs": [],
   "source": [
    "decoder = Decoder(vocab_tar_size, embedding_dim, units, BATCH_SIZE)\n",
    "\n",
    "sample_decoder_output, _, _ = decoder(tf.random.uniform((BATCH_SIZE, 1)),\n",
    "                                      sample_hidden, sample_output)\n",
    "\n",
    "print ('Decoder output shape: (batch_size, target_lang_vocab size) {}'\n",
    "                       .format(sample_decoder_output.shape))"
   ]
  },
  {
   "cell_type": "markdown",
   "metadata": {
    "colab_type": "text",
    "id": "_ch_71VbIRfK"
   },
   "source": [
    "## Define the optimizer and the loss function"
   ]
  },
  {
   "cell_type": "code",
   "execution_count": 0,
   "metadata": {
    "colab": {},
    "colab_type": "code",
    "id": "WmTHr5iV3jFr"
   },
   "outputs": [],
   "source": [
    "optimizer = tf.keras.optimizers.Adam()\n",
    "loss_object = tf.keras.losses.SparseCategoricalCrossentropy(\n",
    "                    from_logits=True, reduction='none')\n",
    "\n",
    "def loss_function(real, pred):     \n",
    "\n",
    "  mask = tf.math.logical_not(tf.math.equal(real, 0))    \n",
    "\n",
    "  loss_ = loss_object(real, pred)    \n",
    "\n",
    "  mask = tf.cast(mask, dtype=loss_.dtype)   \n",
    "\n",
    "  loss_ *= mask      # 실제 단어가 존재하는 위치 외에는 모두 0 으로 만든다\n",
    "\n",
    "  return tf.reduce_mean(loss_) "
   ]
  },
  {
   "cell_type": "markdown",
   "metadata": {
    "colab_type": "text",
    "id": "DMVWzzsfNl4e"
   },
   "source": [
    "## Checkpoints (Object-based saving)"
   ]
  },
  {
   "cell_type": "code",
   "execution_count": 0,
   "metadata": {
    "colab": {},
    "colab_type": "code",
    "id": "Zj8bXQTgNwrF"
   },
   "outputs": [],
   "source": [
    "checkpoint_dir = './training_checkpoints'\n",
    "checkpoint_prefix = os.path.join(checkpoint_dir, \"ckpt\")\n",
    "checkpoint = tf.train.Checkpoint(optimizer=optimizer,\n",
    "                                 encoder=encoder,\n",
    "                                 decoder=decoder)"
   ]
  },
  {
   "cell_type": "markdown",
   "metadata": {
    "colab_type": "text",
    "id": "hpObfY22IddU"
   },
   "source": [
    "## Training"
   ]
  },
  {
   "cell_type": "code",
   "execution_count": 0,
   "metadata": {
    "colab": {},
    "colab_type": "code",
    "id": "sC9ArXSsVfqn"
   },
   "outputs": [],
   "source": [
    "@tf.function\n",
    "def train_step(inp, targ, enc_hidden):\n",
    "  loss = 0\n",
    "\n",
    "  with tf.GradientTape() as tape:\n",
    "    enc_output, enc_hidden = encoder(inp, enc_hidden)\n",
    "    \n",
    "    dec_hidden = enc_hidden   \n",
    "\n",
    "    dec_input = tf.expand_dims([targ_lang_tokenizer.word_index['<start>']] * BATCH_SIZE, 1)\n",
    "\n",
    "    for t in range(1, targ.shape[1]):  \n",
    "\n",
    "      predictions, dec_hidden, _ = decoder(dec_input, dec_hidden, enc_output)\n",
    "\n",
    "      loss += loss_function(targ[:, t], predictions) \n",
    "\n",
    "      dec_input = tf.expand_dims(targ[:, t], 1)\n",
    "\n",
    "  batch_loss = (loss / int(targ.shape[1]))\n",
    "\n",
    "  variables = encoder.trainable_variables + decoder.trainable_variables\n",
    "\n",
    "  gradients = tape.gradient(loss, variables)\n",
    "\n",
    "  optimizer.apply_gradients(zip(gradients, variables))\n",
    "\n",
    "  return batch_loss"
   ]
  },
  {
   "cell_type": "code",
   "execution_count": 29,
   "metadata": {
    "colab": {
     "base_uri": "https://localhost:8080/",
     "height": 1000
    },
    "colab_type": "code",
    "id": "sVhEsX-T7kOz",
    "outputId": "a175ac68-7358-4a67-a235-5e01572754d4"
   },
   "outputs": [
    {
     "name": "stdout",
     "output_type": "stream",
     "text": [
      "Epoch 1 Batch 0 Loss 2.9019\n",
      "Epoch 1 평균 Loss 2.0593\n",
      "Time taken for 1 epoch 24.838391304016113 sec\n",
      "\n",
      "Epoch 2 Batch 0 Loss 1.8572\n",
      "Epoch 2 평균 Loss 1.7055\n",
      "Time taken for 1 epoch 14.581338167190552 sec\n",
      "\n",
      "Epoch 3 Batch 0 Loss 1.5743\n",
      "Epoch 3 평균 Loss 1.5683\n",
      "Time taken for 1 epoch 11.021164814631144 sec\n",
      "\n",
      "Epoch 4 Batch 0 Loss 1.3600\n",
      "Epoch 4 평균 Loss 1.4453\n",
      "Time taken for 1 epoch 9.337403416633606 sec\n",
      "\n",
      "Epoch 5 Batch 0 Loss 1.4363\n",
      "Epoch 5 평균 Loss 1.3373\n",
      "Time taken for 1 epoch 8.245409202575683 sec\n",
      "\n",
      "Epoch 6 Batch 0 Loss 1.2290\n",
      "Epoch 6 평균 Loss 1.2370\n",
      "Time taken for 1 epoch 7.5763289133707685 sec\n",
      "\n",
      "Epoch 7 Batch 0 Loss 1.1064\n",
      "Epoch 7 평균 Loss 1.1614\n",
      "Time taken for 1 epoch 7.047006096158709 sec\n",
      "\n",
      "Epoch 8 Batch 0 Loss 1.1269\n",
      "Epoch 8 평균 Loss 1.0983\n",
      "Time taken for 1 epoch 6.69752898812294 sec\n",
      "\n",
      "Epoch 9 Batch 0 Loss 0.9504\n",
      "Epoch 9 평균 Loss 1.0341\n",
      "Time taken for 1 epoch 6.38040730688307 sec\n",
      "\n",
      "Epoch 10 Batch 0 Loss 0.9033\n",
      "Epoch 10 평균 Loss 0.9611\n",
      "Time taken for 1 epoch 6.171129465103149 sec\n",
      "\n",
      "Epoch 11 Batch 0 Loss 0.8355\n",
      "Epoch 11 평균 Loss 0.8890\n",
      "Time taken for 1 epoch 5.963521177118475 sec\n",
      "\n",
      "Epoch 12 Batch 0 Loss 0.7711\n",
      "Epoch 12 평균 Loss 0.8193\n",
      "Time taken for 1 epoch 5.824235300223033 sec\n",
      "\n",
      "Epoch 13 Batch 0 Loss 0.6966\n",
      "Epoch 13 평균 Loss 0.7548\n",
      "Time taken for 1 epoch 5.675541217510517 sec\n",
      "\n",
      "Epoch 14 Batch 0 Loss 0.6960\n",
      "Epoch 14 평균 Loss 0.6954\n",
      "Time taken for 1 epoch 5.574427962303162 sec\n",
      "\n",
      "Epoch 15 Batch 0 Loss 0.6534\n",
      "Epoch 15 평균 Loss 0.6362\n",
      "Time taken for 1 epoch 5.460454034805298 sec\n",
      "\n",
      "Epoch 16 Batch 0 Loss 0.6273\n",
      "Epoch 16 평균 Loss 0.5808\n",
      "Time taken for 1 epoch 5.388986691832542 sec\n",
      "\n",
      "Epoch 17 Batch 0 Loss 0.4919\n",
      "Epoch 17 평균 Loss 0.5282\n",
      "Time taken for 1 epoch 5.298865584766164 sec\n",
      "\n",
      "Epoch 18 Batch 0 Loss 0.4394\n",
      "Epoch 18 평균 Loss 0.4772\n",
      "Time taken for 1 epoch 5.241690052880181 sec\n",
      "\n",
      "Epoch 19 Batch 0 Loss 0.3340\n",
      "Epoch 19 평균 Loss 0.4267\n",
      "Time taken for 1 epoch 5.16945911708631 sec\n",
      "\n",
      "Epoch 20 Batch 0 Loss 0.3148\n",
      "Epoch 20 평균 Loss 0.3735\n",
      "Time taken for 1 epoch 5.1239635944366455 sec\n",
      "\n",
      "Epoch 21 Batch 0 Loss 0.2941\n",
      "Epoch 21 평균 Loss 0.3207\n",
      "Time taken for 1 epoch 5.0647726740155905 sec\n",
      "\n",
      "Epoch 22 Batch 0 Loss 0.2147\n",
      "Epoch 22 평균 Loss 0.2808\n",
      "Time taken for 1 epoch 5.030152862722224 sec\n",
      "\n",
      "Epoch 23 Batch 0 Loss 0.2139\n",
      "Epoch 23 평균 Loss 0.2428\n",
      "Time taken for 1 epoch 4.979844756748365 sec\n",
      "\n",
      "Epoch 24 Batch 0 Loss 0.1381\n",
      "Epoch 24 평균 Loss 0.1989\n",
      "Time taken for 1 epoch 4.9501367410024 sec\n",
      "\n",
      "Epoch 25 Batch 0 Loss 0.1956\n",
      "Epoch 25 평균 Loss 0.1656\n",
      "Time taken for 1 epoch 4.907310132980347 sec\n",
      "\n",
      "Epoch 26 Batch 0 Loss 0.1122\n",
      "Epoch 26 평균 Loss 0.1425\n",
      "Time taken for 1 epoch 4.881542343359727 sec\n",
      "\n",
      "Epoch 27 Batch 0 Loss 0.0951\n",
      "Epoch 27 평균 Loss 0.1087\n",
      "Time taken for 1 epoch 4.844814812695539 sec\n",
      "\n",
      "Epoch 28 Batch 0 Loss 0.0643\n",
      "Epoch 28 평균 Loss 0.0822\n",
      "Time taken for 1 epoch 4.824164271354675 sec\n",
      "\n",
      "Epoch 29 Batch 0 Loss 0.0533\n",
      "Epoch 29 평균 Loss 0.0646\n",
      "Time taken for 1 epoch 4.792480090568805 sec\n",
      "\n",
      "Epoch 30 Batch 0 Loss 0.0615\n",
      "Epoch 30 평균 Loss 0.0537\n",
      "Time taken for 1 epoch 4.774591477711995 sec\n",
      "\n",
      "Epoch 31 Batch 0 Loss 0.0443\n",
      "Epoch 31 평균 Loss 0.0473\n",
      "Time taken for 1 epoch 4.746154700556109 sec\n",
      "\n",
      "Epoch 32 Batch 0 Loss 0.0351\n",
      "Epoch 32 평균 Loss 0.0392\n",
      "Time taken for 1 epoch 4.731768324971199 sec\n",
      "\n",
      "Epoch 33 Batch 0 Loss 0.0347\n",
      "Epoch 33 평균 Loss 0.0303\n",
      "Time taken for 1 epoch 4.705778627684622 sec\n",
      "\n",
      "Epoch 34 Batch 0 Loss 0.0182\n",
      "Epoch 34 평균 Loss 0.0253\n",
      "Time taken for 1 epoch 4.693917681189144 sec\n",
      "\n",
      "Epoch 35 Batch 0 Loss 0.0221\n",
      "Epoch 35 평균 Loss 0.0204\n",
      "Time taken for 1 epoch 4.670828778403146 sec\n",
      "\n",
      "Epoch 36 Batch 0 Loss 0.0163\n",
      "Epoch 36 평균 Loss 0.0164\n",
      "Time taken for 1 epoch 4.65979528427124 sec\n",
      "\n",
      "Epoch 37 Batch 0 Loss 0.0077\n",
      "Epoch 37 평균 Loss 0.0128\n",
      "Time taken for 1 epoch 4.638390682839058 sec\n",
      "\n",
      "Epoch 38 Batch 0 Loss 0.0192\n",
      "Epoch 38 평균 Loss 0.0122\n",
      "Time taken for 1 epoch 4.628053301259091 sec\n",
      "\n",
      "Epoch 39 Batch 0 Loss 0.0112\n",
      "Epoch 39 평균 Loss 0.0113\n",
      "Time taken for 1 epoch 4.60891631933359 sec\n",
      "\n",
      "Epoch 40 Batch 0 Loss 0.0124\n",
      "Epoch 40 평균 Loss 0.0105\n",
      "Time taken for 1 epoch 4.601174384355545 sec\n",
      "\n",
      "Total Time 184.04719400405884 sec\n"
     ]
    }
   ],
   "source": [
    "EPOCHS = 40\n",
    "\n",
    "start = time.time()\n",
    "for epoch in range(EPOCHS):\n",
    "\n",
    "  enc_hidden = encoder.initialize_hidden_state()\n",
    "  total_loss = 0\n",
    "\n",
    "  for (batch, (inp, targ)) in enumerate(dataset.take(steps_per_epoch)):\n",
    "\n",
    "    batch_loss = train_step(inp, targ, enc_hidden)\n",
    "    total_loss += batch_loss\n",
    "\n",
    "    if batch % 100 == 0:\n",
    "      print('Epoch {} Batch {} Loss {:.4f}'.format(epoch + 1,\n",
    "                                                   batch,\n",
    "                                                   batch_loss.numpy()))\n",
    "  # saving (checkpoint) the model every 2 epochs\n",
    "  if (epoch + 1) % 2 == 0:\n",
    "    checkpoint.save(file_prefix = checkpoint_prefix)\n",
    "\n",
    "  print('Epoch {} 평균 Loss {:.4f}'.format(epoch+1, total_loss / steps_per_epoch))\n",
    "  print('Time taken for 1 epoch {} sec\\n'.format((time.time() - start)/(epoch+1)))\n",
    "\n",
    "print('Total Time {} sec'.format(time.time() - start))"
   ]
  },
  {
   "cell_type": "markdown",
   "metadata": {
    "colab_type": "text",
    "id": "mU3Ce8M6I3rz"
   },
   "source": [
    "## Translate"
   ]
  },
  {
   "cell_type": "code",
   "execution_count": 0,
   "metadata": {
    "colab": {},
    "colab_type": "code",
    "id": "EbQpyYs13jF_"
   },
   "outputs": [],
   "source": [
    "def evaluate(sentence):\n",
    "  attention_plot = np.zeros((max_length_targ, max_length_inp))\n",
    "\n",
    "  sentence = preprocess_sentence(sentence)\n",
    "\n",
    "  inputs = [inp_lang_tokenizer.word_index.get(i, 1) for i in sentence.split(' ')]\n",
    "  inputs = tf.keras.preprocessing.sequence.pad_sequences([inputs],\n",
    "                                                         maxlen=max_length_inp,\n",
    "                                                         padding='post')\n",
    "  inputs = tf.convert_to_tensor(inputs)\n",
    "\n",
    "  result = ''\n",
    "\n",
    "  hidden= [tf.zeros((1, units))]   \n",
    "  enc_out, enc_hidden = encoder(inputs, hidden)\n",
    "\n",
    "  dec_hidden = enc_hidden\n",
    "  dec_input = tf.expand_dims([targ_lang_tokenizer.word_index['<start>']], 0)\n",
    "\n",
    "  for t in range(max_length_targ):    \n",
    "    predictions, dec_hidden, attention_weights  \\\n",
    "            = decoder(dec_input, dec_hidden, enc_out)\n",
    "    # storing the attention weights to plot later on\n",
    "    attention_weights = tf.reshape(attention_weights, (-1, ))\n",
    "    attention_plot[t] = attention_weights.numpy()\n",
    "\n",
    "    predicted_id = tf.argmax(predictions[0]).numpy()\n",
    "\n",
    "    result += targ_lang_tokenizer.index_word.get(predicted_id, 1) + ' '\n",
    "\n",
    "    if targ_lang_tokenizer.index_word.get(predicted_id, 1)== '<end>':\n",
    "      return result, sentence, attention_plot\n",
    "\n",
    "    # the predicted ID is fed back into the model - no teacher-forcing\n",
    "    dec_input = tf.expand_dims([predicted_id], 0)\n",
    "\n",
    "  return result, sentence, attention_plot"
   ]
  },
  {
   "cell_type": "code",
   "execution_count": 0,
   "metadata": {
    "colab": {},
    "colab_type": "code",
    "id": "DAehdrcPygR7"
   },
   "outputs": [],
   "source": [
    "import seaborn as sns\n",
    "\n",
    "# function for plotting the attention weights\n",
    "def plot_attention(attention, sentence, predicted_sentence):\n",
    "  fig = plt.figure(figsize=(8,6))\n",
    "  ax = fig.add_subplot(1, 1, 1)\n",
    "  sns.heatmap(attention, annot=True, fmt=\".2f\")\n",
    "\n",
    "  fontdict = {'fontsize': 14}\n",
    "\n",
    "  ax.set_xticklabels([''] + sentence, rotation=45)\n",
    "  ax.set_yticklabels([''] + predicted_sentence, fontdict=fontdict, rotation=45)\n",
    "\n",
    "  ax.xaxis.set_major_locator(ticker.MultipleLocator(1))\n",
    "  ax.yaxis.set_major_locator(ticker.MultipleLocator(1))\n",
    "\n",
    "  plt.show()"
   ]
  },
  {
   "cell_type": "code",
   "execution_count": 0,
   "metadata": {
    "colab": {},
    "colab_type": "code",
    "id": "sl9zUHzg3jGI"
   },
   "outputs": [],
   "source": [
    "def translate(sentence):\n",
    "  result, sentence, attention_plot = evaluate(sentence)\n",
    "\n",
    "  print('Input: %s' % (sentence))\n",
    "  print('Predicted translation: {}'.format(result))\n",
    "\n",
    "  attention_plot = attention_plot[:len(result.split(' ')), :len(sentence.split(' '))]\n",
    "  plot_attention(attention_plot, sentence.split(' '), result.split(' '))"
   ]
  },
  {
   "cell_type": "markdown",
   "metadata": {
    "colab_type": "text",
    "id": "n250XbnjOaqP"
   },
   "source": [
    "## Restore the latest checkpoint and test"
   ]
  },
  {
   "cell_type": "code",
   "execution_count": 0,
   "metadata": {
    "colab": {},
    "colab_type": "code",
    "id": "UJpT9D5_OgP6"
   },
   "outputs": [],
   "source": [
    "# restoring the latest checkpoint in checkpoint_dir\n",
    "checkpoint.restore(tf.train.latest_checkpoint(checkpoint_dir))"
   ]
  },
  {
   "cell_type": "code",
   "execution_count": 0,
   "metadata": {
    "colab": {},
    "colab_type": "code",
    "id": "WrAM0FDomq3E",
    "scrolled": false
   },
   "outputs": [],
   "source": [
    "translate(u'이 근처에 휴대폰 충전할 수 있는 곳이 있나요?');"
   ]
  },
  {
   "cell_type": "code",
   "execution_count": 0,
   "metadata": {
    "colab": {},
    "colab_type": "code",
    "id": "zSx2iM36EZQZ"
   },
   "outputs": [],
   "source": [
    "translate(u'8시간 동안 식사한 후에 톰은 더이상 운전을 할 수 없었다')"
   ]
  },
  {
   "cell_type": "code",
   "execution_count": 0,
   "metadata": {
    "colab": {},
    "colab_type": "code",
    "id": "A3LLCx3ZE0Ls",
    "scrolled": false
   },
   "outputs": [],
   "source": [
    "translate(u'옷장을 뒤져서 기부할 것들을 찾아봐야겠어')"
   ]
  }
 ],
 "metadata": {
  "accelerator": "GPU",
  "colab": {
   "collapsed_sections": [],
   "name": "091_google_nmt_with_attention_Korean.ipynb",
   "provenance": []
  },
  "kernelspec": {
   "display_name": "Python 3",
   "language": "python",
   "name": "python3"
  },
  "language_info": {
   "codemirror_mode": {
    "name": "ipython",
    "version": 3
   },
   "file_extension": ".py",
   "mimetype": "text/x-python",
   "name": "python",
   "nbconvert_exporter": "python",
   "pygments_lexer": "ipython3",
   "version": "3.7.6"
  }
 },
 "nbformat": 4,
 "nbformat_minor": 1
}
